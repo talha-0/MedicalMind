{
  "nbformat": 4,
  "nbformat_minor": 0,
  "metadata": {
    "colab": {
      "provenance": [],
      "include_colab_link": true
    },
    "kernelspec": {
      "name": "python3",
      "display_name": "Python 3"
    },
    "language_info": {
      "name": "python"
    },
    "widgets": {
      "application/vnd.jupyter.widget-state+json": {
        "17a0024f48a847df9b86a1192202f140": {
          "model_module": "@jupyter-widgets/controls",
          "model_name": "HBoxModel",
          "model_module_version": "1.5.0",
          "state": {
            "_dom_classes": [],
            "_model_module": "@jupyter-widgets/controls",
            "_model_module_version": "1.5.0",
            "_model_name": "HBoxModel",
            "_view_count": null,
            "_view_module": "@jupyter-widgets/controls",
            "_view_module_version": "1.5.0",
            "_view_name": "HBoxView",
            "box_style": "",
            "children": [
              "IPY_MODEL_7636b697cbe14b0891c90850ac8b8177",
              "IPY_MODEL_934dd0db3f25461c8e5106515876b079",
              "IPY_MODEL_8996c13093474824ac945cd825b7aa3c"
            ],
            "layout": "IPY_MODEL_1b2f0b0e8e2742589e9edecc00f25f73"
          }
        },
        "7636b697cbe14b0891c90850ac8b8177": {
          "model_module": "@jupyter-widgets/controls",
          "model_name": "HTMLModel",
          "model_module_version": "1.5.0",
          "state": {
            "_dom_classes": [],
            "_model_module": "@jupyter-widgets/controls",
            "_model_module_version": "1.5.0",
            "_model_name": "HTMLModel",
            "_view_count": null,
            "_view_module": "@jupyter-widgets/controls",
            "_view_module_version": "1.5.0",
            "_view_name": "HTMLView",
            "description": "",
            "description_tooltip": null,
            "layout": "IPY_MODEL_a3127dea398a480884723627d9ee22e0",
            "placeholder": "​",
            "style": "IPY_MODEL_5a32d28d6c724a5d9c4653caee8eddbd",
            "value": " 24%"
          }
        },
        "934dd0db3f25461c8e5106515876b079": {
          "model_module": "@jupyter-widgets/controls",
          "model_name": "FloatProgressModel",
          "model_module_version": "1.5.0",
          "state": {
            "_dom_classes": [],
            "_model_module": "@jupyter-widgets/controls",
            "_model_module_version": "1.5.0",
            "_model_name": "FloatProgressModel",
            "_view_count": null,
            "_view_module": "@jupyter-widgets/controls",
            "_view_module_version": "1.5.0",
            "_view_name": "ProgressView",
            "bar_style": "danger",
            "description": "",
            "description_tooltip": null,
            "layout": "IPY_MODEL_9dfe0a5157184040a10b4a6bc58a9c34",
            "max": 6582,
            "min": 0,
            "orientation": "horizontal",
            "style": "IPY_MODEL_8580e0c17b874ac898554385df98ff27",
            "value": 1578
          }
        },
        "8996c13093474824ac945cd825b7aa3c": {
          "model_module": "@jupyter-widgets/controls",
          "model_name": "HTMLModel",
          "model_module_version": "1.5.0",
          "state": {
            "_dom_classes": [],
            "_model_module": "@jupyter-widgets/controls",
            "_model_module_version": "1.5.0",
            "_model_name": "HTMLModel",
            "_view_count": null,
            "_view_module": "@jupyter-widgets/controls",
            "_view_module_version": "1.5.0",
            "_view_name": "HTMLView",
            "description": "",
            "description_tooltip": null,
            "layout": "IPY_MODEL_eb1939540fda4c878957011472481f16",
            "placeholder": "​",
            "style": "IPY_MODEL_974746a643ee4267bafcae1183e6f65e",
            "value": " 1578/6582 [34:33&lt;1:59:32,  1.43s/it]"
          }
        },
        "1b2f0b0e8e2742589e9edecc00f25f73": {
          "model_module": "@jupyter-widgets/base",
          "model_name": "LayoutModel",
          "model_module_version": "1.2.0",
          "state": {
            "_model_module": "@jupyter-widgets/base",
            "_model_module_version": "1.2.0",
            "_model_name": "LayoutModel",
            "_view_count": null,
            "_view_module": "@jupyter-widgets/base",
            "_view_module_version": "1.2.0",
            "_view_name": "LayoutView",
            "align_content": null,
            "align_items": null,
            "align_self": null,
            "border": null,
            "bottom": null,
            "display": null,
            "flex": null,
            "flex_flow": null,
            "grid_area": null,
            "grid_auto_columns": null,
            "grid_auto_flow": null,
            "grid_auto_rows": null,
            "grid_column": null,
            "grid_gap": null,
            "grid_row": null,
            "grid_template_areas": null,
            "grid_template_columns": null,
            "grid_template_rows": null,
            "height": null,
            "justify_content": null,
            "justify_items": null,
            "left": null,
            "margin": null,
            "max_height": null,
            "max_width": null,
            "min_height": null,
            "min_width": null,
            "object_fit": null,
            "object_position": null,
            "order": null,
            "overflow": null,
            "overflow_x": null,
            "overflow_y": null,
            "padding": null,
            "right": null,
            "top": null,
            "visibility": null,
            "width": null
          }
        },
        "a3127dea398a480884723627d9ee22e0": {
          "model_module": "@jupyter-widgets/base",
          "model_name": "LayoutModel",
          "model_module_version": "1.2.0",
          "state": {
            "_model_module": "@jupyter-widgets/base",
            "_model_module_version": "1.2.0",
            "_model_name": "LayoutModel",
            "_view_count": null,
            "_view_module": "@jupyter-widgets/base",
            "_view_module_version": "1.2.0",
            "_view_name": "LayoutView",
            "align_content": null,
            "align_items": null,
            "align_self": null,
            "border": null,
            "bottom": null,
            "display": null,
            "flex": null,
            "flex_flow": null,
            "grid_area": null,
            "grid_auto_columns": null,
            "grid_auto_flow": null,
            "grid_auto_rows": null,
            "grid_column": null,
            "grid_gap": null,
            "grid_row": null,
            "grid_template_areas": null,
            "grid_template_columns": null,
            "grid_template_rows": null,
            "height": null,
            "justify_content": null,
            "justify_items": null,
            "left": null,
            "margin": null,
            "max_height": null,
            "max_width": null,
            "min_height": null,
            "min_width": null,
            "object_fit": null,
            "object_position": null,
            "order": null,
            "overflow": null,
            "overflow_x": null,
            "overflow_y": null,
            "padding": null,
            "right": null,
            "top": null,
            "visibility": null,
            "width": null
          }
        },
        "5a32d28d6c724a5d9c4653caee8eddbd": {
          "model_module": "@jupyter-widgets/controls",
          "model_name": "DescriptionStyleModel",
          "model_module_version": "1.5.0",
          "state": {
            "_model_module": "@jupyter-widgets/controls",
            "_model_module_version": "1.5.0",
            "_model_name": "DescriptionStyleModel",
            "_view_count": null,
            "_view_module": "@jupyter-widgets/base",
            "_view_module_version": "1.2.0",
            "_view_name": "StyleView",
            "description_width": ""
          }
        },
        "9dfe0a5157184040a10b4a6bc58a9c34": {
          "model_module": "@jupyter-widgets/base",
          "model_name": "LayoutModel",
          "model_module_version": "1.2.0",
          "state": {
            "_model_module": "@jupyter-widgets/base",
            "_model_module_version": "1.2.0",
            "_model_name": "LayoutModel",
            "_view_count": null,
            "_view_module": "@jupyter-widgets/base",
            "_view_module_version": "1.2.0",
            "_view_name": "LayoutView",
            "align_content": null,
            "align_items": null,
            "align_self": null,
            "border": null,
            "bottom": null,
            "display": null,
            "flex": null,
            "flex_flow": null,
            "grid_area": null,
            "grid_auto_columns": null,
            "grid_auto_flow": null,
            "grid_auto_rows": null,
            "grid_column": null,
            "grid_gap": null,
            "grid_row": null,
            "grid_template_areas": null,
            "grid_template_columns": null,
            "grid_template_rows": null,
            "height": null,
            "justify_content": null,
            "justify_items": null,
            "left": null,
            "margin": null,
            "max_height": null,
            "max_width": null,
            "min_height": null,
            "min_width": null,
            "object_fit": null,
            "object_position": null,
            "order": null,
            "overflow": null,
            "overflow_x": null,
            "overflow_y": null,
            "padding": null,
            "right": null,
            "top": null,
            "visibility": null,
            "width": null
          }
        },
        "8580e0c17b874ac898554385df98ff27": {
          "model_module": "@jupyter-widgets/controls",
          "model_name": "ProgressStyleModel",
          "model_module_version": "1.5.0",
          "state": {
            "_model_module": "@jupyter-widgets/controls",
            "_model_module_version": "1.5.0",
            "_model_name": "ProgressStyleModel",
            "_view_count": null,
            "_view_module": "@jupyter-widgets/base",
            "_view_module_version": "1.2.0",
            "_view_name": "StyleView",
            "bar_color": null,
            "description_width": ""
          }
        },
        "eb1939540fda4c878957011472481f16": {
          "model_module": "@jupyter-widgets/base",
          "model_name": "LayoutModel",
          "model_module_version": "1.2.0",
          "state": {
            "_model_module": "@jupyter-widgets/base",
            "_model_module_version": "1.2.0",
            "_model_name": "LayoutModel",
            "_view_count": null,
            "_view_module": "@jupyter-widgets/base",
            "_view_module_version": "1.2.0",
            "_view_name": "LayoutView",
            "align_content": null,
            "align_items": null,
            "align_self": null,
            "border": null,
            "bottom": null,
            "display": null,
            "flex": null,
            "flex_flow": null,
            "grid_area": null,
            "grid_auto_columns": null,
            "grid_auto_flow": null,
            "grid_auto_rows": null,
            "grid_column": null,
            "grid_gap": null,
            "grid_row": null,
            "grid_template_areas": null,
            "grid_template_columns": null,
            "grid_template_rows": null,
            "height": null,
            "justify_content": null,
            "justify_items": null,
            "left": null,
            "margin": null,
            "max_height": null,
            "max_width": null,
            "min_height": null,
            "min_width": null,
            "object_fit": null,
            "object_position": null,
            "order": null,
            "overflow": null,
            "overflow_x": null,
            "overflow_y": null,
            "padding": null,
            "right": null,
            "top": null,
            "visibility": null,
            "width": null
          }
        },
        "974746a643ee4267bafcae1183e6f65e": {
          "model_module": "@jupyter-widgets/controls",
          "model_name": "DescriptionStyleModel",
          "model_module_version": "1.5.0",
          "state": {
            "_model_module": "@jupyter-widgets/controls",
            "_model_module_version": "1.5.0",
            "_model_name": "DescriptionStyleModel",
            "_view_count": null,
            "_view_module": "@jupyter-widgets/base",
            "_view_module_version": "1.2.0",
            "_view_name": "StyleView",
            "description_width": ""
          }
        }
      }
    }
  },
  "cells": [
    {
      "cell_type": "markdown",
      "metadata": {
        "id": "view-in-github",
        "colab_type": "text"
      },
      "source": [
        "<a href=\"https://colab.research.google.com/github/talha-0/MedicalMind/blob/main/Medical_Mind_For_Patients.ipynb\" target=\"_parent\"><img src=\"https://colab.research.google.com/assets/colab-badge.svg\" alt=\"Open In Colab\"/></a>"
      ]
    },
    {
      "cell_type": "markdown",
      "source": [
        "# MEDICAL MIND\n",
        "A personalised medical assistant"
      ],
      "metadata": {
        "id": "b9mhzycTybzi"
      }
    },
    {
      "cell_type": "markdown",
      "source": [
        "## Downloading Dependencies"
      ],
      "metadata": {
        "id": "Vh0nY-nPyncF"
      }
    },
    {
      "cell_type": "code",
      "execution_count": null,
      "metadata": {
        "id": "yPB0GxSUnVIu",
        "colab": {
          "base_uri": "https://localhost:8080/"
        },
        "outputId": "45e643b8-2fbe-4a30-8b83-4c88732dd4e4"
      },
      "outputs": [
        {
          "output_type": "stream",
          "name": "stdout",
          "text": [
            "\u001b[?25l     \u001b[90m━━━━━━━━━━━━━━━━━━━━━━━━━━━━━━━━━━━━━━━━\u001b[0m \u001b[32m0.0/1.6 MB\u001b[0m \u001b[31m?\u001b[0m eta \u001b[36m-:--:--\u001b[0m\r\u001b[2K     \u001b[91m━\u001b[0m\u001b[90m╺\u001b[0m\u001b[90m━━━━━━━━━━━━━━━━━━━━━━━━━━━━━━━━━━━━━━\u001b[0m \u001b[32m0.0/1.6 MB\u001b[0m \u001b[31m996.8 kB/s\u001b[0m eta \u001b[36m0:00:02\u001b[0m\r\u001b[2K     \u001b[91m━━━━━━━\u001b[0m\u001b[90m╺\u001b[0m\u001b[90m━━━━━━━━━━━━━━━━━━━━━━━━━━━━━━━━\u001b[0m \u001b[32m0.3/1.6 MB\u001b[0m \u001b[31m4.0 MB/s\u001b[0m eta \u001b[36m0:00:01\u001b[0m\r\u001b[2K     \u001b[91m━━━━━━━━━━━━━━━\u001b[0m\u001b[91m╸\u001b[0m\u001b[90m━━━━━━━━━━━━━━━━━━━━━━━━\u001b[0m \u001b[32m0.6/1.6 MB\u001b[0m \u001b[31m5.9 MB/s\u001b[0m eta \u001b[36m0:00:01\u001b[0m\r\u001b[2K     \u001b[91m━━━━━━━━━━━━━━━━━━━━━━━━━\u001b[0m\u001b[90m╺\u001b[0m\u001b[90m━━━━━━━━━━━━━━\u001b[0m \u001b[32m1.0/1.6 MB\u001b[0m \u001b[31m6.9 MB/s\u001b[0m eta \u001b[36m0:00:01\u001b[0m\r\u001b[2K     \u001b[91m━━━━━━━━━━━━━━━━━━━━━━━━━━━━━━━━━━━━\u001b[0m\u001b[91m╸\u001b[0m\u001b[90m━━━\u001b[0m \u001b[32m1.4/1.6 MB\u001b[0m \u001b[31m7.9 MB/s\u001b[0m eta \u001b[36m0:00:01\u001b[0m\r\u001b[2K     \u001b[90m━━━━━━━━━━━━━━━━━━━━━━━━━━━━━━━━━━━━━━━━\u001b[0m \u001b[32m1.6/1.6 MB\u001b[0m \u001b[31m7.4 MB/s\u001b[0m eta \u001b[36m0:00:00\u001b[0m\n",
            "\u001b[?25h"
          ]
        }
      ],
      "source": [
        "!pip install -qU pinecone-client langchain openai sqlalchemy tiktoken cohere"
      ]
    },
    {
      "cell_type": "markdown",
      "source": [
        "## Setting up environment\n"
      ],
      "metadata": {
        "id": "m9y_m6TmGL5H"
      }
    },
    {
      "cell_type": "code",
      "source": [
        "from getpass import getpass\n",
        "import os"
      ],
      "metadata": {
        "id": "GVyQ4QT-nbff"
      },
      "execution_count": null,
      "outputs": []
    },
    {
      "cell_type": "code",
      "source": [
        "os.environ[\"PINECONE_API_KEY\"] = getpass(\"Pinecone API Key:\")"
      ],
      "metadata": {
        "colab": {
          "base_uri": "https://localhost:8080/"
        },
        "id": "neVCZb9SGZjB",
        "outputId": "323903ba-f863-4dd5-8e74-26e23251559d"
      },
      "execution_count": null,
      "outputs": [
        {
          "name": "stdout",
          "output_type": "stream",
          "text": [
            "Pinecone API Key:··········\n"
          ]
        }
      ]
    },
    {
      "cell_type": "code",
      "source": [
        "os.environ[\"PINECONE_ENVIRONMENT\"] = getpass(\"Pinecone Environment:\")"
      ],
      "metadata": {
        "colab": {
          "base_uri": "https://localhost:8080/"
        },
        "id": "adnkbzjgGv9I",
        "outputId": "a2ea7255-1008-4028-9bf4-d39ea99fe000"
      },
      "execution_count": null,
      "outputs": [
        {
          "name": "stdout",
          "output_type": "stream",
          "text": [
            "Pinecone Environment:··········\n"
          ]
        }
      ]
    },
    {
      "cell_type": "code",
      "source": [
        "os.environ[\"OPENAI_API_KEY\"] = getpass(\"OpenAI API Key:\")"
      ],
      "metadata": {
        "colab": {
          "base_uri": "https://localhost:8080/"
        },
        "id": "VMDPU-_jGX20",
        "outputId": "26b3bdfa-6650-4490-ecd2-e4e2beb1a189"
      },
      "execution_count": null,
      "outputs": [
        {
          "name": "stdout",
          "output_type": "stream",
          "text": [
            "OpenAI API Key:··········\n"
          ]
        }
      ]
    },
    {
      "cell_type": "markdown",
      "source": [
        "## External source\n",
        "Automatic Glossary of Clinical Terminology: a Large-Scale Dictionary of Biomedical Definitions Generated from Ontological Knowledge"
      ],
      "metadata": {
        "id": "LgaLTqzsOq6E"
      }
    },
    {
      "cell_type": "code",
      "source": [
        "!git clone https://huggingface.co/datasets/FremyCompany/AGCT-Dataset"
      ],
      "metadata": {
        "colab": {
          "base_uri": "https://localhost:8080/"
        },
        "id": "8r5dw6D_MnMb",
        "outputId": "f12a48d8-2275-4907-d277-1c0f5a09b219"
      },
      "execution_count": null,
      "outputs": [
        {
          "output_type": "stream",
          "name": "stdout",
          "text": [
            "Cloning into 'AGCT-Dataset'...\n",
            "remote: Enumerating objects: 16, done.\u001b[K\n",
            "remote: Counting objects: 100% (3/3), done.\u001b[K\n",
            "remote: Compressing objects: 100% (3/3), done.\u001b[K\n",
            "remote: Total 16 (delta 0), reused 0 (delta 0), pack-reused 13\u001b[K\n",
            "Unpacking objects: 100% (16/16), 5.19 KiB | 1.04 MiB/s, done.\n"
          ]
        }
      ]
    },
    {
      "cell_type": "code",
      "source": [
        "!git clone https://github.com/abachaa/MedQuAD.git"
      ],
      "metadata": {
        "colab": {
          "base_uri": "https://localhost:8080/"
        },
        "id": "gboIUvnCFG2J",
        "outputId": "a77b8887-5ad4-461c-cdd5-6418f183caac"
      },
      "execution_count": null,
      "outputs": [
        {
          "output_type": "stream",
          "name": "stdout",
          "text": [
            "Cloning into 'MedQuAD'...\n",
            "remote: Enumerating objects: 11310, done.\u001b[K\n",
            "remote: Counting objects: 100% (18/18), done.\u001b[K\n",
            "remote: Compressing objects: 100% (15/15), done.\u001b[K\n",
            "remote: Total 11310 (delta 8), reused 8 (delta 3), pack-reused 11292\u001b[K\n",
            "Receiving objects: 100% (11310/11310), 11.01 MiB | 9.50 MiB/s, done.\n",
            "Resolving deltas: 100% (6806/6806), done.\n",
            "Updating files: 100% (11277/11277), done.\n"
          ]
        }
      ]
    },
    {
      "cell_type": "markdown",
      "source": [
        "### Preprocess the data\n"
      ],
      "metadata": {
        "id": "rHogrev9Ig_y"
      }
    },
    {
      "cell_type": "code",
      "source": [
        "import pandas as pd\n",
        "\n",
        "AGCT = pd.read_fwf(\"AGCT-Dataset/train.txt\",header=None)"
      ],
      "metadata": {
        "id": "F10E_OPkNMlT"
      },
      "execution_count": null,
      "outputs": []
    },
    {
      "cell_type": "code",
      "source": [
        "AGCT"
      ],
      "metadata": {
        "colab": {
          "base_uri": "https://localhost:8080/",
          "height": 423
        },
        "id": "xoCTdAUzY4mM",
        "outputId": "9b3173a3-0b14-4b14-db4c-f275083cdd35"
      },
      "execution_count": null,
      "outputs": [
        {
          "output_type": "execute_result",
          "data": {
            "text/plain": [
              "                                                        0\n",
              "0       \"zinc supplement\" refers to a medication that ...\n",
              "1       \"fit post core to tooth\" refers to a dental re...\n",
              "2       \"abdominal tenderness absent\" refers to a clin...\n",
              "3       \"divergence paralysis\" refers to a condition c...\n",
              "4       \"normal active range of hip extension\" refers ...\n",
              "...                                                   ...\n",
              "421211  \"product containing zotarolimus\" refers to a m...\n",
              "421212  \"meiotic cell\" refers to a type of cell that u...\n",
              "421213  \"phage type battersea\" refers to a classificat...\n",
              "421214  \"diaphragmatic\" refers to anything that is rel...\n",
              "421215  \"ducula bicolor\" refers to a species of bird w...\n",
              "\n",
              "[421216 rows x 1 columns]"
            ],
            "text/html": [
              "\n",
              "  <div id=\"df-55f719c5-2922-4fac-8ba0-e44e4c9faf7c\" class=\"colab-df-container\">\n",
              "    <div>\n",
              "<style scoped>\n",
              "    .dataframe tbody tr th:only-of-type {\n",
              "        vertical-align: middle;\n",
              "    }\n",
              "\n",
              "    .dataframe tbody tr th {\n",
              "        vertical-align: top;\n",
              "    }\n",
              "\n",
              "    .dataframe thead th {\n",
              "        text-align: right;\n",
              "    }\n",
              "</style>\n",
              "<table border=\"1\" class=\"dataframe\">\n",
              "  <thead>\n",
              "    <tr style=\"text-align: right;\">\n",
              "      <th></th>\n",
              "      <th>0</th>\n",
              "    </tr>\n",
              "  </thead>\n",
              "  <tbody>\n",
              "    <tr>\n",
              "      <th>0</th>\n",
              "      <td>\"zinc supplement\" refers to a medication that ...</td>\n",
              "    </tr>\n",
              "    <tr>\n",
              "      <th>1</th>\n",
              "      <td>\"fit post core to tooth\" refers to a dental re...</td>\n",
              "    </tr>\n",
              "    <tr>\n",
              "      <th>2</th>\n",
              "      <td>\"abdominal tenderness absent\" refers to a clin...</td>\n",
              "    </tr>\n",
              "    <tr>\n",
              "      <th>3</th>\n",
              "      <td>\"divergence paralysis\" refers to a condition c...</td>\n",
              "    </tr>\n",
              "    <tr>\n",
              "      <th>4</th>\n",
              "      <td>\"normal active range of hip extension\" refers ...</td>\n",
              "    </tr>\n",
              "    <tr>\n",
              "      <th>...</th>\n",
              "      <td>...</td>\n",
              "    </tr>\n",
              "    <tr>\n",
              "      <th>421211</th>\n",
              "      <td>\"product containing zotarolimus\" refers to a m...</td>\n",
              "    </tr>\n",
              "    <tr>\n",
              "      <th>421212</th>\n",
              "      <td>\"meiotic cell\" refers to a type of cell that u...</td>\n",
              "    </tr>\n",
              "    <tr>\n",
              "      <th>421213</th>\n",
              "      <td>\"phage type battersea\" refers to a classificat...</td>\n",
              "    </tr>\n",
              "    <tr>\n",
              "      <th>421214</th>\n",
              "      <td>\"diaphragmatic\" refers to anything that is rel...</td>\n",
              "    </tr>\n",
              "    <tr>\n",
              "      <th>421215</th>\n",
              "      <td>\"ducula bicolor\" refers to a species of bird w...</td>\n",
              "    </tr>\n",
              "  </tbody>\n",
              "</table>\n",
              "<p>421216 rows × 1 columns</p>\n",
              "</div>\n",
              "    <div class=\"colab-df-buttons\">\n",
              "\n",
              "  <div class=\"colab-df-container\">\n",
              "    <button class=\"colab-df-convert\" onclick=\"convertToInteractive('df-55f719c5-2922-4fac-8ba0-e44e4c9faf7c')\"\n",
              "            title=\"Convert this dataframe to an interactive table.\"\n",
              "            style=\"display:none;\">\n",
              "\n",
              "  <svg xmlns=\"http://www.w3.org/2000/svg\" height=\"24px\" viewBox=\"0 -960 960 960\">\n",
              "    <path d=\"M120-120v-720h720v720H120Zm60-500h600v-160H180v160Zm220 220h160v-160H400v160Zm0 220h160v-160H400v160ZM180-400h160v-160H180v160Zm440 0h160v-160H620v160ZM180-180h160v-160H180v160Zm440 0h160v-160H620v160Z\"/>\n",
              "  </svg>\n",
              "    </button>\n",
              "\n",
              "  <style>\n",
              "    .colab-df-container {\n",
              "      display:flex;\n",
              "      gap: 12px;\n",
              "    }\n",
              "\n",
              "    .colab-df-convert {\n",
              "      background-color: #E8F0FE;\n",
              "      border: none;\n",
              "      border-radius: 50%;\n",
              "      cursor: pointer;\n",
              "      display: none;\n",
              "      fill: #1967D2;\n",
              "      height: 32px;\n",
              "      padding: 0 0 0 0;\n",
              "      width: 32px;\n",
              "    }\n",
              "\n",
              "    .colab-df-convert:hover {\n",
              "      background-color: #E2EBFA;\n",
              "      box-shadow: 0px 1px 2px rgba(60, 64, 67, 0.3), 0px 1px 3px 1px rgba(60, 64, 67, 0.15);\n",
              "      fill: #174EA6;\n",
              "    }\n",
              "\n",
              "    .colab-df-buttons div {\n",
              "      margin-bottom: 4px;\n",
              "    }\n",
              "\n",
              "    [theme=dark] .colab-df-convert {\n",
              "      background-color: #3B4455;\n",
              "      fill: #D2E3FC;\n",
              "    }\n",
              "\n",
              "    [theme=dark] .colab-df-convert:hover {\n",
              "      background-color: #434B5C;\n",
              "      box-shadow: 0px 1px 3px 1px rgba(0, 0, 0, 0.15);\n",
              "      filter: drop-shadow(0px 1px 2px rgba(0, 0, 0, 0.3));\n",
              "      fill: #FFFFFF;\n",
              "    }\n",
              "  </style>\n",
              "\n",
              "    <script>\n",
              "      const buttonEl =\n",
              "        document.querySelector('#df-55f719c5-2922-4fac-8ba0-e44e4c9faf7c button.colab-df-convert');\n",
              "      buttonEl.style.display =\n",
              "        google.colab.kernel.accessAllowed ? 'block' : 'none';\n",
              "\n",
              "      async function convertToInteractive(key) {\n",
              "        const element = document.querySelector('#df-55f719c5-2922-4fac-8ba0-e44e4c9faf7c');\n",
              "        const dataTable =\n",
              "          await google.colab.kernel.invokeFunction('convertToInteractive',\n",
              "                                                    [key], {});\n",
              "        if (!dataTable) return;\n",
              "\n",
              "        const docLinkHtml = 'Like what you see? Visit the ' +\n",
              "          '<a target=\"_blank\" href=https://colab.research.google.com/notebooks/data_table.ipynb>data table notebook</a>'\n",
              "          + ' to learn more about interactive tables.';\n",
              "        element.innerHTML = '';\n",
              "        dataTable['output_type'] = 'display_data';\n",
              "        await google.colab.output.renderOutput(dataTable, element);\n",
              "        const docLink = document.createElement('div');\n",
              "        docLink.innerHTML = docLinkHtml;\n",
              "        element.appendChild(docLink);\n",
              "      }\n",
              "    </script>\n",
              "  </div>\n",
              "\n",
              "\n",
              "<div id=\"df-309fb0d8-d0a0-472f-8b23-e6f814f51338\">\n",
              "  <button class=\"colab-df-quickchart\" onclick=\"quickchart('df-309fb0d8-d0a0-472f-8b23-e6f814f51338')\"\n",
              "            title=\"Suggest charts\"\n",
              "            style=\"display:none;\">\n",
              "\n",
              "<svg xmlns=\"http://www.w3.org/2000/svg\" height=\"24px\"viewBox=\"0 0 24 24\"\n",
              "     width=\"24px\">\n",
              "    <g>\n",
              "        <path d=\"M19 3H5c-1.1 0-2 .9-2 2v14c0 1.1.9 2 2 2h14c1.1 0 2-.9 2-2V5c0-1.1-.9-2-2-2zM9 17H7v-7h2v7zm4 0h-2V7h2v10zm4 0h-2v-4h2v4z\"/>\n",
              "    </g>\n",
              "</svg>\n",
              "  </button>\n",
              "\n",
              "<style>\n",
              "  .colab-df-quickchart {\n",
              "      --bg-color: #E8F0FE;\n",
              "      --fill-color: #1967D2;\n",
              "      --hover-bg-color: #E2EBFA;\n",
              "      --hover-fill-color: #174EA6;\n",
              "      --disabled-fill-color: #AAA;\n",
              "      --disabled-bg-color: #DDD;\n",
              "  }\n",
              "\n",
              "  [theme=dark] .colab-df-quickchart {\n",
              "      --bg-color: #3B4455;\n",
              "      --fill-color: #D2E3FC;\n",
              "      --hover-bg-color: #434B5C;\n",
              "      --hover-fill-color: #FFFFFF;\n",
              "      --disabled-bg-color: #3B4455;\n",
              "      --disabled-fill-color: #666;\n",
              "  }\n",
              "\n",
              "  .colab-df-quickchart {\n",
              "    background-color: var(--bg-color);\n",
              "    border: none;\n",
              "    border-radius: 50%;\n",
              "    cursor: pointer;\n",
              "    display: none;\n",
              "    fill: var(--fill-color);\n",
              "    height: 32px;\n",
              "    padding: 0;\n",
              "    width: 32px;\n",
              "  }\n",
              "\n",
              "  .colab-df-quickchart:hover {\n",
              "    background-color: var(--hover-bg-color);\n",
              "    box-shadow: 0 1px 2px rgba(60, 64, 67, 0.3), 0 1px 3px 1px rgba(60, 64, 67, 0.15);\n",
              "    fill: var(--button-hover-fill-color);\n",
              "  }\n",
              "\n",
              "  .colab-df-quickchart-complete:disabled,\n",
              "  .colab-df-quickchart-complete:disabled:hover {\n",
              "    background-color: var(--disabled-bg-color);\n",
              "    fill: var(--disabled-fill-color);\n",
              "    box-shadow: none;\n",
              "  }\n",
              "\n",
              "  .colab-df-spinner {\n",
              "    border: 2px solid var(--fill-color);\n",
              "    border-color: transparent;\n",
              "    border-bottom-color: var(--fill-color);\n",
              "    animation:\n",
              "      spin 1s steps(1) infinite;\n",
              "  }\n",
              "\n",
              "  @keyframes spin {\n",
              "    0% {\n",
              "      border-color: transparent;\n",
              "      border-bottom-color: var(--fill-color);\n",
              "      border-left-color: var(--fill-color);\n",
              "    }\n",
              "    20% {\n",
              "      border-color: transparent;\n",
              "      border-left-color: var(--fill-color);\n",
              "      border-top-color: var(--fill-color);\n",
              "    }\n",
              "    30% {\n",
              "      border-color: transparent;\n",
              "      border-left-color: var(--fill-color);\n",
              "      border-top-color: var(--fill-color);\n",
              "      border-right-color: var(--fill-color);\n",
              "    }\n",
              "    40% {\n",
              "      border-color: transparent;\n",
              "      border-right-color: var(--fill-color);\n",
              "      border-top-color: var(--fill-color);\n",
              "    }\n",
              "    60% {\n",
              "      border-color: transparent;\n",
              "      border-right-color: var(--fill-color);\n",
              "    }\n",
              "    80% {\n",
              "      border-color: transparent;\n",
              "      border-right-color: var(--fill-color);\n",
              "      border-bottom-color: var(--fill-color);\n",
              "    }\n",
              "    90% {\n",
              "      border-color: transparent;\n",
              "      border-bottom-color: var(--fill-color);\n",
              "    }\n",
              "  }\n",
              "</style>\n",
              "\n",
              "  <script>\n",
              "    async function quickchart(key) {\n",
              "      const quickchartButtonEl =\n",
              "        document.querySelector('#' + key + ' button');\n",
              "      quickchartButtonEl.disabled = true;  // To prevent multiple clicks.\n",
              "      quickchartButtonEl.classList.add('colab-df-spinner');\n",
              "      try {\n",
              "        const charts = await google.colab.kernel.invokeFunction(\n",
              "            'suggestCharts', [key], {});\n",
              "      } catch (error) {\n",
              "        console.error('Error during call to suggestCharts:', error);\n",
              "      }\n",
              "      quickchartButtonEl.classList.remove('colab-df-spinner');\n",
              "      quickchartButtonEl.classList.add('colab-df-quickchart-complete');\n",
              "    }\n",
              "    (() => {\n",
              "      let quickchartButtonEl =\n",
              "        document.querySelector('#df-309fb0d8-d0a0-472f-8b23-e6f814f51338 button');\n",
              "      quickchartButtonEl.style.display =\n",
              "        google.colab.kernel.accessAllowed ? 'block' : 'none';\n",
              "    })();\n",
              "  </script>\n",
              "</div>\n",
              "\n",
              "  <div id=\"id_875a3e90-b1b9-4f57-b2a9-4a51f126560b\">\n",
              "    <style>\n",
              "      .colab-df-generate {\n",
              "        background-color: #E8F0FE;\n",
              "        border: none;\n",
              "        border-radius: 50%;\n",
              "        cursor: pointer;\n",
              "        display: none;\n",
              "        fill: #1967D2;\n",
              "        height: 32px;\n",
              "        padding: 0 0 0 0;\n",
              "        width: 32px;\n",
              "      }\n",
              "\n",
              "      .colab-df-generate:hover {\n",
              "        background-color: #E2EBFA;\n",
              "        box-shadow: 0px 1px 2px rgba(60, 64, 67, 0.3), 0px 1px 3px 1px rgba(60, 64, 67, 0.15);\n",
              "        fill: #174EA6;\n",
              "      }\n",
              "\n",
              "      [theme=dark] .colab-df-generate {\n",
              "        background-color: #3B4455;\n",
              "        fill: #D2E3FC;\n",
              "      }\n",
              "\n",
              "      [theme=dark] .colab-df-generate:hover {\n",
              "        background-color: #434B5C;\n",
              "        box-shadow: 0px 1px 3px 1px rgba(0, 0, 0, 0.15);\n",
              "        filter: drop-shadow(0px 1px 2px rgba(0, 0, 0, 0.3));\n",
              "        fill: #FFFFFF;\n",
              "      }\n",
              "    </style>\n",
              "    <button class=\"colab-df-generate\" onclick=\"generateWithVariable('AGCT')\"\n",
              "            title=\"Generate code using this dataframe.\"\n",
              "            style=\"display:none;\">\n",
              "\n",
              "  <svg xmlns=\"http://www.w3.org/2000/svg\" height=\"24px\"viewBox=\"0 0 24 24\"\n",
              "       width=\"24px\">\n",
              "    <path d=\"M7,19H8.4L18.45,9,17,7.55,7,17.6ZM5,21V16.75L18.45,3.32a2,2,0,0,1,2.83,0l1.4,1.43a1.91,1.91,0,0,1,.58,1.4,1.91,1.91,0,0,1-.58,1.4L9.25,21ZM18.45,9,17,7.55Zm-12,3A5.31,5.31,0,0,0,4.9,8.1,5.31,5.31,0,0,0,1,6.5,5.31,5.31,0,0,0,4.9,4.9,5.31,5.31,0,0,0,6.5,1,5.31,5.31,0,0,0,8.1,4.9,5.31,5.31,0,0,0,12,6.5,5.46,5.46,0,0,0,6.5,12Z\"/>\n",
              "  </svg>\n",
              "    </button>\n",
              "    <script>\n",
              "      (() => {\n",
              "      const buttonEl =\n",
              "        document.querySelector('#id_875a3e90-b1b9-4f57-b2a9-4a51f126560b button.colab-df-generate');\n",
              "      buttonEl.style.display =\n",
              "        google.colab.kernel.accessAllowed ? 'block' : 'none';\n",
              "\n",
              "      buttonEl.onclick = () => {\n",
              "        google.colab.notebook.generateWithVariable('AGCT');\n",
              "      }\n",
              "      })();\n",
              "    </script>\n",
              "  </div>\n",
              "\n",
              "    </div>\n",
              "  </div>\n"
            ]
          },
          "metadata": {},
          "execution_count": 8
        }
      ]
    },
    {
      "cell_type": "code",
      "source": [
        "AGCT.columns"
      ],
      "metadata": {
        "colab": {
          "base_uri": "https://localhost:8080/"
        },
        "id": "ag7PUbK2grof",
        "outputId": "221ea1ad-704d-4a38-8cb5-bf5691275ce7"
      },
      "execution_count": null,
      "outputs": [
        {
          "output_type": "execute_result",
          "data": {
            "text/plain": [
              "Int64Index([0], dtype='int64')"
            ]
          },
          "metadata": {},
          "execution_count": 6
        }
      ]
    },
    {
      "cell_type": "code",
      "source": [
        "AGCT[['title','context']] = AGCT[0].str.split(' refers to ',1,expand=True)"
      ],
      "metadata": {
        "colab": {
          "base_uri": "https://localhost:8080/"
        },
        "id": "VLsh2LKEbSP0",
        "outputId": "1bedcfa8-83d1-4b3b-e434-7116bffbf434"
      },
      "execution_count": null,
      "outputs": [
        {
          "output_type": "stream",
          "name": "stderr",
          "text": [
            "<ipython-input-9-8d22cf2a3a48>:1: FutureWarning: In a future version of pandas all arguments of StringMethods.split except for the argument 'pat' will be keyword-only.\n",
            "  AGCT[['title','context']] = AGCT[0].str.split(' refers to ',1,expand=True)\n"
          ]
        }
      ]
    },
    {
      "cell_type": "code",
      "source": [
        "AGCT.drop([0],axis=1,inplace=True)"
      ],
      "metadata": {
        "id": "zPAT_qMvg1iA"
      },
      "execution_count": null,
      "outputs": []
    },
    {
      "cell_type": "code",
      "source": [
        "AGCT"
      ],
      "metadata": {
        "colab": {
          "base_uri": "https://localhost:8080/",
          "height": 423
        },
        "id": "qi8CmXSzj8-f",
        "outputId": "e1ebfa66-1d5d-4131-b95f-0284e6228332"
      },
      "execution_count": null,
      "outputs": [
        {
          "output_type": "execute_result",
          "data": {
            "text/plain": [
              "                                         title  \\\n",
              "0                            \"zinc supplement\"   \n",
              "1                     \"fit post core to tooth\"   \n",
              "2                \"abdominal tenderness absent\"   \n",
              "3                       \"divergence paralysis\"   \n",
              "4       \"normal active range of hip extension\"   \n",
              "...                                        ...   \n",
              "421211        \"product containing zotarolimus\"   \n",
              "421212                          \"meiotic cell\"   \n",
              "421213                  \"phage type battersea\"   \n",
              "421214                         \"diaphragmatic\"   \n",
              "421215                        \"ducula bicolor\"   \n",
              "\n",
              "                                                  context  \n",
              "0       a medication that contains zinc and/or zinc co...  \n",
              "1       a dental restoration procedure that involves t...  \n",
              "2       a clinical finding of the absence of pain or d...  \n",
              "3       a condition characterized by the inability to ...  \n",
              "4       the normal range of movement that the hip join...  \n",
              "...                                                   ...  \n",
              "421211  a medicinal product that acts as an immunosupp...  \n",
              "421212  a type of cell that undergoes a specific type ...  \n",
              "421213  a classification of bacteriophages, which are ...  \n",
              "421214  anything that is related to or located in the ...  \n",
              "421215  a species of bird within the Ducula genus. Thi...  \n",
              "\n",
              "[421216 rows x 2 columns]"
            ],
            "text/html": [
              "\n",
              "  <div id=\"df-d9a5eec0-af29-486b-81c0-79a11fad66b9\" class=\"colab-df-container\">\n",
              "    <div>\n",
              "<style scoped>\n",
              "    .dataframe tbody tr th:only-of-type {\n",
              "        vertical-align: middle;\n",
              "    }\n",
              "\n",
              "    .dataframe tbody tr th {\n",
              "        vertical-align: top;\n",
              "    }\n",
              "\n",
              "    .dataframe thead th {\n",
              "        text-align: right;\n",
              "    }\n",
              "</style>\n",
              "<table border=\"1\" class=\"dataframe\">\n",
              "  <thead>\n",
              "    <tr style=\"text-align: right;\">\n",
              "      <th></th>\n",
              "      <th>title</th>\n",
              "      <th>context</th>\n",
              "    </tr>\n",
              "  </thead>\n",
              "  <tbody>\n",
              "    <tr>\n",
              "      <th>0</th>\n",
              "      <td>\"zinc supplement\"</td>\n",
              "      <td>a medication that contains zinc and/or zinc co...</td>\n",
              "    </tr>\n",
              "    <tr>\n",
              "      <th>1</th>\n",
              "      <td>\"fit post core to tooth\"</td>\n",
              "      <td>a dental restoration procedure that involves t...</td>\n",
              "    </tr>\n",
              "    <tr>\n",
              "      <th>2</th>\n",
              "      <td>\"abdominal tenderness absent\"</td>\n",
              "      <td>a clinical finding of the absence of pain or d...</td>\n",
              "    </tr>\n",
              "    <tr>\n",
              "      <th>3</th>\n",
              "      <td>\"divergence paralysis\"</td>\n",
              "      <td>a condition characterized by the inability to ...</td>\n",
              "    </tr>\n",
              "    <tr>\n",
              "      <th>4</th>\n",
              "      <td>\"normal active range of hip extension\"</td>\n",
              "      <td>the normal range of movement that the hip join...</td>\n",
              "    </tr>\n",
              "    <tr>\n",
              "      <th>...</th>\n",
              "      <td>...</td>\n",
              "      <td>...</td>\n",
              "    </tr>\n",
              "    <tr>\n",
              "      <th>421211</th>\n",
              "      <td>\"product containing zotarolimus\"</td>\n",
              "      <td>a medicinal product that acts as an immunosupp...</td>\n",
              "    </tr>\n",
              "    <tr>\n",
              "      <th>421212</th>\n",
              "      <td>\"meiotic cell\"</td>\n",
              "      <td>a type of cell that undergoes a specific type ...</td>\n",
              "    </tr>\n",
              "    <tr>\n",
              "      <th>421213</th>\n",
              "      <td>\"phage type battersea\"</td>\n",
              "      <td>a classification of bacteriophages, which are ...</td>\n",
              "    </tr>\n",
              "    <tr>\n",
              "      <th>421214</th>\n",
              "      <td>\"diaphragmatic\"</td>\n",
              "      <td>anything that is related to or located in the ...</td>\n",
              "    </tr>\n",
              "    <tr>\n",
              "      <th>421215</th>\n",
              "      <td>\"ducula bicolor\"</td>\n",
              "      <td>a species of bird within the Ducula genus. Thi...</td>\n",
              "    </tr>\n",
              "  </tbody>\n",
              "</table>\n",
              "<p>421216 rows × 2 columns</p>\n",
              "</div>\n",
              "    <div class=\"colab-df-buttons\">\n",
              "\n",
              "  <div class=\"colab-df-container\">\n",
              "    <button class=\"colab-df-convert\" onclick=\"convertToInteractive('df-d9a5eec0-af29-486b-81c0-79a11fad66b9')\"\n",
              "            title=\"Convert this dataframe to an interactive table.\"\n",
              "            style=\"display:none;\">\n",
              "\n",
              "  <svg xmlns=\"http://www.w3.org/2000/svg\" height=\"24px\" viewBox=\"0 -960 960 960\">\n",
              "    <path d=\"M120-120v-720h720v720H120Zm60-500h600v-160H180v160Zm220 220h160v-160H400v160Zm0 220h160v-160H400v160ZM180-400h160v-160H180v160Zm440 0h160v-160H620v160ZM180-180h160v-160H180v160Zm440 0h160v-160H620v160Z\"/>\n",
              "  </svg>\n",
              "    </button>\n",
              "\n",
              "  <style>\n",
              "    .colab-df-container {\n",
              "      display:flex;\n",
              "      gap: 12px;\n",
              "    }\n",
              "\n",
              "    .colab-df-convert {\n",
              "      background-color: #E8F0FE;\n",
              "      border: none;\n",
              "      border-radius: 50%;\n",
              "      cursor: pointer;\n",
              "      display: none;\n",
              "      fill: #1967D2;\n",
              "      height: 32px;\n",
              "      padding: 0 0 0 0;\n",
              "      width: 32px;\n",
              "    }\n",
              "\n",
              "    .colab-df-convert:hover {\n",
              "      background-color: #E2EBFA;\n",
              "      box-shadow: 0px 1px 2px rgba(60, 64, 67, 0.3), 0px 1px 3px 1px rgba(60, 64, 67, 0.15);\n",
              "      fill: #174EA6;\n",
              "    }\n",
              "\n",
              "    .colab-df-buttons div {\n",
              "      margin-bottom: 4px;\n",
              "    }\n",
              "\n",
              "    [theme=dark] .colab-df-convert {\n",
              "      background-color: #3B4455;\n",
              "      fill: #D2E3FC;\n",
              "    }\n",
              "\n",
              "    [theme=dark] .colab-df-convert:hover {\n",
              "      background-color: #434B5C;\n",
              "      box-shadow: 0px 1px 3px 1px rgba(0, 0, 0, 0.15);\n",
              "      filter: drop-shadow(0px 1px 2px rgba(0, 0, 0, 0.3));\n",
              "      fill: #FFFFFF;\n",
              "    }\n",
              "  </style>\n",
              "\n",
              "    <script>\n",
              "      const buttonEl =\n",
              "        document.querySelector('#df-d9a5eec0-af29-486b-81c0-79a11fad66b9 button.colab-df-convert');\n",
              "      buttonEl.style.display =\n",
              "        google.colab.kernel.accessAllowed ? 'block' : 'none';\n",
              "\n",
              "      async function convertToInteractive(key) {\n",
              "        const element = document.querySelector('#df-d9a5eec0-af29-486b-81c0-79a11fad66b9');\n",
              "        const dataTable =\n",
              "          await google.colab.kernel.invokeFunction('convertToInteractive',\n",
              "                                                    [key], {});\n",
              "        if (!dataTable) return;\n",
              "\n",
              "        const docLinkHtml = 'Like what you see? Visit the ' +\n",
              "          '<a target=\"_blank\" href=https://colab.research.google.com/notebooks/data_table.ipynb>data table notebook</a>'\n",
              "          + ' to learn more about interactive tables.';\n",
              "        element.innerHTML = '';\n",
              "        dataTable['output_type'] = 'display_data';\n",
              "        await google.colab.output.renderOutput(dataTable, element);\n",
              "        const docLink = document.createElement('div');\n",
              "        docLink.innerHTML = docLinkHtml;\n",
              "        element.appendChild(docLink);\n",
              "      }\n",
              "    </script>\n",
              "  </div>\n",
              "\n",
              "\n",
              "<div id=\"df-cfcc8ebe-eedd-4a55-b1ae-7a1972b5372f\">\n",
              "  <button class=\"colab-df-quickchart\" onclick=\"quickchart('df-cfcc8ebe-eedd-4a55-b1ae-7a1972b5372f')\"\n",
              "            title=\"Suggest charts\"\n",
              "            style=\"display:none;\">\n",
              "\n",
              "<svg xmlns=\"http://www.w3.org/2000/svg\" height=\"24px\"viewBox=\"0 0 24 24\"\n",
              "     width=\"24px\">\n",
              "    <g>\n",
              "        <path d=\"M19 3H5c-1.1 0-2 .9-2 2v14c0 1.1.9 2 2 2h14c1.1 0 2-.9 2-2V5c0-1.1-.9-2-2-2zM9 17H7v-7h2v7zm4 0h-2V7h2v10zm4 0h-2v-4h2v4z\"/>\n",
              "    </g>\n",
              "</svg>\n",
              "  </button>\n",
              "\n",
              "<style>\n",
              "  .colab-df-quickchart {\n",
              "      --bg-color: #E8F0FE;\n",
              "      --fill-color: #1967D2;\n",
              "      --hover-bg-color: #E2EBFA;\n",
              "      --hover-fill-color: #174EA6;\n",
              "      --disabled-fill-color: #AAA;\n",
              "      --disabled-bg-color: #DDD;\n",
              "  }\n",
              "\n",
              "  [theme=dark] .colab-df-quickchart {\n",
              "      --bg-color: #3B4455;\n",
              "      --fill-color: #D2E3FC;\n",
              "      --hover-bg-color: #434B5C;\n",
              "      --hover-fill-color: #FFFFFF;\n",
              "      --disabled-bg-color: #3B4455;\n",
              "      --disabled-fill-color: #666;\n",
              "  }\n",
              "\n",
              "  .colab-df-quickchart {\n",
              "    background-color: var(--bg-color);\n",
              "    border: none;\n",
              "    border-radius: 50%;\n",
              "    cursor: pointer;\n",
              "    display: none;\n",
              "    fill: var(--fill-color);\n",
              "    height: 32px;\n",
              "    padding: 0;\n",
              "    width: 32px;\n",
              "  }\n",
              "\n",
              "  .colab-df-quickchart:hover {\n",
              "    background-color: var(--hover-bg-color);\n",
              "    box-shadow: 0 1px 2px rgba(60, 64, 67, 0.3), 0 1px 3px 1px rgba(60, 64, 67, 0.15);\n",
              "    fill: var(--button-hover-fill-color);\n",
              "  }\n",
              "\n",
              "  .colab-df-quickchart-complete:disabled,\n",
              "  .colab-df-quickchart-complete:disabled:hover {\n",
              "    background-color: var(--disabled-bg-color);\n",
              "    fill: var(--disabled-fill-color);\n",
              "    box-shadow: none;\n",
              "  }\n",
              "\n",
              "  .colab-df-spinner {\n",
              "    border: 2px solid var(--fill-color);\n",
              "    border-color: transparent;\n",
              "    border-bottom-color: var(--fill-color);\n",
              "    animation:\n",
              "      spin 1s steps(1) infinite;\n",
              "  }\n",
              "\n",
              "  @keyframes spin {\n",
              "    0% {\n",
              "      border-color: transparent;\n",
              "      border-bottom-color: var(--fill-color);\n",
              "      border-left-color: var(--fill-color);\n",
              "    }\n",
              "    20% {\n",
              "      border-color: transparent;\n",
              "      border-left-color: var(--fill-color);\n",
              "      border-top-color: var(--fill-color);\n",
              "    }\n",
              "    30% {\n",
              "      border-color: transparent;\n",
              "      border-left-color: var(--fill-color);\n",
              "      border-top-color: var(--fill-color);\n",
              "      border-right-color: var(--fill-color);\n",
              "    }\n",
              "    40% {\n",
              "      border-color: transparent;\n",
              "      border-right-color: var(--fill-color);\n",
              "      border-top-color: var(--fill-color);\n",
              "    }\n",
              "    60% {\n",
              "      border-color: transparent;\n",
              "      border-right-color: var(--fill-color);\n",
              "    }\n",
              "    80% {\n",
              "      border-color: transparent;\n",
              "      border-right-color: var(--fill-color);\n",
              "      border-bottom-color: var(--fill-color);\n",
              "    }\n",
              "    90% {\n",
              "      border-color: transparent;\n",
              "      border-bottom-color: var(--fill-color);\n",
              "    }\n",
              "  }\n",
              "</style>\n",
              "\n",
              "  <script>\n",
              "    async function quickchart(key) {\n",
              "      const quickchartButtonEl =\n",
              "        document.querySelector('#' + key + ' button');\n",
              "      quickchartButtonEl.disabled = true;  // To prevent multiple clicks.\n",
              "      quickchartButtonEl.classList.add('colab-df-spinner');\n",
              "      try {\n",
              "        const charts = await google.colab.kernel.invokeFunction(\n",
              "            'suggestCharts', [key], {});\n",
              "      } catch (error) {\n",
              "        console.error('Error during call to suggestCharts:', error);\n",
              "      }\n",
              "      quickchartButtonEl.classList.remove('colab-df-spinner');\n",
              "      quickchartButtonEl.classList.add('colab-df-quickchart-complete');\n",
              "    }\n",
              "    (() => {\n",
              "      let quickchartButtonEl =\n",
              "        document.querySelector('#df-cfcc8ebe-eedd-4a55-b1ae-7a1972b5372f button');\n",
              "      quickchartButtonEl.style.display =\n",
              "        google.colab.kernel.accessAllowed ? 'block' : 'none';\n",
              "    })();\n",
              "  </script>\n",
              "</div>\n",
              "\n",
              "  <div id=\"id_70ab57bd-404a-4e47-8c3d-84018bc7a0b9\">\n",
              "    <style>\n",
              "      .colab-df-generate {\n",
              "        background-color: #E8F0FE;\n",
              "        border: none;\n",
              "        border-radius: 50%;\n",
              "        cursor: pointer;\n",
              "        display: none;\n",
              "        fill: #1967D2;\n",
              "        height: 32px;\n",
              "        padding: 0 0 0 0;\n",
              "        width: 32px;\n",
              "      }\n",
              "\n",
              "      .colab-df-generate:hover {\n",
              "        background-color: #E2EBFA;\n",
              "        box-shadow: 0px 1px 2px rgba(60, 64, 67, 0.3), 0px 1px 3px 1px rgba(60, 64, 67, 0.15);\n",
              "        fill: #174EA6;\n",
              "      }\n",
              "\n",
              "      [theme=dark] .colab-df-generate {\n",
              "        background-color: #3B4455;\n",
              "        fill: #D2E3FC;\n",
              "      }\n",
              "\n",
              "      [theme=dark] .colab-df-generate:hover {\n",
              "        background-color: #434B5C;\n",
              "        box-shadow: 0px 1px 3px 1px rgba(0, 0, 0, 0.15);\n",
              "        filter: drop-shadow(0px 1px 2px rgba(0, 0, 0, 0.3));\n",
              "        fill: #FFFFFF;\n",
              "      }\n",
              "    </style>\n",
              "    <button class=\"colab-df-generate\" onclick=\"generateWithVariable('AGCT')\"\n",
              "            title=\"Generate code using this dataframe.\"\n",
              "            style=\"display:none;\">\n",
              "\n",
              "  <svg xmlns=\"http://www.w3.org/2000/svg\" height=\"24px\"viewBox=\"0 0 24 24\"\n",
              "       width=\"24px\">\n",
              "    <path d=\"M7,19H8.4L18.45,9,17,7.55,7,17.6ZM5,21V16.75L18.45,3.32a2,2,0,0,1,2.83,0l1.4,1.43a1.91,1.91,0,0,1,.58,1.4,1.91,1.91,0,0,1-.58,1.4L9.25,21ZM18.45,9,17,7.55Zm-12,3A5.31,5.31,0,0,0,4.9,8.1,5.31,5.31,0,0,0,1,6.5,5.31,5.31,0,0,0,4.9,4.9,5.31,5.31,0,0,0,6.5,1,5.31,5.31,0,0,0,8.1,4.9,5.31,5.31,0,0,0,12,6.5,5.46,5.46,0,0,0,6.5,12Z\"/>\n",
              "  </svg>\n",
              "    </button>\n",
              "    <script>\n",
              "      (() => {\n",
              "      const buttonEl =\n",
              "        document.querySelector('#id_70ab57bd-404a-4e47-8c3d-84018bc7a0b9 button.colab-df-generate');\n",
              "      buttonEl.style.display =\n",
              "        google.colab.kernel.accessAllowed ? 'block' : 'none';\n",
              "\n",
              "      buttonEl.onclick = () => {\n",
              "        google.colab.notebook.generateWithVariable('AGCT');\n",
              "      }\n",
              "      })();\n",
              "    </script>\n",
              "  </div>\n",
              "\n",
              "    </div>\n",
              "  </div>\n"
            ]
          },
          "metadata": {},
          "execution_count": 11
        }
      ]
    },
    {
      "cell_type": "markdown",
      "source": [
        "## Initializing DB and creating tables"
      ],
      "metadata": {
        "id": "pLTq8hIoyy01"
      }
    },
    {
      "cell_type": "code",
      "source": [
        "from sqlalchemy import MetaData\n",
        "\n",
        "metadata_obj = MetaData()"
      ],
      "metadata": {
        "id": "PEnzRK9Nxqj0"
      },
      "execution_count": null,
      "outputs": []
    },
    {
      "cell_type": "code",
      "source": [
        "from sqlalchemy import create_engine, MetaData, Table, Column, Integer, String, Text, Date, ForeignKey, ForeignKeyConstraint\n",
        "\n",
        "# Create a SQLAlchemy engine with an in-memory SQLite database\n",
        "engine = create_engine(\"sqlite:///:memory:\")\n",
        "metadata = MetaData()\n",
        "\n",
        "# Define the 'patientInfo' table\n",
        "patient_info_table = Table(\n",
        "    'patientInfo',\n",
        "    metadata,\n",
        "    Column('username', String(255), nullable=False, primary_key=True),\n",
        "    Column('patientAge', Integer, nullable=True),\n",
        "    Column('patientGender', String(10), nullable=True)\n",
        ")\n",
        "\n",
        "# Define the 'records' table\n",
        "medical_records_table = Table(\n",
        "    'medicalRecords',\n",
        "    metadata,\n",
        "    Column('username', String(255), ForeignKey('patientInfo.username'), nullable=False),\n",
        "    Column('diagnosisText', Text),\n",
        "    Column('diagnosisDate', Date),\n",
        "    Column('bloodPressure', String(20), nullable=True),\n",
        "    Column('cholesterol', String(20), nullable=True),\n",
        "    Column('heartRate', Integer, nullable=True),\n",
        "    ForeignKeyConstraint(['username'], ['patientInfo.username'])\n",
        ")\n",
        "\n",
        "\n",
        "metadata.create_all(engine)"
      ],
      "metadata": {
        "id": "ngSJmgzyxzlD"
      },
      "execution_count": null,
      "outputs": []
    },
    {
      "cell_type": "markdown",
      "source": [
        "## Inserting some dummy values"
      ],
      "metadata": {
        "id": "GaJYW0dSz4z1"
      }
    },
    {
      "cell_type": "code",
      "source": [
        "from datetime import datetime\n",
        "\n",
        "with engine.begin() as connection:\n",
        "  patient_info_insert = patient_info_table.insert().values(username='Bob', patientAge=30, patientGender='Male')\n",
        "  result = connection.execute(patient_info_insert)\n",
        "  username = result.inserted_primary_key[0]\n",
        "\n",
        "  # Insert an observation for the heart patient into the 'records' table\n",
        "  medical_records_insert = medical_records_table.insert().values(\n",
        "        username='Bob',\n",
        "        diagnosisText='Heart condition diagnosed',\n",
        "        diagnosisDate=datetime(2023, 12, 1),\n",
        "        bloodPressure='bp=120/80',\n",
        "        cholesterol='cholesterol=200',\n",
        "        heartRate=75\n",
        "    )\n",
        "  connection.execute(medical_records_insert)\n",
        "\n",
        "  print(\"Observations added for the heart patient:\")\n",
        "  print(f\"Patient ID: {username}\")"
      ],
      "metadata": {
        "colab": {
          "base_uri": "https://localhost:8080/"
        },
        "id": "tos-FS450Ez6",
        "outputId": "52246b69-ba6f-48cf-d0ce-e8f05a77080b"
      },
      "execution_count": null,
      "outputs": [
        {
          "output_type": "stream",
          "name": "stdout",
          "text": [
            "Observations added for the heart patient:\n",
            "Patient ID: Bob\n"
          ]
        }
      ]
    },
    {
      "cell_type": "markdown",
      "source": [
        "## Setting up a user"
      ],
      "metadata": {
        "id": "EyNzqqGZJDtn"
      }
    },
    {
      "cell_type": "code",
      "source": [
        "USERNAME = 'Bob'"
      ],
      "metadata": {
        "id": "tH5LccxNJC8w"
      },
      "execution_count": null,
      "outputs": []
    },
    {
      "cell_type": "code",
      "source": [
        "RECORDS = []\n",
        "with engine.begin() as connection:\n",
        "  stmt = medical_records_table.select().where(username == USERNAME)\n",
        "  stmt = connection.execute(stmt)\n",
        "  RECORDS.append(stmt.all())\n",
        "print(RECORDS)"
      ],
      "metadata": {
        "colab": {
          "base_uri": "https://localhost:8080/"
        },
        "id": "yeZZs6IeJKlQ",
        "outputId": "fcf33f72-67a8-4a11-f3da-3332d355d266"
      },
      "execution_count": null,
      "outputs": [
        {
          "output_type": "stream",
          "name": "stdout",
          "text": [
            "[[('Bob', 'Heart condition diagnosed', datetime.date(2023, 12, 1), 'bp=120/80', 'cholesterol=200', 75)]]\n"
          ]
        }
      ]
    },
    {
      "cell_type": "code",
      "source": [
        "INFO = []\n",
        "with engine.begin() as connection:\n",
        "  stmt = patient_info_table.select().where(username == USERNAME)\n",
        "  stmt = connection.execute(stmt)\n",
        "  INFO.append(stmt.all())\n",
        "print(INFO)"
      ],
      "metadata": {
        "colab": {
          "base_uri": "https://localhost:8080/"
        },
        "id": "YBkb4BUstT_Y",
        "outputId": "2383af4e-4aa7-4312-efdd-65e42c31735c"
      },
      "execution_count": null,
      "outputs": [
        {
          "output_type": "stream",
          "name": "stdout",
          "text": [
            "[[('Bob', 30, 'Male')]]\n"
          ]
        }
      ]
    },
    {
      "cell_type": "markdown",
      "source": [
        "## Initializing llm"
      ],
      "metadata": {
        "id": "kR72YGunyurY"
      }
    },
    {
      "cell_type": "code",
      "source": [
        "from langchain.chat_models import ChatOpenAI\n",
        "llm = ChatOpenAI(\n",
        "    model_name=\"gpt-4\",\n",
        "    temperature=0\n",
        ")"
      ],
      "metadata": {
        "id": "zt_2SuLOxh0N"
      },
      "execution_count": null,
      "outputs": []
    },
    {
      "cell_type": "markdown",
      "source": [
        "## Create records tool"
      ],
      "metadata": {
        "id": "k_okOPcHUyq2"
      }
    },
    {
      "cell_type": "code",
      "source": [
        "from langchain.tools import BaseTool,Tool\n",
        "\n",
        "class RecordTool(BaseTool):\n",
        "  name = \"Patients Record\"\n",
        "  description = \"Useful to get patient's records. Each record includes diagnosis, bp, cholestrol and heartrate.\"\n",
        "\n",
        "  def _run(self,query:str)->list:\n",
        "      return RECORDS\n",
        "\n",
        "  def _arun(self):\n",
        "      raise NotImplementedError(\"RecordTool does not support async\")\n",
        "\n",
        "class PersonaTool(BaseTool):\n",
        "  name = \"Patients Info\"\n",
        "  description = \"Useful to get patient's info. Includes name, age and gender\"\n",
        "\n",
        "  def _run(self,query:str)->list:\n",
        "      return INFO\n",
        "\n",
        "  def _arun(self):\n",
        "      raise NotImplementedError(\"PersonaTool does not support async\")"
      ],
      "metadata": {
        "id": "rxTs5fF-UgDx"
      },
      "execution_count": null,
      "outputs": []
    },
    {
      "cell_type": "markdown",
      "source": [
        "## AGENT with memory\n",
        "Just testing"
      ],
      "metadata": {
        "id": "MtrIft_XL3GK"
      }
    },
    {
      "cell_type": "code",
      "source": [
        "from langchain.memory import ConversationSummaryBufferMemory\n",
        "\n",
        "memory = ConversationSummaryBufferMemory(memory_key=\"chat_history\",llm=llm,return_messages=True)\n",
        "\n",
        "tools = [\n",
        "    RecordTool(),\n",
        "    PersonaTool()\n",
        "]"
      ],
      "metadata": {
        "id": "OGXPOovbL8Qe"
      },
      "execution_count": null,
      "outputs": []
    },
    {
      "cell_type": "code",
      "source": [
        "from langchain.agents import initialize_agent,AgentType\n",
        "\n",
        "agent = initialize_agent(\n",
        "    agent = AgentType.CHAT_CONVERSATIONAL_REACT_DESCRIPTION,\n",
        "    tools = tools,\n",
        "    llm=llm,\n",
        "    verbose=True,\n",
        "    early_stopping_method = 'generate',\n",
        "    memory = memory\n",
        ")"
      ],
      "metadata": {
        "id": "hlArQpi1M6EN"
      },
      "execution_count": null,
      "outputs": []
    },
    {
      "cell_type": "code",
      "source": [
        "agent(\"List all my past records\")"
      ],
      "metadata": {
        "colab": {
          "base_uri": "https://localhost:8080/"
        },
        "id": "R_h0ganyPssL",
        "outputId": "d9988d44-1c20-4725-acad-1638e3180066"
      },
      "execution_count": null,
      "outputs": [
        {
          "output_type": "stream",
          "name": "stdout",
          "text": [
            "\n",
            "\n",
            "\u001b[1m> Entering new AgentExecutor chain...\u001b[0m\n",
            "\u001b[32;1m\u001b[1;3m```json\n",
            "{\n",
            "    \"action\": \"Patients Record\",\n",
            "    \"action_input\": \"List all records\"\n",
            "}\n",
            "```\u001b[0m\n",
            "Observation: \u001b[36;1m\u001b[1;3m[[('Bob123', 'Heart condition diagnosed', datetime.date(2023, 12, 1))]]\u001b[0m\n",
            "Thought:\u001b[32;1m\u001b[1;3m```json\n",
            "{\n",
            "    \"action\": \"Final Answer\",\n",
            "    \"action_input\": \"Your last recorded medical event was a diagnosis of a heart condition on December 1, 2023.\"\n",
            "}\n",
            "```\u001b[0m\n",
            "\n",
            "\u001b[1m> Finished chain.\u001b[0m\n"
          ]
        },
        {
          "output_type": "execute_result",
          "data": {
            "text/plain": [
              "{'input': 'List all my past records',\n",
              " 'chat_history': [HumanMessage(content='List all my past records'),\n",
              "  AIMessage(content='Your last recorded medical event was a diagnosis of a heart condition on December 1, 2023.')],\n",
              " 'output': 'Your last recorded medical event was a diagnosis of a heart condition on December 1, 2023.'}"
            ]
          },
          "metadata": {},
          "execution_count": 148
        }
      ]
    },
    {
      "cell_type": "markdown",
      "source": [
        "## Pinecone"
      ],
      "metadata": {
        "id": "k3bMeQIyHcth"
      }
    },
    {
      "cell_type": "code",
      "source": [
        "from langchain.document_loaders import TextLoader\n",
        "from langchain.embeddings.openai import OpenAIEmbeddings\n",
        "from langchain.text_splitter import CharacterTextSplitter\n",
        "from langchain.vectorstores import Pinecone"
      ],
      "metadata": {
        "id": "GP2fxQ2RHegE"
      },
      "execution_count": null,
      "outputs": []
    },
    {
      "cell_type": "code",
      "source": [
        "import pinecone"
      ],
      "metadata": {
        "colab": {
          "base_uri": "https://localhost:8080/"
        },
        "id": "Pg4sVVIbIF9K",
        "outputId": "601366bc-14a1-4b22-a0d6-6bae780d6f2a"
      },
      "execution_count": null,
      "outputs": [
        {
          "output_type": "stream",
          "name": "stderr",
          "text": [
            "/usr/local/lib/python3.10/dist-packages/pinecone/index.py:4: TqdmExperimentalWarning: Using `tqdm.autonotebook.tqdm` in notebook mode. Use `tqdm.tqdm` instead to force console mode (e.g. in jupyter console)\n",
            "  from tqdm.autonotebook import tqdm\n"
          ]
        }
      ]
    },
    {
      "cell_type": "code",
      "source": [
        "pinecone.init(\n",
        "    api_key=os.getenv(\"PINECONE_API_KEY\"),  # find at app.pinecone.io\n",
        "    environment=os.getenv(\"PINECONE_ENVIRONMENT\"),  # next to api key in console\n",
        ")\n",
        "\n",
        "index_name = \"medical-mind\"\n",
        "\n",
        "# First, check if our index already exists. If it doesn't, we create it\n",
        "if index_name not in pinecone.list_indexes():\n",
        "    # we create a new index\n",
        "    pinecone.create_index(\n",
        "        name=index_name,\n",
        "        metric=\"dotproduct\",\n",
        "        dimension=1536\n",
        "    )\n",
        "# The OpenAI embedding model `text-embedding-ada-002 uses 1536 dimensions`"
      ],
      "metadata": {
        "id": "iWixkm46IIVo"
      },
      "execution_count": null,
      "outputs": []
    },
    {
      "cell_type": "code",
      "source": [
        "embeddings = OpenAIEmbeddings()"
      ],
      "metadata": {
        "id": "hD2F9Zx8HxKp"
      },
      "execution_count": null,
      "outputs": []
    },
    {
      "cell_type": "code",
      "source": [
        "index = pinecone.Index(index_name)\n",
        "index.describe_index_stats()"
      ],
      "metadata": {
        "colab": {
          "base_uri": "https://localhost:8080/"
        },
        "id": "3ntPOAf2kHcm",
        "outputId": "345419a5-35e7-4301-9eb5-c7a6b9fbbb5e"
      },
      "execution_count": null,
      "outputs": [
        {
          "output_type": "execute_result",
          "data": {
            "text/plain": [
              "{'dimension': 1536,\n",
              " 'index_fullness': 1.0,\n",
              " 'namespaces': {'': {'vector_count': 100992}},\n",
              " 'total_vector_count': 100992}"
            ]
          },
          "metadata": {},
          "execution_count": 19
        }
      ]
    },
    {
      "cell_type": "code",
      "source": [
        "text_field = 'text'\n",
        "\n",
        "vectorstore = Pinecone(\n",
        "    index,\n",
        "    embeddings.embed_query,\n",
        "    text_field\n",
        ")"
      ],
      "metadata": {
        "colab": {
          "base_uri": "https://localhost:8080/"
        },
        "id": "du1AmmzR7bA8",
        "outputId": "676e5722-7d8d-42b8-b826-e6262de4c6cd"
      },
      "execution_count": null,
      "outputs": [
        {
          "output_type": "stream",
          "name": "stderr",
          "text": [
            "/usr/local/lib/python3.10/dist-packages/langchain_community/vectorstores/pinecone.py:62: UserWarning: Passing in `embedding` as a Callable is deprecated. Please pass in an Embeddings object instead.\n",
            "  warnings.warn(\n"
          ]
        }
      ]
    },
    {
      "cell_type": "markdown",
      "source": [
        "## Indexing"
      ],
      "metadata": {
        "id": "TIu2B0z8kllE"
      }
    },
    {
      "cell_type": "code",
      "source": [
        "!pip install canopy-sdk"
      ],
      "metadata": {
        "id": "hsRdsQtUkq61"
      },
      "execution_count": null,
      "outputs": []
    },
    {
      "cell_type": "code",
      "source": [
        "!canopy"
      ],
      "metadata": {
        "colab": {
          "base_uri": "https://localhost:8080/"
        },
        "id": "wogYtg4pmIvR",
        "outputId": "e6d2a477-8c81-40d2-d4f4-0a65298f8cc8"
      },
      "execution_count": null,
      "outputs": [
        {
          "output_type": "stream",
          "name": "stdout",
          "text": [
            "Usage: canopy [OPTIONS] COMMAND [ARGS]...\n",
            "\n",
            "  CLI for Pinecone Canopy. Actively developed by Pinecone.\n",
            "  To use the CLI, you need to have a Pinecone account.\n",
            "  Visit https://www.pinecone.io/ to sign up for free.\n",
            "\n",
            "Options:\n",
            "  -v, --version  Show the version and exit.\n",
            "  -h, --help     Show this message and exit.\n",
            "\n",
            "Commands:\n",
            "  new       Create a new Pinecone index that will be used by Canopy.\n",
            "  upsert    Upload local data files to the Canopy service.\n",
            "  start     Start the Canopy server.\n",
            "  chat      Debugging tool for chatting with the Canopy RAG service.\n",
            "  health    Check if the Canopy server is running and healthy.\n",
            "  stop      Stop the Canopy server.\n",
            "  api-docs  Open the Canopy server docs.\n"
          ]
        }
      ]
    },
    {
      "cell_type": "code",
      "source": [
        "!canopy start"
      ],
      "metadata": {
        "id": "k9XX6gz9DmSl"
      },
      "execution_count": null,
      "outputs": []
    },
    {
      "cell_type": "code",
      "source": [
        "contexts = AGCT['context'].to_list()\n",
        "max([len(context) for context in contexts])"
      ],
      "metadata": {
        "colab": {
          "base_uri": "https://localhost:8080/"
        },
        "id": "I3LX-2tFmekH",
        "outputId": "90c2c179-f0f4-48f2-c209-7ce78e2bd574"
      },
      "execution_count": null,
      "outputs": [
        {
          "output_type": "execute_result",
          "data": {
            "text/plain": [
              "579"
            ]
          },
          "metadata": {},
          "execution_count": 29
        }
      ]
    },
    {
      "cell_type": "code",
      "source": [
        "from tqdm.auto import tqdm\n",
        "\n",
        "batch_size = 64\n",
        "for i in tqdm(range(0,len(AGCT),batch_size)):\n",
        "  i_end = min(len(AGCT),i+batch_size)\n",
        "  # Get batch of data\n",
        "  batch = AGCT.iloc[i:i_end]\n",
        "  # Unique ids\n",
        "  ids = [f\"{x.name}\" for _,x in batch.iterrows()]\n",
        "  # Text to embed\n",
        "  texts = [x['context'] for _,x in batch.iterrows()]\n",
        "  # Embed Text\n",
        "  embeds = embeddings.embed_documents(texts)\n",
        "  # Metadata to store\n",
        "  metadata = [\n",
        "      {\n",
        "          'text': x['context'],\n",
        "          'title': x['title']\n",
        "      } for _,x in batch.iterrows()\n",
        "  ]\n",
        "  index.upsert(vectors=zip(ids,embeds,metadata))"
      ],
      "metadata": {
        "colab": {
          "base_uri": "https://localhost:8080/",
          "height": 457,
          "referenced_widgets": [
            "17a0024f48a847df9b86a1192202f140",
            "7636b697cbe14b0891c90850ac8b8177",
            "934dd0db3f25461c8e5106515876b079",
            "8996c13093474824ac945cd825b7aa3c",
            "1b2f0b0e8e2742589e9edecc00f25f73",
            "a3127dea398a480884723627d9ee22e0",
            "5a32d28d6c724a5d9c4653caee8eddbd",
            "9dfe0a5157184040a10b4a6bc58a9c34",
            "8580e0c17b874ac898554385df98ff27",
            "eb1939540fda4c878957011472481f16",
            "974746a643ee4267bafcae1183e6f65e"
          ]
        },
        "id": "tz5F7lY_n4KC",
        "outputId": "23317235-70cc-48f1-f930-f9ce511f130b"
      },
      "execution_count": null,
      "outputs": [
        {
          "data": {
            "application/vnd.jupyter.widget-view+json": {
              "model_id": "17a0024f48a847df9b86a1192202f140",
              "version_major": 2,
              "version_minor": 0
            },
            "text/plain": [
              "  0%|          | 0/6582 [00:00<?, ?it/s]"
            ]
          },
          "metadata": {},
          "output_type": "display_data"
        },
        {
          "output_type": "error",
          "ename": "ApiException",
          "evalue": "ignored",
          "traceback": [
            "\u001b[0;31m---------------------------------------------------------------------------\u001b[0m",
            "\u001b[0;31mApiException\u001b[0m                              Traceback (most recent call last)",
            "\u001b[0;32m<ipython-input-43-ca1517e166a7>\u001b[0m in \u001b[0;36m<cell line: 4>\u001b[0;34m()\u001b[0m\n\u001b[1;32m     19\u001b[0m       } for _,x in batch.iterrows()\n\u001b[1;32m     20\u001b[0m   ]\n\u001b[0;32m---> 21\u001b[0;31m   \u001b[0mindex\u001b[0m\u001b[0;34m.\u001b[0m\u001b[0mupsert\u001b[0m\u001b[0;34m(\u001b[0m\u001b[0mvectors\u001b[0m\u001b[0;34m=\u001b[0m\u001b[0mzip\u001b[0m\u001b[0;34m(\u001b[0m\u001b[0mids\u001b[0m\u001b[0;34m,\u001b[0m\u001b[0membeds\u001b[0m\u001b[0;34m,\u001b[0m\u001b[0mmetadata\u001b[0m\u001b[0;34m)\u001b[0m\u001b[0;34m)\u001b[0m\u001b[0;34m\u001b[0m\u001b[0;34m\u001b[0m\u001b[0m\n\u001b[0m",
            "\u001b[0;32m/usr/local/lib/python3.10/dist-packages/pinecone/core/utils/error_handling.py\u001b[0m in \u001b[0;36minner_func\u001b[0;34m(*args, **kwargs)\u001b[0m\n\u001b[1;32m     15\u001b[0m         \u001b[0mConfig\u001b[0m\u001b[0;34m.\u001b[0m\u001b[0mvalidate\u001b[0m\u001b[0;34m(\u001b[0m\u001b[0;34m)\u001b[0m  \u001b[0;31m# raises exceptions in case of invalid config\u001b[0m\u001b[0;34m\u001b[0m\u001b[0;34m\u001b[0m\u001b[0m\n\u001b[1;32m     16\u001b[0m         \u001b[0;32mtry\u001b[0m\u001b[0;34m:\u001b[0m\u001b[0;34m\u001b[0m\u001b[0;34m\u001b[0m\u001b[0m\n\u001b[0;32m---> 17\u001b[0;31m             \u001b[0;32mreturn\u001b[0m \u001b[0mfunc\u001b[0m\u001b[0;34m(\u001b[0m\u001b[0;34m*\u001b[0m\u001b[0margs\u001b[0m\u001b[0;34m,\u001b[0m \u001b[0;34m**\u001b[0m\u001b[0mkwargs\u001b[0m\u001b[0;34m)\u001b[0m\u001b[0;34m\u001b[0m\u001b[0;34m\u001b[0m\u001b[0m\n\u001b[0m\u001b[1;32m     18\u001b[0m         \u001b[0;32mexcept\u001b[0m \u001b[0mMaxRetryError\u001b[0m \u001b[0;32mas\u001b[0m \u001b[0me\u001b[0m\u001b[0;34m:\u001b[0m\u001b[0;34m\u001b[0m\u001b[0;34m\u001b[0m\u001b[0m\n\u001b[1;32m     19\u001b[0m             \u001b[0;32mif\u001b[0m \u001b[0misinstance\u001b[0m\u001b[0;34m(\u001b[0m\u001b[0me\u001b[0m\u001b[0;34m.\u001b[0m\u001b[0mreason\u001b[0m\u001b[0;34m,\u001b[0m \u001b[0mProtocolError\u001b[0m\u001b[0;34m)\u001b[0m\u001b[0;34m:\u001b[0m\u001b[0;34m\u001b[0m\u001b[0;34m\u001b[0m\u001b[0m\n",
            "\u001b[0;32m/usr/local/lib/python3.10/dist-packages/pinecone/index.py\u001b[0m in \u001b[0;36mupsert\u001b[0;34m(self, vectors, namespace, batch_size, show_progress, **kwargs)\u001b[0m\n\u001b[1;32m    148\u001b[0m \u001b[0;34m\u001b[0m\u001b[0m\n\u001b[1;32m    149\u001b[0m         \u001b[0;32mif\u001b[0m \u001b[0mbatch_size\u001b[0m \u001b[0;32mis\u001b[0m \u001b[0;32mNone\u001b[0m\u001b[0;34m:\u001b[0m\u001b[0;34m\u001b[0m\u001b[0;34m\u001b[0m\u001b[0m\n\u001b[0;32m--> 150\u001b[0;31m             \u001b[0;32mreturn\u001b[0m \u001b[0mself\u001b[0m\u001b[0;34m.\u001b[0m\u001b[0m_upsert_batch\u001b[0m\u001b[0;34m(\u001b[0m\u001b[0mvectors\u001b[0m\u001b[0;34m,\u001b[0m \u001b[0mnamespace\u001b[0m\u001b[0;34m,\u001b[0m \u001b[0m_check_type\u001b[0m\u001b[0;34m,\u001b[0m \u001b[0;34m**\u001b[0m\u001b[0mkwargs\u001b[0m\u001b[0;34m)\u001b[0m\u001b[0;34m\u001b[0m\u001b[0;34m\u001b[0m\u001b[0m\n\u001b[0m\u001b[1;32m    151\u001b[0m \u001b[0;34m\u001b[0m\u001b[0m\n\u001b[1;32m    152\u001b[0m         \u001b[0;32mif\u001b[0m \u001b[0;32mnot\u001b[0m \u001b[0misinstance\u001b[0m\u001b[0;34m(\u001b[0m\u001b[0mbatch_size\u001b[0m\u001b[0;34m,\u001b[0m \u001b[0mint\u001b[0m\u001b[0;34m)\u001b[0m \u001b[0;32mor\u001b[0m \u001b[0mbatch_size\u001b[0m \u001b[0;34m<=\u001b[0m \u001b[0;36m0\u001b[0m\u001b[0;34m:\u001b[0m\u001b[0;34m\u001b[0m\u001b[0;34m\u001b[0m\u001b[0m\n",
            "\u001b[0;32m/usr/local/lib/python3.10/dist-packages/pinecone/index.py\u001b[0m in \u001b[0;36m_upsert_batch\u001b[0;34m(self, vectors, namespace, _check_type, **kwargs)\u001b[0m\n\u001b[1;32m    235\u001b[0m             \u001b[0;32mraise\u001b[0m \u001b[0mValueError\u001b[0m\u001b[0;34m(\u001b[0m\u001b[0;34mf\"Invalid vector value passed: cannot interpret type {type(item)}\"\u001b[0m\u001b[0;34m)\u001b[0m\u001b[0;34m\u001b[0m\u001b[0;34m\u001b[0m\u001b[0m\n\u001b[1;32m    236\u001b[0m \u001b[0;34m\u001b[0m\u001b[0m\n\u001b[0;32m--> 237\u001b[0;31m         return self._vector_api.upsert(\n\u001b[0m\u001b[1;32m    238\u001b[0m             UpsertRequest(\n\u001b[1;32m    239\u001b[0m                 \u001b[0mvectors\u001b[0m\u001b[0;34m=\u001b[0m\u001b[0mlist\u001b[0m\u001b[0;34m(\u001b[0m\u001b[0mmap\u001b[0m\u001b[0;34m(\u001b[0m\u001b[0m_vector_transform\u001b[0m\u001b[0;34m,\u001b[0m \u001b[0mvectors\u001b[0m\u001b[0;34m)\u001b[0m\u001b[0;34m)\u001b[0m\u001b[0;34m,\u001b[0m\u001b[0;34m\u001b[0m\u001b[0;34m\u001b[0m\u001b[0m\n",
            "\u001b[0;32m/usr/local/lib/python3.10/dist-packages/pinecone/core/client/api_client.py\u001b[0m in \u001b[0;36m__call__\u001b[0;34m(self, *args, **kwargs)\u001b[0m\n\u001b[1;32m    774\u001b[0m \u001b[0;34m\u001b[0m\u001b[0m\n\u001b[1;32m    775\u001b[0m         \"\"\"\n\u001b[0;32m--> 776\u001b[0;31m         \u001b[0;32mreturn\u001b[0m \u001b[0mself\u001b[0m\u001b[0;34m.\u001b[0m\u001b[0mcallable\u001b[0m\u001b[0;34m(\u001b[0m\u001b[0mself\u001b[0m\u001b[0;34m,\u001b[0m \u001b[0;34m*\u001b[0m\u001b[0margs\u001b[0m\u001b[0;34m,\u001b[0m \u001b[0;34m**\u001b[0m\u001b[0mkwargs\u001b[0m\u001b[0;34m)\u001b[0m\u001b[0;34m\u001b[0m\u001b[0;34m\u001b[0m\u001b[0m\n\u001b[0m\u001b[1;32m    777\u001b[0m \u001b[0;34m\u001b[0m\u001b[0m\n\u001b[1;32m    778\u001b[0m     \u001b[0;32mdef\u001b[0m \u001b[0mcall_with_http_info\u001b[0m\u001b[0;34m(\u001b[0m\u001b[0mself\u001b[0m\u001b[0;34m,\u001b[0m \u001b[0;34m**\u001b[0m\u001b[0mkwargs\u001b[0m\u001b[0;34m)\u001b[0m\u001b[0;34m:\u001b[0m\u001b[0;34m\u001b[0m\u001b[0;34m\u001b[0m\u001b[0m\n",
            "\u001b[0;32m/usr/local/lib/python3.10/dist-packages/pinecone/core/client/api/vector_operations_api.py\u001b[0m in \u001b[0;36m__upsert\u001b[0;34m(self, upsert_request, **kwargs)\u001b[0m\n\u001b[1;32m    954\u001b[0m             \u001b[0mkwargs\u001b[0m\u001b[0;34m[\u001b[0m\u001b[0;34m'upsert_request'\u001b[0m\u001b[0;34m]\u001b[0m \u001b[0;34m=\u001b[0m\u001b[0;31m \u001b[0m\u001b[0;31m\\\u001b[0m\u001b[0;34m\u001b[0m\u001b[0;34m\u001b[0m\u001b[0m\n\u001b[1;32m    955\u001b[0m                 \u001b[0mupsert_request\u001b[0m\u001b[0;34m\u001b[0m\u001b[0;34m\u001b[0m\u001b[0m\n\u001b[0;32m--> 956\u001b[0;31m             \u001b[0;32mreturn\u001b[0m \u001b[0mself\u001b[0m\u001b[0;34m.\u001b[0m\u001b[0mcall_with_http_info\u001b[0m\u001b[0;34m(\u001b[0m\u001b[0;34m**\u001b[0m\u001b[0mkwargs\u001b[0m\u001b[0;34m)\u001b[0m\u001b[0;34m\u001b[0m\u001b[0;34m\u001b[0m\u001b[0m\n\u001b[0m\u001b[1;32m    957\u001b[0m \u001b[0;34m\u001b[0m\u001b[0m\n\u001b[1;32m    958\u001b[0m         self.upsert = _Endpoint(\n",
            "\u001b[0;32m/usr/local/lib/python3.10/dist-packages/pinecone/core/client/api_client.py\u001b[0m in \u001b[0;36mcall_with_http_info\u001b[0;34m(self, **kwargs)\u001b[0m\n\u001b[1;32m    836\u001b[0m             \u001b[0mparams\u001b[0m\u001b[0;34m[\u001b[0m\u001b[0;34m'header'\u001b[0m\u001b[0;34m]\u001b[0m\u001b[0;34m[\u001b[0m\u001b[0;34m'Content-Type'\u001b[0m\u001b[0;34m]\u001b[0m \u001b[0;34m=\u001b[0m \u001b[0mheader_list\u001b[0m\u001b[0;34m\u001b[0m\u001b[0;34m\u001b[0m\u001b[0m\n\u001b[1;32m    837\u001b[0m \u001b[0;34m\u001b[0m\u001b[0m\n\u001b[0;32m--> 838\u001b[0;31m         return self.api_client.call_api(\n\u001b[0m\u001b[1;32m    839\u001b[0m             \u001b[0mself\u001b[0m\u001b[0;34m.\u001b[0m\u001b[0msettings\u001b[0m\u001b[0;34m[\u001b[0m\u001b[0;34m'endpoint_path'\u001b[0m\u001b[0;34m]\u001b[0m\u001b[0;34m,\u001b[0m \u001b[0mself\u001b[0m\u001b[0;34m.\u001b[0m\u001b[0msettings\u001b[0m\u001b[0;34m[\u001b[0m\u001b[0;34m'http_method'\u001b[0m\u001b[0;34m]\u001b[0m\u001b[0;34m,\u001b[0m\u001b[0;34m\u001b[0m\u001b[0;34m\u001b[0m\u001b[0m\n\u001b[1;32m    840\u001b[0m             \u001b[0mparams\u001b[0m\u001b[0;34m[\u001b[0m\u001b[0;34m'path'\u001b[0m\u001b[0;34m]\u001b[0m\u001b[0;34m,\u001b[0m\u001b[0;34m\u001b[0m\u001b[0;34m\u001b[0m\u001b[0m\n",
            "\u001b[0;32m/usr/local/lib/python3.10/dist-packages/pinecone/core/client/api_client.py\u001b[0m in \u001b[0;36mcall_api\u001b[0;34m(self, resource_path, method, path_params, query_params, header_params, body, post_params, files, response_type, auth_settings, async_req, _return_http_data_only, collection_formats, _preload_content, _request_timeout, _host, _check_type)\u001b[0m\n\u001b[1;32m    411\u001b[0m         \"\"\"\n\u001b[1;32m    412\u001b[0m         \u001b[0;32mif\u001b[0m \u001b[0;32mnot\u001b[0m \u001b[0masync_req\u001b[0m\u001b[0;34m:\u001b[0m\u001b[0;34m\u001b[0m\u001b[0;34m\u001b[0m\u001b[0m\n\u001b[0;32m--> 413\u001b[0;31m             return self.__call_api(resource_path, method,\n\u001b[0m\u001b[1;32m    414\u001b[0m                                    \u001b[0mpath_params\u001b[0m\u001b[0;34m,\u001b[0m \u001b[0mquery_params\u001b[0m\u001b[0;34m,\u001b[0m \u001b[0mheader_params\u001b[0m\u001b[0;34m,\u001b[0m\u001b[0;34m\u001b[0m\u001b[0;34m\u001b[0m\u001b[0m\n\u001b[1;32m    415\u001b[0m                                    \u001b[0mbody\u001b[0m\u001b[0;34m,\u001b[0m \u001b[0mpost_params\u001b[0m\u001b[0;34m,\u001b[0m \u001b[0mfiles\u001b[0m\u001b[0;34m,\u001b[0m\u001b[0;34m\u001b[0m\u001b[0;34m\u001b[0m\u001b[0m\n",
            "\u001b[0;32m/usr/local/lib/python3.10/dist-packages/pinecone/core/client/api_client.py\u001b[0m in \u001b[0;36m__call_api\u001b[0;34m(self, resource_path, method, path_params, query_params, header_params, body, post_params, files, response_type, auth_settings, _return_http_data_only, collection_formats, _preload_content, _request_timeout, _host, _check_type)\u001b[0m\n\u001b[1;32m    205\u001b[0m         \u001b[0;32mexcept\u001b[0m \u001b[0mApiException\u001b[0m \u001b[0;32mas\u001b[0m \u001b[0me\u001b[0m\u001b[0;34m:\u001b[0m\u001b[0;34m\u001b[0m\u001b[0;34m\u001b[0m\u001b[0m\n\u001b[1;32m    206\u001b[0m             \u001b[0me\u001b[0m\u001b[0;34m.\u001b[0m\u001b[0mbody\u001b[0m \u001b[0;34m=\u001b[0m \u001b[0me\u001b[0m\u001b[0;34m.\u001b[0m\u001b[0mbody\u001b[0m\u001b[0;34m.\u001b[0m\u001b[0mdecode\u001b[0m\u001b[0;34m(\u001b[0m\u001b[0;34m'utf-8'\u001b[0m\u001b[0;34m)\u001b[0m\u001b[0;34m\u001b[0m\u001b[0;34m\u001b[0m\u001b[0m\n\u001b[0;32m--> 207\u001b[0;31m             \u001b[0;32mraise\u001b[0m \u001b[0me\u001b[0m\u001b[0;34m\u001b[0m\u001b[0;34m\u001b[0m\u001b[0m\n\u001b[0m\u001b[1;32m    208\u001b[0m \u001b[0;34m\u001b[0m\u001b[0m\n\u001b[1;32m    209\u001b[0m         \u001b[0mself\u001b[0m\u001b[0;34m.\u001b[0m\u001b[0mlast_response\u001b[0m \u001b[0;34m=\u001b[0m \u001b[0mresponse_data\u001b[0m\u001b[0;34m\u001b[0m\u001b[0;34m\u001b[0m\u001b[0m\n",
            "\u001b[0;32m/usr/local/lib/python3.10/dist-packages/pinecone/core/client/api_client.py\u001b[0m in \u001b[0;36m__call_api\u001b[0;34m(self, resource_path, method, path_params, query_params, header_params, body, post_params, files, response_type, auth_settings, _return_http_data_only, collection_formats, _preload_content, _request_timeout, _host, _check_type)\u001b[0m\n\u001b[1;32m    198\u001b[0m         \u001b[0;32mtry\u001b[0m\u001b[0;34m:\u001b[0m\u001b[0;34m\u001b[0m\u001b[0;34m\u001b[0m\u001b[0m\n\u001b[1;32m    199\u001b[0m             \u001b[0;31m# perform request and return response\u001b[0m\u001b[0;34m\u001b[0m\u001b[0;34m\u001b[0m\u001b[0m\n\u001b[0;32m--> 200\u001b[0;31m             response_data = self.request(\n\u001b[0m\u001b[1;32m    201\u001b[0m                 \u001b[0mmethod\u001b[0m\u001b[0;34m,\u001b[0m \u001b[0murl\u001b[0m\u001b[0;34m,\u001b[0m \u001b[0mquery_params\u001b[0m\u001b[0;34m=\u001b[0m\u001b[0mquery_params\u001b[0m\u001b[0;34m,\u001b[0m \u001b[0mheaders\u001b[0m\u001b[0;34m=\u001b[0m\u001b[0mheader_params\u001b[0m\u001b[0;34m,\u001b[0m\u001b[0;34m\u001b[0m\u001b[0;34m\u001b[0m\u001b[0m\n\u001b[1;32m    202\u001b[0m                 \u001b[0mpost_params\u001b[0m\u001b[0;34m=\u001b[0m\u001b[0mpost_params\u001b[0m\u001b[0;34m,\u001b[0m \u001b[0mbody\u001b[0m\u001b[0;34m=\u001b[0m\u001b[0mbody\u001b[0m\u001b[0;34m,\u001b[0m\u001b[0;34m\u001b[0m\u001b[0;34m\u001b[0m\u001b[0m\n",
            "\u001b[0;32m/usr/local/lib/python3.10/dist-packages/pinecone/core/client/api_client.py\u001b[0m in \u001b[0;36mrequest\u001b[0;34m(self, method, url, query_params, headers, post_params, body, _preload_content, _request_timeout)\u001b[0m\n\u001b[1;32m    457\u001b[0m                                             body=body)\n\u001b[1;32m    458\u001b[0m         \u001b[0;32melif\u001b[0m \u001b[0mmethod\u001b[0m \u001b[0;34m==\u001b[0m \u001b[0;34m\"POST\"\u001b[0m\u001b[0;34m:\u001b[0m\u001b[0;34m\u001b[0m\u001b[0;34m\u001b[0m\u001b[0m\n\u001b[0;32m--> 459\u001b[0;31m             return self.rest_client.POST(url,\n\u001b[0m\u001b[1;32m    460\u001b[0m                                          \u001b[0mquery_params\u001b[0m\u001b[0;34m=\u001b[0m\u001b[0mquery_params\u001b[0m\u001b[0;34m,\u001b[0m\u001b[0;34m\u001b[0m\u001b[0;34m\u001b[0m\u001b[0m\n\u001b[1;32m    461\u001b[0m                                          \u001b[0mheaders\u001b[0m\u001b[0;34m=\u001b[0m\u001b[0mheaders\u001b[0m\u001b[0;34m,\u001b[0m\u001b[0;34m\u001b[0m\u001b[0;34m\u001b[0m\u001b[0m\n",
            "\u001b[0;32m/usr/local/lib/python3.10/dist-packages/pinecone/core/client/rest.py\u001b[0m in \u001b[0;36mPOST\u001b[0;34m(self, url, headers, query_params, post_params, body, _preload_content, _request_timeout)\u001b[0m\n\u001b[1;32m    269\u001b[0m     def POST(self, url, headers=None, query_params=None, post_params=None,\n\u001b[1;32m    270\u001b[0m              body=None, _preload_content=True, _request_timeout=None):\n\u001b[0;32m--> 271\u001b[0;31m         return self.request(\"POST\", url,\n\u001b[0m\u001b[1;32m    272\u001b[0m                             \u001b[0mheaders\u001b[0m\u001b[0;34m=\u001b[0m\u001b[0mheaders\u001b[0m\u001b[0;34m,\u001b[0m\u001b[0;34m\u001b[0m\u001b[0;34m\u001b[0m\u001b[0m\n\u001b[1;32m    273\u001b[0m                             \u001b[0mquery_params\u001b[0m\u001b[0;34m=\u001b[0m\u001b[0mquery_params\u001b[0m\u001b[0;34m,\u001b[0m\u001b[0;34m\u001b[0m\u001b[0;34m\u001b[0m\u001b[0m\n",
            "\u001b[0;32m/usr/local/lib/python3.10/dist-packages/pinecone/core/client/rest.py\u001b[0m in \u001b[0;36mrequest\u001b[0;34m(self, method, url, query_params, headers, body, post_params, _preload_content, _request_timeout)\u001b[0m\n\u001b[1;32m    228\u001b[0m                 \u001b[0;32mraise\u001b[0m \u001b[0mServiceException\u001b[0m\u001b[0;34m(\u001b[0m\u001b[0mhttp_resp\u001b[0m\u001b[0;34m=\u001b[0m\u001b[0mr\u001b[0m\u001b[0;34m)\u001b[0m\u001b[0;34m\u001b[0m\u001b[0;34m\u001b[0m\u001b[0m\n\u001b[1;32m    229\u001b[0m \u001b[0;34m\u001b[0m\u001b[0m\n\u001b[0;32m--> 230\u001b[0;31m             \u001b[0;32mraise\u001b[0m \u001b[0mApiException\u001b[0m\u001b[0;34m(\u001b[0m\u001b[0mhttp_resp\u001b[0m\u001b[0;34m=\u001b[0m\u001b[0mr\u001b[0m\u001b[0;34m)\u001b[0m\u001b[0;34m\u001b[0m\u001b[0;34m\u001b[0m\u001b[0m\n\u001b[0m\u001b[1;32m    231\u001b[0m \u001b[0;34m\u001b[0m\u001b[0m\n\u001b[1;32m    232\u001b[0m         \u001b[0;32mreturn\u001b[0m \u001b[0mr\u001b[0m\u001b[0;34m\u001b[0m\u001b[0;34m\u001b[0m\u001b[0m\n",
            "\u001b[0;31mApiException\u001b[0m: (400)\nReason: Bad Request\nHTTP response headers: HTTPHeaderDict({'content-type': 'application/json', 'Content-Length': '133', 'x-pinecone-request-latency-ms': '68', 'date': 'Mon, 18 Dec 2023 21:45:57 GMT', 'x-envoy-upstream-service-time': '47', 'server': 'envoy', 'Via': '1.1 google', 'Alt-Svc': 'h3=\":443\"; ma=2592000,h3-29=\":443\"; ma=2592000'})\nHTTP response body: {\"code\":9,\"message\":\"Starter index record limit reached. Current number: 100672, records in request: 64, limit: 100000\",\"details\":[]}\n"
          ]
        }
      ]
    },
    {
      "cell_type": "code",
      "source": [
        "vectorstore.similarity_search(\" i have heart problems\",k=3)"
      ],
      "metadata": {
        "colab": {
          "base_uri": "https://localhost:8080/"
        },
        "id": "tzCVZDep8Awz",
        "outputId": "6278be8e-5bf0-4183-f726-2bc7dc2e854a"
      },
      "execution_count": null,
      "outputs": [
        {
          "output_type": "execute_result",
          "data": {
            "text/plain": [
              "[Document(page_content='the condition in which the heart muscle is damaged or impaired following exposure to a medication, chemotherapy, radiotherapy, or other substances, resulting in various types and severity of heart problems.', metadata={'title': '\"cardiotoxicity\"'}),\n",
              " Document(page_content='a type of long-term heart disease caused by insufficient blood supply to the heart muscle due to narrowed or blocked coronary arteries. It is typically associated with chest pain or discomfort, shortness of breath, and fatigue.', metadata={'title': '\"chronic ischemic heart disease\"'}),\n",
              " Document(page_content='an irregular or disrupted blood flow within the heart or the blood vessels surrounding it. This condition can be caused by a variety of factors, including congenital heart defects, valvular diseases, or damage to the heart muscle due to heart attack or other conditions. Symptoms can include shortness of breath, chest pain, and fatigue, and diagnosis requires a detailed medical evaluation, including imaging tests such as echocardiography. Treatment depends on the underlying cause of the abnormal flow and may involve medication, lifestyle changes, or surg', metadata={'title': '\"abnormal cardiac flow\"'})]"
            ]
          },
          "metadata": {},
          "execution_count": 48
        }
      ]
    },
    {
      "cell_type": "code",
      "source": [
        "os.environ[\"INDEX_NAME\"]=index_name"
      ],
      "metadata": {
        "id": "uh6MryRs502f"
      },
      "execution_count": null,
      "outputs": []
    },
    {
      "cell_type": "code",
      "source": [
        "!canopy start"
      ],
      "metadata": {
        "id": "XQ298YhD6MeU"
      },
      "execution_count": null,
      "outputs": []
    },
    {
      "cell_type": "code",
      "source": [
        "!canopy chat --no-rag"
      ],
      "metadata": {
        "id": "iRKs2x1x5pIV"
      },
      "execution_count": null,
      "outputs": []
    },
    {
      "cell_type": "markdown",
      "source": [
        "## ASTRA DB\n",
        "**Not implemented yet**"
      ],
      "metadata": {
        "id": "YqeyhSXUc17P"
      }
    },
    {
      "cell_type": "code",
      "source": [
        "ASTRA_DB_SECURE_BUNDLE_PATH = '/content/secure-connect-medical-mind.zip'\n",
        "ASTRA_DB_APPLICATION_TOKEN = 'AstraCS:MNcZQbxcSwDQdpkIZJChtRZd:7c0762af8ed58b215d1f44da9934f4120e087a6e547b9824214b026fcb4a8ec6'\n",
        "ASTRA_DB_CLIENT_ID = 'MNcZQbxcSwDQdpkIZJChtRZd'\n",
        "ASTRA_DB_CLIENT_SECRET = 'xK9tKc3n7e1v1efWChZ+G8Q3FIvOGJOzdvcznmFUScM3sk,P6ounqiFECnHdTc4g3GdYS1c6Lb2ujK5wkRHgUw0SyjeMvjBc77afve8ql1Nsz.W4onZmBICa70EM0,Sy'\n",
        "ASTRA_DB_KEYSPACE = 'search'"
      ],
      "metadata": {
        "id": "h8ExlqQ3ndI0"
      },
      "execution_count": null,
      "outputs": []
    },
    {
      "cell_type": "code",
      "source": [
        "!pip install cassio datasets"
      ],
      "metadata": {
        "colab": {
          "base_uri": "https://localhost:8080/"
        },
        "id": "TYsCrWgEoUVU",
        "outputId": "3114ed6e-5412-4cb0-add9-659bd3693807"
      },
      "execution_count": null,
      "outputs": [
        {
          "output_type": "stream",
          "name": "stdout",
          "text": [
            "Collecting cassio\n",
            "  Downloading cassio-0.1.3-py3-none-any.whl (40 kB)\n",
            "\u001b[2K     \u001b[90m━━━━━━━━━━━━━━━━━━━━━━━━━━━━━━━━━━━━━━━━\u001b[0m \u001b[32m40.1/40.1 kB\u001b[0m \u001b[31m1.1 MB/s\u001b[0m eta \u001b[36m0:00:00\u001b[0m\n",
            "\u001b[?25hCollecting datasets\n",
            "  Downloading datasets-2.15.0-py3-none-any.whl (521 kB)\n",
            "\u001b[2K     \u001b[90m━━━━━━━━━━━━━━━━━━━━━━━━━━━━━━━━━━━━━━━━\u001b[0m \u001b[32m521.2/521.2 kB\u001b[0m \u001b[31m10.7 MB/s\u001b[0m eta \u001b[36m0:00:00\u001b[0m\n",
            "\u001b[?25hCollecting cassandra-driver>=3.28.0 (from cassio)\n",
            "  Downloading cassandra_driver-3.28.0-cp310-cp310-manylinux_2_17_x86_64.manylinux2014_x86_64.whl (19.1 MB)\n",
            "\u001b[2K     \u001b[90m━━━━━━━━━━━━━━━━━━━━━━━━━━━━━━━━━━━━━━━━\u001b[0m \u001b[32m19.1/19.1 MB\u001b[0m \u001b[31m71.2 MB/s\u001b[0m eta \u001b[36m0:00:00\u001b[0m\n",
            "\u001b[?25hRequirement already satisfied: numpy>=1.0 in /usr/local/lib/python3.10/dist-packages (from cassio) (1.23.5)\n",
            "Requirement already satisfied: requests>=2 in /usr/local/lib/python3.10/dist-packages (from cassio) (2.31.0)\n",
            "Requirement already satisfied: pyarrow>=8.0.0 in /usr/local/lib/python3.10/dist-packages (from datasets) (10.0.1)\n",
            "Collecting pyarrow-hotfix (from datasets)\n",
            "  Downloading pyarrow_hotfix-0.6-py3-none-any.whl (7.9 kB)\n",
            "Collecting dill<0.3.8,>=0.3.0 (from datasets)\n",
            "  Downloading dill-0.3.7-py3-none-any.whl (115 kB)\n",
            "\u001b[2K     \u001b[90m━━━━━━━━━━━━━━━━━━━━━━━━━━━━━━━━━━━━━━━━\u001b[0m \u001b[32m115.3/115.3 kB\u001b[0m \u001b[31m15.8 MB/s\u001b[0m eta \u001b[36m0:00:00\u001b[0m\n",
            "\u001b[?25hRequirement already satisfied: pandas in /usr/local/lib/python3.10/dist-packages (from datasets) (1.5.3)\n",
            "Requirement already satisfied: tqdm>=4.62.1 in /usr/local/lib/python3.10/dist-packages (from datasets) (4.66.1)\n",
            "Requirement already satisfied: xxhash in /usr/local/lib/python3.10/dist-packages (from datasets) (3.4.1)\n",
            "Collecting multiprocess (from datasets)\n",
            "  Downloading multiprocess-0.70.15-py310-none-any.whl (134 kB)\n",
            "\u001b[2K     \u001b[90m━━━━━━━━━━━━━━━━━━━━━━━━━━━━━━━━━━━━━━━━\u001b[0m \u001b[32m134.8/134.8 kB\u001b[0m \u001b[31m18.3 MB/s\u001b[0m eta \u001b[36m0:00:00\u001b[0m\n",
            "\u001b[?25hRequirement already satisfied: fsspec[http]<=2023.10.0,>=2023.1.0 in /usr/local/lib/python3.10/dist-packages (from datasets) (2023.6.0)\n",
            "Requirement already satisfied: aiohttp in /usr/local/lib/python3.10/dist-packages (from datasets) (3.9.1)\n",
            "Requirement already satisfied: huggingface-hub>=0.18.0 in /usr/local/lib/python3.10/dist-packages (from datasets) (0.19.4)\n",
            "Requirement already satisfied: packaging in /usr/local/lib/python3.10/dist-packages (from datasets) (23.2)\n",
            "Requirement already satisfied: pyyaml>=5.1 in /usr/local/lib/python3.10/dist-packages (from datasets) (6.0.1)\n",
            "Requirement already satisfied: six>=1.9 in /usr/local/lib/python3.10/dist-packages (from cassandra-driver>=3.28.0->cassio) (1.16.0)\n",
            "Collecting geomet<0.3,>=0.1 (from cassandra-driver>=3.28.0->cassio)\n",
            "  Downloading geomet-0.2.1.post1-py3-none-any.whl (18 kB)\n",
            "Requirement already satisfied: attrs>=17.3.0 in /usr/local/lib/python3.10/dist-packages (from aiohttp->datasets) (23.1.0)\n",
            "Requirement already satisfied: multidict<7.0,>=4.5 in /usr/local/lib/python3.10/dist-packages (from aiohttp->datasets) (6.0.4)\n",
            "Requirement already satisfied: yarl<2.0,>=1.0 in /usr/local/lib/python3.10/dist-packages (from aiohttp->datasets) (1.9.3)\n",
            "Requirement already satisfied: frozenlist>=1.1.1 in /usr/local/lib/python3.10/dist-packages (from aiohttp->datasets) (1.4.0)\n",
            "Requirement already satisfied: aiosignal>=1.1.2 in /usr/local/lib/python3.10/dist-packages (from aiohttp->datasets) (1.3.1)\n",
            "Requirement already satisfied: async-timeout<5.0,>=4.0 in /usr/local/lib/python3.10/dist-packages (from aiohttp->datasets) (4.0.3)\n",
            "Requirement already satisfied: filelock in /usr/local/lib/python3.10/dist-packages (from huggingface-hub>=0.18.0->datasets) (3.13.1)\n",
            "Requirement already satisfied: typing-extensions>=3.7.4.3 in /usr/local/lib/python3.10/dist-packages (from huggingface-hub>=0.18.0->datasets) (4.5.0)\n",
            "Requirement already satisfied: charset-normalizer<4,>=2 in /usr/local/lib/python3.10/dist-packages (from requests>=2->cassio) (3.3.2)\n",
            "Requirement already satisfied: idna<4,>=2.5 in /usr/local/lib/python3.10/dist-packages (from requests>=2->cassio) (3.6)\n",
            "Requirement already satisfied: urllib3<3,>=1.21.1 in /usr/local/lib/python3.10/dist-packages (from requests>=2->cassio) (2.0.7)\n",
            "Requirement already satisfied: certifi>=2017.4.17 in /usr/local/lib/python3.10/dist-packages (from requests>=2->cassio) (2023.11.17)\n",
            "Requirement already satisfied: python-dateutil>=2.8.1 in /usr/local/lib/python3.10/dist-packages (from pandas->datasets) (2.8.2)\n",
            "Requirement already satisfied: pytz>=2020.1 in /usr/local/lib/python3.10/dist-packages (from pandas->datasets) (2023.3.post1)\n",
            "Requirement already satisfied: click in /usr/local/lib/python3.10/dist-packages (from geomet<0.3,>=0.1->cassandra-driver>=3.28.0->cassio) (8.1.7)\n",
            "Installing collected packages: pyarrow-hotfix, geomet, dill, multiprocess, cassandra-driver, cassio, datasets\n",
            "Successfully installed cassandra-driver-3.28.0 cassio-0.1.3 datasets-2.15.0 dill-0.3.7 geomet-0.2.1.post1 multiprocess-0.70.15 pyarrow-hotfix-0.6\n"
          ]
        }
      ]
    },
    {
      "cell_type": "code",
      "source": [
        "from langchain.vectorstores.cassandra import Cassandra\n",
        "from langchain.indexes.vectorstore import VectorStoreIndexWrapper\n",
        "from langchain.embeddings.openai import OpenAIEmbeddings\n",
        "\n",
        "from cassandra.cluster import Cluster\n",
        "from cassandra.auth import PlainTextAuthProvider\n",
        "from datasets import load_dataset"
      ],
      "metadata": {
        "id": "PDS7kT_npwmm"
      },
      "execution_count": null,
      "outputs": []
    },
    {
      "cell_type": "markdown",
      "source": [
        "--------------------------------------------------------------------------------"
      ],
      "metadata": {
        "id": "GV9mcborcwV0"
      }
    },
    {
      "cell_type": "markdown",
      "source": [
        "# 1. DB Agent\n",
        "Trying out first agent"
      ],
      "metadata": {
        "id": "Edrw_Act0Eiu"
      }
    },
    {
      "cell_type": "code",
      "source": [
        "from langchain.agents import AgentType, create_sql_agent\n",
        "from langchain.agents.agent_toolkits import SQLDatabaseToolkit\n",
        "from langchain.utilities import SQLDatabase"
      ],
      "metadata": {
        "id": "LNAQj5GV2OV_"
      },
      "execution_count": null,
      "outputs": []
    },
    {
      "cell_type": "code",
      "source": [
        "db = SQLDatabase(engine)"
      ],
      "metadata": {
        "id": "6lYtTOJPIWt6"
      },
      "execution_count": null,
      "outputs": []
    },
    {
      "cell_type": "code",
      "source": [
        "from langchain.memory import ConversationSummaryBufferMemory\n",
        "\n",
        "memory = ConversationSummaryBufferMemory(memory_key=\"chat_history\",llm=llm)\n",
        "toolkit = SQLDatabaseToolkit(db=db, llm=llm)"
      ],
      "metadata": {
        "id": "sAStZ4483IKp"
      },
      "execution_count": null,
      "outputs": []
    },
    {
      "cell_type": "code",
      "source": [
        "!pip install faiss-cpu"
      ],
      "metadata": {
        "colab": {
          "base_uri": "https://localhost:8080/"
        },
        "id": "WrksD4h4vGFN",
        "outputId": "32c38f95-22dd-4bbe-a54b-599503180570"
      },
      "execution_count": null,
      "outputs": [
        {
          "output_type": "stream",
          "name": "stdout",
          "text": [
            "Collecting faiss-cpu\n",
            "  Downloading faiss_cpu-1.7.4-cp310-cp310-manylinux_2_17_x86_64.manylinux2014_x86_64.whl (17.6 MB)\n",
            "\u001b[2K     \u001b[90m━━━━━━━━━━━━━━━━━━━━━━━━━━━━━━━━━━━━━━━━\u001b[0m \u001b[32m17.6/17.6 MB\u001b[0m \u001b[31m50.2 MB/s\u001b[0m eta \u001b[36m0:00:00\u001b[0m\n",
            "\u001b[?25hInstalling collected packages: faiss-cpu\n",
            "Successfully installed faiss-cpu-1.7.4\n"
          ]
        }
      ]
    },
    {
      "cell_type": "code",
      "source": [
        "from langchain.embeddings.openai import OpenAIEmbeddings\n",
        "from langchain.schema import Document\n",
        "from langchain.vectorstores import FAISS # Facebook AI Similarity Search\n",
        "\n",
        "embeddings = OpenAIEmbeddings(\n",
        "    openai_api_key=OPENAI_API_KEY\n",
        ")# ada-002\n",
        "docs = [\n",
        "    Document(\n",
        "      page_content=title,\n",
        "      metadata = {\"refers_to\": context}\n",
        "    ) for title, context in zip(AGCT['title'][:50], AGCT['context'][:50])\n",
        "]\n",
        "vector_db = FAISS.from_documents(docs, embeddings)\n",
        "retriever = vector_db.as_retriever()"
      ],
      "metadata": {
        "id": "Y2GDSKKVeXFE"
      },
      "execution_count": null,
      "outputs": []
    },
    {
      "cell_type": "code",
      "source": [
        "from langchain.agents.agent_toolkits import create_retriever_tool\n",
        "\n",
        "tool_description = \"\"\"\n",
        "Use it to give second opinion and diagnosis.\n",
        "Input to this tool should be the user question.\n",
        "\"\"\"\n",
        "retriever_tool = create_retriever_tool(\n",
        "    retriever, name=\"biomedical_similar_examples\", description=tool_description\n",
        ")\n",
        "custom_tool_list = [retriever_tool]"
      ],
      "metadata": {
        "id": "CADWDRsBdoU_"
      },
      "execution_count": null,
      "outputs": []
    },
    {
      "cell_type": "code",
      "source": [
        "custom_suffix = \"\"\"\n",
        "I always direct to the most suitable specialist and also give a second opinion\n",
        "and diagnosis.\n",
        "If the username is given I should get medical records from the database.\n",
        "I should then get the similar examples I know.\n",
        "\"\"\"\n",
        "\n",
        "agent = create_sql_agent(\n",
        "    llm=llm,\n",
        "    toolkit=toolkit,\n",
        "    verbose=True,\n",
        "    agent_type=AgentType.OPENAI_FUNCTIONS, # CHAT_CONVERSATIONAL_REACT_DESCRIPTION not supported so no memory\n",
        "    extra_tools=custom_tool_list,\n",
        "    suffix=custom_suffix,\n",
        ")"
      ],
      "metadata": {
        "id": "lOmbJb2k2VHE"
      },
      "execution_count": null,
      "outputs": []
    },
    {
      "cell_type": "code",
      "source": [
        "agent.run(\n",
        "    \"I am Bob123 I am feeling chest pain\"\n",
        ")"
      ],
      "metadata": {
        "colab": {
          "base_uri": "https://localhost:8080/",
          "height": 1000
        },
        "id": "ChZrP3AfD_JA",
        "outputId": "ad515133-bf87-46d5-97bc-f746533014cd"
      },
      "execution_count": null,
      "outputs": [
        {
          "output_type": "stream",
          "name": "stdout",
          "text": [
            "\n",
            "\n",
            "\u001b[1m> Entering new AgentExecutor chain...\u001b[0m\n",
            "\u001b[32;1m\u001b[1;3m\n",
            "Invoking: `sql_db_schema` with `medical_records`\n",
            "\n",
            "\n",
            "\u001b[0m\u001b[33;1m\u001b[1;3mError: table_names {'medical_records'} not found in database\u001b[0m\u001b[32;1m\u001b[1;3m\n",
            "Invoking: `sql_db_list_tables` with ``\n",
            "\n",
            "\n",
            "\u001b[0m\u001b[38;5;200m\u001b[1;3mmedicalRecords, patientInfo\u001b[0m\u001b[32;1m\u001b[1;3m\n",
            "Invoking: `sql_db_schema` with `medicalRecords, patientInfo`\n",
            "\n",
            "\n",
            "\u001b[0m\u001b[33;1m\u001b[1;3m\n",
            "CREATE TABLE \"medicalRecords\" (\n",
            "\tusername INTEGER NOT NULL, \n",
            "\t\"diagnosisText\" TEXT, \n",
            "\t\"diagnosisDate\" DATE, \n",
            "\tFOREIGN KEY(username) REFERENCES \"patientInfo\" (username)\n",
            ")\n",
            "\n",
            "/*\n",
            "3 rows from medicalRecords table:\n",
            "username\tdiagnosisText\tdiagnosisDate\n",
            "Bob123\tHeart condition diagnosed\t2023-12-01\n",
            "*/\n",
            "\n",
            "\n",
            "CREATE TABLE \"patientInfo\" (\n",
            "\tusername VARCHAR(255) NOT NULL, \n",
            "\tPRIMARY KEY (username)\n",
            ")\n",
            "\n",
            "/*\n",
            "3 rows from patientInfo table:\n",
            "username\n",
            "Bob123\n",
            "*/\u001b[0m\u001b[32;1m\u001b[1;3m\n",
            "Invoking: `sql_db_query` with `SELECT diagnosisText, diagnosisDate FROM medicalRecords WHERE username = 'Bob123' ORDER BY diagnosisDate DESC LIMIT 10`\n",
            "\n",
            "\n",
            "\u001b[0m\u001b[36;1m\u001b[1;3m[('Heart condition diagnosed', '2023-12-01')]\u001b[0m\u001b[32;1m\u001b[1;3m\n",
            "Invoking: `biomedical_similar_examples` with `{'query': 'chesst pain'}`\n",
            "\n",
            "\n",
            "\u001b[0m\u001b[33;1m\u001b[1;3m[Document(page_content='\"difficulty balancing when bending\"', metadata={'refers_to': 'an impairment or disorder of the ability to balance when bending, related to the nervous system function. This finding is characterized by an increased difficulty in maintaining balance when bending the body.'}), Document(page_content='\"late effect of injury to blood vessels of thorax, abdomen AND/OR pelvis\"', metadata={'refers_to': 'the long-term consequences that occur due to a previous injury to the blood vessels in the chest, abdomen, or pelvis. It is classified as a traumatic abnormality that manifests after a traumatic injury, causing damage to the affected blood vessels.'}), Document(page_content='\"helminth\"', metadata={'refers_to': 'a type of parasite that is an invertebrate. Helminths can infect humans and animals, and some examples include tapeworms, flukes, and roundworms.'}), Document(page_content='\"abdominal tenderness absent\"', metadata={'refers_to': 'a clinical finding of the absence of pain or discomfort when pressing on the abdomen. This finding is typically ascertained during a physical exam, and may be indicative of the absence of an acute or chronic condition involving the abdominopelvic structures.'})]\u001b[0m\u001b[32;1m\u001b[1;3mBased on your medical records, you were diagnosed with a heart condition on 2023-12-01. Given your current complaint of chest pain, it's important that you seek immediate medical attention. Chest pain can be a symptom of serious conditions such as heart disease. \n",
            "\n",
            "In terms of similar symptoms, some examples include difficulty balancing when bending, late effect of injury to blood vessels of thorax, abdomen and/or pelvis, and abdominal tenderness. However, these are just examples and may not be directly related to your condition. Please consult with a healthcare professional for an accurate diagnosis.\u001b[0m\n",
            "\n",
            "\u001b[1m> Finished chain.\u001b[0m\n"
          ]
        },
        {
          "output_type": "execute_result",
          "data": {
            "text/plain": [
              "\"Based on your medical records, you were diagnosed with a heart condition on 2023-12-01. Given your current complaint of chest pain, it's important that you seek immediate medical attention. Chest pain can be a symptom of serious conditions such as heart disease. \\n\\nIn terms of similar symptoms, some examples include difficulty balancing when bending, late effect of injury to blood vessels of thorax, abdomen and/or pelvis, and abdominal tenderness. However, these are just examples and may not be directly related to your condition. Please consult with a healthcare professional for an accurate diagnosis.\""
            ],
            "application/vnd.google.colaboratory.intrinsic+json": {
              "type": "string"
            }
          },
          "metadata": {},
          "execution_count": 51
        }
      ]
    },
    {
      "cell_type": "code",
      "source": [
        "print(agent.agent.prompt)"
      ],
      "metadata": {
        "id": "Tjgi3zdRU6bS",
        "colab": {
          "base_uri": "https://localhost:8080/"
        },
        "outputId": "c4010923-d021-4b99-8d32-48952c25b8b4"
      },
      "execution_count": null,
      "outputs": [
        {
          "output_type": "stream",
          "name": "stdout",
          "text": [
            "input_variables=['agent_scratchpad', 'input'] input_types={'agent_scratchpad': typing.List[typing.Union[langchain_core.messages.ai.AIMessage, langchain_core.messages.human.HumanMessage, langchain_core.messages.chat.ChatMessage, langchain_core.messages.system.SystemMessage, langchain_core.messages.function.FunctionMessage, langchain_core.messages.tool.ToolMessage]]} messages=[SystemMessage(content='You are an agent designed to interact with a SQL database.\\nGiven an input question, create a syntactically correct sqlite query to run, then look at the results of the query and return the answer.\\nUnless the user specifies a specific number of examples they wish to obtain, always limit your query to at most 10 results.\\nYou can order the results by a relevant column to return the most interesting examples in the database.\\nNever query for all the columns from a specific table, only ask for the relevant columns given the question.\\nYou have access to tools for interacting with the database.\\nOnly use the below tools. Only use the information returned by the below tools to construct your final answer.\\nYou MUST double check your query before executing it. If you get an error while executing a query, rewrite the query and try again.\\n\\nDO NOT make any DML statements (INSERT, UPDATE, DELETE, DROP etc.) to the database.\\n\\nIf the question does not seem related to the database, just return \"I don\\'t know\" as the answer.\\n'), HumanMessagePromptTemplate(prompt=PromptTemplate(input_variables=['input'], template='{input}')), AIMessage(content='\\nIf the username is given I should get medical records from the database.\\nI should then get the similar examples I know.\\nLastly I direct to the most suitable specialist and also give a second opinion\\nand diagnosis.\\n'), MessagesPlaceholder(variable_name='agent_scratchpad')]\n"
          ]
        }
      ]
    },
    {
      "cell_type": "code",
      "source": [
        "from langchain.schema import (\n",
        "    SystemMessage,\n",
        "    HumanMessage,\n",
        "    AIMessage\n",
        ")"
      ],
      "metadata": {
        "id": "XEmonJzQbdQS"
      },
      "execution_count": null,
      "outputs": []
    },
    {
      "cell_type": "markdown",
      "source": [
        "________________________________________________________________________"
      ],
      "metadata": {
        "id": "QAIfKc08Ftek"
      }
    },
    {
      "cell_type": "markdown",
      "source": [
        "# 2. React agent\n",
        "Can be improved not following all instructions"
      ],
      "metadata": {
        "id": "GWgntSsl07VM"
      }
    },
    {
      "cell_type": "code",
      "source": [
        "\n",
        "medical_mind = initialize_agent(\n",
        "    agent = AgentType.CHAT_CONVERSATIONAL_REACT_DESCRIPTION,\n",
        "    tools = tools,\n",
        "    llm=llm,\n",
        "    verbose=True,\n",
        "    early_stopping_method = 'generate',\n",
        "    memory = memory,\n",
        "    prefix = custom_prefix,\n",
        "    suffix = custom_suffix\n",
        ")"
      ],
      "metadata": {
        "id": "kO_HpnTozMov"
      },
      "execution_count": null,
      "outputs": []
    },
    {
      "cell_type": "code",
      "source": [
        "medical_mind(\"I am not feeling very well i am feeling tightness in my chest\")"
      ],
      "metadata": {
        "colab": {
          "base_uri": "https://localhost:8080/",
          "height": 437
        },
        "id": "eS77ltKBGN0b",
        "outputId": "16f33884-093d-42f9-e76d-859f130a33a1"
      },
      "execution_count": null,
      "outputs": [
        {
          "output_type": "stream",
          "name": "stdout",
          "text": [
            "\n",
            "\n",
            "\u001b[1m> Entering new AgentExecutor chain...\u001b[0m\n",
            "\u001b[32;1m\u001b[1;3m```json\n",
            "{\n",
            "    \"action\": \"biomedical_similar_examples\",\n",
            "    \"action_input\": \"Patient is not feeling well and is experiencing tightness in the chest.\"\n",
            "}\n",
            "```\u001b[0m\n",
            "Observation: \u001b[38;5;200m\u001b[1;3m[Document(page_content='a sensation of discomfort or pain in the chest, often described as pressure or tightness. It may be caused by a variety of underlying conditions, including but not limited to cardiovascular or respiratory diseases, gastrointestinal disorders, or musculoskeletal issues. Chest discomfort may require further evaluation by a healthcare provider to determine the underlying cause and appropriate treatment.', metadata={'title': '\"chest discomfort\"'}), Document(page_content='a symptom characterized by a feeling of fullness, tightness, or discomfort in the chest. It can be associated with various medical conditions affecting the cardiovascular, respiratory, or gastrointestinal systems, such as angina, myocardial infarction, pulmonary embolism, or gastroesophageal reflux. It is generally considered a warning sign of potential serious health problems and requires prompt medical attention.', metadata={'title': '\"[D]chest pressure\"'}), Document(page_content='a sensory experience characterized by a feeling of tightness or pressure that is often described as if something is tightly wrapped around a body part or the chest. This quality of sensation can be associated with various medical conditions such as anxiety, asthma, angina, or chest pain.', metadata={'title': '\"constricting sensation quality\"'}), Document(page_content='a pattern of pain that is characterized by a sensation of tightness, constriction or pressure around a certain area of the body. This type of pain is often described as a deep, heavy, or intense pressure that can be felt in the chest, abdomen, or extremities.  It can be associated with various medical conditions, including ischemic heart disease, angina, myocardial infarction, and gastrointestinal disorders.', metadata={'title': '\"squeezing pain\"'})]\u001b[0m\n",
            "Thought:\u001b[32;1m\u001b[1;3m```json\n",
            "{\n",
            "    \"action\": \"Final Answer\",\n",
            "    \"action_input\": \"The tightness in your chest could be due to a variety of conditions. It could be related to cardiovascular issues like angina or myocardial infarction, respiratory conditions, gastrointestinal disorders, or even anxiety. This symptom is generally considered a warning sign of potential serious health problems and requires prompt medical attention. Please seek immediate medical care.\"\n",
            "}\n",
            "```\u001b[0m\n",
            "\n",
            "\u001b[1m> Finished chain.\u001b[0m\n"
          ]
        },
        {
          "output_type": "execute_result",
          "data": {
            "text/plain": [
              "'The tightness in your chest could be due to a variety of conditions. It could be related to cardiovascular issues like angina or myocardial infarction, respiratory conditions, gastrointestinal disorders, or even anxiety. This symptom is generally considered a warning sign of potential serious health problems and requires prompt medical attention. Please seek immediate medical care.'"
            ],
            "application/vnd.google.colaboratory.intrinsic+json": {
              "type": "string"
            }
          },
          "metadata": {},
          "execution_count": 43
        }
      ]
    },
    {
      "cell_type": "code",
      "source": [
        "medical_mind(\"Which type of doctor should i visit\")"
      ],
      "metadata": {
        "colab": {
          "base_uri": "https://localhost:8080/"
        },
        "id": "-ZIwccEBVXqr",
        "outputId": "9b454282-6f63-4624-ba29-ff5784313d2a"
      },
      "execution_count": null,
      "outputs": [
        {
          "output_type": "stream",
          "name": "stdout",
          "text": [
            "\n",
            "\n",
            "\u001b[1m> Entering new AgentExecutor chain...\u001b[0m\n",
            "\u001b[32;1m\u001b[1;3m```json\n",
            "{\n",
            "    \"action\": \"Final Answer\",\n",
            "    \"action_input\": \"Given your symptoms of chest tightness, it would be appropriate to seek immediate medical attention. Ideally, you should go to an emergency department. If that's not possible, you should contact a healthcare professional who can evaluate your condition urgently. This could be a general practitioner or an internist, but they may refer you to a cardiologist given the nature of your symptoms.\"\n",
            "}\n",
            "```\u001b[0m\n",
            "\n",
            "\u001b[1m> Finished chain.\u001b[0m\n"
          ]
        },
        {
          "output_type": "execute_result",
          "data": {
            "text/plain": [
              "{'input': 'Which type of doctor should i visit',\n",
              " 'chat_history': [HumanMessage(content='I am not feeling very well i am feeling tightness in my chest'),\n",
              "  AIMessage(content=\"The sensation of discomfort or pain in your chest, often described as pressure or tightness, can be caused by a variety of underlying conditions. Given your previous diagnosis of a heart condition, it's particularly important to take this symptom seriously. It could be related to cardiovascular issues such as angina or myocardial infarction. However, it could also be related to other systems, such as respiratory or gastrointestinal disorders. This symptom generally requires prompt medical attention. Please seek immediate medical care.\"),\n",
              "  HumanMessage(content='Which type of doctor should i visit'),\n",
              "  AIMessage(content=\"Given your symptoms of chest tightness, it would be appropriate to seek immediate medical attention. Ideally, you should go to an emergency department. If that's not possible, you should contact a healthcare professional who can evaluate your condition urgently. This could be a general practitioner or an internist, but they may refer you to a cardiologist given the nature of your symptoms.\")],\n",
              " 'output': \"Given your symptoms of chest tightness, it would be appropriate to seek immediate medical attention. Ideally, you should go to an emergency department. If that's not possible, you should contact a healthcare professional who can evaluate your condition urgently. This could be a general practitioner or an internist, but they may refer you to a cardiologist given the nature of your symptoms.\"}"
            ]
          },
          "metadata": {},
          "execution_count": 130
        }
      ]
    },
    {
      "cell_type": "code",
      "source": [
        "medical_mind(\"I also feel out of breath at moments\")"
      ],
      "metadata": {
        "colab": {
          "base_uri": "https://localhost:8080/"
        },
        "id": "S6CeSsUGVrkd",
        "outputId": "0e1bf7f4-94fd-4cab-9f1a-03ebe32e6fd3"
      },
      "execution_count": null,
      "outputs": [
        {
          "output_type": "stream",
          "name": "stdout",
          "text": [
            "\n",
            "\n",
            "\u001b[1m> Entering new AgentExecutor chain...\u001b[0m\n",
            "\u001b[32;1m\u001b[1;3m```json\n",
            "{\n",
            "    \"action\": \"Patients Record\",\n",
            "    \"action_input\": \"Requesting patient's records to understand the history of symptoms and any pre-existing conditions.\"\n",
            "}\n",
            "```\u001b[0m\n",
            "Observation: \u001b[36;1m\u001b[1;3m[[('Bob123', 'Heart condition diagnosed', datetime.date(2023, 12, 1), 'bp=120/80', 'cholesterol=200', 75)]]\u001b[0m\n",
            "Thought:\u001b[32;1m\u001b[1;3m```json\n",
            "{\n",
            "    \"action\": \"biomedical_similar_examples\",\n",
            "    \"action_input\": \"Patient is experiencing chest tightness and moments of breathlessness. Patient has a diagnosed heart condition as of December 1, 2023. Blood pressure is 120/80 and cholesterol is 200. Patient's age is 75.\"\n",
            "}\n",
            "```\u001b[0m\n",
            "Observation: \u001b[33;1m\u001b[1;3m[Document(page_content='a finding in which the healthcare provider has identified systolic blood pressure over 180 mmHg or diastolic blood pressure over 120 mmHg during a physical examination of a patient. This is an abnormally high blood pressure reading that requires prompt evaluation and treatment to prevent further complications.', metadata={'title': '\"on examination - blood pressure reading very high\"'}), Document(page_content='a sensation of discomfort or pain in the chest, often described as pressure or tightness. It may be caused by a variety of underlying conditions, including but not limited to cardiovascular or respiratory diseases, gastrointestinal disorders, or musculoskeletal issues. Chest discomfort may require further evaluation by a healthcare provider to determine the underlying cause and appropriate treatment.', metadata={'title': '\"chest discomfort\"'}), Document(page_content='a symptom characterized by a feeling of fullness, tightness, or discomfort in the chest. It can be associated with various medical conditions affecting the cardiovascular, respiratory, or gastrointestinal systems, such as angina, myocardial infarction, pulmonary embolism, or gastroesophageal reflux. It is generally considered a warning sign of potential serious health problems and requires prompt medical attention.', metadata={'title': '\"[D]chest pressure\"'}), Document(page_content='a clinical finding of chest pain or discomfort due to reduced blood flow to the heart, and is present in a person with no known history of cardiovascular disease in any member of their biological family.', metadata={'title': '\"no family history: angina\"'})]\u001b[0m\n",
            "Thought:\u001b[32;1m\u001b[1;3m```json\n",
            "{\n",
            "    \"action\": \"Final Answer\",\n",
            "    \"action_input\": \"Your symptoms of chest tightness and breathlessness, especially given your diagnosed heart condition, are concerning. These symptoms could be related to various medical conditions affecting the cardiovascular, respiratory, or gastrointestinal systems, such as angina, myocardial infarction, pulmonary embolism, or gastroesophageal reflux. It's important to note that chest discomfort is generally considered a warning sign of potential serious health problems and requires prompt medical attention. Please seek immediate medical care.\"\n",
            "}\n",
            "```\u001b[0m\n",
            "\n",
            "\u001b[1m> Finished chain.\u001b[0m\n"
          ]
        },
        {
          "output_type": "execute_result",
          "data": {
            "text/plain": [
              "{'input': 'I also feel out of breath at moments',\n",
              " 'chat_history': [HumanMessage(content='I am not feeling very well i am feeling tightness in my chest'),\n",
              "  AIMessage(content=\"The sensation of discomfort or pain in your chest, often described as pressure or tightness, can be caused by a variety of underlying conditions. Given your previous diagnosis of a heart condition, it's particularly important to take this symptom seriously. It could be related to cardiovascular issues such as angina or myocardial infarction. However, it could also be related to other systems, such as respiratory or gastrointestinal disorders. This symptom generally requires prompt medical attention. Please seek immediate medical care.\"),\n",
              "  HumanMessage(content='Which type of doctor should i visit'),\n",
              "  AIMessage(content=\"Given your symptoms of chest tightness, it would be appropriate to seek immediate medical attention. Ideally, you should go to an emergency department. If that's not possible, you should contact a healthcare professional who can evaluate your condition urgently. This could be a general practitioner or an internist, but they may refer you to a cardiologist given the nature of your symptoms.\"),\n",
              "  HumanMessage(content='I also feel out of breath at moments'),\n",
              "  AIMessage(content=\"Your symptoms of chest tightness and breathlessness, especially given your diagnosed heart condition, are concerning. These symptoms could be related to various medical conditions affecting the cardiovascular, respiratory, or gastrointestinal systems, such as angina, myocardial infarction, pulmonary embolism, or gastroesophageal reflux. It's important to note that chest discomfort is generally considered a warning sign of potential serious health problems and requires prompt medical attention. Please seek immediate medical care.\")],\n",
              " 'output': \"Your symptoms of chest tightness and breathlessness, especially given your diagnosed heart condition, are concerning. These symptoms could be related to various medical conditions affecting the cardiovascular, respiratory, or gastrointestinal systems, such as angina, myocardial infarction, pulmonary embolism, or gastroesophageal reflux. It's important to note that chest discomfort is generally considered a warning sign of potential serious health problems and requires prompt medical attention. Please seek immediate medical care.\"}"
            ]
          },
          "metadata": {},
          "execution_count": 131
        }
      ]
    },
    {
      "cell_type": "code",
      "source": [
        "medical_mind.agent.llm_chain.prompt"
      ],
      "metadata": {
        "id": "8u3qJE1UPWxE"
      },
      "execution_count": null,
      "outputs": []
    },
    {
      "cell_type": "markdown",
      "source": [
        "# 3. Final Agent\n",
        " Rag With Memory, Patient persona and records"
      ],
      "metadata": {
        "id": "Pv31IIi3HF6b"
      }
    },
    {
      "cell_type": "code",
      "source": [
        "from langchain.memory import ConversationSummaryBufferMemory\n",
        "\n",
        "memory = ConversationSummaryBufferMemory(memory_key=\"chat_history\",llm=llm,return_messages=True)\n",
        "tool_description = \"\"\"\n",
        "Use it to give second opinion and diagnosis.\n",
        "Input to this tool should be the query with relevant patients records.\n",
        "\"\"\"\n",
        "tools = [\n",
        "    RecordTool(),\n",
        "    PersonaTool(),\n",
        "    Tool(\n",
        "        name='biomedical_similar_examples',\n",
        "        func = vectorstore.similarity_search,\n",
        "        description=tool_description\n",
        "    )\n",
        "]"
      ],
      "metadata": {
        "id": "UOZBZWgQFxIu"
      },
      "execution_count": null,
      "outputs": []
    },
    {
      "cell_type": "code",
      "source": [
        "from langchain.agents import AgentExecutor,ZeroShotAgent,AgentType\n",
        "from langchain.chains import LLMChain\n",
        "import langchain.agents as agents\n",
        "custom_prefix = \"\"\"\n",
        "First the Agent gets the patient persona. \\\n",
        "Then the agent gets the medical records of the patient. \\\n",
        "Lastly it gets the similar examples for diagnosis. \\\n",
        "After all the processing Agent recommends the specific doctor to visit and also \\\n",
        "gives its diagnosis.\n",
        "\n",
        "You have access to the following tools:\n",
        "\"\"\"\n",
        "custom_suffix = \"\"\"\n",
        "Always make sure to get patient info and records before giving any diagnosis.\n",
        "Begin!\n",
        "\n",
        "{chat_history}\n",
        "Question: {input}\n",
        "{agent_scratchpad}\n",
        "\"\"\"\n",
        "prompt = agents.StructuredChatAgent.create_prompt(\n",
        "    tools,\n",
        "    prefix=custom_prefix,\n",
        "    suffix=custom_suffix,\n",
        "    input_variables=[\"input\", \"chat_history\", \"agent_scratchpad\"],\n",
        ")\n",
        "llm_chain = LLMChain(llm=llm, prompt=prompt)\n",
        "\n",
        "medical_mind = agents.StructuredChatAgent(llm_chain=llm_chain, tools=tools, verbose=True)\n",
        "\n",
        "medical_mind_chain = AgentExecutor.from_agent_and_tools(\n",
        "    agent=medical_mind, tools=tools, verbose=True, memory=memory\n",
        ")"
      ],
      "metadata": {
        "id": "aAE41nTiFwEK"
      },
      "execution_count": null,
      "outputs": []
    },
    {
      "cell_type": "code",
      "source": [
        "medical_mind_chain.run(\"I am not feeling very well i am feeling tightness in my chest\")"
      ],
      "metadata": {
        "colab": {
          "base_uri": "https://localhost:8080/",
          "height": 767
        },
        "id": "ePi9iAURzOYK",
        "outputId": "40a20b27-1e26-4e6e-85bf-3586a487349d"
      },
      "execution_count": null,
      "outputs": [
        {
          "output_type": "stream",
          "name": "stdout",
          "text": [
            "\n",
            "\n",
            "\u001b[1m> Entering new AgentExecutor chain...\u001b[0m\n",
            "\u001b[32;1m\u001b[1;3mThought: The patient is complaining about chest tightness. I need to get more information about the patient. I will use the Patients Info tool to get the patient's information.\n",
            "Action:\n",
            "```\n",
            "{\n",
            "  \"action\": \"Patients Info\",\n",
            "  \"action_input\": {\"query\": \"patient's information\"}\n",
            "}\n",
            "```\u001b[0m\n",
            "Observation: \u001b[33;1m\u001b[1;3m[[('Bob', 30, 'Male')]]\u001b[0m\n",
            "Thought:\u001b[32;1m\u001b[1;3mThe patient is a 30-year-old male named Bob. Now, I need to get his medical records to understand his medical history better. I will use the Patients Record tool for this. \n",
            "Action:\n",
            "```\n",
            "{\n",
            "  \"action\": \"Patients Record\",\n",
            "  \"action_input\": {\"query\": \"Bob's records\"}\n",
            "}\n",
            "```\u001b[0m\n",
            "Observation: \u001b[36;1m\u001b[1;3m[[('Bob', 'Heart condition diagnosed', datetime.date(2023, 12, 1), 'bp=120/80', 'cholesterol=200', 75)]]\u001b[0m\n",
            "Thought:\u001b[32;1m\u001b[1;3mThe patient, Bob, has a history of heart condition diagnosed on 1st December 2023. His blood pressure was 120/80, cholesterol level was 200, and heart rate was 75. Given his symptoms of chest tightness and his medical history, it's possible that his heart condition might be causing this. However, to confirm this, I will use the biomedical_similar_examples tool to get a second opinion and diagnosis.\n",
            "Action:\n",
            "```\n",
            "{\n",
            "  \"action\": \"biomedical_similar_examples\",\n",
            "  \"action_input\": {\"tool_input\": \"30 year old male with history of heart condition experiencing chest tightness\"}\n",
            "}\n",
            "```\u001b[0m\n",
            "Observation: \u001b[38;5;200m\u001b[1;3m[Document(page_content='a sensation of discomfort or pain in the chest, often described as pressure or tightness. It may be caused by a variety of underlying conditions, including but not limited to cardiovascular or respiratory diseases, gastrointestinal disorders, or musculoskeletal issues. Chest discomfort may require further evaluation by a healthcare provider to determine the underlying cause and appropriate treatment.', metadata={'title': '\"chest discomfort\"'}), Document(page_content='a symptom characterized by a feeling of fullness, tightness, or discomfort in the chest. It can be associated with various medical conditions affecting the cardiovascular, respiratory, or gastrointestinal systems, such as angina, myocardial infarction, pulmonary embolism, or gastroesophageal reflux. It is generally considered a warning sign of potential serious health problems and requires prompt medical attention.', metadata={'title': '\"[D]chest pressure\"'}), Document(page_content='a pattern of pain that is characterized by a sensation of tightness, constriction or pressure around a certain area of the body. This type of pain is often described as a deep, heavy, or intense pressure that can be felt in the chest, abdomen, or extremities.  It can be associated with various medical conditions, including ischemic heart disease, angina, myocardial infarction, and gastrointestinal disorders.', metadata={'title': '\"squeezing pain\"'}), Document(page_content='a clinical finding of chest pain or discomfort due to reduced blood flow to the heart, and is present in a person with no known history of cardiovascular disease in any member of their biological family.', metadata={'title': '\"no family history: angina\"'})]\u001b[0m\n",
            "Thought:\u001b[32;1m\u001b[1;3mThe biomedical_similar_examples tool has provided several possible causes for Bob's chest tightness. These include cardiovascular diseases like angina and myocardial infarction, respiratory issues, gastrointestinal disorders, and musculoskeletal issues. Given Bob's history of heart condition, it's likely that his symptoms are related to a cardiovascular issue. However, it's also possible that he could be experiencing a gastrointestinal or respiratory problem. I would recommend Bob to visit a cardiologist for a thorough examination. \n",
            "Action:\n",
            "```\n",
            "{\n",
            "  \"action\": \"Final Answer\",\n",
            "  \"action_input\": \"Given your symptoms and medical history, it's possible that your heart condition might be causing the chest tightness. However, it could also be due to other issues like gastrointestinal or respiratory problems. I recommend you to visit a cardiologist for a thorough examination.\"\n",
            "}\n",
            "```\u001b[0m\n",
            "\n",
            "\u001b[1m> Finished chain.\u001b[0m\n"
          ]
        },
        {
          "output_type": "execute_result",
          "data": {
            "text/plain": [
              "\"Given your symptoms and medical history, it's possible that your heart condition might be causing the chest tightness. However, it could also be due to other issues like gastrointestinal or respiratory problems. I recommend you to visit a cardiologist for a thorough examination.\""
            ],
            "application/vnd.google.colaboratory.intrinsic+json": {
              "type": "string"
            }
          },
          "metadata": {},
          "execution_count": 22
        }
      ]
    },
    {
      "cell_type": "code",
      "source": [
        "medical_mind_chain.run(\"I also feel out of breath at times\")"
      ],
      "metadata": {
        "colab": {
          "base_uri": "https://localhost:8080/",
          "height": 784
        },
        "id": "TqHx77oM1bUd",
        "outputId": "dc191c3a-5f79-4ab8-f2fe-82841e8391d4"
      },
      "execution_count": null,
      "outputs": [
        {
          "output_type": "stream",
          "name": "stdout",
          "text": [
            "\n",
            "\n",
            "\u001b[1m> Entering new AgentExecutor chain...\u001b[0m\n",
            "\u001b[32;1m\u001b[1;3mThought: The patient is experiencing chest tightness and shortness of breath. These symptoms could be related to a heart condition. I need to get more information about the patient's medical history to make a more accurate assessment. \n",
            "Action:\n",
            "```\n",
            "{\n",
            "  \"action\": \"Patients Info\",\n",
            "  \"action_input\": {\"query\": \"patient's information\"}\n",
            "}\n",
            "```\u001b[0m\n",
            "Observation: \u001b[33;1m\u001b[1;3m[[('Bob', 30, 'Male')]]\u001b[0m\n",
            "Thought:\u001b[32;1m\u001b[1;3mThe patient is a 30-year-old male named Bob. Now, I need to get his medical records to understand his medical history better. \n",
            "Action:\n",
            "```\n",
            "{\n",
            "  \"action\": \"Patients Record\",\n",
            "  \"action_input\": {\"query\": \"Bob's medical records\"}\n",
            "}\n",
            "```\u001b[0m\n",
            "Observation: \u001b[36;1m\u001b[1;3m[[('Bob', 'Heart condition diagnosed', datetime.date(2023, 12, 1), 'bp=120/80', 'cholesterol=200', 75)]]\u001b[0m\n",
            "Thought:\u001b[32;1m\u001b[1;3mThe patient, Bob, has a diagnosed heart condition. His blood pressure is 120/80, which is within the normal range, and his cholesterol level is 200, which is borderline high. His heart rate is 75, which is also within the normal range. Given his symptoms of chest tightness and shortness of breath, these could be related to his heart condition. However, to confirm this, I will use the biomedical_similar_examples tool to find similar cases and their diagnoses.\n",
            "Action:\n",
            "```\n",
            "{\n",
            "  \"action\": \"biomedical_similar_examples\",\n",
            "  \"action_input\": {\"tool_input\": \"30 year old male with diagnosed heart condition experiencing chest tightness and shortness of breath\"}\n",
            "}\n",
            "```\u001b[0m\n",
            "Observation: \u001b[38;5;200m\u001b[1;3m[Document(page_content=\"a condition where the muscle of the heart's main pumping chamber, the left ventricle, becomes thicker than usual, but there is no blockage in the left ventricular outflow tract that interferes with blood flow. This can lead to symptoms such as shortness of breath, chest pain, and dizziness, and can increase the risk of abnormal heart rhythms or sudden cardiac death. Treatment depends on the severity of symptoms and may include medications, lifestyle changes, or surgery in some cases.\", metadata={'title': '\"hypertrophic cardiomyopathy without obstruction\"'}), Document(page_content='a symptom characterized by a feeling of fullness, tightness, or discomfort in the chest. It can be associated with various medical conditions affecting the cardiovascular, respiratory, or gastrointestinal systems, such as angina, myocardial infarction, pulmonary embolism, or gastroesophageal reflux. It is generally considered a warning sign of potential serious health problems and requires prompt medical attention.', metadata={'title': '\"[D]chest pressure\"'}), Document(page_content='a sensation of discomfort or pain in the chest, often described as pressure or tightness. It may be caused by a variety of underlying conditions, including but not limited to cardiovascular or respiratory diseases, gastrointestinal disorders, or musculoskeletal issues. Chest discomfort may require further evaluation by a healthcare provider to determine the underlying cause and appropriate treatment.', metadata={'title': '\"chest discomfort\"'}), Document(page_content='a type of long-term heart disease caused by insufficient blood supply to the heart muscle due to narrowed or blocked coronary arteries. It is typically associated with chest pain or discomfort, shortness of breath, and fatigue.', metadata={'title': '\"chronic ischemic heart disease\"'})]\u001b[0m\n",
            "Thought:\u001b[32;1m\u001b[1;3mBased on the similar examples, the patient's symptoms could be related to a few conditions such as hypertrophic cardiomyopathy without obstruction or chronic ischemic heart disease. Both conditions can cause chest tightness and shortness of breath. However, these are just possibilities and the patient should seek immediate medical attention given the severity of his symptoms. I will recommend him to visit a cardiologist for a thorough examination. \n",
            "Action:\n",
            "```\n",
            "{\n",
            "  \"action\": \"Final Answer\",\n",
            "  \"action_input\": \"Given your symptoms and medical history, it's possible that you might have a condition such as hypertrophic cardiomyopathy without obstruction or chronic ischemic heart disease. Both conditions can cause chest tightness and shortness of breath. However, these are just possibilities and you should seek immediate medical attention. I recommend you to visit a cardiologist for a thorough examination.\"\n",
            "}\n",
            "```\u001b[0m\n",
            "\n",
            "\u001b[1m> Finished chain.\u001b[0m\n"
          ]
        },
        {
          "output_type": "execute_result",
          "data": {
            "text/plain": [
              "\"Given your symptoms and medical history, it's possible that you might have a condition such as hypertrophic cardiomyopathy without obstruction or chronic ischemic heart disease. Both conditions can cause chest tightness and shortness of breath. However, these are just possibilities and you should seek immediate medical attention. I recommend you to visit a cardiologist for a thorough examination.\""
            ],
            "application/vnd.google.colaboratory.intrinsic+json": {
              "type": "string"
            }
          },
          "metadata": {},
          "execution_count": 23
        }
      ]
    },
    {
      "cell_type": "code",
      "source": [
        "while True:\n",
        "  user_input = input()\n",
        "  result = medical_mind_chain(user_input)\n",
        "  print(result['output'])"
      ],
      "metadata": {
        "id": "p2OYNItIiC40"
      },
      "execution_count": null,
      "outputs": []
    },
    {
      "cell_type": "markdown",
      "source": [
        "\n",
        "\n",
        "---\n",
        "\n"
      ],
      "metadata": {
        "id": "O0o9nDG2R1el"
      }
    },
    {
      "cell_type": "markdown",
      "source": [
        "# Mimic III Dataset"
      ],
      "metadata": {
        "id": "6CoMS3l_B7zA"
      }
    },
    {
      "cell_type": "code",
      "source": [
        "!pip install -qU pinecone-client langchain openai sqlalchemy tiktoken cohere ipython-sql"
      ],
      "metadata": {
        "colab": {
          "base_uri": "https://localhost:8080/"
        },
        "id": "JwArAxCgitOq",
        "outputId": "e5bbccb7-d712-4c89-d02b-0db4736aaff6"
      },
      "execution_count": null,
      "outputs": [
        {
          "output_type": "stream",
          "name": "stdout",
          "text": [
            "\u001b[2K     \u001b[90m━━━━━━━━━━━━━━━━━━━━━━━━━━━━━━━━━━━━━━━━\u001b[0m \u001b[32m201.0/201.0 kB\u001b[0m \u001b[31m2.9 MB/s\u001b[0m eta \u001b[36m0:00:00\u001b[0m\n",
            "\u001b[2K     \u001b[90m━━━━━━━━━━━━━━━━━━━━━━━━━━━━━━━━━━━━━━━━\u001b[0m \u001b[32m802.4/802.4 kB\u001b[0m \u001b[31m19.7 MB/s\u001b[0m eta \u001b[36m0:00:00\u001b[0m\n",
            "\u001b[2K     \u001b[90m━━━━━━━━━━━━━━━━━━━━━━━━━━━━━━━━━━━━━━━━\u001b[0m \u001b[32m223.4/223.4 kB\u001b[0m \u001b[31m16.5 MB/s\u001b[0m eta \u001b[36m0:00:00\u001b[0m\n",
            "\u001b[2K     \u001b[90m━━━━━━━━━━━━━━━━━━━━━━━━━━━━━━━━━━━━━━━━\u001b[0m \u001b[32m3.1/3.1 MB\u001b[0m \u001b[31m28.7 MB/s\u001b[0m eta \u001b[36m0:00:00\u001b[0m\n",
            "\u001b[2K     \u001b[90m━━━━━━━━━━━━━━━━━━━━━━━━━━━━━━━━━━━━━━━━\u001b[0m \u001b[32m2.0/2.0 MB\u001b[0m \u001b[31m47.0 MB/s\u001b[0m eta \u001b[36m0:00:00\u001b[0m\n",
            "\u001b[2K     \u001b[90m━━━━━━━━━━━━━━━━━━━━━━━━━━━━━━━━━━━━━━━━\u001b[0m \u001b[32m51.9/51.9 kB\u001b[0m \u001b[31m2.4 MB/s\u001b[0m eta \u001b[36m0:00:00\u001b[0m\n",
            "\u001b[2K     \u001b[90m━━━━━━━━━━━━━━━━━━━━━━━━━━━━━━━━━━━━━━━━\u001b[0m \u001b[32m1.6/1.6 MB\u001b[0m \u001b[31m48.1 MB/s\u001b[0m eta \u001b[36m0:00:00\u001b[0m\n",
            "\u001b[2K     \u001b[90m━━━━━━━━━━━━━━━━━━━━━━━━━━━━━━━━━━━━━━━━\u001b[0m \u001b[32m228.7/228.7 kB\u001b[0m \u001b[31m17.8 MB/s\u001b[0m eta \u001b[36m0:00:00\u001b[0m\n",
            "\u001b[2K     \u001b[90m━━━━━━━━━━━━━━━━━━━━━━━━━━━━━━━━━━━━━━━━\u001b[0m \u001b[32m49.3/49.3 kB\u001b[0m \u001b[31m2.9 MB/s\u001b[0m eta \u001b[36m0:00:00\u001b[0m\n",
            "\u001b[2K     \u001b[90m━━━━━━━━━━━━━━━━━━━━━━━━━━━━━━━━━━━━━━━━\u001b[0m \u001b[32m75.9/75.9 kB\u001b[0m \u001b[31m6.0 MB/s\u001b[0m eta \u001b[36m0:00:00\u001b[0m\n",
            "\u001b[2K     \u001b[90m━━━━━━━━━━━━━━━━━━━━━━━━━━━━━━━━━━━━━━━━\u001b[0m \u001b[32m3.1/3.1 MB\u001b[0m \u001b[31m38.6 MB/s\u001b[0m eta \u001b[36m0:00:00\u001b[0m\n",
            "\u001b[2K     \u001b[90m━━━━━━━━━━━━━━━━━━━━━━━━━━━━━━━━━━━━━━━━\u001b[0m \u001b[32m49.4/49.4 kB\u001b[0m \u001b[31m2.2 MB/s\u001b[0m eta \u001b[36m0:00:00\u001b[0m\n",
            "\u001b[2K     \u001b[90m━━━━━━━━━━━━━━━━━━━━━━━━━━━━━━━━━━━━━━━━\u001b[0m \u001b[32m76.9/76.9 kB\u001b[0m \u001b[31m5.3 MB/s\u001b[0m eta \u001b[36m0:00:00\u001b[0m\n",
            "\u001b[2K     \u001b[90m━━━━━━━━━━━━━━━━━━━━━━━━━━━━━━━━━━━━━━━━\u001b[0m \u001b[32m58.3/58.3 kB\u001b[0m \u001b[31m3.4 MB/s\u001b[0m eta \u001b[36m0:00:00\u001b[0m\n",
            "\u001b[2K     \u001b[90m━━━━━━━━━━━━━━━━━━━━━━━━━━━━━━━━━━━━━━━━\u001b[0m \u001b[32m1.6/1.6 MB\u001b[0m \u001b[31m19.9 MB/s\u001b[0m eta \u001b[36m0:00:00\u001b[0m\n",
            "\u001b[?25h\u001b[31mERROR: pip's dependency resolver does not currently take into account all the packages that are installed. This behaviour is the source of the following dependency conflicts.\n",
            "tensorflow-probability 0.22.0 requires typing-extensions<4.6.0, but you have typing-extensions 4.9.0 which is incompatible.\u001b[0m\u001b[31m\n",
            "\u001b[0m"
          ]
        }
      ]
    },
    {
      "cell_type": "code",
      "source": [
        "%load_ext sql"
      ],
      "metadata": {
        "id": "Ck9ijdRsqQXb"
      },
      "execution_count": null,
      "outputs": []
    },
    {
      "cell_type": "code",
      "source": [
        "!wget -r -N -c -np https://physionet.org/files/mimiciii-demo/1.4/"
      ],
      "metadata": {
        "colab": {
          "base_uri": "https://localhost:8080/"
        },
        "id": "jmjho5jVB-c0",
        "outputId": "e9137bc3-2593-4a36-a9b6-633c5ce88ab9"
      },
      "execution_count": null,
      "outputs": [
        {
          "output_type": "stream",
          "name": "stdout",
          "text": [
            "--2024-01-22 06:11:45--  https://physionet.org/files/mimiciii-demo/1.4/\n",
            "Resolving physionet.org (physionet.org)... 18.18.42.54\n",
            "Connecting to physionet.org (physionet.org)|18.18.42.54|:443... connected.\n",
            "HTTP request sent, awaiting response... 200 OK\n",
            "Length: unspecified [text/html]\n",
            "Saving to: ‘physionet.org/files/mimiciii-demo/1.4/index.html’\n",
            "\n",
            "physionet.org/files     [ <=>                ]   3.50K  --.-KB/s    in 0s      \n",
            "\n",
            "Last-modified header missing -- time-stamps turned off.\n",
            "2024-01-22 06:11:46 (374 MB/s) - ‘physionet.org/files/mimiciii-demo/1.4/index.html’ saved [3582]\n",
            "\n",
            "Loading robots.txt; please ignore errors.\n",
            "--2024-01-22 06:11:46--  https://physionet.org/robots.txt\n",
            "Reusing existing connection to physionet.org:443.\n",
            "HTTP request sent, awaiting response... 200 OK\n",
            "Length: 22 [text/plain]\n",
            "Saving to: ‘physionet.org/robots.txt’\n",
            "\n",
            "physionet.org/robot 100%[===================>]      22  --.-KB/s    in 0s      \n",
            "\n",
            "2024-01-22 06:11:47 (6.23 MB/s) - ‘physionet.org/robots.txt’ saved [22/22]\n",
            "\n",
            "--2024-01-22 06:11:47--  https://physionet.org/files/mimiciii-demo/1.4/ADMISSIONS.csv\n",
            "Reusing existing connection to physionet.org:443.\n",
            "HTTP request sent, awaiting response... 200 OK\n",
            "Length: 26823 (26K) [text/plain]\n",
            "Saving to: ‘physionet.org/files/mimiciii-demo/1.4/ADMISSIONS.csv’\n",
            "\n",
            "physionet.org/files 100%[===================>]  26.19K  --.-KB/s    in 0.009s  \n",
            "\n",
            "2024-01-22 06:11:47 (3.00 MB/s) - ‘physionet.org/files/mimiciii-demo/1.4/ADMISSIONS.csv’ saved [26823/26823]\n",
            "\n",
            "--2024-01-22 06:11:47--  https://physionet.org/files/mimiciii-demo/1.4/CALLOUT.csv\n",
            "Reusing existing connection to physionet.org:443.\n",
            "HTTP request sent, awaiting response... 200 OK\n",
            "Length: 13820 (13K) [text/plain]\n",
            "Saving to: ‘physionet.org/files/mimiciii-demo/1.4/CALLOUT.csv’\n",
            "\n",
            "physionet.org/files 100%[===================>]  13.50K  --.-KB/s    in 0s      \n",
            "\n",
            "2024-01-22 06:11:47 (215 MB/s) - ‘physionet.org/files/mimiciii-demo/1.4/CALLOUT.csv’ saved [13820/13820]\n",
            "\n",
            "--2024-01-22 06:11:47--  https://physionet.org/files/mimiciii-demo/1.4/CAREGIVERS.csv\n",
            "Reusing existing connection to physionet.org:443.\n",
            "HTTP request sent, awaiting response... 200 OK\n",
            "Length: 178142 (174K) [text/plain]\n",
            "Saving to: ‘physionet.org/files/mimiciii-demo/1.4/CAREGIVERS.csv’\n",
            "\n",
            "physionet.org/files 100%[===================>] 173.97K   414KB/s    in 0.4s    \n",
            "\n",
            "2024-01-22 06:11:48 (414 KB/s) - ‘physionet.org/files/mimiciii-demo/1.4/CAREGIVERS.csv’ saved [178142/178142]\n",
            "\n",
            "--2024-01-22 06:11:48--  https://physionet.org/files/mimiciii-demo/1.4/CHARTEVENTS.csv\n",
            "Reusing existing connection to physionet.org:443.\n",
            "HTTP request sent, awaiting response... 200 OK\n",
            "Length: 77730362 (74M) [text/plain]\n",
            "Saving to: ‘physionet.org/files/mimiciii-demo/1.4/CHARTEVENTS.csv’\n",
            "\n",
            "physionet.org/files 100%[===================>]  74.13M  1.12MB/s    in 71s     \n",
            "\n",
            "2024-01-22 06:12:59 (1.04 MB/s) - ‘physionet.org/files/mimiciii-demo/1.4/CHARTEVENTS.csv’ saved [77730362/77730362]\n",
            "\n",
            "--2024-01-22 06:12:59--  https://physionet.org/files/mimiciii-demo/1.4/CPTEVENTS.csv\n",
            "Reusing existing connection to physionet.org:443.\n",
            "HTTP request sent, awaiting response... 200 OK\n",
            "Length: 149024 (146K) [text/plain]\n",
            "Saving to: ‘physionet.org/files/mimiciii-demo/1.4/CPTEVENTS.csv’\n",
            "\n",
            "physionet.org/files 100%[===================>] 145.53K  --.-KB/s    in 0.1s    \n",
            "\n",
            "2024-01-22 06:13:00 (1.22 MB/s) - ‘physionet.org/files/mimiciii-demo/1.4/CPTEVENTS.csv’ saved [149024/149024]\n",
            "\n",
            "--2024-01-22 06:13:00--  https://physionet.org/files/mimiciii-demo/1.4/DATETIMEEVENTS.csv\n",
            "Reusing existing connection to physionet.org:443.\n",
            "HTTP request sent, awaiting response... 200 OK\n",
            "Length: 1782801 (1.7M) [text/plain]\n",
            "Saving to: ‘physionet.org/files/mimiciii-demo/1.4/DATETIMEEVENTS.csv’\n",
            "\n",
            "physionet.org/files 100%[===================>]   1.70M  1.11MB/s    in 1.5s    \n",
            "\n",
            "2024-01-22 06:13:01 (1.11 MB/s) - ‘physionet.org/files/mimiciii-demo/1.4/DATETIMEEVENTS.csv’ saved [1782801/1782801]\n",
            "\n",
            "--2024-01-22 06:13:01--  https://physionet.org/files/mimiciii-demo/1.4/DIAGNOSES_ICD.csv\n",
            "Reusing existing connection to physionet.org:443.\n",
            "HTTP request sent, awaiting response... 200 OK\n",
            "Length: 48997 (48K) [text/plain]\n",
            "Saving to: ‘physionet.org/files/mimiciii-demo/1.4/DIAGNOSES_ICD.csv’\n",
            "\n",
            "physionet.org/files 100%[===================>]  47.85K  --.-KB/s    in 0.03s   \n",
            "\n",
            "2024-01-22 06:13:02 (1.55 MB/s) - ‘physionet.org/files/mimiciii-demo/1.4/DIAGNOSES_ICD.csv’ saved [48997/48997]\n",
            "\n",
            "--2024-01-22 06:13:02--  https://physionet.org/files/mimiciii-demo/1.4/DRGCODES.csv\n",
            "Reusing existing connection to physionet.org:443.\n",
            "HTTP request sent, awaiting response... 200 OK\n",
            "Length: 23122 (23K) [text/plain]\n",
            "Saving to: ‘physionet.org/files/mimiciii-demo/1.4/DRGCODES.csv’\n",
            "\n",
            "physionet.org/files 100%[===================>]  22.58K  --.-KB/s    in 0.008s  \n",
            "\n",
            "2024-01-22 06:13:02 (2.72 MB/s) - ‘physionet.org/files/mimiciii-demo/1.4/DRGCODES.csv’ saved [23122/23122]\n",
            "\n",
            "--2024-01-22 06:13:02--  https://physionet.org/files/mimiciii-demo/1.4/D_CPT.csv\n",
            "Reusing existing connection to physionet.org:443.\n",
            "HTTP request sent, awaiting response... 200 OK\n",
            "Length: 12717 (12K) [text/plain]\n",
            "Saving to: ‘physionet.org/files/mimiciii-demo/1.4/D_CPT.csv’\n",
            "\n",
            "physionet.org/files 100%[===================>]  12.42K  --.-KB/s    in 0s      \n",
            "\n",
            "2024-01-22 06:13:02 (246 MB/s) - ‘physionet.org/files/mimiciii-demo/1.4/D_CPT.csv’ saved [12717/12717]\n",
            "\n",
            "--2024-01-22 06:13:02--  https://physionet.org/files/mimiciii-demo/1.4/D_ICD_DIAGNOSES.csv\n",
            "Reusing existing connection to physionet.org:443.\n",
            "HTTP request sent, awaiting response... 200 OK\n",
            "Length: 1313178 (1.3M) [text/plain]\n",
            "Saving to: ‘physionet.org/files/mimiciii-demo/1.4/D_ICD_DIAGNOSES.csv’\n",
            "\n",
            "physionet.org/files 100%[===================>]   1.25M  1.06MB/s    in 1.2s    \n",
            "\n",
            "2024-01-22 06:13:03 (1.06 MB/s) - ‘physionet.org/files/mimiciii-demo/1.4/D_ICD_DIAGNOSES.csv’ saved [1313178/1313178]\n",
            "\n",
            "--2024-01-22 06:13:03--  https://physionet.org/files/mimiciii-demo/1.4/D_ICD_PROCEDURES.csv\n",
            "Reusing existing connection to physionet.org:443.\n",
            "HTTP request sent, awaiting response... 200 OK\n",
            "Length: 289912 (283K) [text/plain]\n",
            "Saving to: ‘physionet.org/files/mimiciii-demo/1.4/D_ICD_PROCEDURES.csv’\n",
            "\n",
            "physionet.org/files 100%[===================>] 283.12K  1.11MB/s    in 0.2s    \n",
            "\n",
            "2024-01-22 06:13:04 (1.11 MB/s) - ‘physionet.org/files/mimiciii-demo/1.4/D_ICD_PROCEDURES.csv’ saved [289912/289912]\n",
            "\n",
            "--2024-01-22 06:13:04--  https://physionet.org/files/mimiciii-demo/1.4/D_ITEMS.csv\n",
            "Reusing existing connection to physionet.org:443.\n",
            "HTTP request sent, awaiting response... 200 OK\n",
            "Length: 853168 (833K) [text/plain]\n",
            "Saving to: ‘physionet.org/files/mimiciii-demo/1.4/D_ITEMS.csv’\n",
            "\n",
            "physionet.org/files 100%[===================>] 833.17K  1.08MB/s    in 0.8s    \n",
            "\n",
            "2024-01-22 06:13:05 (1.08 MB/s) - ‘physionet.org/files/mimiciii-demo/1.4/D_ITEMS.csv’ saved [853168/853168]\n",
            "\n",
            "--2024-01-22 06:13:05--  https://physionet.org/files/mimiciii-demo/1.4/D_LABITEMS.csv\n",
            "Reusing existing connection to physionet.org:443.\n",
            "HTTP request sent, awaiting response... 200 OK\n",
            "Length: 37760 (37K) [text/plain]\n",
            "Saving to: ‘physionet.org/files/mimiciii-demo/1.4/D_LABITEMS.csv’\n",
            "\n",
            "physionet.org/files 100%[===================>]  36.88K  --.-KB/s    in 0.02s   \n",
            "\n",
            "2024-01-22 06:13:05 (1.87 MB/s) - ‘physionet.org/files/mimiciii-demo/1.4/D_LABITEMS.csv’ saved [37760/37760]\n",
            "\n",
            "--2024-01-22 06:13:05--  https://physionet.org/files/mimiciii-demo/1.4/ICUSTAYS.csv\n",
            "Reusing existing connection to physionet.org:443.\n",
            "HTTP request sent, awaiting response... 200 OK\n",
            "Length: 13495 (13K) [text/plain]\n",
            "Saving to: ‘physionet.org/files/mimiciii-demo/1.4/ICUSTAYS.csv’\n",
            "\n",
            "physionet.org/files 100%[===================>]  13.18K  --.-KB/s    in 0s      \n",
            "\n",
            "2024-01-22 06:13:05 (203 MB/s) - ‘physionet.org/files/mimiciii-demo/1.4/ICUSTAYS.csv’ saved [13495/13495]\n",
            "\n",
            "--2024-01-22 06:13:05--  https://physionet.org/files/mimiciii-demo/1.4/INPUTEVENTS_CV.csv\n",
            "Reusing existing connection to physionet.org:443.\n",
            "HTTP request sent, awaiting response... 200 OK\n",
            "Length: 4737419 (4.5M) [text/plain]\n",
            "Saving to: ‘physionet.org/files/mimiciii-demo/1.4/INPUTEVENTS_CV.csv’\n",
            "\n",
            "physionet.org/files 100%[===================>]   4.52M  1.09MB/s    in 4.2s    \n",
            "\n",
            "2024-01-22 06:13:10 (1.07 MB/s) - ‘physionet.org/files/mimiciii-demo/1.4/INPUTEVENTS_CV.csv’ saved [4737419/4737419]\n",
            "\n",
            "--2024-01-22 06:13:10--  https://physionet.org/files/mimiciii-demo/1.4/INPUTEVENTS_MV.csv\n",
            "Reusing existing connection to physionet.org:443.\n",
            "HTTP request sent, awaiting response... 200 OK\n",
            "Length: 3391394 (3.2M) [text/plain]\n",
            "Saving to: ‘physionet.org/files/mimiciii-demo/1.4/INPUTEVENTS_MV.csv’\n",
            "\n",
            "physionet.org/files 100%[===================>]   3.23M  1.08MB/s    in 3.0s    \n",
            "\n",
            "2024-01-22 06:13:13 (1.08 MB/s) - ‘physionet.org/files/mimiciii-demo/1.4/INPUTEVENTS_MV.csv’ saved [3391394/3391394]\n",
            "\n",
            "--2024-01-22 06:13:13--  https://physionet.org/files/mimiciii-demo/1.4/LABEVENTS.csv\n",
            "Reusing existing connection to physionet.org:443.\n",
            "HTTP request sent, awaiting response... 200 OK\n",
            "Length: 4762074 (4.5M) [text/plain]\n",
            "Saving to: ‘physionet.org/files/mimiciii-demo/1.4/LABEVENTS.csv’\n",
            "\n",
            "physionet.org/files 100%[===================>]   4.54M  1.07MB/s    in 4.2s    \n",
            "\n",
            "2024-01-22 06:13:18 (1.07 MB/s) - ‘physionet.org/files/mimiciii-demo/1.4/LABEVENTS.csv’ saved [4762074/4762074]\n",
            "\n",
            "--2024-01-22 06:13:18--  https://physionet.org/files/mimiciii-demo/1.4/LICENSE.txt\n",
            "Reusing existing connection to physionet.org:443.\n",
            "HTTP request sent, awaiting response... 200 OK\n",
            "Length: 25815 (25K) [text/plain]\n",
            "Saving to: ‘physionet.org/files/mimiciii-demo/1.4/LICENSE.txt’\n",
            "\n",
            "physionet.org/files 100%[===================>]  25.21K  --.-KB/s    in 0.009s  \n",
            "\n",
            "2024-01-22 06:13:18 (2.71 MB/s) - ‘physionet.org/files/mimiciii-demo/1.4/LICENSE.txt’ saved [25815/25815]\n",
            "\n",
            "--2024-01-22 06:13:18--  https://physionet.org/files/mimiciii-demo/1.4/MICROBIOLOGYEVENTS.csv\n",
            "Reusing existing connection to physionet.org:443.\n",
            "HTTP request sent, awaiting response... 200 OK\n",
            "Length: 221959 (217K) [text/plain]\n",
            "Saving to: ‘physionet.org/files/mimiciii-demo/1.4/MICROBIOLOGYEVENTS.csv’\n",
            "\n",
            "physionet.org/files 100%[===================>] 216.76K  1.07MB/s    in 0.2s    \n",
            "\n",
            "2024-01-22 06:13:18 (1.07 MB/s) - ‘physionet.org/files/mimiciii-demo/1.4/MICROBIOLOGYEVENTS.csv’ saved [221959/221959]\n",
            "\n",
            "--2024-01-22 06:13:18--  https://physionet.org/files/mimiciii-demo/1.4/NOTEEVENTS.csv\n",
            "Reusing existing connection to physionet.org:443.\n",
            "HTTP request sent, awaiting response... 200 OK\n",
            "Length: 95 [text/plain]\n",
            "Saving to: ‘physionet.org/files/mimiciii-demo/1.4/NOTEEVENTS.csv’\n",
            "\n",
            "physionet.org/files 100%[===================>]      95  --.-KB/s    in 0s      \n",
            "\n",
            "2024-01-22 06:13:18 (88.0 MB/s) - ‘physionet.org/files/mimiciii-demo/1.4/NOTEEVENTS.csv’ saved [95/95]\n",
            "\n",
            "--2024-01-22 06:13:18--  https://physionet.org/files/mimiciii-demo/1.4/OUTPUTEVENTS.csv\n",
            "Reusing existing connection to physionet.org:443.\n",
            "HTTP request sent, awaiting response... 200 OK\n",
            "Length: 1014449 (991K) [text/plain]\n",
            "Saving to: ‘physionet.org/files/mimiciii-demo/1.4/OUTPUTEVENTS.csv’\n",
            "\n",
            "physionet.org/files 100%[===================>] 990.67K  1.06MB/s    in 0.9s    \n",
            "\n",
            "2024-01-22 06:13:20 (1.06 MB/s) - ‘physionet.org/files/mimiciii-demo/1.4/OUTPUTEVENTS.csv’ saved [1014449/1014449]\n",
            "\n",
            "--2024-01-22 06:13:20--  https://physionet.org/files/mimiciii-demo/1.4/PATIENTS.csv\n",
            "Reusing existing connection to physionet.org:443.\n",
            "HTTP request sent, awaiting response... 200 OK\n",
            "Length: 8605 (8.4K) [text/plain]\n",
            "Saving to: ‘physionet.org/files/mimiciii-demo/1.4/PATIENTS.csv’\n",
            "\n",
            "physionet.org/files 100%[===================>]   8.40K  --.-KB/s    in 0s      \n",
            "\n",
            "2024-01-22 06:13:20 (170 MB/s) - ‘physionet.org/files/mimiciii-demo/1.4/PATIENTS.csv’ saved [8605/8605]\n",
            "\n",
            "--2024-01-22 06:13:20--  https://physionet.org/files/mimiciii-demo/1.4/PRESCRIPTIONS.csv\n",
            "Reusing existing connection to physionet.org:443.\n",
            "HTTP request sent, awaiting response... 200 OK\n",
            "Length: 1667845 (1.6M) [text/plain]\n",
            "Saving to: ‘physionet.org/files/mimiciii-demo/1.4/PRESCRIPTIONS.csv’\n",
            "\n",
            "physionet.org/files 100%[===================>]   1.59M  1.05MB/s    in 1.5s    \n",
            "\n",
            "2024-01-22 06:13:22 (1.05 MB/s) - ‘physionet.org/files/mimiciii-demo/1.4/PRESCRIPTIONS.csv’ saved [1667845/1667845]\n",
            "\n",
            "--2024-01-22 06:13:22--  https://physionet.org/files/mimiciii-demo/1.4/PROCEDUREEVENTS_MV.csv\n",
            "Reusing existing connection to physionet.org:443.\n",
            "HTTP request sent, awaiting response... 200 OK\n",
            "Length: 134284 (131K) [text/plain]\n",
            "Saving to: ‘physionet.org/files/mimiciii-demo/1.4/PROCEDUREEVENTS_MV.csv’\n",
            "\n",
            "physionet.org/files 100%[===================>] 131.14K  --.-KB/s    in 0.1s    \n",
            "\n",
            "2024-01-22 06:13:22 (1.13 MB/s) - ‘physionet.org/files/mimiciii-demo/1.4/PROCEDUREEVENTS_MV.csv’ saved [134284/134284]\n",
            "\n",
            "--2024-01-22 06:13:22--  https://physionet.org/files/mimiciii-demo/1.4/PROCEDURES_ICD.csv\n",
            "Reusing existing connection to physionet.org:443.\n",
            "HTTP request sent, awaiting response... 200 OK\n",
            "Length: 13512 (13K) [text/plain]\n",
            "Saving to: ‘physionet.org/files/mimiciii-demo/1.4/PROCEDURES_ICD.csv’\n",
            "\n",
            "physionet.org/files 100%[===================>]  13.20K  --.-KB/s    in 0s      \n",
            "\n",
            "2024-01-22 06:13:22 (243 MB/s) - ‘physionet.org/files/mimiciii-demo/1.4/PROCEDURES_ICD.csv’ saved [13512/13512]\n",
            "\n",
            "--2024-01-22 06:13:22--  https://physionet.org/files/mimiciii-demo/1.4/SERVICES.csv\n",
            "Reusing existing connection to physionet.org:443.\n",
            "HTTP request sent, awaiting response... 200 OK\n",
            "Length: 7464 (7.3K) [text/plain]\n",
            "Saving to: ‘physionet.org/files/mimiciii-demo/1.4/SERVICES.csv’\n",
            "\n",
            "physionet.org/files 100%[===================>]   7.29K  --.-KB/s    in 0s      \n",
            "\n",
            "2024-01-22 06:13:22 (2.25 GB/s) - ‘physionet.org/files/mimiciii-demo/1.4/SERVICES.csv’ saved [7464/7464]\n",
            "\n",
            "--2024-01-22 06:13:22--  https://physionet.org/files/mimiciii-demo/1.4/SHA256SUMS.txt\n",
            "Reusing existing connection to physionet.org:443.\n",
            "HTTP request sent, awaiting response... 200 OK\n",
            "Length: 2187 (2.1K) [text/plain]\n",
            "Saving to: ‘physionet.org/files/mimiciii-demo/1.4/SHA256SUMS.txt’\n",
            "\n",
            "physionet.org/files 100%[===================>]   2.14K  --.-KB/s    in 0s      \n",
            "\n",
            "2024-01-22 06:13:23 (1.26 GB/s) - ‘physionet.org/files/mimiciii-demo/1.4/SHA256SUMS.txt’ saved [2187/2187]\n",
            "\n",
            "--2024-01-22 06:13:23--  https://physionet.org/files/mimiciii-demo/1.4/TRANSFERS.csv\n",
            "Reusing existing connection to physionet.org:443.\n",
            "HTTP request sent, awaiting response... 200 OK\n",
            "Length: 47199 (46K) [text/plain]\n",
            "Saving to: ‘physionet.org/files/mimiciii-demo/1.4/TRANSFERS.csv’\n",
            "\n",
            "physionet.org/files 100%[===================>]  46.09K  --.-KB/s    in 0.03s   \n",
            "\n",
            "2024-01-22 06:13:23 (1.62 MB/s) - ‘physionet.org/files/mimiciii-demo/1.4/TRANSFERS.csv’ saved [47199/47199]\n",
            "\n",
            "FINISHED --2024-01-22 06:13:23--\n",
            "Total wall clock time: 1m 38s\n",
            "Downloaded: 30 files, 94M in 1m 30s (1.05 MB/s)\n"
          ]
        }
      ]
    },
    {
      "cell_type": "code",
      "source": [
        "from sqlalchemy import create_engine, MetaData, Table, Column, Integer, String, Float, text\n",
        "import pandas as pd\n",
        "import os\n",
        "\n",
        "# Create a SQLAlchemy engine with an in-memory SQLite database\n",
        "engine = create_engine(\"sqlite:///mimic3.db\")\n",
        "engine.connect()"
      ],
      "metadata": {
        "colab": {
          "base_uri": "https://localhost:8080/"
        },
        "id": "0JIVSyxRCIMJ",
        "outputId": "3e79995c-3c3f-4f5b-960b-0c5f630b97cb"
      },
      "execution_count": null,
      "outputs": [
        {
          "output_type": "execute_result",
          "data": {
            "text/plain": [
              "<sqlalchemy.engine.base.Connection at 0x7f93f7278970>"
            ]
          },
          "metadata": {},
          "execution_count": 4
        }
      ]
    },
    {
      "cell_type": "code",
      "source": [
        "csv_directory = '/content/physionet.org/files/mimiciii-demo/1.4'\n",
        "# List to store table objects\n",
        "tables = []\n",
        "\n",
        "# Iterate over CSV files in the directory\n",
        "for file_name in os.listdir(csv_directory):\n",
        "  if file_name.endswith(\".csv\"):\n",
        "    # Use the CSV file name (without extension) as the table name\n",
        "    table_name = os.path.splitext(file_name)[0]\n",
        "    tables.append(table_name)\n",
        "    # Read CSV file into a pandas DataFrame\n",
        "    df = pd.read_csv(os.path.join(csv_directory, file_name), low_memory=False)\n",
        "    print(df.head())\n",
        "\n",
        "    # Insert data into the table\n",
        "    df.to_sql(con=engine,name = table_name,  if_exists='replace', index=False)"
      ],
      "metadata": {
        "colab": {
          "base_uri": "https://localhost:8080/"
        },
        "id": "E8S2XuTltX9u",
        "outputId": "457495f8-7861-4017-9a9e-5e2439e814b0"
      },
      "execution_count": null,
      "outputs": [
        {
          "output_type": "stream",
          "name": "stdout",
          "text": [
            "   row_id  subject_id gender                  dob                  dod  \\\n",
            "0    9467       10006      F  2094-03-05 00:00:00  2165-08-12 00:00:00   \n",
            "1    9472       10011      F  2090-06-05 00:00:00  2126-08-28 00:00:00   \n",
            "2    9474       10013      F  2038-09-03 00:00:00  2125-10-07 00:00:00   \n",
            "3    9478       10017      F  2075-09-21 00:00:00  2152-09-12 00:00:00   \n",
            "4    9479       10019      M  2114-06-20 00:00:00  2163-05-15 00:00:00   \n",
            "\n",
            "              dod_hosp              dod_ssn  expire_flag  \n",
            "0  2165-08-12 00:00:00  2165-08-12 00:00:00            1  \n",
            "1  2126-08-28 00:00:00                  NaN            1  \n",
            "2  2125-10-07 00:00:00  2125-10-07 00:00:00            1  \n",
            "3                  NaN  2152-09-12 00:00:00            1  \n",
            "4  2163-05-15 00:00:00  2163-05-15 00:00:00            1  \n",
            "   row_id  subject_id  hadm_id  seq_num  icd9_code\n",
            "0    3994       10114   167957        1       3605\n",
            "1    3995       10114   167957        2       3722\n",
            "2    3996       10114   167957        3       8856\n",
            "3    3997       10114   167957        4       9920\n",
            "4    3998       10114   167957        5       9671\n",
            "   row_id  icd9_code               short_title  \\\n",
            "0       1       1423  Chorioret les xenon coag   \n",
            "1       2       1424  Chorioret les laser coag   \n",
            "2       3       1425  Chorioret les p/coag NOS   \n",
            "3       4       1426   Chorioret les radiother   \n",
            "4       5       1427  Chorioret les rad implan   \n",
            "\n",
            "                                          long_title  \n",
            "0  Destruction of chorioretinal lesion by xenon a...  \n",
            "1  Destruction of chorioretinal lesion by laser p...  \n",
            "2  Destruction of chorioretinal lesion by photoco...  \n",
            "3  Destruction of chorioretinal lesion by radiati...  \n",
            "4  Destruction of chorioretinal lesion by implant...  \n",
            "   row_id  subject_id  hadm_id  icustay_id dbsource first_careunit  \\\n",
            "0   12742       10006   142345      206504  carevue           MICU   \n",
            "1   12747       10011   105331      232110  carevue           MICU   \n",
            "2   12749       10013   165520      264446  carevue           MICU   \n",
            "3   12754       10017   199207      204881  carevue            CCU   \n",
            "4   12755       10019   177759      228977  carevue           MICU   \n",
            "\n",
            "  last_careunit  first_wardid  last_wardid               intime  \\\n",
            "0          MICU            52           52  2164-10-23 21:10:15   \n",
            "1          MICU            15           15  2126-08-14 22:34:00   \n",
            "2          MICU            15           15  2125-10-04 23:38:00   \n",
            "3           CCU             7            7  2149-05-29 18:52:29   \n",
            "4          MICU            15           15  2163-05-14 20:43:56   \n",
            "\n",
            "               outtime      los  \n",
            "0  2164-10-25 12:21:07   1.6325  \n",
            "1  2126-08-28 18:59:00  13.8507  \n",
            "2  2125-10-07 15:13:52   2.6499  \n",
            "3  2149-05-31 22:19:17   2.1436  \n",
            "4  2163-05-16 03:47:04   1.2938  \n",
            "Empty DataFrame\n",
            "Columns: [row_id, subject_id, hadm_id, chartdate, charttime, storetime, category, description, cgid, iserror, text]\n",
            "Index: []\n",
            "   row_id  subject_id  hadm_id  icustay_id  itemid            charttime  \\\n",
            "0  208474       10076   198503    201006.0    5684  2107-03-25 04:00:00   \n",
            "1  208475       10076   198503    201006.0    5684  2107-03-25 07:00:00   \n",
            "2  208836       10076   198503    201006.0    5684  2107-03-26 04:00:00   \n",
            "3  208837       10076   198503    201006.0    5684  2107-03-26 08:00:00   \n",
            "4  208838       10076   198503    201006.0    5684  2107-03-26 16:00:00   \n",
            "\n",
            "             storetime   cgid                value valueuom  warning  error  \\\n",
            "0  2107-03-25 04:34:00  20482  2107-03-24 00:00:00     Date      NaN    NaN   \n",
            "1  2107-03-25 07:06:00  15004  2107-03-24 00:00:00     Date      NaN    NaN   \n",
            "2  2107-03-26 05:31:00  20834  2107-03-24 00:00:00     Date      NaN    NaN   \n",
            "3  2107-03-26 08:33:00  17480  2107-03-24 00:00:00     Date      NaN    NaN   \n",
            "4  2107-03-26 16:08:00  17480  2107-03-24 00:00:00     Date      NaN    NaN   \n",
            "\n",
            "   resultstatus   stopped  \n",
            "0           NaN  NotStopd  \n",
            "1           NaN  NotStopd  \n",
            "2           NaN  NotStopd  \n",
            "3           NaN  NotStopd  \n",
            "4           NaN  NotStopd  \n",
            "   row_id  subject_id  hadm_id            chartdate            charttime  \\\n",
            "0  134694       10006   142345  2164-10-23 00:00:00  2164-10-23 15:30:00   \n",
            "1  134695       10006   142345  2164-10-23 00:00:00  2164-10-23 15:30:00   \n",
            "2  134696       10006   142345  2164-10-23 00:00:00  2164-10-23 15:30:00   \n",
            "3  134697       10006   142345  2164-10-23 00:00:00  2164-10-23 15:30:00   \n",
            "4  134698       10006   142345  2164-10-23 00:00:00  2164-10-23 15:30:00   \n",
            "\n",
            "   spec_itemid spec_type_desc  org_itemid                            org_name  \\\n",
            "0        70012  BLOOD CULTURE     80155.0  STAPHYLOCOCCUS, COAGULASE NEGATIVE   \n",
            "1        70012  BLOOD CULTURE     80155.0  STAPHYLOCOCCUS, COAGULASE NEGATIVE   \n",
            "2        70012  BLOOD CULTURE     80155.0  STAPHYLOCOCCUS, COAGULASE NEGATIVE   \n",
            "3        70012  BLOOD CULTURE     80155.0  STAPHYLOCOCCUS, COAGULASE NEGATIVE   \n",
            "4        70012  BLOOD CULTURE     80155.0  STAPHYLOCOCCUS, COAGULASE NEGATIVE   \n",
            "\n",
            "   isolate_num  ab_itemid       ab_name dilution_text dilution_comparison  \\\n",
            "0          2.0        NaN           NaN           NaN                 NaN   \n",
            "1          1.0    90015.0    VANCOMYCIN             2                   =   \n",
            "2          1.0    90012.0    GENTAMICIN         <=0.5                  <=   \n",
            "3          1.0    90025.0  LEVOFLOXACIN             4                   =   \n",
            "4          1.0    90016.0     OXACILLIN           =>4                  =>   \n",
            "\n",
            "   dilution_value interpretation  \n",
            "0             NaN            NaN  \n",
            "1             2.0              S  \n",
            "2             1.0              S  \n",
            "3             4.0              I  \n",
            "4             4.0              R  \n",
            "   row_id  subject_id  hadm_id  submit_wardid submit_careunit  curr_wardid  \\\n",
            "0    3917       10017   199207              7             NaN           45   \n",
            "1    3919       10026   103770             33             NaN            3   \n",
            "2    3920       10027   199395             12             NaN           55   \n",
            "3    3921       10029   132349             33             NaN           45   \n",
            "4    3922       10033   157235             33             NaN            4   \n",
            "\n",
            "  curr_careunit  callout_wardid callout_service  request_tele  ...  \\\n",
            "0           CCU               1             MED             1  ...   \n",
            "1          SICU               3            NMED             1  ...   \n",
            "2          CSRU              55           CSURG             1  ...   \n",
            "3          SICU               1             MED             0  ...   \n",
            "4          SICU               1             MED             1  ...   \n",
            "\n",
            "   callout_status  callout_outcome  discharge_wardid  acknowledge_status  \\\n",
            "0        Inactive       Discharged              45.0        Acknowledged   \n",
            "1        Inactive       Discharged               3.0             Revised   \n",
            "2        Inactive       Discharged              55.0        Acknowledged   \n",
            "3        Inactive       Discharged              45.0        Acknowledged   \n",
            "4        Inactive       Discharged               4.0             Revised   \n",
            "\n",
            "            createtime           updatetime      acknowledgetime  \\\n",
            "0  2149-05-31 10:44:34  2149-05-31 10:44:34  2149-05-31 15:08:04   \n",
            "1  2195-05-18 13:56:20  2195-05-19 15:45:30                  NaN   \n",
            "2  2190-07-20 08:15:20  2190-07-20 08:15:20  2190-07-20 08:57:46   \n",
            "3  2139-09-24 09:53:37  2139-09-24 09:53:37  2139-09-24 09:56:02   \n",
            "4  2132-12-06 10:16:08  2132-12-06 14:53:53                  NaN   \n",
            "\n",
            "           outcometime firstreservationtime currentreservationtime  \n",
            "0  2149-05-31 22:40:02                  NaN                    NaN  \n",
            "1  2195-05-19 17:40:03                  NaN                    NaN  \n",
            "2  2190-07-20 17:10:02                  NaN                    NaN  \n",
            "3  2139-09-25 19:10:01                  NaN                    NaN  \n",
            "4  2132-12-06 15:10:02                  NaN                    NaN  \n",
            "\n",
            "[5 rows x 24 columns]\n",
            "   row_id icd9_code               short_title  \\\n",
            "0       1     01716   Erythem nod tb-oth test   \n",
            "1       2     01720    TB periph lymph-unspec   \n",
            "2       3     01721   TB periph lymph-no exam   \n",
            "3       4     01722  TB periph lymph-exam unk   \n",
            "4       5     01723  TB periph lymph-micro dx   \n",
            "\n",
            "                                          long_title  \n",
            "0  Erythema nodosum with hypersensitivity reactio...  \n",
            "1  Tuberculosis of peripheral lymph nodes, unspec...  \n",
            "2  Tuberculosis of peripheral lymph nodes, bacter...  \n",
            "3  Tuberculosis of peripheral lymph nodes, bacter...  \n",
            "4  Tuberculosis of peripheral lymph nodes, tuberc...  \n",
            "   row_id  subject_id  hadm_id  icustay_id dbsource  eventtype prev_careunit  \\\n",
            "0   54440       10006   142345    206504.0  carevue      admit           NaN   \n",
            "1   54441       10006   142345         NaN  carevue   transfer          MICU   \n",
            "2   54442       10006   142345         NaN  carevue  discharge           NaN   \n",
            "3   54460       10011   105331    232110.0  carevue      admit           NaN   \n",
            "4   54461       10011   105331         NaN  carevue  discharge          MICU   \n",
            "\n",
            "  curr_careunit  prev_wardid  curr_wardid               intime  \\\n",
            "0          MICU          NaN         52.0  2164-10-23 21:10:15   \n",
            "1           NaN         52.0         45.0  2164-10-25 12:21:07   \n",
            "2           NaN         45.0          NaN  2164-11-01 17:14:27   \n",
            "3          MICU          NaN         15.0  2126-08-14 22:34:00   \n",
            "4           NaN         15.0          NaN  2126-08-28 18:59:00   \n",
            "\n",
            "               outtime     los  \n",
            "0  2164-10-25 12:21:07   39.18  \n",
            "1  2164-11-01 17:14:27  172.89  \n",
            "2                  NaN     NaN  \n",
            "3  2126-08-28 18:59:00  332.42  \n",
            "4                  NaN     NaN  \n",
            "   row_id  subject_id  hadm_id  seq_num icd9_code\n",
            "0  112344       10006   142345        1     99591\n",
            "1  112345       10006   142345        2     99662\n",
            "2  112346       10006   142345        3      5672\n",
            "3  112347       10006   142345        4     40391\n",
            "4  112348       10006   142345        5     42731\n",
            "   row_id  subject_id  hadm_id            admittime            dischtime  \\\n",
            "0   12258       10006   142345  2164-10-23 21:09:00  2164-11-01 17:15:00   \n",
            "1   12263       10011   105331  2126-08-14 22:32:00  2126-08-28 18:59:00   \n",
            "2   12265       10013   165520  2125-10-04 23:36:00  2125-10-07 15:13:00   \n",
            "3   12269       10017   199207  2149-05-26 17:19:00  2149-06-03 18:42:00   \n",
            "4   12270       10019   177759  2163-05-14 20:43:00  2163-05-15 12:00:00   \n",
            "\n",
            "             deathtime admission_type         admission_location  \\\n",
            "0                  NaN      EMERGENCY       EMERGENCY ROOM ADMIT   \n",
            "1  2126-08-28 18:59:00      EMERGENCY  TRANSFER FROM HOSP/EXTRAM   \n",
            "2  2125-10-07 15:13:00      EMERGENCY  TRANSFER FROM HOSP/EXTRAM   \n",
            "3                  NaN      EMERGENCY       EMERGENCY ROOM ADMIT   \n",
            "4  2163-05-15 12:00:00      EMERGENCY  TRANSFER FROM HOSP/EXTRAM   \n",
            "\n",
            "  discharge_location insurance language  religion marital_status  \\\n",
            "0   HOME HEALTH CARE  Medicare      NaN  CATHOLIC      SEPARATED   \n",
            "1       DEAD/EXPIRED   Private      NaN  CATHOLIC         SINGLE   \n",
            "2       DEAD/EXPIRED  Medicare      NaN  CATHOLIC            NaN   \n",
            "3                SNF  Medicare      NaN  CATHOLIC       DIVORCED   \n",
            "4       DEAD/EXPIRED  Medicare      NaN  CATHOLIC       DIVORCED   \n",
            "\n",
            "                ethnicity            edregtime            edouttime  \\\n",
            "0  BLACK/AFRICAN AMERICAN  2164-10-23 16:43:00  2164-10-23 23:00:00   \n",
            "1   UNKNOWN/NOT SPECIFIED                  NaN                  NaN   \n",
            "2   UNKNOWN/NOT SPECIFIED                  NaN                  NaN   \n",
            "3                   WHITE  2149-05-26 12:08:00  2149-05-26 19:45:00   \n",
            "4                   WHITE                  NaN                  NaN   \n",
            "\n",
            "             diagnosis  hospital_expire_flag  has_chartevents_data  \n",
            "0               SEPSIS                     0                     1  \n",
            "1          HEPATITIS B                     1                     1  \n",
            "2               SEPSIS                     1                     1  \n",
            "3     HUMERAL FRACTURE                     0                     1  \n",
            "4  ALCOHOLIC HEPATITIS                     1                     1  \n",
            "   row_id  subject_id  hadm_id drg_type  drg_code  \\\n",
            "0    1338       10130   156668     HCFA       148   \n",
            "1    2188       10114   167957     HCFA       518   \n",
            "2    2599       10117   187023     HCFA       185   \n",
            "3    2703       10046   133110     HCFA         1   \n",
            "4    3020       10011   105331     HCFA       205   \n",
            "\n",
            "                                         description  drg_severity  \\\n",
            "0  MAJOR SMALL & LARGE BOWEL PROCEDURES WITH COMP...           NaN   \n",
            "1  PERCUTANEOUS CARDIOVASCULAR PROCEDURES WITHOUT...           NaN   \n",
            "2  DENTAL & ORAL DIS EXCEPT EXTRACTIONS & RESTORA...           NaN   \n",
            "3               CRANIOTOMY AGE >17 EXCEPT FOR TRAUMA           NaN   \n",
            "4  DISORDERS OF LIVER EXCEPT MALIGNANCY, CIRRHOSI...           NaN   \n",
            "\n",
            "   drg_mortality  \n",
            "0            NaN  \n",
            "1            NaN  \n",
            "2            NaN  \n",
            "3            NaN  \n",
            "4            NaN  \n",
            "   row_id  category sectionrange              sectionheader subsectionrange  \\\n",
            "0       1         1  99201-99499  Evaluation and management     99201-99216   \n",
            "1       2         1  99201-99499  Evaluation and management     99217-99220   \n",
            "2       3         1  99201-99499  Evaluation and management     99221-99239   \n",
            "3       4         1  99201-99499  Evaluation and management     99241-99255   \n",
            "4       5         1  99201-99499  Evaluation and management     99261-99263   \n",
            "\n",
            "                                    subsectionheader codesuffix  \\\n",
            "0                   Office/other outpatient services        NaN   \n",
            "1                      Hospital observation services        NaN   \n",
            "2                        Hospital inpatient services        NaN   \n",
            "3                                      Consultations        NaN   \n",
            "4  Follow-up inpatient consultations (deleted codes)        NaN   \n",
            "\n",
            "   mincodeinsubsection  maxcodeinsubsection  \n",
            "0                99201                99216  \n",
            "1                99217                99220  \n",
            "2                99221                99239  \n",
            "3                99241                99255  \n",
            "4                99261                99263  \n",
            "    row_id  subject_id  hadm_id  icustay_id  itemid            charttime  \\\n",
            "0  5279021       40124   126179    279554.0  223761  2130-02-04 04:00:00   \n",
            "1  5279022       40124   126179    279554.0  224695  2130-02-04 04:25:00   \n",
            "2  5279023       40124   126179    279554.0  220210  2130-02-04 04:30:00   \n",
            "3  5279024       40124   126179    279554.0  220045  2130-02-04 04:32:00   \n",
            "4  5279025       40124   126179    279554.0  220179  2130-02-04 04:32:00   \n",
            "\n",
            "             storetime   cgid      value   valuenum  valueuom  warning  error  \\\n",
            "0  2130-02-04 04:35:00  19085       95.9       95.9        ?F      0.0    0.0   \n",
            "1  2130-02-04 05:55:00  18999  2222221.7  2222221.7     cmH2O      0.0    0.0   \n",
            "2  2130-02-04 04:43:00  21452         15       15.0  insp/min      0.0    0.0   \n",
            "3  2130-02-04 04:43:00  21452         94       94.0       bpm      0.0    0.0   \n",
            "4  2130-02-04 04:43:00  21452        163      163.0      mmHg      0.0    0.0   \n",
            "\n",
            "  resultstatus stopped  \n",
            "0          NaN     NaN  \n",
            "1          NaN     NaN  \n",
            "2          NaN     NaN  \n",
            "3          NaN     NaN  \n",
            "4          NaN     NaN  \n",
            "   row_id  subject_id  hadm_id  icustay_id            charttime  itemid  \\\n",
            "0    6540       10114   167957    234989.0  2171-10-30 20:00:00   40055   \n",
            "1    6541       10114   167957    234989.0  2171-10-30 21:00:00   40055   \n",
            "2    6542       10114   167957    234989.0  2171-10-30 23:00:00   40055   \n",
            "3    6543       10114   167957    234989.0  2171-10-31 00:00:00   40055   \n",
            "4    6544       10114   167957    234989.0  2171-10-31 02:00:00   40055   \n",
            "\n",
            "   value valueuom            storetime   cgid  stopped  newbottle  iserror  \n",
            "0   39.0       ml  2171-10-30 20:38:00  15029      NaN        NaN      NaN  \n",
            "1   35.0       ml  2171-10-30 21:18:00  15029      NaN        NaN      NaN  \n",
            "2  100.0       ml  2171-10-30 23:31:00  15029      NaN        NaN      NaN  \n",
            "3   45.0       ml  2171-10-31 00:24:00  15029      NaN        NaN      NaN  \n",
            "4   80.0       ml  2171-10-31 02:02:00  15029      NaN        NaN      NaN  \n",
            "   row_id  subject_id  hadm_id  icustay_id            startdate  \\\n",
            "0   32600       42458   159647         NaN  2146-07-21 00:00:00   \n",
            "1   32601       42458   159647         NaN  2146-07-21 00:00:00   \n",
            "2   32602       42458   159647         NaN  2146-07-21 00:00:00   \n",
            "3   32603       42458   159647         NaN  2146-07-21 00:00:00   \n",
            "4   32604       42458   159647         NaN  2146-07-21 00:00:00   \n",
            "\n",
            "               enddate drug_type                         drug  \\\n",
            "0  2146-07-22 00:00:00      MAIN  Pneumococcal Vac Polyvalent   \n",
            "1  2146-07-22 00:00:00      MAIN                    Bisacodyl   \n",
            "2  2146-07-22 00:00:00      MAIN                    Bisacodyl   \n",
            "3  2146-07-22 00:00:00      MAIN                        Senna   \n",
            "4  2146-07-21 00:00:00      MAIN     Docusate Sodium (Liquid)   \n",
            "\n",
            "                 drug_name_poe            drug_name_generic formulary_drug_cd  \\\n",
            "0  Pneumococcal Vac Polyvalent  PNEUMOcoccal Vac Polyvalent           PNEU25I   \n",
            "1                    Bisacodyl                    Bisacodyl             BISA5   \n",
            "2                    Bisacodyl           Bisacodyl (Rectal)           BISA10R   \n",
            "3                        Senna                        Senna           SENN187   \n",
            "4     Docusate Sodium (Liquid)     Docusate Sodium (Liquid)          DOCU100L   \n",
            "\n",
            "       gsn          ndc     prod_strength dose_val_rx dose_unit_rx  \\\n",
            "0  48548.0    6494300.0  25mcg/0.5mL Vial         0.5           mL   \n",
            "1   2947.0  536338101.0          5 mg Tab          10           mg   \n",
            "2   2944.0  574705050.0  10mg Suppository          10           mg   \n",
            "3  19964.0  904516561.0          1 Tablet           1          TAB   \n",
            "4   3017.0  121054410.0      100mg UD Cup         100           mg   \n",
            "\n",
            "  form_val_disp form_unit_disp route  \n",
            "0             1           VIAL    IM  \n",
            "1             2            TAB    PO  \n",
            "2             1           SUPP    PR  \n",
            "3             1            TAB    PO  \n",
            "4             1          UDCUP    PO  \n",
            "   row_id  itemid                                label  fluid   category  \\\n",
            "0       1   50800                        SPECIMEN TYPE  BLOOD  BLOOD GAS   \n",
            "1       2   50801           Alveolar-arterial Gradient  Blood  Blood Gas   \n",
            "2       3   50802                          Base Excess  Blood  Blood Gas   \n",
            "3       4   50803  Calculated Bicarbonate, Whole Blood  Blood  Blood Gas   \n",
            "4       5   50804                 Calculated Total CO2  Blood  Blood Gas   \n",
            "\n",
            "  loinc_code  \n",
            "0        NaN  \n",
            "1    19991-9  \n",
            "2    11555-0  \n",
            "3     1959-6  \n",
            "4    34728-6  \n",
            "   row_id  subject_id  hadm_id  icustay_id            starttime  \\\n",
            "0  118897       42367   139932      250305  2147-10-29 16:45:00   \n",
            "1  118898       42367   139932      250305  2147-10-20 13:17:00   \n",
            "2  118899       42367   139932      250305  2147-10-29 03:23:00   \n",
            "3  118900       42367   139932      250305  2147-10-22 22:00:00   \n",
            "4  118901       42367   139932      250305  2147-10-16 06:21:00   \n",
            "\n",
            "               endtime  itemid       amount amountuom        rate  ...  \\\n",
            "0  2147-10-29 16:46:00  225799    60.000000        ml         NaN  ...   \n",
            "1  2147-10-20 13:18:00  223258    10.000000     units         NaN  ...   \n",
            "2  2147-10-29 03:53:00  226089    99.999999        ml  199.999998  ...   \n",
            "3  2147-10-22 22:01:00  225799    40.000000        ml         NaN  ...   \n",
            "4  2147-10-17 06:10:00  225936  1309.899995        ml   54.999300  ...   \n",
            "\n",
            "  totalamountuom isopenbag  continueinnextdept  cancelreason  \\\n",
            "0             ml         0                   0             0   \n",
            "1            NaN         0                   0             1   \n",
            "2             ml         0                   0             0   \n",
            "3             ml         0                   0             0   \n",
            "4             ml         0                   0             0   \n",
            "\n",
            "   statusdescription comments_editedby comments_canceledby  \\\n",
            "0    FinishedRunning               NaN                 NaN   \n",
            "1          Rewritten               NaN                  RN   \n",
            "2    FinishedRunning               NaN                 NaN   \n",
            "3    FinishedRunning               NaN                 NaN   \n",
            "4    FinishedRunning               NaN                 NaN   \n",
            "\n",
            "         comments_date originalamount  originalrate  \n",
            "0                  NaN           60.0     60.000000  \n",
            "1  2147-10-20 13:18:00           10.0     10.000000  \n",
            "2                  NaN          100.0    200.000000  \n",
            "3                  NaN           40.0     40.000000  \n",
            "4                  NaN         1309.9     54.999298  \n",
            "\n",
            "[5 rows x 31 columns]\n",
            "   row_id  subject_id  hadm_id  icustay_id            charttime  itemid  \\\n",
            "0    1184       10114   167957      234989  2171-11-03 15:00:00   30056   \n",
            "1    1185       10114   167957      234989  2171-11-03 20:00:00   30056   \n",
            "2    1186       10114   167957      234989  2171-11-03 23:00:00   30056   \n",
            "3    1187       10114   167957      234989  2171-11-04 02:00:00   30056   \n",
            "4    1188       10114   167957      234989  2171-11-04 05:00:00   30056   \n",
            "\n",
            "   amount amountuom  rate rateuom  ...   orderid  linkorderid  stopped  \\\n",
            "0   400.0        ml   NaN     NaN  ...   2557279      2557279      NaN   \n",
            "1   120.0        ml   NaN     NaN  ...   7828849      2557279      NaN   \n",
            "2   120.0        ml   NaN     NaN  ...   2744159      2557279      NaN   \n",
            "3   120.0        ml   NaN     NaN  ...   8475006      2557279      NaN   \n",
            "4   120.0        ml   NaN     NaN  ...  11183474      2557279      NaN   \n",
            "\n",
            "   newbottle originalamount  originalamountuom  originalroute originalrate  \\\n",
            "0        NaN            NaN                 ml           Oral          NaN   \n",
            "1        NaN            NaN                 ml           Oral          NaN   \n",
            "2        NaN            NaN                 ml           Oral          NaN   \n",
            "3        NaN            NaN                 ml           Oral          NaN   \n",
            "4        NaN            NaN                 ml           Oral          NaN   \n",
            "\n",
            "  originalrateuom  originalsite  \n",
            "0             NaN           NaN  \n",
            "1             NaN           NaN  \n",
            "2             NaN           NaN  \n",
            "3             NaN           NaN  \n",
            "4             NaN           NaN  \n",
            "\n",
            "[5 rows x 22 columns]\n",
            "   row_id   cgid label            description\n",
            "0    2228  16174    RO              Read Only\n",
            "1    2229  16175    RO              Read Only\n",
            "2    2230  16176   Res  Resident/Fellow/PA/NP\n",
            "3    2231  16177    RO              Read Only\n",
            "4    2232  16178    RT            Respiratory\n",
            "   row_id  subject_id  hadm_id         transfertime prev_service curr_service\n",
            "0   14974       10006   142345  2164-10-23 21:10:15          NaN          MED\n",
            "1   14979       10011   105331  2126-08-14 22:34:00          NaN          MED\n",
            "2   14981       10013   165520  2125-10-04 23:38:00          NaN          MED\n",
            "3   14985       10017   199207  2149-05-26 17:21:09          NaN          MED\n",
            "4   14986       10019   177759  2163-05-14 20:43:56          NaN          MED\n",
            "   row_id  subject_id  hadm_id  icustay_id            starttime  \\\n",
            "0    8641       42367   139932      250305  2147-10-03 16:40:00   \n",
            "1    8642       42367   139932      250305  2147-10-03 16:41:00   \n",
            "2    8643       42367   139932      250305  2147-10-03 17:10:00   \n",
            "3    8644       42367   139932      250305  2147-10-04 11:00:00   \n",
            "4    8645       42367   139932      250305  2147-10-04 14:16:00   \n",
            "\n",
            "               endtime  itemid  value valueuom         location  ...  \\\n",
            "0  2147-10-06 20:00:00  224263   4520      min   Right Femoral.  ...   \n",
            "1  2147-10-12 16:38:00  225204  12957      min  Right Antecube   ...   \n",
            "2  2147-10-18 15:15:00  225792  21485      min              NaN  ...   \n",
            "3  2147-10-04 11:01:00  221214      1     None              NaN  ...   \n",
            "4  2147-10-04 14:17:00  221223      1     None              NaN  ...   \n",
            "\n",
            "  ordercategoryname secondaryordercategoryname  ordercategorydescription  \\\n",
            "0    Invasive Lines                        NaN                      Task   \n",
            "1    Invasive Lines                        NaN                      Task   \n",
            "2       Ventilation                        NaN                      Task   \n",
            "3           Imaging                        NaN              Electrolytes   \n",
            "4        Procedures                        NaN              Electrolytes   \n",
            "\n",
            "   isopenbag  continueinnextdept cancelreason  statusdescription  \\\n",
            "0          1                   0            0    FinishedRunning   \n",
            "1          1                   0            0    FinishedRunning   \n",
            "2          1                   0            0    FinishedRunning   \n",
            "3          0                   0            0    FinishedRunning   \n",
            "4          0                   0            0    FinishedRunning   \n",
            "\n",
            "  comments_editedby  comments_canceledby  comments_date  \n",
            "0               NaN                  NaN            NaN  \n",
            "1               NaN                  NaN            NaN  \n",
            "2               NaN                  NaN            NaN  \n",
            "3               NaN                  NaN            NaN  \n",
            "4               NaN                  NaN            NaN  \n",
            "\n",
            "[5 rows x 25 columns]\n",
            "    row_id  subject_id  hadm_id  itemid            charttime value  valuenum  \\\n",
            "0  6244563       10006      NaN   50868  2164-09-24 20:21:00    19      19.0   \n",
            "1  6244564       10006      NaN   50882  2164-09-24 20:21:00    27      27.0   \n",
            "2  6244565       10006      NaN   50893  2164-09-24 20:21:00  10.0      10.0   \n",
            "3  6244566       10006      NaN   50902  2164-09-24 20:21:00    97      97.0   \n",
            "4  6244567       10006      NaN   50912  2164-09-24 20:21:00   7.0       7.0   \n",
            "\n",
            "  valueuom      flag  \n",
            "0    mEq/L       NaN  \n",
            "1    mEq/L       NaN  \n",
            "2    mg/dL       NaN  \n",
            "3    mEq/L       NaN  \n",
            "4    mg/dL  abnormal  \n",
            "   row_id  itemid                 label abbreviation dbsource      linksto  \\\n",
            "0       1    1435    Sustained Nystamus          NaN  carevue  chartevents   \n",
            "1       2    1436  Tactile Disturbances          NaN  carevue  chartevents   \n",
            "2       3    1437                Tremor          NaN  carevue  chartevents   \n",
            "3       4    1438   Ulnar Pulse [Right]          NaN  carevue  chartevents   \n",
            "4       5    1439   Visual Disturbances          NaN  carevue  chartevents   \n",
            "\n",
            "  category unitname param_type  conceptid  \n",
            "0      NaN      NaN        NaN        NaN  \n",
            "1      NaN      NaN        NaN        NaN  \n",
            "2      NaN      NaN        NaN        NaN  \n",
            "3      NaN      NaN        NaN        NaN  \n",
            "4      NaN      NaN        NaN        NaN  \n",
            "   row_id  subject_id  hadm_id costcenter chartdate  cpt_cd  cpt_number  \\\n",
            "0    4615       10117   105150        ICU       NaN   99254       99254   \n",
            "1    4616       10117   105150        ICU       NaN   99231       99231   \n",
            "2    4617       10117   105150        ICU       NaN   90935       90935   \n",
            "3    4618       10117   105150        ICU       NaN   99231       99231   \n",
            "4    7753       10111   174739        ICU       NaN   99253       99253   \n",
            "\n",
            "   cpt_suffix  ticket_id_seq              sectionheader  \\\n",
            "0         NaN            1.0  Evaluation and management   \n",
            "1         NaN            2.0  Evaluation and management   \n",
            "2         NaN            3.0                   Medicine   \n",
            "3         NaN            4.0  Evaluation and management   \n",
            "4         NaN            1.0  Evaluation and management   \n",
            "\n",
            "              subsectionheader description  \n",
            "0                Consultations         NaN  \n",
            "1  Hospital inpatient services         NaN  \n",
            "2                     Dialysis         NaN  \n",
            "3  Hospital inpatient services         NaN  \n",
            "4                Consultations         NaN  \n"
          ]
        }
      ]
    },
    {
      "cell_type": "code",
      "source": [
        "tables"
      ],
      "metadata": {
        "colab": {
          "base_uri": "https://localhost:8080/"
        },
        "id": "2eNai2FXosRe",
        "outputId": "6ce78710-98a9-41d1-92a2-784080191885"
      },
      "execution_count": null,
      "outputs": [
        {
          "output_type": "execute_result",
          "data": {
            "text/plain": [
              "['PATIENTS',\n",
              " 'PROCEDURES_ICD',\n",
              " 'D_ICD_PROCEDURES',\n",
              " 'ICUSTAYS',\n",
              " 'NOTEEVENTS',\n",
              " 'DATETIMEEVENTS',\n",
              " 'MICROBIOLOGYEVENTS',\n",
              " 'CALLOUT',\n",
              " 'D_ICD_DIAGNOSES',\n",
              " 'TRANSFERS',\n",
              " 'DIAGNOSES_ICD',\n",
              " 'ADMISSIONS',\n",
              " 'DRGCODES',\n",
              " 'D_CPT',\n",
              " 'CHARTEVENTS',\n",
              " 'OUTPUTEVENTS',\n",
              " 'PRESCRIPTIONS',\n",
              " 'D_LABITEMS',\n",
              " 'INPUTEVENTS_MV',\n",
              " 'INPUTEVENTS_CV',\n",
              " 'CAREGIVERS',\n",
              " 'SERVICES',\n",
              " 'PROCEDUREEVENTS_MV',\n",
              " 'LABEVENTS',\n",
              " 'D_ITEMS',\n",
              " 'CPTEVENTS']"
            ]
          },
          "metadata": {},
          "execution_count": 6
        }
      ]
    },
    {
      "cell_type": "code",
      "source": [
        "# Confirm data insertion\n",
        "for table_name in tables:\n",
        "  result_data = pd.read_sql(text(f\"SELECT * FROM '{table_name}' LIMIT 5\"),engine.connect())\n",
        "  print(f\"\\nContents of table '{table_name}':\")\n",
        "  print(result_data)"
      ],
      "metadata": {
        "colab": {
          "base_uri": "https://localhost:8080/"
        },
        "id": "mt688m8fjoRF",
        "outputId": "4fde94c1-1cb2-41cb-f094-712ffbfd9e5b"
      },
      "execution_count": null,
      "outputs": [
        {
          "output_type": "stream",
          "name": "stdout",
          "text": [
            "\n",
            "Contents of table 'PATIENTS':\n",
            "   row_id  subject_id gender                  dob                  dod  \\\n",
            "0    9467       10006      F  2094-03-05 00:00:00  2165-08-12 00:00:00   \n",
            "1    9472       10011      F  2090-06-05 00:00:00  2126-08-28 00:00:00   \n",
            "2    9474       10013      F  2038-09-03 00:00:00  2125-10-07 00:00:00   \n",
            "3    9478       10017      F  2075-09-21 00:00:00  2152-09-12 00:00:00   \n",
            "4    9479       10019      M  2114-06-20 00:00:00  2163-05-15 00:00:00   \n",
            "\n",
            "              dod_hosp              dod_ssn  expire_flag  \n",
            "0  2165-08-12 00:00:00  2165-08-12 00:00:00            1  \n",
            "1  2126-08-28 00:00:00                 None            1  \n",
            "2  2125-10-07 00:00:00  2125-10-07 00:00:00            1  \n",
            "3                 None  2152-09-12 00:00:00            1  \n",
            "4  2163-05-15 00:00:00  2163-05-15 00:00:00            1  \n",
            "\n",
            "Contents of table 'PROCEDURES_ICD':\n",
            "   row_id  subject_id  hadm_id  seq_num  icd9_code\n",
            "0    3994       10114   167957        1       3605\n",
            "1    3995       10114   167957        2       3722\n",
            "2    3996       10114   167957        3       8856\n",
            "3    3997       10114   167957        4       9920\n",
            "4    3998       10114   167957        5       9671\n",
            "\n",
            "Contents of table 'D_ICD_PROCEDURES':\n",
            "   row_id  icd9_code               short_title  \\\n",
            "0       1       1423  Chorioret les xenon coag   \n",
            "1       2       1424  Chorioret les laser coag   \n",
            "2       3       1425  Chorioret les p/coag NOS   \n",
            "3       4       1426   Chorioret les radiother   \n",
            "4       5       1427  Chorioret les rad implan   \n",
            "\n",
            "                                          long_title  \n",
            "0  Destruction of chorioretinal lesion by xenon a...  \n",
            "1  Destruction of chorioretinal lesion by laser p...  \n",
            "2  Destruction of chorioretinal lesion by photoco...  \n",
            "3  Destruction of chorioretinal lesion by radiati...  \n",
            "4  Destruction of chorioretinal lesion by implant...  \n",
            "\n",
            "Contents of table 'ICUSTAYS':\n",
            "   row_id  subject_id  hadm_id  icustay_id dbsource first_careunit  \\\n",
            "0   12742       10006   142345      206504  carevue           MICU   \n",
            "1   12747       10011   105331      232110  carevue           MICU   \n",
            "2   12749       10013   165520      264446  carevue           MICU   \n",
            "3   12754       10017   199207      204881  carevue            CCU   \n",
            "4   12755       10019   177759      228977  carevue           MICU   \n",
            "\n",
            "  last_careunit  first_wardid  last_wardid               intime  \\\n",
            "0          MICU            52           52  2164-10-23 21:10:15   \n",
            "1          MICU            15           15  2126-08-14 22:34:00   \n",
            "2          MICU            15           15  2125-10-04 23:38:00   \n",
            "3           CCU             7            7  2149-05-29 18:52:29   \n",
            "4          MICU            15           15  2163-05-14 20:43:56   \n",
            "\n",
            "               outtime      los  \n",
            "0  2164-10-25 12:21:07   1.6325  \n",
            "1  2126-08-28 18:59:00  13.8507  \n",
            "2  2125-10-07 15:13:52   2.6499  \n",
            "3  2149-05-31 22:19:17   2.1436  \n",
            "4  2163-05-16 03:47:04   1.2938  \n",
            "\n",
            "Contents of table 'NOTEEVENTS':\n",
            "Empty DataFrame\n",
            "Columns: [row_id, subject_id, hadm_id, chartdate, charttime, storetime, category, description, cgid, iserror, text]\n",
            "Index: []\n",
            "\n",
            "Contents of table 'DATETIMEEVENTS':\n",
            "   row_id  subject_id  hadm_id  icustay_id  itemid            charttime  \\\n",
            "0  208474       10076   198503    201006.0    5684  2107-03-25 04:00:00   \n",
            "1  208475       10076   198503    201006.0    5684  2107-03-25 07:00:00   \n",
            "2  208836       10076   198503    201006.0    5684  2107-03-26 04:00:00   \n",
            "3  208837       10076   198503    201006.0    5684  2107-03-26 08:00:00   \n",
            "4  208838       10076   198503    201006.0    5684  2107-03-26 16:00:00   \n",
            "\n",
            "             storetime   cgid                value valueuom warning error  \\\n",
            "0  2107-03-25 04:34:00  20482  2107-03-24 00:00:00     Date    None  None   \n",
            "1  2107-03-25 07:06:00  15004  2107-03-24 00:00:00     Date    None  None   \n",
            "2  2107-03-26 05:31:00  20834  2107-03-24 00:00:00     Date    None  None   \n",
            "3  2107-03-26 08:33:00  17480  2107-03-24 00:00:00     Date    None  None   \n",
            "4  2107-03-26 16:08:00  17480  2107-03-24 00:00:00     Date    None  None   \n",
            "\n",
            "  resultstatus   stopped  \n",
            "0         None  NotStopd  \n",
            "1         None  NotStopd  \n",
            "2         None  NotStopd  \n",
            "3         None  NotStopd  \n",
            "4         None  NotStopd  \n",
            "\n",
            "Contents of table 'MICROBIOLOGYEVENTS':\n",
            "   row_id  subject_id  hadm_id            chartdate            charttime  \\\n",
            "0  134694       10006   142345  2164-10-23 00:00:00  2164-10-23 15:30:00   \n",
            "1  134695       10006   142345  2164-10-23 00:00:00  2164-10-23 15:30:00   \n",
            "2  134696       10006   142345  2164-10-23 00:00:00  2164-10-23 15:30:00   \n",
            "3  134697       10006   142345  2164-10-23 00:00:00  2164-10-23 15:30:00   \n",
            "4  134698       10006   142345  2164-10-23 00:00:00  2164-10-23 15:30:00   \n",
            "\n",
            "   spec_itemid spec_type_desc  org_itemid                            org_name  \\\n",
            "0        70012  BLOOD CULTURE     80155.0  STAPHYLOCOCCUS, COAGULASE NEGATIVE   \n",
            "1        70012  BLOOD CULTURE     80155.0  STAPHYLOCOCCUS, COAGULASE NEGATIVE   \n",
            "2        70012  BLOOD CULTURE     80155.0  STAPHYLOCOCCUS, COAGULASE NEGATIVE   \n",
            "3        70012  BLOOD CULTURE     80155.0  STAPHYLOCOCCUS, COAGULASE NEGATIVE   \n",
            "4        70012  BLOOD CULTURE     80155.0  STAPHYLOCOCCUS, COAGULASE NEGATIVE   \n",
            "\n",
            "   isolate_num  ab_itemid       ab_name dilution_text dilution_comparison  \\\n",
            "0          2.0        NaN          None          None                None   \n",
            "1          1.0    90015.0    VANCOMYCIN             2                   =   \n",
            "2          1.0    90012.0    GENTAMICIN         <=0.5                  <=   \n",
            "3          1.0    90025.0  LEVOFLOXACIN             4                   =   \n",
            "4          1.0    90016.0     OXACILLIN           =>4                  =>   \n",
            "\n",
            "   dilution_value interpretation  \n",
            "0             NaN           None  \n",
            "1             2.0              S  \n",
            "2             1.0              S  \n",
            "3             4.0              I  \n",
            "4             4.0              R  \n",
            "\n",
            "Contents of table 'CALLOUT':\n",
            "   row_id  subject_id  hadm_id  submit_wardid submit_careunit  curr_wardid  \\\n",
            "0    3917       10017   199207              7            None           45   \n",
            "1    3919       10026   103770             33            None            3   \n",
            "2    3920       10027   199395             12            None           55   \n",
            "3    3921       10029   132349             33            None           45   \n",
            "4    3922       10033   157235             33            None            4   \n",
            "\n",
            "  curr_careunit  callout_wardid callout_service  request_tele  ...  \\\n",
            "0           CCU               1             MED             1  ...   \n",
            "1          SICU               3            NMED             1  ...   \n",
            "2          CSRU              55           CSURG             1  ...   \n",
            "3          SICU               1             MED             0  ...   \n",
            "4          SICU               1             MED             1  ...   \n",
            "\n",
            "   callout_status  callout_outcome  discharge_wardid  acknowledge_status  \\\n",
            "0        Inactive       Discharged              45.0        Acknowledged   \n",
            "1        Inactive       Discharged               3.0             Revised   \n",
            "2        Inactive       Discharged              55.0        Acknowledged   \n",
            "3        Inactive       Discharged              45.0        Acknowledged   \n",
            "4        Inactive       Discharged               4.0             Revised   \n",
            "\n",
            "            createtime           updatetime      acknowledgetime  \\\n",
            "0  2149-05-31 10:44:34  2149-05-31 10:44:34  2149-05-31 15:08:04   \n",
            "1  2195-05-18 13:56:20  2195-05-19 15:45:30                 None   \n",
            "2  2190-07-20 08:15:20  2190-07-20 08:15:20  2190-07-20 08:57:46   \n",
            "3  2139-09-24 09:53:37  2139-09-24 09:53:37  2139-09-24 09:56:02   \n",
            "4  2132-12-06 10:16:08  2132-12-06 14:53:53                 None   \n",
            "\n",
            "           outcometime firstreservationtime currentreservationtime  \n",
            "0  2149-05-31 22:40:02                 None                   None  \n",
            "1  2195-05-19 17:40:03                 None                   None  \n",
            "2  2190-07-20 17:10:02                 None                   None  \n",
            "3  2139-09-25 19:10:01                 None                   None  \n",
            "4  2132-12-06 15:10:02                 None                   None  \n",
            "\n",
            "[5 rows x 24 columns]\n",
            "\n",
            "Contents of table 'D_ICD_DIAGNOSES':\n",
            "   row_id icd9_code               short_title  \\\n",
            "0       1     01716   Erythem nod tb-oth test   \n",
            "1       2     01720    TB periph lymph-unspec   \n",
            "2       3     01721   TB periph lymph-no exam   \n",
            "3       4     01722  TB periph lymph-exam unk   \n",
            "4       5     01723  TB periph lymph-micro dx   \n",
            "\n",
            "                                          long_title  \n",
            "0  Erythema nodosum with hypersensitivity reactio...  \n",
            "1  Tuberculosis of peripheral lymph nodes, unspec...  \n",
            "2  Tuberculosis of peripheral lymph nodes, bacter...  \n",
            "3  Tuberculosis of peripheral lymph nodes, bacter...  \n",
            "4  Tuberculosis of peripheral lymph nodes, tuberc...  \n",
            "\n",
            "Contents of table 'TRANSFERS':\n",
            "   row_id  subject_id  hadm_id  icustay_id dbsource  eventtype prev_careunit  \\\n",
            "0   54440       10006   142345    206504.0  carevue      admit          None   \n",
            "1   54441       10006   142345         NaN  carevue   transfer          MICU   \n",
            "2   54442       10006   142345         NaN  carevue  discharge          None   \n",
            "3   54460       10011   105331    232110.0  carevue      admit          None   \n",
            "4   54461       10011   105331         NaN  carevue  discharge          MICU   \n",
            "\n",
            "  curr_careunit  prev_wardid  curr_wardid               intime  \\\n",
            "0          MICU          NaN         52.0  2164-10-23 21:10:15   \n",
            "1          None         52.0         45.0  2164-10-25 12:21:07   \n",
            "2          None         45.0          NaN  2164-11-01 17:14:27   \n",
            "3          MICU          NaN         15.0  2126-08-14 22:34:00   \n",
            "4          None         15.0          NaN  2126-08-28 18:59:00   \n",
            "\n",
            "               outtime     los  \n",
            "0  2164-10-25 12:21:07   39.18  \n",
            "1  2164-11-01 17:14:27  172.89  \n",
            "2                 None     NaN  \n",
            "3  2126-08-28 18:59:00  332.42  \n",
            "4                 None     NaN  \n",
            "\n",
            "Contents of table 'DIAGNOSES_ICD':\n",
            "   row_id  subject_id  hadm_id  seq_num icd9_code\n",
            "0  112344       10006   142345        1     99591\n",
            "1  112345       10006   142345        2     99662\n",
            "2  112346       10006   142345        3      5672\n",
            "3  112347       10006   142345        4     40391\n",
            "4  112348       10006   142345        5     42731\n",
            "\n",
            "Contents of table 'ADMISSIONS':\n",
            "   row_id  subject_id  hadm_id            admittime            dischtime  \\\n",
            "0   12258       10006   142345  2164-10-23 21:09:00  2164-11-01 17:15:00   \n",
            "1   12263       10011   105331  2126-08-14 22:32:00  2126-08-28 18:59:00   \n",
            "2   12265       10013   165520  2125-10-04 23:36:00  2125-10-07 15:13:00   \n",
            "3   12269       10017   199207  2149-05-26 17:19:00  2149-06-03 18:42:00   \n",
            "4   12270       10019   177759  2163-05-14 20:43:00  2163-05-15 12:00:00   \n",
            "\n",
            "             deathtime admission_type         admission_location  \\\n",
            "0                 None      EMERGENCY       EMERGENCY ROOM ADMIT   \n",
            "1  2126-08-28 18:59:00      EMERGENCY  TRANSFER FROM HOSP/EXTRAM   \n",
            "2  2125-10-07 15:13:00      EMERGENCY  TRANSFER FROM HOSP/EXTRAM   \n",
            "3                 None      EMERGENCY       EMERGENCY ROOM ADMIT   \n",
            "4  2163-05-15 12:00:00      EMERGENCY  TRANSFER FROM HOSP/EXTRAM   \n",
            "\n",
            "  discharge_location insurance language  religion marital_status  \\\n",
            "0   HOME HEALTH CARE  Medicare     None  CATHOLIC      SEPARATED   \n",
            "1       DEAD/EXPIRED   Private     None  CATHOLIC         SINGLE   \n",
            "2       DEAD/EXPIRED  Medicare     None  CATHOLIC           None   \n",
            "3                SNF  Medicare     None  CATHOLIC       DIVORCED   \n",
            "4       DEAD/EXPIRED  Medicare     None  CATHOLIC       DIVORCED   \n",
            "\n",
            "                ethnicity            edregtime            edouttime  \\\n",
            "0  BLACK/AFRICAN AMERICAN  2164-10-23 16:43:00  2164-10-23 23:00:00   \n",
            "1   UNKNOWN/NOT SPECIFIED                 None                 None   \n",
            "2   UNKNOWN/NOT SPECIFIED                 None                 None   \n",
            "3                   WHITE  2149-05-26 12:08:00  2149-05-26 19:45:00   \n",
            "4                   WHITE                 None                 None   \n",
            "\n",
            "             diagnosis  hospital_expire_flag  has_chartevents_data  \n",
            "0               SEPSIS                     0                     1  \n",
            "1          HEPATITIS B                     1                     1  \n",
            "2               SEPSIS                     1                     1  \n",
            "3     HUMERAL FRACTURE                     0                     1  \n",
            "4  ALCOHOLIC HEPATITIS                     1                     1  \n",
            "\n",
            "Contents of table 'DRGCODES':\n",
            "   row_id  subject_id  hadm_id drg_type  drg_code  \\\n",
            "0    1338       10130   156668     HCFA       148   \n",
            "1    2188       10114   167957     HCFA       518   \n",
            "2    2599       10117   187023     HCFA       185   \n",
            "3    2703       10046   133110     HCFA         1   \n",
            "4    3020       10011   105331     HCFA       205   \n",
            "\n",
            "                                         description drg_severity  \\\n",
            "0  MAJOR SMALL & LARGE BOWEL PROCEDURES WITH COMP...         None   \n",
            "1  PERCUTANEOUS CARDIOVASCULAR PROCEDURES WITHOUT...         None   \n",
            "2  DENTAL & ORAL DIS EXCEPT EXTRACTIONS & RESTORA...         None   \n",
            "3               CRANIOTOMY AGE >17 EXCEPT FOR TRAUMA         None   \n",
            "4  DISORDERS OF LIVER EXCEPT MALIGNANCY, CIRRHOSI...         None   \n",
            "\n",
            "  drg_mortality  \n",
            "0          None  \n",
            "1          None  \n",
            "2          None  \n",
            "3          None  \n",
            "4          None  \n",
            "\n",
            "Contents of table 'D_CPT':\n",
            "   row_id  category sectionrange              sectionheader subsectionrange  \\\n",
            "0       1         1  99201-99499  Evaluation and management     99201-99216   \n",
            "1       2         1  99201-99499  Evaluation and management     99217-99220   \n",
            "2       3         1  99201-99499  Evaluation and management     99221-99239   \n",
            "3       4         1  99201-99499  Evaluation and management     99241-99255   \n",
            "4       5         1  99201-99499  Evaluation and management     99261-99263   \n",
            "\n",
            "                                    subsectionheader codesuffix  \\\n",
            "0                   Office/other outpatient services       None   \n",
            "1                      Hospital observation services       None   \n",
            "2                        Hospital inpatient services       None   \n",
            "3                                      Consultations       None   \n",
            "4  Follow-up inpatient consultations (deleted codes)       None   \n",
            "\n",
            "   mincodeinsubsection  maxcodeinsubsection  \n",
            "0                99201                99216  \n",
            "1                99217                99220  \n",
            "2                99221                99239  \n",
            "3                99241                99255  \n",
            "4                99261                99263  \n",
            "\n",
            "Contents of table 'CHARTEVENTS':\n",
            "    row_id  subject_id  hadm_id  icustay_id  itemid            charttime  \\\n",
            "0  5279021       40124   126179    279554.0  223761  2130-02-04 04:00:00   \n",
            "1  5279022       40124   126179    279554.0  224695  2130-02-04 04:25:00   \n",
            "2  5279023       40124   126179    279554.0  220210  2130-02-04 04:30:00   \n",
            "3  5279024       40124   126179    279554.0  220045  2130-02-04 04:32:00   \n",
            "4  5279025       40124   126179    279554.0  220179  2130-02-04 04:32:00   \n",
            "\n",
            "             storetime   cgid      value   valuenum  valueuom  warning  error  \\\n",
            "0  2130-02-04 04:35:00  19085       95.9       95.9        ?F      0.0    0.0   \n",
            "1  2130-02-04 05:55:00  18999  2222221.7  2222221.7     cmH2O      0.0    0.0   \n",
            "2  2130-02-04 04:43:00  21452         15       15.0  insp/min      0.0    0.0   \n",
            "3  2130-02-04 04:43:00  21452         94       94.0       bpm      0.0    0.0   \n",
            "4  2130-02-04 04:43:00  21452        163      163.0      mmHg      0.0    0.0   \n",
            "\n",
            "  resultstatus stopped  \n",
            "0         None    None  \n",
            "1         None    None  \n",
            "2         None    None  \n",
            "3         None    None  \n",
            "4         None    None  \n",
            "\n",
            "Contents of table 'OUTPUTEVENTS':\n",
            "   row_id  subject_id  hadm_id  icustay_id            charttime  itemid  \\\n",
            "0    6540       10114   167957    234989.0  2171-10-30 20:00:00   40055   \n",
            "1    6541       10114   167957    234989.0  2171-10-30 21:00:00   40055   \n",
            "2    6542       10114   167957    234989.0  2171-10-30 23:00:00   40055   \n",
            "3    6543       10114   167957    234989.0  2171-10-31 00:00:00   40055   \n",
            "4    6544       10114   167957    234989.0  2171-10-31 02:00:00   40055   \n",
            "\n",
            "   value valueuom            storetime   cgid stopped newbottle iserror  \n",
            "0   39.0       ml  2171-10-30 20:38:00  15029    None      None    None  \n",
            "1   35.0       ml  2171-10-30 21:18:00  15029    None      None    None  \n",
            "2  100.0       ml  2171-10-30 23:31:00  15029    None      None    None  \n",
            "3   45.0       ml  2171-10-31 00:24:00  15029    None      None    None  \n",
            "4   80.0       ml  2171-10-31 02:02:00  15029    None      None    None  \n",
            "\n",
            "Contents of table 'PRESCRIPTIONS':\n",
            "   row_id  subject_id  hadm_id icustay_id            startdate  \\\n",
            "0   32600       42458   159647       None  2146-07-21 00:00:00   \n",
            "1   32601       42458   159647       None  2146-07-21 00:00:00   \n",
            "2   32602       42458   159647       None  2146-07-21 00:00:00   \n",
            "3   32603       42458   159647       None  2146-07-21 00:00:00   \n",
            "4   32604       42458   159647       None  2146-07-21 00:00:00   \n",
            "\n",
            "               enddate drug_type                         drug  \\\n",
            "0  2146-07-22 00:00:00      MAIN  Pneumococcal Vac Polyvalent   \n",
            "1  2146-07-22 00:00:00      MAIN                    Bisacodyl   \n",
            "2  2146-07-22 00:00:00      MAIN                    Bisacodyl   \n",
            "3  2146-07-22 00:00:00      MAIN                        Senna   \n",
            "4  2146-07-21 00:00:00      MAIN     Docusate Sodium (Liquid)   \n",
            "\n",
            "                 drug_name_poe            drug_name_generic formulary_drug_cd  \\\n",
            "0  Pneumococcal Vac Polyvalent  PNEUMOcoccal Vac Polyvalent           PNEU25I   \n",
            "1                    Bisacodyl                    Bisacodyl             BISA5   \n",
            "2                    Bisacodyl           Bisacodyl (Rectal)           BISA10R   \n",
            "3                        Senna                        Senna           SENN187   \n",
            "4     Docusate Sodium (Liquid)     Docusate Sodium (Liquid)          DOCU100L   \n",
            "\n",
            "       gsn          ndc     prod_strength dose_val_rx dose_unit_rx  \\\n",
            "0  48548.0    6494300.0  25mcg/0.5mL Vial         0.5           mL   \n",
            "1   2947.0  536338101.0          5 mg Tab          10           mg   \n",
            "2   2944.0  574705050.0  10mg Suppository          10           mg   \n",
            "3  19964.0  904516561.0          1 Tablet           1          TAB   \n",
            "4   3017.0  121054410.0      100mg UD Cup         100           mg   \n",
            "\n",
            "  form_val_disp form_unit_disp route  \n",
            "0             1           VIAL    IM  \n",
            "1             2            TAB    PO  \n",
            "2             1           SUPP    PR  \n",
            "3             1            TAB    PO  \n",
            "4             1          UDCUP    PO  \n",
            "\n",
            "Contents of table 'D_LABITEMS':\n",
            "   row_id  itemid                                label  fluid   category  \\\n",
            "0       1   50800                        SPECIMEN TYPE  BLOOD  BLOOD GAS   \n",
            "1       2   50801           Alveolar-arterial Gradient  Blood  Blood Gas   \n",
            "2       3   50802                          Base Excess  Blood  Blood Gas   \n",
            "3       4   50803  Calculated Bicarbonate, Whole Blood  Blood  Blood Gas   \n",
            "4       5   50804                 Calculated Total CO2  Blood  Blood Gas   \n",
            "\n",
            "  loinc_code  \n",
            "0       None  \n",
            "1    19991-9  \n",
            "2    11555-0  \n",
            "3     1959-6  \n",
            "4    34728-6  \n",
            "\n",
            "Contents of table 'INPUTEVENTS_MV':\n",
            "   row_id  subject_id  hadm_id  icustay_id            starttime  \\\n",
            "0  118897       42367   139932      250305  2147-10-29 16:45:00   \n",
            "1  118898       42367   139932      250305  2147-10-20 13:17:00   \n",
            "2  118899       42367   139932      250305  2147-10-29 03:23:00   \n",
            "3  118900       42367   139932      250305  2147-10-22 22:00:00   \n",
            "4  118901       42367   139932      250305  2147-10-16 06:21:00   \n",
            "\n",
            "               endtime  itemid       amount amountuom        rate  ...  \\\n",
            "0  2147-10-29 16:46:00  225799    60.000000        ml         NaN  ...   \n",
            "1  2147-10-20 13:18:00  223258    10.000000     units         NaN  ...   \n",
            "2  2147-10-29 03:53:00  226089    99.999999        ml  199.999998  ...   \n",
            "3  2147-10-22 22:01:00  225799    40.000000        ml         NaN  ...   \n",
            "4  2147-10-17 06:10:00  225936  1309.899995        ml   54.999300  ...   \n",
            "\n",
            "  totalamountuom isopenbag  continueinnextdept  cancelreason  \\\n",
            "0             ml         0                   0             0   \n",
            "1           None         0                   0             1   \n",
            "2             ml         0                   0             0   \n",
            "3             ml         0                   0             0   \n",
            "4             ml         0                   0             0   \n",
            "\n",
            "   statusdescription comments_editedby comments_canceledby  \\\n",
            "0    FinishedRunning              None                None   \n",
            "1          Rewritten              None                  RN   \n",
            "2    FinishedRunning              None                None   \n",
            "3    FinishedRunning              None                None   \n",
            "4    FinishedRunning              None                None   \n",
            "\n",
            "         comments_date originalamount  originalrate  \n",
            "0                 None           60.0     60.000000  \n",
            "1  2147-10-20 13:18:00           10.0     10.000000  \n",
            "2                 None          100.0    200.000000  \n",
            "3                 None           40.0     40.000000  \n",
            "4                 None         1309.9     54.999298  \n",
            "\n",
            "[5 rows x 31 columns]\n",
            "\n",
            "Contents of table 'INPUTEVENTS_CV':\n",
            "   row_id  subject_id  hadm_id  icustay_id            charttime  itemid  \\\n",
            "0    1184       10114   167957      234989  2171-11-03 15:00:00   30056   \n",
            "1    1185       10114   167957      234989  2171-11-03 20:00:00   30056   \n",
            "2    1186       10114   167957      234989  2171-11-03 23:00:00   30056   \n",
            "3    1187       10114   167957      234989  2171-11-04 02:00:00   30056   \n",
            "4    1188       10114   167957      234989  2171-11-04 05:00:00   30056   \n",
            "\n",
            "   amount amountuom  rate rateuom  ...   orderid  linkorderid  stopped  \\\n",
            "0   400.0        ml  None    None  ...   2557279      2557279     None   \n",
            "1   120.0        ml  None    None  ...   7828849      2557279     None   \n",
            "2   120.0        ml  None    None  ...   2744159      2557279     None   \n",
            "3   120.0        ml  None    None  ...   8475006      2557279     None   \n",
            "4   120.0        ml  None    None  ...  11183474      2557279     None   \n",
            "\n",
            "   newbottle originalamount originalamountuom originalroute originalrate  \\\n",
            "0       None           None                ml          Oral         None   \n",
            "1       None           None                ml          Oral         None   \n",
            "2       None           None                ml          Oral         None   \n",
            "3       None           None                ml          Oral         None   \n",
            "4       None           None                ml          Oral         None   \n",
            "\n",
            "  originalrateuom originalsite  \n",
            "0            None         None  \n",
            "1            None         None  \n",
            "2            None         None  \n",
            "3            None         None  \n",
            "4            None         None  \n",
            "\n",
            "[5 rows x 22 columns]\n",
            "\n",
            "Contents of table 'CAREGIVERS':\n",
            "   row_id   cgid label            description\n",
            "0    2228  16174    RO              Read Only\n",
            "1    2229  16175    RO              Read Only\n",
            "2    2230  16176   Res  Resident/Fellow/PA/NP\n",
            "3    2231  16177    RO              Read Only\n",
            "4    2232  16178    RT            Respiratory\n",
            "\n",
            "Contents of table 'SERVICES':\n",
            "   row_id  subject_id  hadm_id         transfertime prev_service curr_service\n",
            "0   14974       10006   142345  2164-10-23 21:10:15         None          MED\n",
            "1   14979       10011   105331  2126-08-14 22:34:00         None          MED\n",
            "2   14981       10013   165520  2125-10-04 23:38:00         None          MED\n",
            "3   14985       10017   199207  2149-05-26 17:21:09         None          MED\n",
            "4   14986       10019   177759  2163-05-14 20:43:56         None          MED\n",
            "\n",
            "Contents of table 'PROCEDUREEVENTS_MV':\n",
            "   row_id  subject_id  hadm_id  icustay_id            starttime  \\\n",
            "0    8641       42367   139932      250305  2147-10-03 16:40:00   \n",
            "1    8642       42367   139932      250305  2147-10-03 16:41:00   \n",
            "2    8643       42367   139932      250305  2147-10-03 17:10:00   \n",
            "3    8644       42367   139932      250305  2147-10-04 11:00:00   \n",
            "4    8645       42367   139932      250305  2147-10-04 14:16:00   \n",
            "\n",
            "               endtime  itemid  value valueuom         location  ...  \\\n",
            "0  2147-10-06 20:00:00  224263   4520      min   Right Femoral.  ...   \n",
            "1  2147-10-12 16:38:00  225204  12957      min  Right Antecube   ...   \n",
            "2  2147-10-18 15:15:00  225792  21485      min             None  ...   \n",
            "3  2147-10-04 11:01:00  221214      1     None             None  ...   \n",
            "4  2147-10-04 14:17:00  221223      1     None             None  ...   \n",
            "\n",
            "  ordercategoryname secondaryordercategoryname  ordercategorydescription  \\\n",
            "0    Invasive Lines                       None                      Task   \n",
            "1    Invasive Lines                       None                      Task   \n",
            "2       Ventilation                       None                      Task   \n",
            "3           Imaging                       None              Electrolytes   \n",
            "4        Procedures                       None              Electrolytes   \n",
            "\n",
            "   isopenbag  continueinnextdept cancelreason statusdescription  \\\n",
            "0          1                   0            0   FinishedRunning   \n",
            "1          1                   0            0   FinishedRunning   \n",
            "2          1                   0            0   FinishedRunning   \n",
            "3          0                   0            0   FinishedRunning   \n",
            "4          0                   0            0   FinishedRunning   \n",
            "\n",
            "  comments_editedby  comments_canceledby  comments_date  \n",
            "0              None                 None           None  \n",
            "1              None                 None           None  \n",
            "2              None                 None           None  \n",
            "3              None                 None           None  \n",
            "4              None                 None           None  \n",
            "\n",
            "[5 rows x 25 columns]\n",
            "\n",
            "Contents of table 'LABEVENTS':\n",
            "    row_id  subject_id hadm_id  itemid            charttime value  valuenum  \\\n",
            "0  6244563       10006    None   50868  2164-09-24 20:21:00    19      19.0   \n",
            "1  6244564       10006    None   50882  2164-09-24 20:21:00    27      27.0   \n",
            "2  6244565       10006    None   50893  2164-09-24 20:21:00  10.0      10.0   \n",
            "3  6244566       10006    None   50902  2164-09-24 20:21:00    97      97.0   \n",
            "4  6244567       10006    None   50912  2164-09-24 20:21:00   7.0       7.0   \n",
            "\n",
            "  valueuom      flag  \n",
            "0    mEq/L      None  \n",
            "1    mEq/L      None  \n",
            "2    mg/dL      None  \n",
            "3    mEq/L      None  \n",
            "4    mg/dL  abnormal  \n",
            "\n",
            "Contents of table 'D_ITEMS':\n",
            "   row_id  itemid                 label abbreviation dbsource      linksto  \\\n",
            "0       1    1435    Sustained Nystamus         None  carevue  chartevents   \n",
            "1       2    1436  Tactile Disturbances         None  carevue  chartevents   \n",
            "2       3    1437                Tremor         None  carevue  chartevents   \n",
            "3       4    1438   Ulnar Pulse [Right]         None  carevue  chartevents   \n",
            "4       5    1439   Visual Disturbances         None  carevue  chartevents   \n",
            "\n",
            "  category unitname param_type conceptid  \n",
            "0     None     None       None      None  \n",
            "1     None     None       None      None  \n",
            "2     None     None       None      None  \n",
            "3     None     None       None      None  \n",
            "4     None     None       None      None  \n",
            "\n",
            "Contents of table 'CPTEVENTS':\n",
            "   row_id  subject_id  hadm_id costcenter chartdate  cpt_cd  cpt_number  \\\n",
            "0    4615       10117   105150        ICU      None   99254       99254   \n",
            "1    4616       10117   105150        ICU      None   99231       99231   \n",
            "2    4617       10117   105150        ICU      None   90935       90935   \n",
            "3    4618       10117   105150        ICU      None   99231       99231   \n",
            "4    7753       10111   174739        ICU      None   99253       99253   \n",
            "\n",
            "  cpt_suffix  ticket_id_seq              sectionheader  \\\n",
            "0       None            1.0  Evaluation and management   \n",
            "1       None            2.0  Evaluation and management   \n",
            "2       None            3.0                   Medicine   \n",
            "3       None            4.0  Evaluation and management   \n",
            "4       None            1.0  Evaluation and management   \n",
            "\n",
            "              subsectionheader description  \n",
            "0                Consultations        None  \n",
            "1  Hospital inpatient services        None  \n",
            "2                     Dialysis        None  \n",
            "3  Hospital inpatient services        None  \n",
            "4                Consultations        None  \n"
          ]
        }
      ]
    },
    {
      "cell_type": "markdown",
      "source": [
        "## Initializing agent"
      ],
      "metadata": {
        "id": "uNoiGMeflNQ6"
      }
    },
    {
      "cell_type": "code",
      "source": [
        "from langchain.agents import AgentType, create_sql_agent\n",
        "from langchain.agents.agent_toolkits import SQLDatabaseToolkit\n",
        "from langchain.utilities import SQLDatabase"
      ],
      "metadata": {
        "id": "sk-BPK2OHiLq"
      },
      "execution_count": null,
      "outputs": []
    },
    {
      "cell_type": "code",
      "source": [
        "db = SQLDatabase(engine)"
      ],
      "metadata": {
        "id": "QV1I_681Hll0"
      },
      "execution_count": null,
      "outputs": []
    },
    {
      "cell_type": "markdown",
      "source": [
        "### Initializing LLM"
      ],
      "metadata": {
        "id": "gWwcrzdUHy0Q"
      }
    },
    {
      "cell_type": "code",
      "source": [
        "from getpass import getpass\n",
        "import os\n",
        "os.environ[\"OPENAI_API_KEY\"] = getpass(\"OpenAI API Key:\")"
      ],
      "metadata": {
        "colab": {
          "base_uri": "https://localhost:8080/"
        },
        "id": "2oWeiBr7H1yw",
        "outputId": "a14a3f83-3c96-4b7f-f7f8-e379e78f89d0"
      },
      "execution_count": null,
      "outputs": [
        {
          "name": "stdout",
          "output_type": "stream",
          "text": [
            "OpenAI API Key:··········\n"
          ]
        }
      ]
    },
    {
      "cell_type": "code",
      "source": [
        "from langchain.chat_models import ChatOpenAI\n",
        "llm = ChatOpenAI(\n",
        "    model_name=\"gpt-4\",\n",
        "    temperature=0\n",
        ")"
      ],
      "metadata": {
        "colab": {
          "base_uri": "https://localhost:8080/"
        },
        "id": "BIfSGqfVHtTI",
        "outputId": "7cfb691b-0d65-4049-cfd2-ad82cd19248e"
      },
      "execution_count": null,
      "outputs": [
        {
          "output_type": "stream",
          "name": "stderr",
          "text": [
            "/usr/local/lib/python3.10/dist-packages/langchain_core/_api/deprecation.py:117: LangChainDeprecationWarning: The class `langchain_community.chat_models.openai.ChatOpenAI` was deprecated in langchain-community 0.0.10 and will be removed in 0.2.0. An updated version of the class exists in the langchain-openai package and should be used instead. To use it run `pip install -U langchain-openai` and import as `from langchain_openai import ChatOpenAI`.\n",
            "  warn_deprecated(\n"
          ]
        }
      ]
    },
    {
      "cell_type": "code",
      "source": [
        "from langchain.memory import ConversationSummaryBufferMemory\n",
        "\n",
        "memory = ConversationSummaryBufferMemory(memory_key=\"chat_history\",llm=llm)\n",
        "toolkit = SQLDatabaseToolkit(db=db, llm=llm)"
      ],
      "metadata": {
        "id": "3DuPcuXQHl0D"
      },
      "execution_count": null,
      "outputs": []
    },
    {
      "cell_type": "code",
      "source": [
        "custom_prefix = \"\"\"\n",
        "If something is not present in a table check other tables. In case of count of patients always count unique patients.\n",
        "\n",
        "Tables are linked by identifiers which usually have the suffix ‘ID’. For example, SUBJECT_ID refers to a unique patient, HADM_ID refers to a unique admission to the hospital, and ICUSTAY_ID refers to a unique admission to an intensive care unit.\n",
        "\n",
        "Charted events such as notes, laboratory tests, and fluid balance are stored in a series of ‘events’ tables. For example the OUTPUTEVENTS table contains all measurements related to output for a given patient, while the LABEVENTS table contains laboratory test results for a patient.\n",
        "\n",
        "Tables prefixed with ‘D_’ are dictionary tables and provide definitions for identifiers. For example, every row of CHARTEVENTS is associated with a single ITEMID which represents the concept measured, but it does not contain the actual name of the measurement. By joining CHARTEVENTS and D_ITEMS on ITEMID, it is possible to identify the concept represented by a given ITEMID.\n",
        "\n",
        "Broadly speaking, five tables are used to define and track patient stays: ADMISSIONS; PATIENTS; ICUSTAYS; SERVICES; and TRANSFERS. Another five tables are dictionaries for cross-referencing codes against their respective definitions: D_CPT; D_ICD_DIAGNOSES; D_ICD_PROCEDURES; D_ITEMS; and D_LABITEMS. The remaining tables contain data associated with patient care, such as physiological measurements, caregiver observations, and billing information.\n",
        "\n",
        "In some cases it would be possible to merge tables—for example, the D_ICD_PROCEDURES and CPTEVENTS tables both contain detail relating to procedures and could be combined—but our approach is to keep the tables independent for clarity, since the data sources are significantly different. Rather than combining the tables within MIMIC data model, we suggest researchers develop database views and transforms as appropriate.\n",
        "\n",
        "Make sure to use tables prefixed with ‘D_’ as much as possible.\n",
        "\"\"\"\n",
        "\n",
        "agent = create_sql_agent(\n",
        "    llm=llm,\n",
        "    toolkit=toolkit,\n",
        "    verbose=True,\n",
        "    agent_type=AgentType.OPENAI_FUNCTIONS,\n",
        "    prefix=custom_prefix,\n",
        "\n",
        ")"
      ],
      "metadata": {
        "id": "ygm6k3JjHttb"
      },
      "execution_count": null,
      "outputs": []
    },
    {
      "cell_type": "code",
      "source": [
        "agent.run(\"how many total patients are there\")"
      ],
      "metadata": {
        "colab": {
          "base_uri": "https://localhost:8080/",
          "height": 784
        },
        "id": "xcjvpNnGIaHT",
        "outputId": "d6d347c3-3cab-422f-af70-4deb6767e497"
      },
      "execution_count": null,
      "outputs": [
        {
          "output_type": "stream",
          "name": "stderr",
          "text": [
            "/usr/local/lib/python3.10/dist-packages/langchain_core/_api/deprecation.py:117: LangChainDeprecationWarning: The function `run` was deprecated in LangChain 0.1.0 and will be removed in 0.2.0. Use invoke instead.\n",
            "  warn_deprecated(\n"
          ]
        },
        {
          "output_type": "stream",
          "name": "stdout",
          "text": [
            "\n",
            "\n",
            "\u001b[1m> Entering new AgentExecutor chain...\u001b[0m\n",
            "\u001b[32;1m\u001b[1;3m\n",
            "Invoking: `sql_db_list_tables` with ``\n",
            "\n",
            "\n",
            "\u001b[0m\u001b[38;5;200m\u001b[1;3mADMISSIONS, CALLOUT, CAREGIVERS, CHARTEVENTS, CPTEVENTS, DATETIMEEVENTS, DIAGNOSES_ICD, DRGCODES, D_CPT, D_ICD_DIAGNOSES, D_ICD_PROCEDURES, D_ITEMS, D_LABITEMS, ICUSTAYS, INPUTEVENTS_CV, INPUTEVENTS_MV, LABEVENTS, MICROBIOLOGYEVENTS, NOTEEVENTS, OUTPUTEVENTS, PATIENTS, PRESCRIPTIONS, PROCEDUREEVENTS_MV, PROCEDURES_ICD, SERVICES, TRANSFERS\u001b[0m\u001b[32;1m\u001b[1;3m\n",
            "Invoking: `sql_db_schema` with `PATIENTS`\n",
            "\n",
            "\n",
            "\u001b[0m\u001b[33;1m\u001b[1;3m\n",
            "CREATE TABLE \"PATIENTS\" (\n",
            "\trow_id BIGINT, \n",
            "\tsubject_id BIGINT, \n",
            "\tgender TEXT, \n",
            "\tdob TEXT, \n",
            "\tdod TEXT, \n",
            "\tdod_hosp TEXT, \n",
            "\tdod_ssn TEXT, \n",
            "\texpire_flag BIGINT\n",
            ")\n",
            "\n",
            "/*\n",
            "3 rows from PATIENTS table:\n",
            "row_id\tsubject_id\tgender\tdob\tdod\tdod_hosp\tdod_ssn\texpire_flag\n",
            "9467\t10006\tF\t2094-03-05 00:00:00\t2165-08-12 00:00:00\t2165-08-12 00:00:00\t2165-08-12 00:00:00\t1\n",
            "9472\t10011\tF\t2090-06-05 00:00:00\t2126-08-28 00:00:00\t2126-08-28 00:00:00\tNone\t1\n",
            "9474\t10013\tF\t2038-09-03 00:00:00\t2125-10-07 00:00:00\t2125-10-07 00:00:00\t2125-10-07 00:00:00\t1\n",
            "*/\u001b[0m\u001b[32;1m\u001b[1;3m\n",
            "Invoking: `sql_db_query_checker` with `SELECT COUNT(*) FROM PATIENTS`\n",
            "\n",
            "\n",
            "\u001b[0m\u001b[36;1m\u001b[1;3mSELECT COUNT(*) FROM PATIENTS\u001b[0m\u001b[32;1m\u001b[1;3m\n",
            "Invoking: `sql_db_query` with `SELECT COUNT(*) FROM PATIENTS`\n",
            "\n",
            "\n",
            "\u001b[0m\u001b[36;1m\u001b[1;3m[(100,)]\u001b[0m\u001b[32;1m\u001b[1;3mThere are 100 total patients.\u001b[0m\n",
            "\n",
            "\u001b[1m> Finished chain.\u001b[0m\n"
          ]
        },
        {
          "output_type": "execute_result",
          "data": {
            "text/plain": [
              "'There are 100 total patients.'"
            ],
            "application/vnd.google.colaboratory.intrinsic+json": {
              "type": "string"
            }
          },
          "metadata": {},
          "execution_count": 31
        }
      ]
    },
    {
      "cell_type": "code",
      "source": [
        "agent.run(\"Are there any patients who had heart disease diagnosis more than 2 times give their names\")"
      ],
      "metadata": {
        "colab": {
          "base_uri": "https://localhost:8080/",
          "height": 1000
        },
        "id": "pnS052NKI4sQ",
        "outputId": "c167c8cc-af7d-461d-e439-e9420bf12ce6"
      },
      "execution_count": null,
      "outputs": [
        {
          "output_type": "stream",
          "name": "stdout",
          "text": [
            "\n",
            "\n",
            "\u001b[1m> Entering new AgentExecutor chain...\u001b[0m\n",
            "\u001b[32;1m\u001b[1;3m\n",
            "Invoking: `sql_db_list_tables` with ``\n",
            "\n",
            "\n",
            "\u001b[0m\u001b[38;5;200m\u001b[1;3mADMISSIONS, CALLOUT, CAREGIVERS, CHARTEVENTS, CPTEVENTS, DATETIMEEVENTS, DIAGNOSES_ICD, DRGCODES, D_CPT, D_ICD_DIAGNOSES, D_ICD_PROCEDURES, D_ITEMS, D_LABITEMS, ICUSTAYS, INPUTEVENTS_CV, INPUTEVENTS_MV, LABEVENTS, MICROBIOLOGYEVENTS, NOTEEVENTS, OUTPUTEVENTS, PATIENTS, PRESCRIPTIONS, PROCEDUREEVENTS_MV, PROCEDURES_ICD, SERVICES, TRANSFERS\u001b[0m\u001b[32;1m\u001b[1;3m\n",
            "Invoking: `sql_db_schema` with `DIAGNOSES_ICD, D_ICD_DIAGNOSES, PATIENTS`\n",
            "responded: The tables that seem most relevant to this query are DIAGNOSES_ICD, D_ICD_DIAGNOSES, and PATIENTS. I will query the schema of these tables to understand their structure.\n",
            "\n",
            "\u001b[0m\u001b[33;1m\u001b[1;3m\n",
            "CREATE TABLE \"DIAGNOSES_ICD\" (\n",
            "\trow_id BIGINT, \n",
            "\tsubject_id BIGINT, \n",
            "\thadm_id BIGINT, \n",
            "\tseq_num BIGINT, \n",
            "\ticd9_code TEXT\n",
            ")\n",
            "\n",
            "/*\n",
            "3 rows from DIAGNOSES_ICD table:\n",
            "row_id\tsubject_id\thadm_id\tseq_num\ticd9_code\n",
            "112344\t10006\t142345\t1\t99591\n",
            "112345\t10006\t142345\t2\t99662\n",
            "112346\t10006\t142345\t3\t5672\n",
            "*/\n",
            "\n",
            "\n",
            "CREATE TABLE \"D_ICD_DIAGNOSES\" (\n",
            "\trow_id BIGINT, \n",
            "\ticd9_code TEXT, \n",
            "\tshort_title TEXT, \n",
            "\tlong_title TEXT\n",
            ")\n",
            "\n",
            "/*\n",
            "3 rows from D_ICD_DIAGNOSES table:\n",
            "row_id\ticd9_code\tshort_title\tlong_title\n",
            "1\t01716\tErythem nod tb-oth test\tErythema nodosum with hypersensitivity reaction in tuberculosis, tubercle bacilli not found by bacte\n",
            "2\t01720\tTB periph lymph-unspec\tTuberculosis of peripheral lymph nodes, unspecified\n",
            "3\t01721\tTB periph lymph-no exam\tTuberculosis of peripheral lymph nodes, bacteriological or histological examination not done\n",
            "*/\n",
            "\n",
            "\n",
            "CREATE TABLE \"PATIENTS\" (\n",
            "\trow_id BIGINT, \n",
            "\tsubject_id BIGINT, \n",
            "\tgender TEXT, \n",
            "\tdob TEXT, \n",
            "\tdod TEXT, \n",
            "\tdod_hosp TEXT, \n",
            "\tdod_ssn TEXT, \n",
            "\texpire_flag BIGINT\n",
            ")\n",
            "\n",
            "/*\n",
            "3 rows from PATIENTS table:\n",
            "row_id\tsubject_id\tgender\tdob\tdod\tdod_hosp\tdod_ssn\texpire_flag\n",
            "9467\t10006\tF\t2094-03-05 00:00:00\t2165-08-12 00:00:00\t2165-08-12 00:00:00\t2165-08-12 00:00:00\t1\n",
            "9472\t10011\tF\t2090-06-05 00:00:00\t2126-08-28 00:00:00\t2126-08-28 00:00:00\tNone\t1\n",
            "9474\t10013\tF\t2038-09-03 00:00:00\t2125-10-07 00:00:00\t2125-10-07 00:00:00\t2125-10-07 00:00:00\t1\n",
            "*/\u001b[0m\u001b[32;1m\u001b[1;3m\n",
            "Invoking: `sql_db_query` with `SELECT icd9_code, short_title, long_title FROM D_ICD_DIAGNOSES WHERE lower(long_title) LIKE '%heart%' OR lower(short_title) LIKE '%heart%'`\n",
            "responded: The DIAGNOSES_ICD table contains the ICD9 codes for each diagnosis a patient received during their hospital stay. The D_ICD_DIAGNOSES table provides the definitions for these ICD9 codes. The PATIENTS table contains information about each patient.\n",
            "\n",
            "To find patients who had a heart disease diagnosis more than 2 times, we need to:\n",
            "\n",
            "1. Identify the ICD9 codes that correspond to heart disease diagnoses.\n",
            "2. Count the number of times each patient received a heart disease diagnosis.\n",
            "3. Filter for patients who received a heart disease diagnosis more than 2 times.\n",
            "\n",
            "Let's start by identifying the ICD9 codes that correspond to heart disease diagnoses. I will query the D_ICD_DIAGNOSES table for codes where the long_title or short_title contains 'heart'.\n",
            "\n",
            "\u001b[0m\u001b[36;1m\u001b[1;3m[('0860', 'Chagas disease of heart', \"Chagas' disease with heart involvement\"), ('09885', 'Gonococcal heart dis NEC', 'Other gonococcal heart disease'), ('1641', 'Malignant neopl heart', 'Malignant neoplasm of heart'), ('2127', 'Benign neoplasm heart', 'Benign neoplasm of heart'), ('39890', 'Rheumatic heart dis NOS', 'Rheumatic heart disease, unspecified'), ('39891', 'Rheumatic heart failure', 'Rheumatic heart failure (congestive)'), ('39899', 'Rheumatic heart dis NEC', 'Other rheumatic heart diseases'), ('40200', 'Mal hyp ht dis w/o hf', 'Malignant hypertensive heart disease without heart failure'), ('40201', 'Mal hypert hrt dis w hf', 'Malignant hypertensive heart disease with heart failure'), ('40210', 'Benign hyp ht dis w/o hf', 'Benign hypertensive heart disease without heart failure'), ('40211', 'Benign hyp ht dis w hf', 'Benign hypertensive heart disease with heart failure'), ('40290', 'Hyp hrt dis NOS w/o hf', 'Unspecified hypertensive heart disease without heart failure'), ('40291', 'Hyp ht dis NOS w ht fail', 'Unspecified hypertensive heart disease with heart failure'), ('40400', 'Mal hy ht/kd I-IV w/o hf', 'Hypertensive heart and chronic kidney disease, malignant, without heart failure and with chronic kidney disease stage I through stage IV, or unspecified'), ('40401', 'Mal hyp ht/kd I-IV w hf', 'Hypertensive heart and chronic kidney disease, malignant, with heart failure and with chronic kidney disease stage I through stage IV, or unspecified'), ('40402', 'Mal hy ht/kd st V w/o hf', 'Hypertensive heart and chronic kidney disease, malignant, without heart failure and with chronic kidney disease stage V or end stage renal disease'), ('40403', 'Mal hyp ht/kd stg V w hf', 'Hypertensive heart and chronic kidney disease, malignant, with heart failure and with chronic kidney disease stage V or end stage renal disease'), ('40410', 'Ben hy ht/kd I-IV w/o hf', 'Hypertensive heart and chronic kidney disease, benign, without heart failure and with chronic kidney disease stage I through stage IV, or unspecified'), ('40411', 'Ben hyp ht/kd I-IV w hf', 'Hypertensive heart and chronic kidney disease, benign, with heart failure and with chronic kidney disease stage I through stage IV, or unspecified'), ('40412', 'Ben hy ht/kd st V w/o hf', 'Hypertensive heart and chronic kidney disease, benign, without heart failure and with chronic kidney disease stage V or end stage renal disease'), ('40413', 'Ben hyp ht/kd stg V w hf', 'Hypertensive heart and chronic kidney disease, benign, with heart failure and chronic kidney disease stage V or end stage renal disease'), ('40490', 'Hy ht/kd NOS I-IV w/o hf', 'Hypertensive heart and chronic kidney disease, unspecified, without heart failure and with chronic kidney disease stage I through stage IV, or unspecified'), ('40491', 'Hyp ht/kd NOS I-IV w hf', 'Hypertensive heart and chronic kidney disease, unspecified, with heart failure and with chronic kidney disease stage I through stage IV, or unspecified'), ('40492', 'Hy ht/kd NOS st V w/o hf', 'Hypertensive heart and chronic kidney disease, unspecified, without heart failure and with chronic kidney disease stage V or end stage renal disease'), ('40493', 'Hyp ht/kd NOS st V w hf', 'Hypertensive heart and chronic kidney disease, unspecified, with heart failure and chronic kidney disease stage V or end stage renal disease'), ('41189', 'Ac ischemic hrt dis NEC', 'Other acute and subacute forms of ischemic heart disease, other'), ('41406', 'Cor ath natv art tp hrt', 'Coronary atherosclerosis of native coronary artery of transplanted heart'), ('41407', 'Cor ath bps graft tp hrt', 'Coronary atherosclerosis of bypass graft (artery) (vein) of transplanted heart'), ('41410', 'Aneurysm of heart', 'Aneurysm of heart (wall)'), ('41419', 'Aneurysm of heart NEC', 'Other aneurysm of heart'), ('4148', 'Chr ischemic hrt dis NEC', 'Other specified forms of chronic ischemic heart disease'), ('4149', 'Chr ischemic hrt dis NOS', 'Chronic ischemic heart disease, unspecified'), ('4161', 'Kyphoscoliotic heart dis', 'Kyphoscoliotic heart disease'), ('4168', 'Chr pulmon heart dis NEC', 'Other chronic pulmonary heart diseases'), ('4169', 'Chr pulmon heart dis NOS', 'Chronic pulmonary heart disease, unspecified'), ('4266', 'Other heart block', 'Other heart block'), ('4280', 'CHF NOS', 'Congestive heart failure, unspecified'), ('4281', 'Left heart failure', 'Left heart failure'), ('42820', 'Systolic hrt failure NOS', 'Systolic heart failure, unspecified'), ('42821', 'Ac systolic hrt failure', 'Acute systolic heart failure'), ('42822', 'Chr systolic hrt failure', 'Chronic systolic heart failure'), ('42823', 'Ac on chr syst hrt fail', 'Acute on chronic systolic heart failure'), ('42830', 'Diastolc hrt failure NOS', 'Diastolic heart failure, unspecified'), ('42831', 'Ac diastolic hrt failure', 'Acute diastolic heart failure'), ('42832', 'Chr diastolic hrt fail', 'Chronic diastolic heart failure'), ('42833', 'Ac on chr diast hrt fail', 'Acute on chronic diastolic heart failure'), ('42840', 'Syst/diast hrt fail NOS', 'Combined systolic and diastolic heart failure, unspecified'), ('42841', 'Ac syst/diastol hrt fail', 'Acute combined systolic and diastolic heart failure'), ('42842', 'Chr syst/diastl hrt fail', 'Chronic combined systolic and diastolic heart failure'), ('42843', 'Ac/chr syst/dia hrt fail', 'Acute on chronic combined systolic and diastolic heart failure'), ('4289', 'Heart failure NOS', 'Heart failure, unspecified'), ('42982', 'Hyperkinetic heart dis', 'Hyperkinetic heart disease'), ('42989', 'Ill-defined hrt dis NEC', 'Other ill-defined heart diseases'), ('4299', 'Heart disease NOS', 'Heart disease, unspecified'), ('390', 'Rheum fev w/o hrt involv', 'Rheumatic fever without mention of heart involvement'), ('3918', 'Ac rheumat hrt dis NEC', 'Other acute rheumatic heart disease'), ('3919', 'Ac rheumat hrt dis NOS', 'Acute rheumatic heart disease, unspecified'), ('3920', 'Rheum chorea w hrt invol', 'Rheumatic chorea with heart involvement'), ('3929', 'Rheumatic chorea NOS', 'Rheumatic chorea without mention of heart involvement'), ('65970', 'Abn ftl hrt rate/rhy-uns', 'Abnormality in fetal heart rate or rhythm, unspecified as to episode of care or not applicable'), ('65971', 'Abn ftl hrt rate/rhy-del', 'Abnormality in fetal heart rate or rhythm, delivered, with or without mention of antepartum condition'), ('65973', 'Abn ftl hrt rate/rhy-ant', 'Abnormality in fetal heart rate or rhythm, antepartum condition or complication'), ('7467', 'Hypoplas left heart synd', 'Hypoplastic left heart syndrome'), ('74684', 'Obstruct heart anom NEC', 'Obstructive anomalies of heart, not elsewhere classified'), ('74686', 'Congenital heart block', 'Congenital heart block'), ('74687', 'Malposition of heart', 'Malposition of heart and cardiac apex'), ('74689', 'Cong heart anomaly NEC', 'Other specified congenital anomalies of heart'), ('7469', 'Cong heart anomaly NOS', 'Unspecified congenital anomaly of heart'), ('76381', 'Ab ftl hrt rt/rh b/f lab', 'Abnormality in fetal heart rate or rhythm before the onset of labor'), ('76382', 'Ab ftl hrt rt/rh dur lab', 'Abnormality in fetal heart rate or rhythm during labor'), ('76383', 'Ab ftl hrt rt/rhy NOS', 'Abnormality in fetal heart rate or rhythm, unspecified as to time of onset'), ('86100', 'Heart injury NOS-closed', 'Unspecified injury of heart without mention of open wound into thorax'), ('86101', 'Heart contusion-closed', 'Contusion of heart without mention of open wound into thorax'), ('86102', 'Heart laceration-closed', 'Laceration of heart without penetration of heart chambers or without mention of open wound into thorax'), ('86103', 'Heart chamber lacerat-cl', 'Laceration of heart with penetration of heart chambers without mention of open wound into thorax'), ('86110', 'Heart injury NOS-open', 'Unspecified injury of heart with open wound into thorax'), ('86111', 'Heart contusion-open', 'Contusion of heart with open wound into thorax'), ('86112', 'Heart laceration-open', 'Laceration of heart without penetration of heart chambers, with open wound into thorax'), ('86113', 'Heart chamber lacer-opn', 'Laceration of heart with penetration of heart chambers with open wound into thorax'), ('V1365', 'Hx-cong malform-heart', 'Personal history of (corrected) congenital malformations of heart and circulatory system'), ('V151', 'Hx-major cardiovasc surg', 'Personal history of surgery to heart and great vessels, presenting hazards to health'), ('V173', 'Fam hx-ischem heart dis', 'Family history of ischemic heart disease'), ('99602', 'Malfunc prosth hrt valve', 'Mechanical complication due to heart valve prosthesis'), ('99671', 'Comp-heart valve prosth', 'Other complications due to heart valve prosthesis'), ('V421', 'Heart transplant status', 'Heart replaced by transplant'), ('V422', 'Heart valve transplant', 'Heart valve replaced by transplant'), ('V4321', 'Heart assist dev replace', 'Organ or tissue replaced by other means, heart assist device'), ('V4322', 'Artficial heart replace', 'Organ or tissue replaced by other means, fully implantable artificial heart'), ('V433', 'Heart valve replac NEC', 'Heart valve replaced by other means'), ('99683', 'Compl heart transplant', 'Complications of transplanted heart'), ('9971', 'Surg compl-heart', 'Cardiac complications, not elsewhere classified'), ('E8706', 'Acc cut/hem w heart cath', 'Accidental cut, puncture, perforation or hemorrhage during heart catheterization'), ('E8716', 'FB post heart catheter', 'Foreign object left in body during heart catheterization'), ('66810', 'Heart compl in del-unsp', 'Cardiac complications of anesthesia or other sedation in labor and delivery, unspecified as to episode of care or not applicable'), ('66811', 'Heart compl in del-deliv', 'Cardiac complications of anesthesia or other sedation in labor and delivery, delivered, with or without mention of antepartum condition'), ('66812', 'Heart compl-del w p/p', 'Cardiac complications of anesthesia or other sedation in labor and delivery, delivered, with mention of postpartum complication'), ('66813', 'Heart complic-antepart', 'Cardiac complications of anesthesia or other sedation in labor and delivery, antepartum condition or complication'), ('66814', 'Heart complic-postpart', 'Cardiac complications of anesthesia or other sedation in labor and delivery, postpartum condition or complication'), ('7853', 'Abnorm heart sounds NEC', 'Other abnormal heart sounds'), ('7871', 'Heartburn', 'Heartburn'), ('E8726', 'Fail sterile heart cath', 'Failure of sterile precautions during heart catheterization'), ('E8745', 'Instrmnt fail-heart cath', 'Mechanical failure of instrument or apparatus during heart catheterization'), ('V810', 'Scrn-ischemic heart dis', 'Screening for ischemic heart disease')]\u001b[0m\u001b[32;1m\u001b[1;3m\n",
            "Invoking: `sql_db_query` with `SELECT subject_id, COUNT(*) as diagnosis_count FROM DIAGNOSES_ICD WHERE icd9_code IN ('41401', '4280', '4281', '42820', '42821', '42822', '42823', '42830', '42831', '42832', '42833', '42840', '42841', '42842', '42843', '4289') GROUP BY subject_id HAVING diagnosis_count > 2`\n",
            "responded: The ICD9 codes for heart diseases are numerous and include a wide range of conditions. For the purpose of this query, I will focus on the most common heart diseases, which are represented by the following ICD9 codes:\n",
            "\n",
            "- '41401': Coronary atherosclerosis of native coronary artery\n",
            "- '4280': Congestive heart failure, unspecified\n",
            "- '4281': Left heart failure\n",
            "- '42820': Systolic heart failure, unspecified\n",
            "- '42821': Acute systolic heart failure\n",
            "- '42822': Chronic systolic heart failure\n",
            "- '42823': Acute on chronic systolic heart failure\n",
            "- '42830': Diastolic heart failure, unspecified\n",
            "- '42831': Acute diastolic heart failure\n",
            "- '42832': Chronic diastolic heart failure\n",
            "- '42833': Acute on chronic diastolic heart failure\n",
            "- '42840': Combined systolic and diastolic heart failure, unspecified\n",
            "- '42841': Acute combined systolic and diastolic heart failure\n",
            "- '42842': Chronic combined systolic and diastolic heart failure\n",
            "- '42843': Acute on chronic combined systolic and diastolic heart failure\n",
            "- '4289': Heart failure, unspecified\n",
            "\n",
            "Now, I will query the DIAGNOSES_ICD table to count the number of times each patient received a diagnosis with one of these ICD9 codes. I will then filter for patients who received a heart disease diagnosis more than 2 times.\n",
            "\n",
            "\u001b[0m\u001b[36;1m\u001b[1;3m[(10088, 3), (10124, 3), (40204, 3), (40456, 3), (40503, 3), (40601, 3), (41795, 4), (42033, 3), (42302, 3), (43735, 3), (43827, 3)]\u001b[0m\u001b[32;1m\u001b[1;3mThere are 11 patients who had a heart disease diagnosis more than 2 times. Their subject IDs are: 10088, 10124, 40204, 40456, 40503, 40601, 41795, 42033, 42302, 43735, and 43827.\n",
            "\n",
            "Now, I will query the PATIENTS table to get the names of these patients. However, please note that due to privacy regulations, the MIMIC-III database does not include patient names. Instead, each patient is identified by a unique SUBJECT_ID. Therefore, I can only provide the SUBJECT_IDs.\u001b[0m\n",
            "\n",
            "\u001b[1m> Finished chain.\u001b[0m\n"
          ]
        },
        {
          "output_type": "execute_result",
          "data": {
            "text/plain": [
              "'There are 11 patients who had a heart disease diagnosis more than 2 times. Their subject IDs are: 10088, 10124, 40204, 40456, 40503, 40601, 41795, 42033, 42302, 43735, and 43827.\\n\\nNow, I will query the PATIENTS table to get the names of these patients. However, please note that due to privacy regulations, the MIMIC-III database does not include patient names. Instead, each patient is identified by a unique SUBJECT_ID. Therefore, I can only provide the SUBJECT_IDs.'"
            ],
            "application/vnd.google.colaboratory.intrinsic+json": {
              "type": "string"
            }
          },
          "metadata": {},
          "execution_count": 61
        }
      ]
    },
    {
      "cell_type": "code",
      "source": [
        "agent.run(\"Give all the past diagnosis of 10013\")"
      ],
      "metadata": {
        "colab": {
          "base_uri": "https://localhost:8080/",
          "height": 1000
        },
        "id": "GnXBKJGNJJI-",
        "outputId": "5b63f262-c5bc-4faf-fc20-a2430376a0f5"
      },
      "execution_count": null,
      "outputs": [
        {
          "output_type": "stream",
          "name": "stdout",
          "text": [
            "\n",
            "\n",
            "\u001b[1m> Entering new AgentExecutor chain...\u001b[0m\n",
            "\u001b[32;1m\u001b[1;3m\n",
            "Invoking: `sql_db_list_tables` with ``\n",
            "\n",
            "\n",
            "\u001b[0m\u001b[38;5;200m\u001b[1;3mADMISSIONS, CALLOUT, CAREGIVERS, CHARTEVENTS, CPTEVENTS, DATETIMEEVENTS, DIAGNOSES_ICD, DRGCODES, D_CPT, D_ICD_DIAGNOSES, D_ICD_PROCEDURES, D_ITEMS, D_LABITEMS, ICUSTAYS, INPUTEVENTS_CV, INPUTEVENTS_MV, LABEVENTS, MICROBIOLOGYEVENTS, NOTEEVENTS, OUTPUTEVENTS, PATIENTS, PRESCRIPTIONS, PROCEDUREEVENTS_MV, PROCEDURES_ICD, SERVICES, TRANSFERS\u001b[0m\u001b[32;1m\u001b[1;3m\n",
            "Invoking: `sql_db_schema` with `DIAGNOSES_ICD`\n",
            "responded: The DIAGNOSES_ICD table seems to be the most relevant for past diagnoses. I will query the schema of this table.\n",
            "\n",
            "\u001b[0m\u001b[33;1m\u001b[1;3m\n",
            "CREATE TABLE \"DIAGNOSES_ICD\" (\n",
            "\trow_id BIGINT, \n",
            "\tsubject_id BIGINT, \n",
            "\thadm_id BIGINT, \n",
            "\tseq_num BIGINT, \n",
            "\ticd9_code TEXT\n",
            ")\n",
            "\n",
            "/*\n",
            "3 rows from DIAGNOSES_ICD table:\n",
            "row_id\tsubject_id\thadm_id\tseq_num\ticd9_code\n",
            "112344\t10006\t142345\t1\t99591\n",
            "112345\t10006\t142345\t2\t99662\n",
            "112346\t10006\t142345\t3\t5672\n",
            "*/\u001b[0m\u001b[32;1m\u001b[1;3m\n",
            "Invoking: `sql_db_schema` with `D_ICD_DIAGNOSES`\n",
            "responded: The DIAGNOSES_ICD table contains the ICD9 codes for diagnoses. However, these codes are not very informative on their own. I will also need to join this table with the D_ICD_DIAGNOSES table to get the full names of the diagnoses. Let's check the schema of the D_ICD_DIAGNOSES table.\n",
            "\n",
            "\u001b[0m\u001b[33;1m\u001b[1;3m\n",
            "CREATE TABLE \"D_ICD_DIAGNOSES\" (\n",
            "\trow_id BIGINT, \n",
            "\ticd9_code TEXT, \n",
            "\tshort_title TEXT, \n",
            "\tlong_title TEXT\n",
            ")\n",
            "\n",
            "/*\n",
            "3 rows from D_ICD_DIAGNOSES table:\n",
            "row_id\ticd9_code\tshort_title\tlong_title\n",
            "1\t01716\tErythem nod tb-oth test\tErythema nodosum with hypersensitivity reaction in tuberculosis, tubercle bacilli not found by bacte\n",
            "2\t01720\tTB periph lymph-unspec\tTuberculosis of peripheral lymph nodes, unspecified\n",
            "3\t01721\tTB periph lymph-no exam\tTuberculosis of peripheral lymph nodes, bacteriological or histological examination not done\n",
            "*/\u001b[0m\u001b[32;1m\u001b[1;3m\n",
            "Invoking: `sql_db_query_checker` with `SELECT D_ICD_DIAGNOSES.long_title FROM DIAGNOSES_ICD JOIN D_ICD_DIAGNOSES ON DIAGNOSES_ICD.icd9_code = D_ICD_DIAGNOSES.icd9_code WHERE DIAGNOSES_ICD.subject_id = 10013`\n",
            "responded: Now that I have the schema for both tables, I can write a SQL query to get all past diagnoses for the patient with the subject_id 10013. The query will join the DIAGNOSES_ICD and D_ICD_DIAGNOSES tables on the icd9_code field. Let's check if the query is correct.\n",
            "\n",
            "\u001b[0m\u001b[36;1m\u001b[1;3mSELECT D_ICD_DIAGNOSES.long_title FROM DIAGNOSES_ICD JOIN D_ICD_DIAGNOSES ON DIAGNOSES_ICD.icd9_code = D_ICD_DIAGNOSES.icd9_code WHERE DIAGNOSES_ICD.subject_id = 10013\u001b[0m\u001b[32;1m\u001b[1;3m\n",
            "Invoking: `sql_db_query` with `SELECT D_ICD_DIAGNOSES.long_title FROM DIAGNOSES_ICD JOIN D_ICD_DIAGNOSES ON DIAGNOSES_ICD.icd9_code = D_ICD_DIAGNOSES.icd9_code WHERE DIAGNOSES_ICD.subject_id = 10013`\n",
            "\n",
            "\n",
            "\u001b[0m\u001b[36;1m\u001b[1;3m[('Unspecified septicemia',), ('Subendocardial infarction, initial episode of care',), ('Cardiogenic shock',), ('Pneumonia, organism unspecified',), ('Atrial fibrillation',), ('Other malignant lymphomas, unspecified site, extranodal and solid organ sites',), ('Mitral valve disorders',), ('Other and unspecified hyperlipidemia',)]\u001b[0m\u001b[32;1m\u001b[1;3mThe past diagnoses for the patient with the subject_id 10013 are:\n",
            "\n",
            "1. Unspecified septicemia\n",
            "2. Subendocardial infarction, initial episode of care\n",
            "3. Cardiogenic shock\n",
            "4. Pneumonia, organism unspecified\n",
            "5. Atrial fibrillation\n",
            "6. Other malignant lymphomas, unspecified site, extranodal and solid organ sites\n",
            "7. Mitral valve disorders\n",
            "8. Other and unspecified hyperlipidemia\u001b[0m\n",
            "\n",
            "\u001b[1m> Finished chain.\u001b[0m\n"
          ]
        },
        {
          "output_type": "execute_result",
          "data": {
            "text/plain": [
              "'The past diagnoses for the patient with the subject_id 10013 are:\\n\\n1. Unspecified septicemia\\n2. Subendocardial infarction, initial episode of care\\n3. Cardiogenic shock\\n4. Pneumonia, organism unspecified\\n5. Atrial fibrillation\\n6. Other malignant lymphomas, unspecified site, extranodal and solid organ sites\\n7. Mitral valve disorders\\n8. Other and unspecified hyperlipidemia'"
            ],
            "application/vnd.google.colaboratory.intrinsic+json": {
              "type": "string"
            }
          },
          "metadata": {},
          "execution_count": 60
        }
      ]
    },
    {
      "cell_type": "code",
      "source": [
        "agent.run(\"Can you identify patients with sepsis\")"
      ],
      "metadata": {
        "colab": {
          "base_uri": "https://localhost:8080/",
          "height": 1000
        },
        "id": "tgVRPHVrKzxD",
        "outputId": "30429a16-7ec9-4573-d9b1-b2c4390d59b1"
      },
      "execution_count": null,
      "outputs": [
        {
          "output_type": "stream",
          "name": "stdout",
          "text": [
            "\n",
            "\n",
            "\u001b[1m> Entering new AgentExecutor chain...\u001b[0m\n",
            "\u001b[32;1m\u001b[1;3m\n",
            "Invoking: `sql_db_list_tables` with ``\n",
            "\n",
            "\n",
            "\u001b[0m\u001b[38;5;200m\u001b[1;3mADMISSIONS, CALLOUT, CAREGIVERS, CHARTEVENTS, CPTEVENTS, DATETIMEEVENTS, DIAGNOSES_ICD, DRGCODES, D_CPT, D_ICD_DIAGNOSES, D_ICD_PROCEDURES, D_ITEMS, D_LABITEMS, ICUSTAYS, INPUTEVENTS_CV, INPUTEVENTS_MV, LABEVENTS, MICROBIOLOGYEVENTS, NOTEEVENTS, OUTPUTEVENTS, PATIENTS, PRESCRIPTIONS, PROCEDUREEVENTS_MV, PROCEDURES_ICD, SERVICES, TRANSFERS\u001b[0m\u001b[32;1m\u001b[1;3m\n",
            "Invoking: `sql_db_schema` with `DIAGNOSES_ICD, D_ICD_DIAGNOSES, ADMISSIONS`\n",
            "responded: The most relevant tables for identifying patients with sepsis are likely to be DIAGNOSES_ICD, D_ICD_DIAGNOSES, and ADMISSIONS. Let's query the schema of these tables to understand their structure.\n",
            "\n",
            "\u001b[0m\u001b[33;1m\u001b[1;3m\n",
            "CREATE TABLE \"ADMISSIONS\" (\n",
            "\trow_id BIGINT, \n",
            "\tsubject_id BIGINT, \n",
            "\thadm_id BIGINT, \n",
            "\tadmittime TEXT, \n",
            "\tdischtime TEXT, \n",
            "\tdeathtime TEXT, \n",
            "\tadmission_type TEXT, \n",
            "\tadmission_location TEXT, \n",
            "\tdischarge_location TEXT, \n",
            "\tinsurance TEXT, \n",
            "\tlanguage TEXT, \n",
            "\treligion TEXT, \n",
            "\tmarital_status TEXT, \n",
            "\tethnicity TEXT, \n",
            "\tedregtime TEXT, \n",
            "\tedouttime TEXT, \n",
            "\tdiagnosis TEXT, \n",
            "\thospital_expire_flag BIGINT, \n",
            "\thas_chartevents_data BIGINT\n",
            ")\n",
            "\n",
            "/*\n",
            "3 rows from ADMISSIONS table:\n",
            "row_id\tsubject_id\thadm_id\tadmittime\tdischtime\tdeathtime\tadmission_type\tadmission_location\tdischarge_location\tinsurance\tlanguage\treligion\tmarital_status\tethnicity\tedregtime\tedouttime\tdiagnosis\thospital_expire_flag\thas_chartevents_data\n",
            "12258\t10006\t142345\t2164-10-23 21:09:00\t2164-11-01 17:15:00\tNone\tEMERGENCY\tEMERGENCY ROOM ADMIT\tHOME HEALTH CARE\tMedicare\tNone\tCATHOLIC\tSEPARATED\tBLACK/AFRICAN AMERICAN\t2164-10-23 16:43:00\t2164-10-23 23:00:00\tSEPSIS\t0\t1\n",
            "12263\t10011\t105331\t2126-08-14 22:32:00\t2126-08-28 18:59:00\t2126-08-28 18:59:00\tEMERGENCY\tTRANSFER FROM HOSP/EXTRAM\tDEAD/EXPIRED\tPrivate\tNone\tCATHOLIC\tSINGLE\tUNKNOWN/NOT SPECIFIED\tNone\tNone\tHEPATITIS B\t1\t1\n",
            "12265\t10013\t165520\t2125-10-04 23:36:00\t2125-10-07 15:13:00\t2125-10-07 15:13:00\tEMERGENCY\tTRANSFER FROM HOSP/EXTRAM\tDEAD/EXPIRED\tMedicare\tNone\tCATHOLIC\tNone\tUNKNOWN/NOT SPECIFIED\tNone\tNone\tSEPSIS\t1\t1\n",
            "*/\n",
            "\n",
            "\n",
            "CREATE TABLE \"DIAGNOSES_ICD\" (\n",
            "\trow_id BIGINT, \n",
            "\tsubject_id BIGINT, \n",
            "\thadm_id BIGINT, \n",
            "\tseq_num BIGINT, \n",
            "\ticd9_code TEXT\n",
            ")\n",
            "\n",
            "/*\n",
            "3 rows from DIAGNOSES_ICD table:\n",
            "row_id\tsubject_id\thadm_id\tseq_num\ticd9_code\n",
            "112344\t10006\t142345\t1\t99591\n",
            "112345\t10006\t142345\t2\t99662\n",
            "112346\t10006\t142345\t3\t5672\n",
            "*/\n",
            "\n",
            "\n",
            "CREATE TABLE \"D_ICD_DIAGNOSES\" (\n",
            "\trow_id BIGINT, \n",
            "\ticd9_code TEXT, \n",
            "\tshort_title TEXT, \n",
            "\tlong_title TEXT\n",
            ")\n",
            "\n",
            "/*\n",
            "3 rows from D_ICD_DIAGNOSES table:\n",
            "row_id\ticd9_code\tshort_title\tlong_title\n",
            "1\t01716\tErythem nod tb-oth test\tErythema nodosum with hypersensitivity reaction in tuberculosis, tubercle bacilli not found by bacte\n",
            "2\t01720\tTB periph lymph-unspec\tTuberculosis of peripheral lymph nodes, unspecified\n",
            "3\t01721\tTB periph lymph-no exam\tTuberculosis of peripheral lymph nodes, bacteriological or histological examination not done\n",
            "*/\u001b[0m\u001b[32;1m\u001b[1;3m\n",
            "Invoking: `sql_db_query_checker` with `SELECT ADMISSIONS.subject_id, ADMISSIONS.hadm_id, ADMISSIONS.admittime, ADMISSIONS.dischtime, ADMISSIONS.diagnosis FROM ADMISSIONS INNER JOIN DIAGNOSES_ICD ON ADMISSIONS.subject_id = DIAGNOSES_ICD.subject_id AND ADMISSIONS.hadm_id = DIAGNOSES_ICD.hadm_id WHERE DIAGNOSES_ICD.icd9_code = '99591'`\n",
            "responded: The DIAGNOSES_ICD table contains the ICD9 codes for each patient's diagnoses, and the D_ICD_DIAGNOSES table provides the definitions for these codes. The ADMISSIONS table contains general information about each patient's hospital stay.\n",
            "\n",
            "To identify patients with sepsis, we can look for the ICD9 code for sepsis in the DIAGNOSES_ICD table. The ICD9 code for sepsis is 995.91. We can then join this with the ADMISSIONS table to get more information about each patient's hospital stay.\n",
            "\n",
            "Let's write a SQL query to get this information.\n",
            "\n",
            "\u001b[0m\u001b[36;1m\u001b[1;3mSELECT ADMISSIONS.subject_id, ADMISSIONS.hadm_id, ADMISSIONS.admittime, ADMISSIONS.dischtime, ADMISSIONS.diagnosis \n",
            "FROM ADMISSIONS \n",
            "INNER JOIN DIAGNOSES_ICD \n",
            "ON ADMISSIONS.subject_id = DIAGNOSES_ICD.subject_id \n",
            "AND ADMISSIONS.hadm_id = DIAGNOSES_ICD.hadm_id \n",
            "WHERE DIAGNOSES_ICD.icd9_code = '99591'\u001b[0m\u001b[32;1m\u001b[1;3m\n",
            "Invoking: `sql_db_query` with `SELECT ADMISSIONS.subject_id, ADMISSIONS.hadm_id, ADMISSIONS.admittime, ADMISSIONS.dischtime, ADMISSIONS.diagnosis FROM ADMISSIONS INNER JOIN DIAGNOSES_ICD ON ADMISSIONS.subject_id = DIAGNOSES_ICD.subject_id AND ADMISSIONS.hadm_id = DIAGNOSES_ICD.hadm_id WHERE DIAGNOSES_ICD.icd9_code = '99591'`\n",
            "\n",
            "\n",
            "\u001b[0m\u001b[36;1m\u001b[1;3m[(10006, 142345, '2164-10-23 21:09:00', '2164-11-01 17:15:00', 'SEPSIS'), (10038, 111115, '2144-02-09 17:53:00', '2144-02-21 13:30:00', 'FAILURE TO THRIVE'), (10088, 149044, '2107-05-12 18:00:00', '2107-05-18 13:30:00', 'UROSEPSIS'), (10124, 170883, '2192-04-16 20:57:00', '2192-05-15 19:28:00', 'CONGESTIVE HEART FAILURE'), (10132, 197611, '2123-08-23 20:00:00', '2123-09-17 14:00:00', 'NON SMALL CELL CANCER;HYPOXIA'), (40612, 104697, '2159-11-17 03:28:00', '2159-11-22 14:15:00', 'CHOLECYSTITIS'), (40655, 126002, '2144-07-18 19:32:00', '2144-07-28 14:41:00', 'CELLULITIS'), (41976, 149469, '2202-09-16 21:56:00', '2202-09-23 16:20:00', 'SEPSIS'), (41976, 174863, '2201-08-10 23:00:00', '2201-08-13 16:55:00', 'URINARY TRACT INFECTION;PYELONEPHRITIS'), (41976, 180546, '2201-05-12 10:49:00', '2201-05-19 14:04:00', 'SEPSIS')]\u001b[0m\u001b[32;1m\u001b[1;3mHere are some patients with sepsis:\n",
            "\n",
            "1. Patient with SUBJECT_ID 10006, HADM_ID 142345, admitted on '2164-10-23 21:09:00' and discharged on '2164-11-01 17:15:00'. Diagnosis: SEPSIS\n",
            "2. Patient with SUBJECT_ID 10038, HADM_ID 111115, admitted on '2144-02-09 17:53:00' and discharged on '2144-02-21 13:30:00'. Diagnosis: FAILURE TO THRIVE\n",
            "3. Patient with SUBJECT_ID 10088, HADM_ID 149044, admitted on '2107-05-12 18:00:00' and discharged on '2107-05-18 13:30:00'. Diagnosis: UROSEPSIS\n",
            "4. Patient with SUBJECT_ID 10124, HADM_ID 170883, admitted on '2192-04-16 20:57:00' and discharged on '2192-05-15 19:28:00'. Diagnosis: CONGESTIVE HEART FAILURE\n",
            "5. Patient with SUBJECT_ID 10132, HADM_ID 197611, admitted on '2123-08-23 20:00:00' and discharged on '2123-09-17 14:00:00'. Diagnosis: NON SMALL CELL CANCER;HYPOXIA\n",
            "\n",
            "Please note that the diagnosis field in the ADMISSIONS table may not always indicate sepsis, even if the patient was diagnosed with sepsis according to the ICD9 code in the DIAGNOSES_ICD table. This is because the diagnosis field in the ADMISSIONS table often contains the main reason for admission, which may not be sepsis even if the patient was diagnosed with sepsis during their stay.\u001b[0m\n",
            "\n",
            "\u001b[1m> Finished chain.\u001b[0m\n"
          ]
        },
        {
          "output_type": "execute_result",
          "data": {
            "text/plain": [
              "\"Here are some patients with sepsis:\\n\\n1. Patient with SUBJECT_ID 10006, HADM_ID 142345, admitted on '2164-10-23 21:09:00' and discharged on '2164-11-01 17:15:00'. Diagnosis: SEPSIS\\n2. Patient with SUBJECT_ID 10038, HADM_ID 111115, admitted on '2144-02-09 17:53:00' and discharged on '2144-02-21 13:30:00'. Diagnosis: FAILURE TO THRIVE\\n3. Patient with SUBJECT_ID 10088, HADM_ID 149044, admitted on '2107-05-12 18:00:00' and discharged on '2107-05-18 13:30:00'. Diagnosis: UROSEPSIS\\n4. Patient with SUBJECT_ID 10124, HADM_ID 170883, admitted on '2192-04-16 20:57:00' and discharged on '2192-05-15 19:28:00'. Diagnosis: CONGESTIVE HEART FAILURE\\n5. Patient with SUBJECT_ID 10132, HADM_ID 197611, admitted on '2123-08-23 20:00:00' and discharged on '2123-09-17 14:00:00'. Diagnosis: NON SMALL CELL CANCER;HYPOXIA\\n\\nPlease note that the diagnosis field in the ADMISSIONS table may not always indicate sepsis, even if the patient was diagnosed with sepsis according to the ICD9 code in the DIAGNOSES_ICD table. This is because the diagnosis field in the ADMISSIONS table often contains the main reason for admission, which may not be sepsis even if the patient was diagnosed with sepsis during their stay.\""
            ],
            "application/vnd.google.colaboratory.intrinsic+json": {
              "type": "string"
            }
          },
          "metadata": {},
          "execution_count": 16
        }
      ]
    },
    {
      "cell_type": "code",
      "source": [],
      "metadata": {
        "id": "Q1GOZfHJLuVW"
      },
      "execution_count": null,
      "outputs": []
    }
  ]
}