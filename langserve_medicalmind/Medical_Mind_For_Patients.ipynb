{
  "nbformat": 4,
  "nbformat_minor": 0,
  "metadata": {
    "colab": {
      "provenance": [],
      "include_colab_link": true
    },
    "kernelspec": {
      "name": "python3",
      "display_name": "Python 3"
    },
    "language_info": {
      "name": "python"
    }
  },
  "cells": [
    {
      "cell_type": "markdown",
      "metadata": {
        "id": "view-in-github",
        "colab_type": "text"
      },
      "source": [
        "<a href=\"https://colab.research.google.com/github/talha-0/MedicalMind/blob/main/Medical_Mind_For_Patients.ipynb\" target=\"_parent\"><img src=\"https://colab.research.google.com/assets/colab-badge.svg\" alt=\"Open In Colab\"/></a>"
      ]
    },
    {
      "cell_type": "markdown",
      "source": [
        "# MEDICAL MIND\n",
        "A personalised medical assistant"
      ],
      "metadata": {
        "id": "b9mhzycTybzi"
      }
    },
    {
      "cell_type": "markdown",
      "source": [
        "## Downloading Dependencies"
      ],
      "metadata": {
        "id": "Vh0nY-nPyncF"
      }
    },
    {
      "cell_type": "code",
      "execution_count": null,
      "metadata": {
        "id": "yPB0GxSUnVIu",
        "colab": {
          "base_uri": "https://localhost:8080/"
        },
        "outputId": "45e643b8-2fbe-4a30-8b83-4c88732dd4e4"
      },
      "outputs": [
        {
          "output_type": "stream",
          "name": "stdout",
          "text": [
            "\u001b[?25l     \u001b[90m━━━━━━━━━━━━━━━━━━━━━━━━━━━━━━━━━━━━━━━━\u001b[0m \u001b[32m0.0/1.6 MB\u001b[0m \u001b[31m?\u001b[0m eta \u001b[36m-:--:--\u001b[0m\r\u001b[2K     \u001b[91m━\u001b[0m\u001b[90m╺\u001b[0m\u001b[90m━━━━━━━━━━━━━━━━━━━━━━━━━━━━━━━━━━━━━━\u001b[0m \u001b[32m0.0/1.6 MB\u001b[0m \u001b[31m996.8 kB/s\u001b[0m eta \u001b[36m0:00:02\u001b[0m\r\u001b[2K     \u001b[91m━━━━━━━\u001b[0m\u001b[90m╺\u001b[0m\u001b[90m━━━━━━━━━━━━━━━━━━━━━━━━━━━━━━━━\u001b[0m \u001b[32m0.3/1.6 MB\u001b[0m \u001b[31m4.0 MB/s\u001b[0m eta \u001b[36m0:00:01\u001b[0m\r\u001b[2K     \u001b[91m━━━━━━━━━━━━━━━\u001b[0m\u001b[91m╸\u001b[0m\u001b[90m━━━━━━━━━━━━━━━━━━━━━━━━\u001b[0m \u001b[32m0.6/1.6 MB\u001b[0m \u001b[31m5.9 MB/s\u001b[0m eta \u001b[36m0:00:01\u001b[0m\r\u001b[2K     \u001b[91m━━━━━━━━━━━━━━━━━━━━━━━━━\u001b[0m\u001b[90m╺\u001b[0m\u001b[90m━━━━━━━━━━━━━━\u001b[0m \u001b[32m1.0/1.6 MB\u001b[0m \u001b[31m6.9 MB/s\u001b[0m eta \u001b[36m0:00:01\u001b[0m\r\u001b[2K     \u001b[91m━━━━━━━━━━━━━━━━━━━━━━━━━━━━━━━━━━━━\u001b[0m\u001b[91m╸\u001b[0m\u001b[90m━━━\u001b[0m \u001b[32m1.4/1.6 MB\u001b[0m \u001b[31m7.9 MB/s\u001b[0m eta \u001b[36m0:00:01\u001b[0m\r\u001b[2K     \u001b[90m━━━━━━━━━━━━━━━━━━━━━━━━━━━━━━━━━━━━━━━━\u001b[0m \u001b[32m1.6/1.6 MB\u001b[0m \u001b[31m7.4 MB/s\u001b[0m eta \u001b[36m0:00:00\u001b[0m\n",
            "\u001b[?25h"
          ]
        }
      ],
      "source": [
        "!pip install -qU pinecone-client langchain openai sqlalchemy tiktoken cohere"
      ]
    },
    {
      "cell_type": "markdown",
      "source": [
        "## Setting up environment\n"
      ],
      "metadata": {
        "id": "m9y_m6TmGL5H"
      }
    },
    {
      "cell_type": "code",
      "source": [
        "from getpass import getpass\n",
        "import os"
      ],
      "metadata": {
        "id": "GVyQ4QT-nbff"
      },
      "execution_count": null,
      "outputs": []
    },
    {
      "cell_type": "code",
      "source": [
        "os.environ[\"PINECONE_API_KEY\"] = getpass(\"Pinecone API Key:\")"
      ],
      "metadata": {
        "colab": {
          "base_uri": "https://localhost:8080/"
        },
        "id": "neVCZb9SGZjB",
        "outputId": "323903ba-f863-4dd5-8e74-26e23251559d"
      },
      "execution_count": null,
      "outputs": [
        {
          "name": "stdout",
          "output_type": "stream",
          "text": [
            "Pinecone API Key:··········\n"
          ]
        }
      ]
    },
    {
      "cell_type": "code",
      "source": [
        "os.environ[\"PINECONE_ENVIRONMENT\"] = getpass(\"Pinecone Environment:\")"
      ],
      "metadata": {
        "colab": {
          "base_uri": "https://localhost:8080/"
        },
        "id": "adnkbzjgGv9I",
        "outputId": "a2ea7255-1008-4028-9bf4-d39ea99fe000"
      },
      "execution_count": null,
      "outputs": [
        {
          "name": "stdout",
          "output_type": "stream",
          "text": [
            "Pinecone Environment:··········\n"
          ]
        }
      ]
    },
    {
      "cell_type": "code",
      "source": [
        "os.environ[\"OPENAI_API_KEY\"] = getpass(\"OpenAI API Key:\")"
      ],
      "metadata": {
        "colab": {
          "base_uri": "https://localhost:8080/"
        },
        "id": "VMDPU-_jGX20",
        "outputId": "26b3bdfa-6650-4490-ecd2-e4e2beb1a189"
      },
      "execution_count": null,
      "outputs": [
        {
          "name": "stdout",
          "output_type": "stream",
          "text": [
            "OpenAI API Key:··········\n"
          ]
        }
      ]
    },
    {
      "cell_type": "markdown",
      "source": [
        "## External source\n",
        "Automatic Glossary of Clinical Terminology: a Large-Scale Dictionary of Biomedical Definitions Generated from Ontological Knowledge"
      ],
      "metadata": {
        "id": "LgaLTqzsOq6E"
      }
    },
    {
      "cell_type": "code",
      "source": [
        "!git clone https://huggingface.co/datasets/FremyCompany/AGCT-Dataset"
      ],
      "metadata": {
        "colab": {
          "base_uri": "https://localhost:8080/"
        },
        "id": "8r5dw6D_MnMb",
        "outputId": "f12a48d8-2275-4907-d277-1c0f5a09b219"
      },
      "execution_count": null,
      "outputs": [
        {
          "output_type": "stream",
          "name": "stdout",
          "text": [
            "Cloning into 'AGCT-Dataset'...\n",
            "remote: Enumerating objects: 16, done.\u001b[K\n",
            "remote: Counting objects: 100% (3/3), done.\u001b[K\n",
            "remote: Compressing objects: 100% (3/3), done.\u001b[K\n",
            "remote: Total 16 (delta 0), reused 0 (delta 0), pack-reused 13\u001b[K\n",
            "Unpacking objects: 100% (16/16), 5.19 KiB | 1.04 MiB/s, done.\n"
          ]
        }
      ]
    },
    {
      "cell_type": "code",
      "source": [
        "!git clone https://github.com/abachaa/MedQuAD.git"
      ],
      "metadata": {
        "colab": {
          "base_uri": "https://localhost:8080/"
        },
        "id": "gboIUvnCFG2J",
        "outputId": "a77b8887-5ad4-461c-cdd5-6418f183caac"
      },
      "execution_count": null,
      "outputs": [
        {
          "output_type": "stream",
          "name": "stdout",
          "text": [
            "Cloning into 'MedQuAD'...\n",
            "remote: Enumerating objects: 11310, done.\u001b[K\n",
            "remote: Counting objects: 100% (18/18), done.\u001b[K\n",
            "remote: Compressing objects: 100% (15/15), done.\u001b[K\n",
            "remote: Total 11310 (delta 8), reused 8 (delta 3), pack-reused 11292\u001b[K\n",
            "Receiving objects: 100% (11310/11310), 11.01 MiB | 9.50 MiB/s, done.\n",
            "Resolving deltas: 100% (6806/6806), done.\n",
            "Updating files: 100% (11277/11277), done.\n"
          ]
        }
      ]
    },
    {
      "cell_type": "markdown",
      "source": [
        "### Preprocess the data\n"
      ],
      "metadata": {
        "id": "rHogrev9Ig_y"
      }
    },
    {
      "cell_type": "code",
      "source": [
        "import pandas as pd\n",
        "\n",
        "AGCT = pd.read_fwf(\"AGCT-Dataset/train.txt\",header=None)"
      ],
      "metadata": {
        "id": "F10E_OPkNMlT"
      },
      "execution_count": null,
      "outputs": []
    },
    {
      "cell_type": "code",
      "source": [
        "AGCT"
      ],
      "metadata": {
        "colab": {
          "base_uri": "https://localhost:8080/",
          "height": 423
        },
        "id": "xoCTdAUzY4mM",
        "outputId": "9b3173a3-0b14-4b14-db4c-f275083cdd35"
      },
      "execution_count": null,
      "outputs": [
        {
          "output_type": "execute_result",
          "data": {
            "text/plain": [
              "                                                        0\n",
              "0       \"zinc supplement\" refers to a medication that ...\n",
              "1       \"fit post core to tooth\" refers to a dental re...\n",
              "2       \"abdominal tenderness absent\" refers to a clin...\n",
              "3       \"divergence paralysis\" refers to a condition c...\n",
              "4       \"normal active range of hip extension\" refers ...\n",
              "...                                                   ...\n",
              "421211  \"product containing zotarolimus\" refers to a m...\n",
              "421212  \"meiotic cell\" refers to a type of cell that u...\n",
              "421213  \"phage type battersea\" refers to a classificat...\n",
              "421214  \"diaphragmatic\" refers to anything that is rel...\n",
              "421215  \"ducula bicolor\" refers to a species of bird w...\n",
              "\n",
              "[421216 rows x 1 columns]"
            ],
            "text/html": [
              "\n",
              "  <div id=\"df-55f719c5-2922-4fac-8ba0-e44e4c9faf7c\" class=\"colab-df-container\">\n",
              "    <div>\n",
              "<style scoped>\n",
              "    .dataframe tbody tr th:only-of-type {\n",
              "        vertical-align: middle;\n",
              "    }\n",
              "\n",
              "    .dataframe tbody tr th {\n",
              "        vertical-align: top;\n",
              "    }\n",
              "\n",
              "    .dataframe thead th {\n",
              "        text-align: right;\n",
              "    }\n",
              "</style>\n",
              "<table border=\"1\" class=\"dataframe\">\n",
              "  <thead>\n",
              "    <tr style=\"text-align: right;\">\n",
              "      <th></th>\n",
              "      <th>0</th>\n",
              "    </tr>\n",
              "  </thead>\n",
              "  <tbody>\n",
              "    <tr>\n",
              "      <th>0</th>\n",
              "      <td>\"zinc supplement\" refers to a medication that ...</td>\n",
              "    </tr>\n",
              "    <tr>\n",
              "      <th>1</th>\n",
              "      <td>\"fit post core to tooth\" refers to a dental re...</td>\n",
              "    </tr>\n",
              "    <tr>\n",
              "      <th>2</th>\n",
              "      <td>\"abdominal tenderness absent\" refers to a clin...</td>\n",
              "    </tr>\n",
              "    <tr>\n",
              "      <th>3</th>\n",
              "      <td>\"divergence paralysis\" refers to a condition c...</td>\n",
              "    </tr>\n",
              "    <tr>\n",
              "      <th>4</th>\n",
              "      <td>\"normal active range of hip extension\" refers ...</td>\n",
              "    </tr>\n",
              "    <tr>\n",
              "      <th>...</th>\n",
              "      <td>...</td>\n",
              "    </tr>\n",
              "    <tr>\n",
              "      <th>421211</th>\n",
              "      <td>\"product containing zotarolimus\" refers to a m...</td>\n",
              "    </tr>\n",
              "    <tr>\n",
              "      <th>421212</th>\n",
              "      <td>\"meiotic cell\" refers to a type of cell that u...</td>\n",
              "    </tr>\n",
              "    <tr>\n",
              "      <th>421213</th>\n",
              "      <td>\"phage type battersea\" refers to a classificat...</td>\n",
              "    </tr>\n",
              "    <tr>\n",
              "      <th>421214</th>\n",
              "      <td>\"diaphragmatic\" refers to anything that is rel...</td>\n",
              "    </tr>\n",
              "    <tr>\n",
              "      <th>421215</th>\n",
              "      <td>\"ducula bicolor\" refers to a species of bird w...</td>\n",
              "    </tr>\n",
              "  </tbody>\n",
              "</table>\n",
              "<p>421216 rows × 1 columns</p>\n",
              "</div>\n",
              "    <div class=\"colab-df-buttons\">\n",
              "\n",
              "  <div class=\"colab-df-container\">\n",
              "    <button class=\"colab-df-convert\" onclick=\"convertToInteractive('df-55f719c5-2922-4fac-8ba0-e44e4c9faf7c')\"\n",
              "            title=\"Convert this dataframe to an interactive table.\"\n",
              "            style=\"display:none;\">\n",
              "\n",
              "  <svg xmlns=\"http://www.w3.org/2000/svg\" height=\"24px\" viewBox=\"0 -960 960 960\">\n",
              "    <path d=\"M120-120v-720h720v720H120Zm60-500h600v-160H180v160Zm220 220h160v-160H400v160Zm0 220h160v-160H400v160ZM180-400h160v-160H180v160Zm440 0h160v-160H620v160ZM180-180h160v-160H180v160Zm440 0h160v-160H620v160Z\"/>\n",
              "  </svg>\n",
              "    </button>\n",
              "\n",
              "  <style>\n",
              "    .colab-df-container {\n",
              "      display:flex;\n",
              "      gap: 12px;\n",
              "    }\n",
              "\n",
              "    .colab-df-convert {\n",
              "      background-color: #E8F0FE;\n",
              "      border: none;\n",
              "      border-radius: 50%;\n",
              "      cursor: pointer;\n",
              "      display: none;\n",
              "      fill: #1967D2;\n",
              "      height: 32px;\n",
              "      padding: 0 0 0 0;\n",
              "      width: 32px;\n",
              "    }\n",
              "\n",
              "    .colab-df-convert:hover {\n",
              "      background-color: #E2EBFA;\n",
              "      box-shadow: 0px 1px 2px rgba(60, 64, 67, 0.3), 0px 1px 3px 1px rgba(60, 64, 67, 0.15);\n",
              "      fill: #174EA6;\n",
              "    }\n",
              "\n",
              "    .colab-df-buttons div {\n",
              "      margin-bottom: 4px;\n",
              "    }\n",
              "\n",
              "    [theme=dark] .colab-df-convert {\n",
              "      background-color: #3B4455;\n",
              "      fill: #D2E3FC;\n",
              "    }\n",
              "\n",
              "    [theme=dark] .colab-df-convert:hover {\n",
              "      background-color: #434B5C;\n",
              "      box-shadow: 0px 1px 3px 1px rgba(0, 0, 0, 0.15);\n",
              "      filter: drop-shadow(0px 1px 2px rgba(0, 0, 0, 0.3));\n",
              "      fill: #FFFFFF;\n",
              "    }\n",
              "  </style>\n",
              "\n",
              "    <script>\n",
              "      const buttonEl =\n",
              "        document.querySelector('#df-55f719c5-2922-4fac-8ba0-e44e4c9faf7c button.colab-df-convert');\n",
              "      buttonEl.style.display =\n",
              "        google.colab.kernel.accessAllowed ? 'block' : 'none';\n",
              "\n",
              "      async function convertToInteractive(key) {\n",
              "        const element = document.querySelector('#df-55f719c5-2922-4fac-8ba0-e44e4c9faf7c');\n",
              "        const dataTable =\n",
              "          await google.colab.kernel.invokeFunction('convertToInteractive',\n",
              "                                                    [key], {});\n",
              "        if (!dataTable) return;\n",
              "\n",
              "        const docLinkHtml = 'Like what you see? Visit the ' +\n",
              "          '<a target=\"_blank\" href=https://colab.research.google.com/notebooks/data_table.ipynb>data table notebook</a>'\n",
              "          + ' to learn more about interactive tables.';\n",
              "        element.innerHTML = '';\n",
              "        dataTable['output_type'] = 'display_data';\n",
              "        await google.colab.output.renderOutput(dataTable, element);\n",
              "        const docLink = document.createElement('div');\n",
              "        docLink.innerHTML = docLinkHtml;\n",
              "        element.appendChild(docLink);\n",
              "      }\n",
              "    </script>\n",
              "  </div>\n",
              "\n",
              "\n",
              "<div id=\"df-309fb0d8-d0a0-472f-8b23-e6f814f51338\">\n",
              "  <button class=\"colab-df-quickchart\" onclick=\"quickchart('df-309fb0d8-d0a0-472f-8b23-e6f814f51338')\"\n",
              "            title=\"Suggest charts\"\n",
              "            style=\"display:none;\">\n",
              "\n",
              "<svg xmlns=\"http://www.w3.org/2000/svg\" height=\"24px\"viewBox=\"0 0 24 24\"\n",
              "     width=\"24px\">\n",
              "    <g>\n",
              "        <path d=\"M19 3H5c-1.1 0-2 .9-2 2v14c0 1.1.9 2 2 2h14c1.1 0 2-.9 2-2V5c0-1.1-.9-2-2-2zM9 17H7v-7h2v7zm4 0h-2V7h2v10zm4 0h-2v-4h2v4z\"/>\n",
              "    </g>\n",
              "</svg>\n",
              "  </button>\n",
              "\n",
              "<style>\n",
              "  .colab-df-quickchart {\n",
              "      --bg-color: #E8F0FE;\n",
              "      --fill-color: #1967D2;\n",
              "      --hover-bg-color: #E2EBFA;\n",
              "      --hover-fill-color: #174EA6;\n",
              "      --disabled-fill-color: #AAA;\n",
              "      --disabled-bg-color: #DDD;\n",
              "  }\n",
              "\n",
              "  [theme=dark] .colab-df-quickchart {\n",
              "      --bg-color: #3B4455;\n",
              "      --fill-color: #D2E3FC;\n",
              "      --hover-bg-color: #434B5C;\n",
              "      --hover-fill-color: #FFFFFF;\n",
              "      --disabled-bg-color: #3B4455;\n",
              "      --disabled-fill-color: #666;\n",
              "  }\n",
              "\n",
              "  .colab-df-quickchart {\n",
              "    background-color: var(--bg-color);\n",
              "    border: none;\n",
              "    border-radius: 50%;\n",
              "    cursor: pointer;\n",
              "    display: none;\n",
              "    fill: var(--fill-color);\n",
              "    height: 32px;\n",
              "    padding: 0;\n",
              "    width: 32px;\n",
              "  }\n",
              "\n",
              "  .colab-df-quickchart:hover {\n",
              "    background-color: var(--hover-bg-color);\n",
              "    box-shadow: 0 1px 2px rgba(60, 64, 67, 0.3), 0 1px 3px 1px rgba(60, 64, 67, 0.15);\n",
              "    fill: var(--button-hover-fill-color);\n",
              "  }\n",
              "\n",
              "  .colab-df-quickchart-complete:disabled,\n",
              "  .colab-df-quickchart-complete:disabled:hover {\n",
              "    background-color: var(--disabled-bg-color);\n",
              "    fill: var(--disabled-fill-color);\n",
              "    box-shadow: none;\n",
              "  }\n",
              "\n",
              "  .colab-df-spinner {\n",
              "    border: 2px solid var(--fill-color);\n",
              "    border-color: transparent;\n",
              "    border-bottom-color: var(--fill-color);\n",
              "    animation:\n",
              "      spin 1s steps(1) infinite;\n",
              "  }\n",
              "\n",
              "  @keyframes spin {\n",
              "    0% {\n",
              "      border-color: transparent;\n",
              "      border-bottom-color: var(--fill-color);\n",
              "      border-left-color: var(--fill-color);\n",
              "    }\n",
              "    20% {\n",
              "      border-color: transparent;\n",
              "      border-left-color: var(--fill-color);\n",
              "      border-top-color: var(--fill-color);\n",
              "    }\n",
              "    30% {\n",
              "      border-color: transparent;\n",
              "      border-left-color: var(--fill-color);\n",
              "      border-top-color: var(--fill-color);\n",
              "      border-right-color: var(--fill-color);\n",
              "    }\n",
              "    40% {\n",
              "      border-color: transparent;\n",
              "      border-right-color: var(--fill-color);\n",
              "      border-top-color: var(--fill-color);\n",
              "    }\n",
              "    60% {\n",
              "      border-color: transparent;\n",
              "      border-right-color: var(--fill-color);\n",
              "    }\n",
              "    80% {\n",
              "      border-color: transparent;\n",
              "      border-right-color: var(--fill-color);\n",
              "      border-bottom-color: var(--fill-color);\n",
              "    }\n",
              "    90% {\n",
              "      border-color: transparent;\n",
              "      border-bottom-color: var(--fill-color);\n",
              "    }\n",
              "  }\n",
              "</style>\n",
              "\n",
              "  <script>\n",
              "    async function quickchart(key) {\n",
              "      const quickchartButtonEl =\n",
              "        document.querySelector('#' + key + ' button');\n",
              "      quickchartButtonEl.disabled = true;  // To prevent multiple clicks.\n",
              "      quickchartButtonEl.classList.add('colab-df-spinner');\n",
              "      try {\n",
              "        const charts = await google.colab.kernel.invokeFunction(\n",
              "            'suggestCharts', [key], {});\n",
              "      } catch (error) {\n",
              "        console.error('Error during call to suggestCharts:', error);\n",
              "      }\n",
              "      quickchartButtonEl.classList.remove('colab-df-spinner');\n",
              "      quickchartButtonEl.classList.add('colab-df-quickchart-complete');\n",
              "    }\n",
              "    (() => {\n",
              "      let quickchartButtonEl =\n",
              "        document.querySelector('#df-309fb0d8-d0a0-472f-8b23-e6f814f51338 button');\n",
              "      quickchartButtonEl.style.display =\n",
              "        google.colab.kernel.accessAllowed ? 'block' : 'none';\n",
              "    })();\n",
              "  </script>\n",
              "</div>\n",
              "\n",
              "  <div id=\"id_875a3e90-b1b9-4f57-b2a9-4a51f126560b\">\n",
              "    <style>\n",
              "      .colab-df-generate {\n",
              "        background-color: #E8F0FE;\n",
              "        border: none;\n",
              "        border-radius: 50%;\n",
              "        cursor: pointer;\n",
              "        display: none;\n",
              "        fill: #1967D2;\n",
              "        height: 32px;\n",
              "        padding: 0 0 0 0;\n",
              "        width: 32px;\n",
              "      }\n",
              "\n",
              "      .colab-df-generate:hover {\n",
              "        background-color: #E2EBFA;\n",
              "        box-shadow: 0px 1px 2px rgba(60, 64, 67, 0.3), 0px 1px 3px 1px rgba(60, 64, 67, 0.15);\n",
              "        fill: #174EA6;\n",
              "      }\n",
              "\n",
              "      [theme=dark] .colab-df-generate {\n",
              "        background-color: #3B4455;\n",
              "        fill: #D2E3FC;\n",
              "      }\n",
              "\n",
              "      [theme=dark] .colab-df-generate:hover {\n",
              "        background-color: #434B5C;\n",
              "        box-shadow: 0px 1px 3px 1px rgba(0, 0, 0, 0.15);\n",
              "        filter: drop-shadow(0px 1px 2px rgba(0, 0, 0, 0.3));\n",
              "        fill: #FFFFFF;\n",
              "      }\n",
              "    </style>\n",
              "    <button class=\"colab-df-generate\" onclick=\"generateWithVariable('AGCT')\"\n",
              "            title=\"Generate code using this dataframe.\"\n",
              "            style=\"display:none;\">\n",
              "\n",
              "  <svg xmlns=\"http://www.w3.org/2000/svg\" height=\"24px\"viewBox=\"0 0 24 24\"\n",
              "       width=\"24px\">\n",
              "    <path d=\"M7,19H8.4L18.45,9,17,7.55,7,17.6ZM5,21V16.75L18.45,3.32a2,2,0,0,1,2.83,0l1.4,1.43a1.91,1.91,0,0,1,.58,1.4,1.91,1.91,0,0,1-.58,1.4L9.25,21ZM18.45,9,17,7.55Zm-12,3A5.31,5.31,0,0,0,4.9,8.1,5.31,5.31,0,0,0,1,6.5,5.31,5.31,0,0,0,4.9,4.9,5.31,5.31,0,0,0,6.5,1,5.31,5.31,0,0,0,8.1,4.9,5.31,5.31,0,0,0,12,6.5,5.46,5.46,0,0,0,6.5,12Z\"/>\n",
              "  </svg>\n",
              "    </button>\n",
              "    <script>\n",
              "      (() => {\n",
              "      const buttonEl =\n",
              "        document.querySelector('#id_875a3e90-b1b9-4f57-b2a9-4a51f126560b button.colab-df-generate');\n",
              "      buttonEl.style.display =\n",
              "        google.colab.kernel.accessAllowed ? 'block' : 'none';\n",
              "\n",
              "      buttonEl.onclick = () => {\n",
              "        google.colab.notebook.generateWithVariable('AGCT');\n",
              "      }\n",
              "      })();\n",
              "    </script>\n",
              "  </div>\n",
              "\n",
              "    </div>\n",
              "  </div>\n"
            ]
          },
          "metadata": {},
          "execution_count": 8
        }
      ]
    },
    {
      "cell_type": "code",
      "source": [
        "AGCT.columns"
      ],
      "metadata": {
        "colab": {
          "base_uri": "https://localhost:8080/"
        },
        "id": "ag7PUbK2grof",
        "outputId": "221ea1ad-704d-4a38-8cb5-bf5691275ce7"
      },
      "execution_count": null,
      "outputs": [
        {
          "output_type": "execute_result",
          "data": {
            "text/plain": [
              "Int64Index([0], dtype='int64')"
            ]
          },
          "metadata": {},
          "execution_count": 6
        }
      ]
    },
    {
      "cell_type": "code",
      "source": [
        "AGCT[['title','context']] = AGCT[0].str.split(' refers to ',1,expand=True)"
      ],
      "metadata": {
        "colab": {
          "base_uri": "https://localhost:8080/"
        },
        "id": "VLsh2LKEbSP0",
        "outputId": "1bedcfa8-83d1-4b3b-e434-7116bffbf434"
      },
      "execution_count": null,
      "outputs": [
        {
          "output_type": "stream",
          "name": "stderr",
          "text": [
            "<ipython-input-9-8d22cf2a3a48>:1: FutureWarning: In a future version of pandas all arguments of StringMethods.split except for the argument 'pat' will be keyword-only.\n",
            "  AGCT[['title','context']] = AGCT[0].str.split(' refers to ',1,expand=True)\n"
          ]
        }
      ]
    },
    {
      "cell_type": "code",
      "source": [
        "AGCT.drop([0],axis=1,inplace=True)"
      ],
      "metadata": {
        "id": "zPAT_qMvg1iA"
      },
      "execution_count": null,
      "outputs": []
    },
    {
      "cell_type": "code",
      "source": [
        "AGCT"
      ],
      "metadata": {
        "colab": {
          "base_uri": "https://localhost:8080/",
          "height": 423
        },
        "id": "qi8CmXSzj8-f",
        "outputId": "e1ebfa66-1d5d-4131-b95f-0284e6228332"
      },
      "execution_count": null,
      "outputs": [
        {
          "output_type": "execute_result",
          "data": {
            "text/plain": [
              "                                         title  \\\n",
              "0                            \"zinc supplement\"   \n",
              "1                     \"fit post core to tooth\"   \n",
              "2                \"abdominal tenderness absent\"   \n",
              "3                       \"divergence paralysis\"   \n",
              "4       \"normal active range of hip extension\"   \n",
              "...                                        ...   \n",
              "421211        \"product containing zotarolimus\"   \n",
              "421212                          \"meiotic cell\"   \n",
              "421213                  \"phage type battersea\"   \n",
              "421214                         \"diaphragmatic\"   \n",
              "421215                        \"ducula bicolor\"   \n",
              "\n",
              "                                                  context  \n",
              "0       a medication that contains zinc and/or zinc co...  \n",
              "1       a dental restoration procedure that involves t...  \n",
              "2       a clinical finding of the absence of pain or d...  \n",
              "3       a condition characterized by the inability to ...  \n",
              "4       the normal range of movement that the hip join...  \n",
              "...                                                   ...  \n",
              "421211  a medicinal product that acts as an immunosupp...  \n",
              "421212  a type of cell that undergoes a specific type ...  \n",
              "421213  a classification of bacteriophages, which are ...  \n",
              "421214  anything that is related to or located in the ...  \n",
              "421215  a species of bird within the Ducula genus. Thi...  \n",
              "\n",
              "[421216 rows x 2 columns]"
            ],
            "text/html": [
              "\n",
              "  <div id=\"df-d9a5eec0-af29-486b-81c0-79a11fad66b9\" class=\"colab-df-container\">\n",
              "    <div>\n",
              "<style scoped>\n",
              "    .dataframe tbody tr th:only-of-type {\n",
              "        vertical-align: middle;\n",
              "    }\n",
              "\n",
              "    .dataframe tbody tr th {\n",
              "        vertical-align: top;\n",
              "    }\n",
              "\n",
              "    .dataframe thead th {\n",
              "        text-align: right;\n",
              "    }\n",
              "</style>\n",
              "<table border=\"1\" class=\"dataframe\">\n",
              "  <thead>\n",
              "    <tr style=\"text-align: right;\">\n",
              "      <th></th>\n",
              "      <th>title</th>\n",
              "      <th>context</th>\n",
              "    </tr>\n",
              "  </thead>\n",
              "  <tbody>\n",
              "    <tr>\n",
              "      <th>0</th>\n",
              "      <td>\"zinc supplement\"</td>\n",
              "      <td>a medication that contains zinc and/or zinc co...</td>\n",
              "    </tr>\n",
              "    <tr>\n",
              "      <th>1</th>\n",
              "      <td>\"fit post core to tooth\"</td>\n",
              "      <td>a dental restoration procedure that involves t...</td>\n",
              "    </tr>\n",
              "    <tr>\n",
              "      <th>2</th>\n",
              "      <td>\"abdominal tenderness absent\"</td>\n",
              "      <td>a clinical finding of the absence of pain or d...</td>\n",
              "    </tr>\n",
              "    <tr>\n",
              "      <th>3</th>\n",
              "      <td>\"divergence paralysis\"</td>\n",
              "      <td>a condition characterized by the inability to ...</td>\n",
              "    </tr>\n",
              "    <tr>\n",
              "      <th>4</th>\n",
              "      <td>\"normal active range of hip extension\"</td>\n",
              "      <td>the normal range of movement that the hip join...</td>\n",
              "    </tr>\n",
              "    <tr>\n",
              "      <th>...</th>\n",
              "      <td>...</td>\n",
              "      <td>...</td>\n",
              "    </tr>\n",
              "    <tr>\n",
              "      <th>421211</th>\n",
              "      <td>\"product containing zotarolimus\"</td>\n",
              "      <td>a medicinal product that acts as an immunosupp...</td>\n",
              "    </tr>\n",
              "    <tr>\n",
              "      <th>421212</th>\n",
              "      <td>\"meiotic cell\"</td>\n",
              "      <td>a type of cell that undergoes a specific type ...</td>\n",
              "    </tr>\n",
              "    <tr>\n",
              "      <th>421213</th>\n",
              "      <td>\"phage type battersea\"</td>\n",
              "      <td>a classification of bacteriophages, which are ...</td>\n",
              "    </tr>\n",
              "    <tr>\n",
              "      <th>421214</th>\n",
              "      <td>\"diaphragmatic\"</td>\n",
              "      <td>anything that is related to or located in the ...</td>\n",
              "    </tr>\n",
              "    <tr>\n",
              "      <th>421215</th>\n",
              "      <td>\"ducula bicolor\"</td>\n",
              "      <td>a species of bird within the Ducula genus. Thi...</td>\n",
              "    </tr>\n",
              "  </tbody>\n",
              "</table>\n",
              "<p>421216 rows × 2 columns</p>\n",
              "</div>\n",
              "    <div class=\"colab-df-buttons\">\n",
              "\n",
              "  <div class=\"colab-df-container\">\n",
              "    <button class=\"colab-df-convert\" onclick=\"convertToInteractive('df-d9a5eec0-af29-486b-81c0-79a11fad66b9')\"\n",
              "            title=\"Convert this dataframe to an interactive table.\"\n",
              "            style=\"display:none;\">\n",
              "\n",
              "  <svg xmlns=\"http://www.w3.org/2000/svg\" height=\"24px\" viewBox=\"0 -960 960 960\">\n",
              "    <path d=\"M120-120v-720h720v720H120Zm60-500h600v-160H180v160Zm220 220h160v-160H400v160Zm0 220h160v-160H400v160ZM180-400h160v-160H180v160Zm440 0h160v-160H620v160ZM180-180h160v-160H180v160Zm440 0h160v-160H620v160Z\"/>\n",
              "  </svg>\n",
              "    </button>\n",
              "\n",
              "  <style>\n",
              "    .colab-df-container {\n",
              "      display:flex;\n",
              "      gap: 12px;\n",
              "    }\n",
              "\n",
              "    .colab-df-convert {\n",
              "      background-color: #E8F0FE;\n",
              "      border: none;\n",
              "      border-radius: 50%;\n",
              "      cursor: pointer;\n",
              "      display: none;\n",
              "      fill: #1967D2;\n",
              "      height: 32px;\n",
              "      padding: 0 0 0 0;\n",
              "      width: 32px;\n",
              "    }\n",
              "\n",
              "    .colab-df-convert:hover {\n",
              "      background-color: #E2EBFA;\n",
              "      box-shadow: 0px 1px 2px rgba(60, 64, 67, 0.3), 0px 1px 3px 1px rgba(60, 64, 67, 0.15);\n",
              "      fill: #174EA6;\n",
              "    }\n",
              "\n",
              "    .colab-df-buttons div {\n",
              "      margin-bottom: 4px;\n",
              "    }\n",
              "\n",
              "    [theme=dark] .colab-df-convert {\n",
              "      background-color: #3B4455;\n",
              "      fill: #D2E3FC;\n",
              "    }\n",
              "\n",
              "    [theme=dark] .colab-df-convert:hover {\n",
              "      background-color: #434B5C;\n",
              "      box-shadow: 0px 1px 3px 1px rgba(0, 0, 0, 0.15);\n",
              "      filter: drop-shadow(0px 1px 2px rgba(0, 0, 0, 0.3));\n",
              "      fill: #FFFFFF;\n",
              "    }\n",
              "  </style>\n",
              "\n",
              "    <script>\n",
              "      const buttonEl =\n",
              "        document.querySelector('#df-d9a5eec0-af29-486b-81c0-79a11fad66b9 button.colab-df-convert');\n",
              "      buttonEl.style.display =\n",
              "        google.colab.kernel.accessAllowed ? 'block' : 'none';\n",
              "\n",
              "      async function convertToInteractive(key) {\n",
              "        const element = document.querySelector('#df-d9a5eec0-af29-486b-81c0-79a11fad66b9');\n",
              "        const dataTable =\n",
              "          await google.colab.kernel.invokeFunction('convertToInteractive',\n",
              "                                                    [key], {});\n",
              "        if (!dataTable) return;\n",
              "\n",
              "        const docLinkHtml = 'Like what you see? Visit the ' +\n",
              "          '<a target=\"_blank\" href=https://colab.research.google.com/notebooks/data_table.ipynb>data table notebook</a>'\n",
              "          + ' to learn more about interactive tables.';\n",
              "        element.innerHTML = '';\n",
              "        dataTable['output_type'] = 'display_data';\n",
              "        await google.colab.output.renderOutput(dataTable, element);\n",
              "        const docLink = document.createElement('div');\n",
              "        docLink.innerHTML = docLinkHtml;\n",
              "        element.appendChild(docLink);\n",
              "      }\n",
              "    </script>\n",
              "  </div>\n",
              "\n",
              "\n",
              "<div id=\"df-cfcc8ebe-eedd-4a55-b1ae-7a1972b5372f\">\n",
              "  <button class=\"colab-df-quickchart\" onclick=\"quickchart('df-cfcc8ebe-eedd-4a55-b1ae-7a1972b5372f')\"\n",
              "            title=\"Suggest charts\"\n",
              "            style=\"display:none;\">\n",
              "\n",
              "<svg xmlns=\"http://www.w3.org/2000/svg\" height=\"24px\"viewBox=\"0 0 24 24\"\n",
              "     width=\"24px\">\n",
              "    <g>\n",
              "        <path d=\"M19 3H5c-1.1 0-2 .9-2 2v14c0 1.1.9 2 2 2h14c1.1 0 2-.9 2-2V5c0-1.1-.9-2-2-2zM9 17H7v-7h2v7zm4 0h-2V7h2v10zm4 0h-2v-4h2v4z\"/>\n",
              "    </g>\n",
              "</svg>\n",
              "  </button>\n",
              "\n",
              "<style>\n",
              "  .colab-df-quickchart {\n",
              "      --bg-color: #E8F0FE;\n",
              "      --fill-color: #1967D2;\n",
              "      --hover-bg-color: #E2EBFA;\n",
              "      --hover-fill-color: #174EA6;\n",
              "      --disabled-fill-color: #AAA;\n",
              "      --disabled-bg-color: #DDD;\n",
              "  }\n",
              "\n",
              "  [theme=dark] .colab-df-quickchart {\n",
              "      --bg-color: #3B4455;\n",
              "      --fill-color: #D2E3FC;\n",
              "      --hover-bg-color: #434B5C;\n",
              "      --hover-fill-color: #FFFFFF;\n",
              "      --disabled-bg-color: #3B4455;\n",
              "      --disabled-fill-color: #666;\n",
              "  }\n",
              "\n",
              "  .colab-df-quickchart {\n",
              "    background-color: var(--bg-color);\n",
              "    border: none;\n",
              "    border-radius: 50%;\n",
              "    cursor: pointer;\n",
              "    display: none;\n",
              "    fill: var(--fill-color);\n",
              "    height: 32px;\n",
              "    padding: 0;\n",
              "    width: 32px;\n",
              "  }\n",
              "\n",
              "  .colab-df-quickchart:hover {\n",
              "    background-color: var(--hover-bg-color);\n",
              "    box-shadow: 0 1px 2px rgba(60, 64, 67, 0.3), 0 1px 3px 1px rgba(60, 64, 67, 0.15);\n",
              "    fill: var(--button-hover-fill-color);\n",
              "  }\n",
              "\n",
              "  .colab-df-quickchart-complete:disabled,\n",
              "  .colab-df-quickchart-complete:disabled:hover {\n",
              "    background-color: var(--disabled-bg-color);\n",
              "    fill: var(--disabled-fill-color);\n",
              "    box-shadow: none;\n",
              "  }\n",
              "\n",
              "  .colab-df-spinner {\n",
              "    border: 2px solid var(--fill-color);\n",
              "    border-color: transparent;\n",
              "    border-bottom-color: var(--fill-color);\n",
              "    animation:\n",
              "      spin 1s steps(1) infinite;\n",
              "  }\n",
              "\n",
              "  @keyframes spin {\n",
              "    0% {\n",
              "      border-color: transparent;\n",
              "      border-bottom-color: var(--fill-color);\n",
              "      border-left-color: var(--fill-color);\n",
              "    }\n",
              "    20% {\n",
              "      border-color: transparent;\n",
              "      border-left-color: var(--fill-color);\n",
              "      border-top-color: var(--fill-color);\n",
              "    }\n",
              "    30% {\n",
              "      border-color: transparent;\n",
              "      border-left-color: var(--fill-color);\n",
              "      border-top-color: var(--fill-color);\n",
              "      border-right-color: var(--fill-color);\n",
              "    }\n",
              "    40% {\n",
              "      border-color: transparent;\n",
              "      border-right-color: var(--fill-color);\n",
              "      border-top-color: var(--fill-color);\n",
              "    }\n",
              "    60% {\n",
              "      border-color: transparent;\n",
              "      border-right-color: var(--fill-color);\n",
              "    }\n",
              "    80% {\n",
              "      border-color: transparent;\n",
              "      border-right-color: var(--fill-color);\n",
              "      border-bottom-color: var(--fill-color);\n",
              "    }\n",
              "    90% {\n",
              "      border-color: transparent;\n",
              "      border-bottom-color: var(--fill-color);\n",
              "    }\n",
              "  }\n",
              "</style>\n",
              "\n",
              "  <script>\n",
              "    async function quickchart(key) {\n",
              "      const quickchartButtonEl =\n",
              "        document.querySelector('#' + key + ' button');\n",
              "      quickchartButtonEl.disabled = true;  // To prevent multiple clicks.\n",
              "      quickchartButtonEl.classList.add('colab-df-spinner');\n",
              "      try {\n",
              "        const charts = await google.colab.kernel.invokeFunction(\n",
              "            'suggestCharts', [key], {});\n",
              "      } catch (error) {\n",
              "        console.error('Error during call to suggestCharts:', error);\n",
              "      }\n",
              "      quickchartButtonEl.classList.remove('colab-df-spinner');\n",
              "      quickchartButtonEl.classList.add('colab-df-quickchart-complete');\n",
              "    }\n",
              "    (() => {\n",
              "      let quickchartButtonEl =\n",
              "        document.querySelector('#df-cfcc8ebe-eedd-4a55-b1ae-7a1972b5372f button');\n",
              "      quickchartButtonEl.style.display =\n",
              "        google.colab.kernel.accessAllowed ? 'block' : 'none';\n",
              "    })();\n",
              "  </script>\n",
              "</div>\n",
              "\n",
              "  <div id=\"id_70ab57bd-404a-4e47-8c3d-84018bc7a0b9\">\n",
              "    <style>\n",
              "      .colab-df-generate {\n",
              "        background-color: #E8F0FE;\n",
              "        border: none;\n",
              "        border-radius: 50%;\n",
              "        cursor: pointer;\n",
              "        display: none;\n",
              "        fill: #1967D2;\n",
              "        height: 32px;\n",
              "        padding: 0 0 0 0;\n",
              "        width: 32px;\n",
              "      }\n",
              "\n",
              "      .colab-df-generate:hover {\n",
              "        background-color: #E2EBFA;\n",
              "        box-shadow: 0px 1px 2px rgba(60, 64, 67, 0.3), 0px 1px 3px 1px rgba(60, 64, 67, 0.15);\n",
              "        fill: #174EA6;\n",
              "      }\n",
              "\n",
              "      [theme=dark] .colab-df-generate {\n",
              "        background-color: #3B4455;\n",
              "        fill: #D2E3FC;\n",
              "      }\n",
              "\n",
              "      [theme=dark] .colab-df-generate:hover {\n",
              "        background-color: #434B5C;\n",
              "        box-shadow: 0px 1px 3px 1px rgba(0, 0, 0, 0.15);\n",
              "        filter: drop-shadow(0px 1px 2px rgba(0, 0, 0, 0.3));\n",
              "        fill: #FFFFFF;\n",
              "      }\n",
              "    </style>\n",
              "    <button class=\"colab-df-generate\" onclick=\"generateWithVariable('AGCT')\"\n",
              "            title=\"Generate code using this dataframe.\"\n",
              "            style=\"display:none;\">\n",
              "\n",
              "  <svg xmlns=\"http://www.w3.org/2000/svg\" height=\"24px\"viewBox=\"0 0 24 24\"\n",
              "       width=\"24px\">\n",
              "    <path d=\"M7,19H8.4L18.45,9,17,7.55,7,17.6ZM5,21V16.75L18.45,3.32a2,2,0,0,1,2.83,0l1.4,1.43a1.91,1.91,0,0,1,.58,1.4,1.91,1.91,0,0,1-.58,1.4L9.25,21ZM18.45,9,17,7.55Zm-12,3A5.31,5.31,0,0,0,4.9,8.1,5.31,5.31,0,0,0,1,6.5,5.31,5.31,0,0,0,4.9,4.9,5.31,5.31,0,0,0,6.5,1,5.31,5.31,0,0,0,8.1,4.9,5.31,5.31,0,0,0,12,6.5,5.46,5.46,0,0,0,6.5,12Z\"/>\n",
              "  </svg>\n",
              "    </button>\n",
              "    <script>\n",
              "      (() => {\n",
              "      const buttonEl =\n",
              "        document.querySelector('#id_70ab57bd-404a-4e47-8c3d-84018bc7a0b9 button.colab-df-generate');\n",
              "      buttonEl.style.display =\n",
              "        google.colab.kernel.accessAllowed ? 'block' : 'none';\n",
              "\n",
              "      buttonEl.onclick = () => {\n",
              "        google.colab.notebook.generateWithVariable('AGCT');\n",
              "      }\n",
              "      })();\n",
              "    </script>\n",
              "  </div>\n",
              "\n",
              "    </div>\n",
              "  </div>\n"
            ]
          },
          "metadata": {},
          "execution_count": 11
        }
      ]
    },
    {
      "cell_type": "markdown",
      "source": [
        "## Initializing DB and creating tables"
      ],
      "metadata": {
        "id": "pLTq8hIoyy01"
      }
    },
    {
      "cell_type": "code",
      "source": [
        "from sqlalchemy import MetaData\n",
        "\n",
        "metadata_obj = MetaData()"
      ],
      "metadata": {
        "id": "PEnzRK9Nxqj0"
      },
      "execution_count": null,
      "outputs": []
    },
    {
      "cell_type": "code",
      "source": [
        "from sqlalchemy import create_engine, MetaData, Table, Column, Integer, String, Text, Date, ForeignKey, ForeignKeyConstraint\n",
        "\n",
        "# Create a SQLAlchemy engine with an in-memory SQLite database\n",
        "engine = create_engine(\"sqlite:///:memory:\")\n",
        "metadata = MetaData()\n",
        "\n",
        "# Define the 'patientInfo' table\n",
        "patient_info_table = Table(\n",
        "    'patientInfo',\n",
        "    metadata,\n",
        "    Column('username', String(255), nullable=False, primary_key=True),\n",
        "    Column('patientAge', Integer, nullable=True),\n",
        "    Column('patientGender', String(10), nullable=True)\n",
        ")\n",
        "\n",
        "# Define the 'records' table\n",
        "medical_records_table = Table(\n",
        "    'medicalRecords',\n",
        "    metadata,\n",
        "    Column('username', String(255), ForeignKey('patientInfo.username'), nullable=False),\n",
        "    Column('diagnosisText', Text),\n",
        "    Column('diagnosisDate', Date),\n",
        "    Column('bloodPressure', String(20), nullable=True),\n",
        "    Column('cholesterol', String(20), nullable=True),\n",
        "    Column('heartRate', Integer, nullable=True),\n",
        "    ForeignKeyConstraint(['username'], ['patientInfo.username'])\n",
        ")\n",
        "\n",
        "\n",
        "metadata.create_all(engine)"
      ],
      "metadata": {
        "id": "ngSJmgzyxzlD"
      },
      "execution_count": null,
      "outputs": []
    },
    {
      "cell_type": "markdown",
      "source": [
        "## Inserting some dummy values"
      ],
      "metadata": {
        "id": "GaJYW0dSz4z1"
      }
    },
    {
      "cell_type": "code",
      "source": [
        "from datetime import datetime\n",
        "\n",
        "with engine.begin() as connection:\n",
        "  patient_info_insert = patient_info_table.insert().values(username='Bob', patientAge=30, patientGender='Male')\n",
        "  result = connection.execute(patient_info_insert)\n",
        "  username = result.inserted_primary_key[0]\n",
        "\n",
        "  # Insert an observation for the heart patient into the 'records' table\n",
        "  medical_records_insert = medical_records_table.insert().values(\n",
        "        username='Bob',\n",
        "        diagnosisText='Heart condition diagnosed',\n",
        "        diagnosisDate=datetime(2023, 12, 1),\n",
        "        bloodPressure='bp=120/80',\n",
        "        cholesterol='cholesterol=200',\n",
        "        heartRate=75\n",
        "    )\n",
        "  connection.execute(medical_records_insert)\n",
        "\n",
        "  print(\"Observations added for the heart patient:\")\n",
        "  print(f\"Patient ID: {username}\")"
      ],
      "metadata": {
        "colab": {
          "base_uri": "https://localhost:8080/"
        },
        "id": "tos-FS450Ez6",
        "outputId": "52246b69-ba6f-48cf-d0ce-e8f05a77080b"
      },
      "execution_count": null,
      "outputs": [
        {
          "output_type": "stream",
          "name": "stdout",
          "text": [
            "Observations added for the heart patient:\n",
            "Patient ID: Bob\n"
          ]
        }
      ]
    },
    {
      "cell_type": "markdown",
      "source": [
        "## Setting up a user"
      ],
      "metadata": {
        "id": "EyNzqqGZJDtn"
      }
    },
    {
      "cell_type": "code",
      "source": [
        "USERNAME = 'Bob'"
      ],
      "metadata": {
        "id": "tH5LccxNJC8w"
      },
      "execution_count": null,
      "outputs": []
    },
    {
      "cell_type": "code",
      "source": [
        "RECORDS = []\n",
        "with engine.begin() as connection:\n",
        "  stmt = medical_records_table.select().where(username == USERNAME)\n",
        "  stmt = connection.execute(stmt)\n",
        "  RECORDS.append(stmt.all())\n",
        "print(RECORDS)"
      ],
      "metadata": {
        "colab": {
          "base_uri": "https://localhost:8080/"
        },
        "id": "yeZZs6IeJKlQ",
        "outputId": "fcf33f72-67a8-4a11-f3da-3332d355d266"
      },
      "execution_count": null,
      "outputs": [
        {
          "output_type": "stream",
          "name": "stdout",
          "text": [
            "[[('Bob', 'Heart condition diagnosed', datetime.date(2023, 12, 1), 'bp=120/80', 'cholesterol=200', 75)]]\n"
          ]
        }
      ]
    },
    {
      "cell_type": "code",
      "source": [
        "INFO = []\n",
        "with engine.begin() as connection:\n",
        "  stmt = patient_info_table.select().where(username == USERNAME)\n",
        "  stmt = connection.execute(stmt)\n",
        "  INFO.append(stmt.all())\n",
        "print(INFO)"
      ],
      "metadata": {
        "colab": {
          "base_uri": "https://localhost:8080/"
        },
        "id": "YBkb4BUstT_Y",
        "outputId": "2383af4e-4aa7-4312-efdd-65e42c31735c"
      },
      "execution_count": null,
      "outputs": [
        {
          "output_type": "stream",
          "name": "stdout",
          "text": [
            "[[('Bob', 30, 'Male')]]\n"
          ]
        }
      ]
    },
    {
      "cell_type": "markdown",
      "source": [
        "## Initializing llm"
      ],
      "metadata": {
        "id": "kR72YGunyurY"
      }
    },
    {
      "cell_type": "code",
      "source": [
        "from langchain.chat_models import ChatOpenAI\n",
        "llm = ChatOpenAI(\n",
        "    model_name=\"gpt-4\",\n",
        "    temperature=0\n",
        ")"
      ],
      "metadata": {
        "id": "zt_2SuLOxh0N"
      },
      "execution_count": null,
      "outputs": []
    },
    {
      "cell_type": "markdown",
      "source": [
        "## Create records tool"
      ],
      "metadata": {
        "id": "k_okOPcHUyq2"
      }
    },
    {
      "cell_type": "code",
      "source": [
        "from langchain.tools import BaseTool,Tool\n",
        "\n",
        "class RecordTool(BaseTool):\n",
        "  name = \"Patients Record\"\n",
        "  description = \"Useful to get patient's records. Each record includes diagnosis, bp, cholestrol and heartrate.\"\n",
        "\n",
        "  def _run(self,query:str)->list:\n",
        "      return RECORDS\n",
        "\n",
        "  def _arun(self):\n",
        "      raise NotImplementedError(\"RecordTool does not support async\")\n",
        "\n",
        "class PersonaTool(BaseTool):\n",
        "  name = \"Patients Info\"\n",
        "  description = \"Useful to get patient's info. Includes name, age and gender\"\n",
        "\n",
        "  def _run(self,query:str)->list:\n",
        "      return INFO\n",
        "\n",
        "  def _arun(self):\n",
        "      raise NotImplementedError(\"PersonaTool does not support async\")"
      ],
      "metadata": {
        "id": "rxTs5fF-UgDx"
      },
      "execution_count": null,
      "outputs": []
    },
    {
      "cell_type": "markdown",
      "source": [
        "## AGENT with memory\n",
        "Just testing"
      ],
      "metadata": {
        "id": "MtrIft_XL3GK"
      }
    },
    {
      "cell_type": "code",
      "source": [
        "from langchain.memory import ConversationSummaryBufferMemory\n",
        "\n",
        "memory = ConversationSummaryBufferMemory(memory_key=\"chat_history\",llm=llm,return_messages=True)\n",
        "\n",
        "tools = [\n",
        "    RecordTool(),\n",
        "    PersonaTool()\n",
        "]"
      ],
      "metadata": {
        "id": "OGXPOovbL8Qe"
      },
      "execution_count": null,
      "outputs": []
    },
    {
      "cell_type": "code",
      "source": [
        "from langchain.agents import initialize_agent,AgentType\n",
        "\n",
        "agent = initialize_agent(\n",
        "    agent = AgentType.CHAT_CONVERSATIONAL_REACT_DESCRIPTION,\n",
        "    tools = tools,\n",
        "    llm=llm,\n",
        "    verbose=True,\n",
        "    early_stopping_method = 'generate',\n",
        "    memory = memory\n",
        ")"
      ],
      "metadata": {
        "id": "hlArQpi1M6EN"
      },
      "execution_count": null,
      "outputs": []
    },
    {
      "cell_type": "code",
      "source": [
        "agent(\"List all my past records\")"
      ],
      "metadata": {
        "colab": {
          "base_uri": "https://localhost:8080/"
        },
        "id": "R_h0ganyPssL",
        "outputId": "d9988d44-1c20-4725-acad-1638e3180066"
      },
      "execution_count": null,
      "outputs": [
        {
          "output_type": "stream",
          "name": "stdout",
          "text": [
            "\n",
            "\n",
            "\u001b[1m> Entering new AgentExecutor chain...\u001b[0m\n",
            "\u001b[32;1m\u001b[1;3m```json\n",
            "{\n",
            "    \"action\": \"Patients Record\",\n",
            "    \"action_input\": \"List all records\"\n",
            "}\n",
            "```\u001b[0m\n",
            "Observation: \u001b[36;1m\u001b[1;3m[[('Bob123', 'Heart condition diagnosed', datetime.date(2023, 12, 1))]]\u001b[0m\n",
            "Thought:\u001b[32;1m\u001b[1;3m```json\n",
            "{\n",
            "    \"action\": \"Final Answer\",\n",
            "    \"action_input\": \"Your last recorded medical event was a diagnosis of a heart condition on December 1, 2023.\"\n",
            "}\n",
            "```\u001b[0m\n",
            "\n",
            "\u001b[1m> Finished chain.\u001b[0m\n"
          ]
        },
        {
          "output_type": "execute_result",
          "data": {
            "text/plain": [
              "{'input': 'List all my past records',\n",
              " 'chat_history': [HumanMessage(content='List all my past records'),\n",
              "  AIMessage(content='Your last recorded medical event was a diagnosis of a heart condition on December 1, 2023.')],\n",
              " 'output': 'Your last recorded medical event was a diagnosis of a heart condition on December 1, 2023.'}"
            ]
          },
          "metadata": {},
          "execution_count": 148
        }
      ]
    },
    {
      "cell_type": "markdown",
      "source": [
        "## Pinecone"
      ],
      "metadata": {
        "id": "k3bMeQIyHcth"
      }
    },
    {
      "cell_type": "code",
      "source": [
        "from langchain.document_loaders import TextLoader\n",
        "from langchain.embeddings.openai import OpenAIEmbeddings\n",
        "from langchain.text_splitter import CharacterTextSplitter\n",
        "from langchain.vectorstores import Pinecone"
      ],
      "metadata": {
        "id": "GP2fxQ2RHegE"
      },
      "execution_count": null,
      "outputs": []
    },
    {
      "cell_type": "code",
      "source": [
        "import pinecone"
      ],
      "metadata": {
        "colab": {
          "base_uri": "https://localhost:8080/"
        },
        "id": "Pg4sVVIbIF9K",
        "outputId": "601366bc-14a1-4b22-a0d6-6bae780d6f2a"
      },
      "execution_count": null,
      "outputs": [
        {
          "output_type": "stream",
          "name": "stderr",
          "text": [
            "/usr/local/lib/python3.10/dist-packages/pinecone/index.py:4: TqdmExperimentalWarning: Using `tqdm.autonotebook.tqdm` in notebook mode. Use `tqdm.tqdm` instead to force console mode (e.g. in jupyter console)\n",
            "  from tqdm.autonotebook import tqdm\n"
          ]
        }
      ]
    },
    {
      "cell_type": "code",
      "source": [
        "pinecone.init(\n",
        "    api_key=os.getenv(\"PINECONE_API_KEY\"),  # find at app.pinecone.io\n",
        "    environment=os.getenv(\"PINECONE_ENVIRONMENT\"),  # next to api key in console\n",
        ")\n",
        "\n",
        "index_name = \"medical-mind\"\n",
        "\n",
        "# First, check if our index already exists. If it doesn't, we create it\n",
        "if index_name not in pinecone.list_indexes():\n",
        "    # we create a new index\n",
        "    pinecone.create_index(\n",
        "        name=index_name,\n",
        "        metric=\"dotproduct\",\n",
        "        dimension=1536\n",
        "    )\n",
        "# The OpenAI embedding model `text-embedding-ada-002 uses 1536 dimensions`"
      ],
      "metadata": {
        "id": "iWixkm46IIVo"
      },
      "execution_count": null,
      "outputs": []
    },
    {
      "cell_type": "code",
      "source": [
        "embeddings = OpenAIEmbeddings()"
      ],
      "metadata": {
        "id": "hD2F9Zx8HxKp"
      },
      "execution_count": null,
      "outputs": []
    },
    {
      "cell_type": "code",
      "source": [
        "index = pinecone.Index(index_name)\n",
        "index.describe_index_stats()"
      ],
      "metadata": {
        "colab": {
          "base_uri": "https://localhost:8080/"
        },
        "id": "3ntPOAf2kHcm",
        "outputId": "345419a5-35e7-4301-9eb5-c7a6b9fbbb5e"
      },
      "execution_count": null,
      "outputs": [
        {
          "output_type": "execute_result",
          "data": {
            "text/plain": [
              "{'dimension': 1536,\n",
              " 'index_fullness': 1.0,\n",
              " 'namespaces': {'': {'vector_count': 100992}},\n",
              " 'total_vector_count': 100992}"
            ]
          },
          "metadata": {},
          "execution_count": 19
        }
      ]
    },
    {
      "cell_type": "code",
      "source": [
        "text_field = 'text'\n",
        "\n",
        "vectorstore = Pinecone(\n",
        "    index,\n",
        "    embeddings.embed_query,\n",
        "    text_field\n",
        ")"
      ],
      "metadata": {
        "colab": {
          "base_uri": "https://localhost:8080/"
        },
        "id": "du1AmmzR7bA8",
        "outputId": "676e5722-7d8d-42b8-b826-e6262de4c6cd"
      },
      "execution_count": null,
      "outputs": [
        {
          "output_type": "stream",
          "name": "stderr",
          "text": [
            "/usr/local/lib/python3.10/dist-packages/langchain_community/vectorstores/pinecone.py:62: UserWarning: Passing in `embedding` as a Callable is deprecated. Please pass in an Embeddings object instead.\n",
            "  warnings.warn(\n"
          ]
        }
      ]
    },
    {
      "cell_type": "markdown",
      "source": [
        "## Indexing"
      ],
      "metadata": {
        "id": "TIu2B0z8kllE"
      }
    },
    {
      "cell_type": "code",
      "source": [
        "!pip install canopy-sdk"
      ],
      "metadata": {
        "id": "hsRdsQtUkq61"
      },
      "execution_count": null,
      "outputs": []
    },
    {
      "cell_type": "code",
      "source": [
        "!canopy"
      ],
      "metadata": {
        "colab": {
          "base_uri": "https://localhost:8080/"
        },
        "id": "wogYtg4pmIvR",
        "outputId": "e6d2a477-8c81-40d2-d4f4-0a65298f8cc8"
      },
      "execution_count": null,
      "outputs": [
        {
          "output_type": "stream",
          "name": "stdout",
          "text": [
            "Usage: canopy [OPTIONS] COMMAND [ARGS]...\n",
            "\n",
            "  CLI for Pinecone Canopy. Actively developed by Pinecone.\n",
            "  To use the CLI, you need to have a Pinecone account.\n",
            "  Visit https://www.pinecone.io/ to sign up for free.\n",
            "\n",
            "Options:\n",
            "  -v, --version  Show the version and exit.\n",
            "  -h, --help     Show this message and exit.\n",
            "\n",
            "Commands:\n",
            "  new       Create a new Pinecone index that will be used by Canopy.\n",
            "  upsert    Upload local data files to the Canopy service.\n",
            "  start     Start the Canopy server.\n",
            "  chat      Debugging tool for chatting with the Canopy RAG service.\n",
            "  health    Check if the Canopy server is running and healthy.\n",
            "  stop      Stop the Canopy server.\n",
            "  api-docs  Open the Canopy server docs.\n"
          ]
        }
      ]
    },
    {
      "cell_type": "code",
      "source": [
        "!canopy start"
      ],
      "metadata": {
        "id": "k9XX6gz9DmSl"
      },
      "execution_count": null,
      "outputs": []
    },
    {
      "cell_type": "code",
      "source": [
        "contexts = AGCT['context'].to_list()\n",
        "max([len(context) for context in contexts])"
      ],
      "metadata": {
        "colab": {
          "base_uri": "https://localhost:8080/"
        },
        "id": "I3LX-2tFmekH",
        "outputId": "90c2c179-f0f4-48f2-c209-7ce78e2bd574"
      },
      "execution_count": null,
      "outputs": [
        {
          "output_type": "execute_result",
          "data": {
            "text/plain": [
              "579"
            ]
          },
          "metadata": {},
          "execution_count": 29
        }
      ]
    },
    {
      "cell_type": "code",
      "source": [
        "from tqdm.auto import tqdm\n",
        "\n",
        "batch_size = 64\n",
        "for i in tqdm(range(0,len(AGCT),batch_size)):\n",
        "  i_end = min(len(AGCT),i+batch_size)\n",
        "  # Get batch of data\n",
        "  batch = AGCT.iloc[i:i_end]\n",
        "  # Unique ids\n",
        "  ids = [f\"{x.name}\" for _,x in batch.iterrows()]\n",
        "  # Text to embed\n",
        "  texts = [x['context'] for _,x in batch.iterrows()]\n",
        "  # Embed Text\n",
        "  embeds = embeddings.embed_documents(texts)\n",
        "  # Metadata to store\n",
        "  metadata = [\n",
        "      {\n",
        "          'text': x['context'],\n",
        "          'title': x['title']\n",
        "      } for _,x in batch.iterrows()\n",
        "  ]\n",
        "  index.upsert(vectors=zip(ids,embeds,metadata))"
      ],
      "metadata": {
        "id": "tz5F7lY_n4KC"
      },
      "execution_count": null,
      "outputs": []
    },
    {
      "cell_type": "code",
      "source": [
        "vectorstore.similarity_search(\" i have heart problems\",k=3)"
      ],
      "metadata": {
        "colab": {
          "base_uri": "https://localhost:8080/"
        },
        "id": "tzCVZDep8Awz",
        "outputId": "6278be8e-5bf0-4183-f726-2bc7dc2e854a"
      },
      "execution_count": null,
      "outputs": [
        {
          "output_type": "execute_result",
          "data": {
            "text/plain": [
              "[Document(page_content='the condition in which the heart muscle is damaged or impaired following exposure to a medication, chemotherapy, radiotherapy, or other substances, resulting in various types and severity of heart problems.', metadata={'title': '\"cardiotoxicity\"'}),\n",
              " Document(page_content='a type of long-term heart disease caused by insufficient blood supply to the heart muscle due to narrowed or blocked coronary arteries. It is typically associated with chest pain or discomfort, shortness of breath, and fatigue.', metadata={'title': '\"chronic ischemic heart disease\"'}),\n",
              " Document(page_content='an irregular or disrupted blood flow within the heart or the blood vessels surrounding it. This condition can be caused by a variety of factors, including congenital heart defects, valvular diseases, or damage to the heart muscle due to heart attack or other conditions. Symptoms can include shortness of breath, chest pain, and fatigue, and diagnosis requires a detailed medical evaluation, including imaging tests such as echocardiography. Treatment depends on the underlying cause of the abnormal flow and may involve medication, lifestyle changes, or surg', metadata={'title': '\"abnormal cardiac flow\"'})]"
            ]
          },
          "metadata": {},
          "execution_count": 48
        }
      ]
    },
    {
      "cell_type": "code",
      "source": [
        "os.environ[\"INDEX_NAME\"]=index_name"
      ],
      "metadata": {
        "id": "uh6MryRs502f"
      },
      "execution_count": null,
      "outputs": []
    },
    {
      "cell_type": "markdown",
      "source": [
        "--------------------------------------------------------------------------------"
      ],
      "metadata": {
        "id": "GV9mcborcwV0"
      }
    },
    {
      "cell_type": "markdown",
      "source": [
        "# 1. DB Agent\n",
        "Trying out first agent"
      ],
      "metadata": {
        "id": "Edrw_Act0Eiu"
      }
    },
    {
      "cell_type": "code",
      "source": [
        "from langchain.agents import AgentType, create_sql_agent\n",
        "from langchain.agents.agent_toolkits import SQLDatabaseToolkit\n",
        "from langchain.utilities import SQLDatabase"
      ],
      "metadata": {
        "id": "LNAQj5GV2OV_"
      },
      "execution_count": null,
      "outputs": []
    },
    {
      "cell_type": "code",
      "source": [
        "db = SQLDatabase(engine)"
      ],
      "metadata": {
        "id": "6lYtTOJPIWt6"
      },
      "execution_count": null,
      "outputs": []
    },
    {
      "cell_type": "code",
      "source": [
        "from langchain.memory import ConversationSummaryBufferMemory\n",
        "\n",
        "memory = ConversationSummaryBufferMemory(memory_key=\"chat_history\",llm=llm)\n",
        "toolkit = SQLDatabaseToolkit(db=db, llm=llm)"
      ],
      "metadata": {
        "id": "sAStZ4483IKp"
      },
      "execution_count": null,
      "outputs": []
    },
    {
      "cell_type": "code",
      "source": [
        "!pip install faiss-cpu"
      ],
      "metadata": {
        "colab": {
          "base_uri": "https://localhost:8080/"
        },
        "id": "WrksD4h4vGFN",
        "outputId": "32c38f95-22dd-4bbe-a54b-599503180570"
      },
      "execution_count": null,
      "outputs": [
        {
          "output_type": "stream",
          "name": "stdout",
          "text": [
            "Collecting faiss-cpu\n",
            "  Downloading faiss_cpu-1.7.4-cp310-cp310-manylinux_2_17_x86_64.manylinux2014_x86_64.whl (17.6 MB)\n",
            "\u001b[2K     \u001b[90m━━━━━━━━━━━━━━━━━━━━━━━━━━━━━━━━━━━━━━━━\u001b[0m \u001b[32m17.6/17.6 MB\u001b[0m \u001b[31m50.2 MB/s\u001b[0m eta \u001b[36m0:00:00\u001b[0m\n",
            "\u001b[?25hInstalling collected packages: faiss-cpu\n",
            "Successfully installed faiss-cpu-1.7.4\n"
          ]
        }
      ]
    },
    {
      "cell_type": "code",
      "source": [
        "from langchain.embeddings.openai import OpenAIEmbeddings\n",
        "from langchain.schema import Document\n",
        "from langchain.vectorstores import FAISS # Facebook AI Similarity Search\n",
        "\n",
        "embeddings = OpenAIEmbeddings(\n",
        "    openai_api_key=OPENAI_API_KEY\n",
        ")# ada-002\n",
        "docs = [\n",
        "    Document(\n",
        "      page_content=title,\n",
        "      metadata = {\"refers_to\": context}\n",
        "    ) for title, context in zip(AGCT['title'][:50], AGCT['context'][:50])\n",
        "]\n",
        "vector_db = FAISS.from_documents(docs, embeddings)\n",
        "retriever = vector_db.as_retriever()"
      ],
      "metadata": {
        "id": "Y2GDSKKVeXFE"
      },
      "execution_count": null,
      "outputs": []
    },
    {
      "cell_type": "code",
      "source": [
        "from langchain.agents.agent_toolkits import create_retriever_tool\n",
        "\n",
        "tool_description = \"\"\"\n",
        "Use it to give second opinion and diagnosis.\n",
        "Input to this tool should be the user question.\n",
        "\"\"\"\n",
        "retriever_tool = create_retriever_tool(\n",
        "    retriever, name=\"biomedical_similar_examples\", description=tool_description\n",
        ")\n",
        "custom_tool_list = [retriever_tool]"
      ],
      "metadata": {
        "id": "CADWDRsBdoU_"
      },
      "execution_count": null,
      "outputs": []
    },
    {
      "cell_type": "code",
      "source": [
        "custom_suffix = \"\"\"\n",
        "I always direct to the most suitable specialist and also give a second opinion\n",
        "and diagnosis.\n",
        "If the username is given I should get medical records from the database.\n",
        "I should then get the similar examples I know.\n",
        "\"\"\"\n",
        "\n",
        "agent = create_sql_agent(\n",
        "    llm=llm,\n",
        "    toolkit=toolkit,\n",
        "    verbose=True,\n",
        "    agent_type=AgentType.OPENAI_FUNCTIONS, # CHAT_CONVERSATIONAL_REACT_DESCRIPTION not supported so no memory\n",
        "    extra_tools=custom_tool_list,\n",
        "    suffix=custom_suffix,\n",
        ")"
      ],
      "metadata": {
        "id": "lOmbJb2k2VHE"
      },
      "execution_count": null,
      "outputs": []
    },
    {
      "cell_type": "code",
      "source": [
        "agent.run(\n",
        "    \"I am Bob123 I am feeling chest pain\"\n",
        ")"
      ],
      "metadata": {
        "colab": {
          "base_uri": "https://localhost:8080/",
          "height": 1000
        },
        "id": "ChZrP3AfD_JA",
        "outputId": "ad515133-bf87-46d5-97bc-f746533014cd"
      },
      "execution_count": null,
      "outputs": [
        {
          "output_type": "stream",
          "name": "stdout",
          "text": [
            "\n",
            "\n",
            "\u001b[1m> Entering new AgentExecutor chain...\u001b[0m\n",
            "\u001b[32;1m\u001b[1;3m\n",
            "Invoking: `sql_db_schema` with `medical_records`\n",
            "\n",
            "\n",
            "\u001b[0m\u001b[33;1m\u001b[1;3mError: table_names {'medical_records'} not found in database\u001b[0m\u001b[32;1m\u001b[1;3m\n",
            "Invoking: `sql_db_list_tables` with ``\n",
            "\n",
            "\n",
            "\u001b[0m\u001b[38;5;200m\u001b[1;3mmedicalRecords, patientInfo\u001b[0m\u001b[32;1m\u001b[1;3m\n",
            "Invoking: `sql_db_schema` with `medicalRecords, patientInfo`\n",
            "\n",
            "\n",
            "\u001b[0m\u001b[33;1m\u001b[1;3m\n",
            "CREATE TABLE \"medicalRecords\" (\n",
            "\tusername INTEGER NOT NULL, \n",
            "\t\"diagnosisText\" TEXT, \n",
            "\t\"diagnosisDate\" DATE, \n",
            "\tFOREIGN KEY(username) REFERENCES \"patientInfo\" (username)\n",
            ")\n",
            "\n",
            "/*\n",
            "3 rows from medicalRecords table:\n",
            "username\tdiagnosisText\tdiagnosisDate\n",
            "Bob123\tHeart condition diagnosed\t2023-12-01\n",
            "*/\n",
            "\n",
            "\n",
            "CREATE TABLE \"patientInfo\" (\n",
            "\tusername VARCHAR(255) NOT NULL, \n",
            "\tPRIMARY KEY (username)\n",
            ")\n",
            "\n",
            "/*\n",
            "3 rows from patientInfo table:\n",
            "username\n",
            "Bob123\n",
            "*/\u001b[0m\u001b[32;1m\u001b[1;3m\n",
            "Invoking: `sql_db_query` with `SELECT diagnosisText, diagnosisDate FROM medicalRecords WHERE username = 'Bob123' ORDER BY diagnosisDate DESC LIMIT 10`\n",
            "\n",
            "\n",
            "\u001b[0m\u001b[36;1m\u001b[1;3m[('Heart condition diagnosed', '2023-12-01')]\u001b[0m\u001b[32;1m\u001b[1;3m\n",
            "Invoking: `biomedical_similar_examples` with `{'query': 'chesst pain'}`\n",
            "\n",
            "\n",
            "\u001b[0m\u001b[33;1m\u001b[1;3m[Document(page_content='\"difficulty balancing when bending\"', metadata={'refers_to': 'an impairment or disorder of the ability to balance when bending, related to the nervous system function. This finding is characterized by an increased difficulty in maintaining balance when bending the body.'}), Document(page_content='\"late effect of injury to blood vessels of thorax, abdomen AND/OR pelvis\"', metadata={'refers_to': 'the long-term consequences that occur due to a previous injury to the blood vessels in the chest, abdomen, or pelvis. It is classified as a traumatic abnormality that manifests after a traumatic injury, causing damage to the affected blood vessels.'}), Document(page_content='\"helminth\"', metadata={'refers_to': 'a type of parasite that is an invertebrate. Helminths can infect humans and animals, and some examples include tapeworms, flukes, and roundworms.'}), Document(page_content='\"abdominal tenderness absent\"', metadata={'refers_to': 'a clinical finding of the absence of pain or discomfort when pressing on the abdomen. This finding is typically ascertained during a physical exam, and may be indicative of the absence of an acute or chronic condition involving the abdominopelvic structures.'})]\u001b[0m\u001b[32;1m\u001b[1;3mBased on your medical records, you were diagnosed with a heart condition on 2023-12-01. Given your current complaint of chest pain, it's important that you seek immediate medical attention. Chest pain can be a symptom of serious conditions such as heart disease. \n",
            "\n",
            "In terms of similar symptoms, some examples include difficulty balancing when bending, late effect of injury to blood vessels of thorax, abdomen and/or pelvis, and abdominal tenderness. However, these are just examples and may not be directly related to your condition. Please consult with a healthcare professional for an accurate diagnosis.\u001b[0m\n",
            "\n",
            "\u001b[1m> Finished chain.\u001b[0m\n"
          ]
        },
        {
          "output_type": "execute_result",
          "data": {
            "text/plain": [
              "\"Based on your medical records, you were diagnosed with a heart condition on 2023-12-01. Given your current complaint of chest pain, it's important that you seek immediate medical attention. Chest pain can be a symptom of serious conditions such as heart disease. \\n\\nIn terms of similar symptoms, some examples include difficulty balancing when bending, late effect of injury to blood vessels of thorax, abdomen and/or pelvis, and abdominal tenderness. However, these are just examples and may not be directly related to your condition. Please consult with a healthcare professional for an accurate diagnosis.\""
            ],
            "application/vnd.google.colaboratory.intrinsic+json": {
              "type": "string"
            }
          },
          "metadata": {},
          "execution_count": 51
        }
      ]
    },
    {
      "cell_type": "code",
      "source": [
        "print(agent.agent.prompt)"
      ],
      "metadata": {
        "id": "Tjgi3zdRU6bS",
        "colab": {
          "base_uri": "https://localhost:8080/"
        },
        "outputId": "c4010923-d021-4b99-8d32-48952c25b8b4"
      },
      "execution_count": null,
      "outputs": [
        {
          "output_type": "stream",
          "name": "stdout",
          "text": [
            "input_variables=['agent_scratchpad', 'input'] input_types={'agent_scratchpad': typing.List[typing.Union[langchain_core.messages.ai.AIMessage, langchain_core.messages.human.HumanMessage, langchain_core.messages.chat.ChatMessage, langchain_core.messages.system.SystemMessage, langchain_core.messages.function.FunctionMessage, langchain_core.messages.tool.ToolMessage]]} messages=[SystemMessage(content='You are an agent designed to interact with a SQL database.\\nGiven an input question, create a syntactically correct sqlite query to run, then look at the results of the query and return the answer.\\nUnless the user specifies a specific number of examples they wish to obtain, always limit your query to at most 10 results.\\nYou can order the results by a relevant column to return the most interesting examples in the database.\\nNever query for all the columns from a specific table, only ask for the relevant columns given the question.\\nYou have access to tools for interacting with the database.\\nOnly use the below tools. Only use the information returned by the below tools to construct your final answer.\\nYou MUST double check your query before executing it. If you get an error while executing a query, rewrite the query and try again.\\n\\nDO NOT make any DML statements (INSERT, UPDATE, DELETE, DROP etc.) to the database.\\n\\nIf the question does not seem related to the database, just return \"I don\\'t know\" as the answer.\\n'), HumanMessagePromptTemplate(prompt=PromptTemplate(input_variables=['input'], template='{input}')), AIMessage(content='\\nIf the username is given I should get medical records from the database.\\nI should then get the similar examples I know.\\nLastly I direct to the most suitable specialist and also give a second opinion\\nand diagnosis.\\n'), MessagesPlaceholder(variable_name='agent_scratchpad')]\n"
          ]
        }
      ]
    },
    {
      "cell_type": "code",
      "source": [
        "from langchain.schema import (\n",
        "    SystemMessage,\n",
        "    HumanMessage,\n",
        "    AIMessage\n",
        ")"
      ],
      "metadata": {
        "id": "XEmonJzQbdQS"
      },
      "execution_count": null,
      "outputs": []
    },
    {
      "cell_type": "markdown",
      "source": [
        "________________________________________________________________________"
      ],
      "metadata": {
        "id": "QAIfKc08Ftek"
      }
    },
    {
      "cell_type": "markdown",
      "source": [
        "# 2. React agent\n",
        "Can be improved not following all instructions"
      ],
      "metadata": {
        "id": "GWgntSsl07VM"
      }
    },
    {
      "cell_type": "code",
      "source": [
        "\n",
        "medical_mind = initialize_agent(\n",
        "    agent = AgentType.CHAT_CONVERSATIONAL_REACT_DESCRIPTION,\n",
        "    tools = tools,\n",
        "    llm=llm,\n",
        "    verbose=True,\n",
        "    early_stopping_method = 'generate',\n",
        "    memory = memory,\n",
        "    prefix = custom_prefix,\n",
        "    suffix = custom_suffix\n",
        ")"
      ],
      "metadata": {
        "id": "kO_HpnTozMov"
      },
      "execution_count": null,
      "outputs": []
    },
    {
      "cell_type": "code",
      "source": [
        "medical_mind(\"I am not feeling very well i am feeling tightness in my chest\")"
      ],
      "metadata": {
        "colab": {
          "base_uri": "https://localhost:8080/",
          "height": 437
        },
        "id": "eS77ltKBGN0b",
        "outputId": "16f33884-093d-42f9-e76d-859f130a33a1"
      },
      "execution_count": null,
      "outputs": [
        {
          "output_type": "stream",
          "name": "stdout",
          "text": [
            "\n",
            "\n",
            "\u001b[1m> Entering new AgentExecutor chain...\u001b[0m\n",
            "\u001b[32;1m\u001b[1;3m```json\n",
            "{\n",
            "    \"action\": \"biomedical_similar_examples\",\n",
            "    \"action_input\": \"Patient is not feeling well and is experiencing tightness in the chest.\"\n",
            "}\n",
            "```\u001b[0m\n",
            "Observation: \u001b[38;5;200m\u001b[1;3m[Document(page_content='a sensation of discomfort or pain in the chest, often described as pressure or tightness. It may be caused by a variety of underlying conditions, including but not limited to cardiovascular or respiratory diseases, gastrointestinal disorders, or musculoskeletal issues. Chest discomfort may require further evaluation by a healthcare provider to determine the underlying cause and appropriate treatment.', metadata={'title': '\"chest discomfort\"'}), Document(page_content='a symptom characterized by a feeling of fullness, tightness, or discomfort in the chest. It can be associated with various medical conditions affecting the cardiovascular, respiratory, or gastrointestinal systems, such as angina, myocardial infarction, pulmonary embolism, or gastroesophageal reflux. It is generally considered a warning sign of potential serious health problems and requires prompt medical attention.', metadata={'title': '\"[D]chest pressure\"'}), Document(page_content='a sensory experience characterized by a feeling of tightness or pressure that is often described as if something is tightly wrapped around a body part or the chest. This quality of sensation can be associated with various medical conditions such as anxiety, asthma, angina, or chest pain.', metadata={'title': '\"constricting sensation quality\"'}), Document(page_content='a pattern of pain that is characterized by a sensation of tightness, constriction or pressure around a certain area of the body. This type of pain is often described as a deep, heavy, or intense pressure that can be felt in the chest, abdomen, or extremities.  It can be associated with various medical conditions, including ischemic heart disease, angina, myocardial infarction, and gastrointestinal disorders.', metadata={'title': '\"squeezing pain\"'})]\u001b[0m\n",
            "Thought:\u001b[32;1m\u001b[1;3m```json\n",
            "{\n",
            "    \"action\": \"Final Answer\",\n",
            "    \"action_input\": \"The tightness in your chest could be due to a variety of conditions. It could be related to cardiovascular issues like angina or myocardial infarction, respiratory conditions, gastrointestinal disorders, or even anxiety. This symptom is generally considered a warning sign of potential serious health problems and requires prompt medical attention. Please seek immediate medical care.\"\n",
            "}\n",
            "```\u001b[0m\n",
            "\n",
            "\u001b[1m> Finished chain.\u001b[0m\n"
          ]
        },
        {
          "output_type": "execute_result",
          "data": {
            "text/plain": [
              "'The tightness in your chest could be due to a variety of conditions. It could be related to cardiovascular issues like angina or myocardial infarction, respiratory conditions, gastrointestinal disorders, or even anxiety. This symptom is generally considered a warning sign of potential serious health problems and requires prompt medical attention. Please seek immediate medical care.'"
            ],
            "application/vnd.google.colaboratory.intrinsic+json": {
              "type": "string"
            }
          },
          "metadata": {},
          "execution_count": 43
        }
      ]
    },
    {
      "cell_type": "code",
      "source": [
        "medical_mind(\"Which type of doctor should i visit\")"
      ],
      "metadata": {
        "colab": {
          "base_uri": "https://localhost:8080/"
        },
        "id": "-ZIwccEBVXqr",
        "outputId": "9b454282-6f63-4624-ba29-ff5784313d2a"
      },
      "execution_count": null,
      "outputs": [
        {
          "output_type": "stream",
          "name": "stdout",
          "text": [
            "\n",
            "\n",
            "\u001b[1m> Entering new AgentExecutor chain...\u001b[0m\n",
            "\u001b[32;1m\u001b[1;3m```json\n",
            "{\n",
            "    \"action\": \"Final Answer\",\n",
            "    \"action_input\": \"Given your symptoms of chest tightness, it would be appropriate to seek immediate medical attention. Ideally, you should go to an emergency department. If that's not possible, you should contact a healthcare professional who can evaluate your condition urgently. This could be a general practitioner or an internist, but they may refer you to a cardiologist given the nature of your symptoms.\"\n",
            "}\n",
            "```\u001b[0m\n",
            "\n",
            "\u001b[1m> Finished chain.\u001b[0m\n"
          ]
        },
        {
          "output_type": "execute_result",
          "data": {
            "text/plain": [
              "{'input': 'Which type of doctor should i visit',\n",
              " 'chat_history': [HumanMessage(content='I am not feeling very well i am feeling tightness in my chest'),\n",
              "  AIMessage(content=\"The sensation of discomfort or pain in your chest, often described as pressure or tightness, can be caused by a variety of underlying conditions. Given your previous diagnosis of a heart condition, it's particularly important to take this symptom seriously. It could be related to cardiovascular issues such as angina or myocardial infarction. However, it could also be related to other systems, such as respiratory or gastrointestinal disorders. This symptom generally requires prompt medical attention. Please seek immediate medical care.\"),\n",
              "  HumanMessage(content='Which type of doctor should i visit'),\n",
              "  AIMessage(content=\"Given your symptoms of chest tightness, it would be appropriate to seek immediate medical attention. Ideally, you should go to an emergency department. If that's not possible, you should contact a healthcare professional who can evaluate your condition urgently. This could be a general practitioner or an internist, but they may refer you to a cardiologist given the nature of your symptoms.\")],\n",
              " 'output': \"Given your symptoms of chest tightness, it would be appropriate to seek immediate medical attention. Ideally, you should go to an emergency department. If that's not possible, you should contact a healthcare professional who can evaluate your condition urgently. This could be a general practitioner or an internist, but they may refer you to a cardiologist given the nature of your symptoms.\"}"
            ]
          },
          "metadata": {},
          "execution_count": 130
        }
      ]
    },
    {
      "cell_type": "code",
      "source": [
        "medical_mind(\"I also feel out of breath at moments\")"
      ],
      "metadata": {
        "colab": {
          "base_uri": "https://localhost:8080/"
        },
        "id": "S6CeSsUGVrkd",
        "outputId": "0e1bf7f4-94fd-4cab-9f1a-03ebe32e6fd3"
      },
      "execution_count": null,
      "outputs": [
        {
          "output_type": "stream",
          "name": "stdout",
          "text": [
            "\n",
            "\n",
            "\u001b[1m> Entering new AgentExecutor chain...\u001b[0m\n",
            "\u001b[32;1m\u001b[1;3m```json\n",
            "{\n",
            "    \"action\": \"Patients Record\",\n",
            "    \"action_input\": \"Requesting patient's records to understand the history of symptoms and any pre-existing conditions.\"\n",
            "}\n",
            "```\u001b[0m\n",
            "Observation: \u001b[36;1m\u001b[1;3m[[('Bob123', 'Heart condition diagnosed', datetime.date(2023, 12, 1), 'bp=120/80', 'cholesterol=200', 75)]]\u001b[0m\n",
            "Thought:\u001b[32;1m\u001b[1;3m```json\n",
            "{\n",
            "    \"action\": \"biomedical_similar_examples\",\n",
            "    \"action_input\": \"Patient is experiencing chest tightness and moments of breathlessness. Patient has a diagnosed heart condition as of December 1, 2023. Blood pressure is 120/80 and cholesterol is 200. Patient's age is 75.\"\n",
            "}\n",
            "```\u001b[0m\n",
            "Observation: \u001b[33;1m\u001b[1;3m[Document(page_content='a finding in which the healthcare provider has identified systolic blood pressure over 180 mmHg or diastolic blood pressure over 120 mmHg during a physical examination of a patient. This is an abnormally high blood pressure reading that requires prompt evaluation and treatment to prevent further complications.', metadata={'title': '\"on examination - blood pressure reading very high\"'}), Document(page_content='a sensation of discomfort or pain in the chest, often described as pressure or tightness. It may be caused by a variety of underlying conditions, including but not limited to cardiovascular or respiratory diseases, gastrointestinal disorders, or musculoskeletal issues. Chest discomfort may require further evaluation by a healthcare provider to determine the underlying cause and appropriate treatment.', metadata={'title': '\"chest discomfort\"'}), Document(page_content='a symptom characterized by a feeling of fullness, tightness, or discomfort in the chest. It can be associated with various medical conditions affecting the cardiovascular, respiratory, or gastrointestinal systems, such as angina, myocardial infarction, pulmonary embolism, or gastroesophageal reflux. It is generally considered a warning sign of potential serious health problems and requires prompt medical attention.', metadata={'title': '\"[D]chest pressure\"'}), Document(page_content='a clinical finding of chest pain or discomfort due to reduced blood flow to the heart, and is present in a person with no known history of cardiovascular disease in any member of their biological family.', metadata={'title': '\"no family history: angina\"'})]\u001b[0m\n",
            "Thought:\u001b[32;1m\u001b[1;3m```json\n",
            "{\n",
            "    \"action\": \"Final Answer\",\n",
            "    \"action_input\": \"Your symptoms of chest tightness and breathlessness, especially given your diagnosed heart condition, are concerning. These symptoms could be related to various medical conditions affecting the cardiovascular, respiratory, or gastrointestinal systems, such as angina, myocardial infarction, pulmonary embolism, or gastroesophageal reflux. It's important to note that chest discomfort is generally considered a warning sign of potential serious health problems and requires prompt medical attention. Please seek immediate medical care.\"\n",
            "}\n",
            "```\u001b[0m\n",
            "\n",
            "\u001b[1m> Finished chain.\u001b[0m\n"
          ]
        },
        {
          "output_type": "execute_result",
          "data": {
            "text/plain": [
              "{'input': 'I also feel out of breath at moments',\n",
              " 'chat_history': [HumanMessage(content='I am not feeling very well i am feeling tightness in my chest'),\n",
              "  AIMessage(content=\"The sensation of discomfort or pain in your chest, often described as pressure or tightness, can be caused by a variety of underlying conditions. Given your previous diagnosis of a heart condition, it's particularly important to take this symptom seriously. It could be related to cardiovascular issues such as angina or myocardial infarction. However, it could also be related to other systems, such as respiratory or gastrointestinal disorders. This symptom generally requires prompt medical attention. Please seek immediate medical care.\"),\n",
              "  HumanMessage(content='Which type of doctor should i visit'),\n",
              "  AIMessage(content=\"Given your symptoms of chest tightness, it would be appropriate to seek immediate medical attention. Ideally, you should go to an emergency department. If that's not possible, you should contact a healthcare professional who can evaluate your condition urgently. This could be a general practitioner or an internist, but they may refer you to a cardiologist given the nature of your symptoms.\"),\n",
              "  HumanMessage(content='I also feel out of breath at moments'),\n",
              "  AIMessage(content=\"Your symptoms of chest tightness and breathlessness, especially given your diagnosed heart condition, are concerning. These symptoms could be related to various medical conditions affecting the cardiovascular, respiratory, or gastrointestinal systems, such as angina, myocardial infarction, pulmonary embolism, or gastroesophageal reflux. It's important to note that chest discomfort is generally considered a warning sign of potential serious health problems and requires prompt medical attention. Please seek immediate medical care.\")],\n",
              " 'output': \"Your symptoms of chest tightness and breathlessness, especially given your diagnosed heart condition, are concerning. These symptoms could be related to various medical conditions affecting the cardiovascular, respiratory, or gastrointestinal systems, such as angina, myocardial infarction, pulmonary embolism, or gastroesophageal reflux. It's important to note that chest discomfort is generally considered a warning sign of potential serious health problems and requires prompt medical attention. Please seek immediate medical care.\"}"
            ]
          },
          "metadata": {},
          "execution_count": 131
        }
      ]
    },
    {
      "cell_type": "code",
      "source": [
        "medical_mind.agent.llm_chain.prompt"
      ],
      "metadata": {
        "id": "8u3qJE1UPWxE"
      },
      "execution_count": null,
      "outputs": []
    },
    {
      "cell_type": "markdown",
      "source": [
        "# 3. Final Agent\n",
        " Rag With Memory, Patient persona and records"
      ],
      "metadata": {
        "id": "Pv31IIi3HF6b"
      }
    },
    {
      "cell_type": "code",
      "source": [
        "from langchain.memory import ConversationSummaryBufferMemory\n",
        "\n",
        "memory = ConversationSummaryBufferMemory(memory_key=\"chat_history\",llm=llm,return_messages=True)\n",
        "tool_description = \"\"\"\n",
        "Use it to give second opinion and diagnosis.\n",
        "Input to this tool should be the query with relevant patients records.\n",
        "\"\"\"\n",
        "tools = [\n",
        "    RecordTool(),\n",
        "    PersonaTool(),\n",
        "    Tool(\n",
        "        name='biomedical_similar_examples',\n",
        "        func = vectorstore.similarity_search,\n",
        "        description=tool_description\n",
        "    )\n",
        "]"
      ],
      "metadata": {
        "id": "UOZBZWgQFxIu"
      },
      "execution_count": null,
      "outputs": []
    },
    {
      "cell_type": "code",
      "source": [
        "from langchain.agents import AgentExecutor,ZeroShotAgent,AgentType\n",
        "from langchain.chains import LLMChain\n",
        "import langchain.agents as agents\n",
        "custom_prefix = \"\"\"\n",
        "First the Agent gets the patient persona. \\\n",
        "Then the agent gets the medical records of the patient. \\\n",
        "Lastly it gets the similar examples for diagnosis. \\\n",
        "After all the processing Agent recommends the specific doctor to visit and also \\\n",
        "gives its diagnosis.\n",
        "\n",
        "You have access to the following tools:\n",
        "\"\"\"\n",
        "custom_suffix = \"\"\"\n",
        "Always make sure to get patient info and records before giving any diagnosis.\n",
        "Begin!\n",
        "\n",
        "{chat_history}\n",
        "Question: {input}\n",
        "{agent_scratchpad}\n",
        "\"\"\"\n",
        "prompt = agents.StructuredChatAgent.create_prompt(\n",
        "    tools,\n",
        "    prefix=custom_prefix,\n",
        "    suffix=custom_suffix,\n",
        "    input_variables=[\"input\", \"chat_history\", \"agent_scratchpad\"],\n",
        ")\n",
        "llm_chain = LLMChain(llm=llm, prompt=prompt)\n",
        "\n",
        "medical_mind = agents.StructuredChatAgent(llm_chain=llm_chain, tools=tools, verbose=True)\n",
        "\n",
        "medical_mind_chain = AgentExecutor.from_agent_and_tools(\n",
        "    agent=medical_mind, tools=tools, verbose=True, memory=memory\n",
        ")"
      ],
      "metadata": {
        "id": "aAE41nTiFwEK"
      },
      "execution_count": null,
      "outputs": []
    },
    {
      "cell_type": "code",
      "source": [
        "medical_mind_chain.run(\"I am not feeling very well i am feeling tightness in my chest\")"
      ],
      "metadata": {
        "colab": {
          "base_uri": "https://localhost:8080/",
          "height": 767
        },
        "id": "ePi9iAURzOYK",
        "outputId": "40a20b27-1e26-4e6e-85bf-3586a487349d"
      },
      "execution_count": null,
      "outputs": [
        {
          "output_type": "stream",
          "name": "stdout",
          "text": [
            "\n",
            "\n",
            "\u001b[1m> Entering new AgentExecutor chain...\u001b[0m\n",
            "\u001b[32;1m\u001b[1;3mThought: The patient is complaining about chest tightness. I need to get more information about the patient. I will use the Patients Info tool to get the patient's information.\n",
            "Action:\n",
            "```\n",
            "{\n",
            "  \"action\": \"Patients Info\",\n",
            "  \"action_input\": {\"query\": \"patient's information\"}\n",
            "}\n",
            "```\u001b[0m\n",
            "Observation: \u001b[33;1m\u001b[1;3m[[('Bob', 30, 'Male')]]\u001b[0m\n",
            "Thought:\u001b[32;1m\u001b[1;3mThe patient is a 30-year-old male named Bob. Now, I need to get his medical records to understand his medical history better. I will use the Patients Record tool for this. \n",
            "Action:\n",
            "```\n",
            "{\n",
            "  \"action\": \"Patients Record\",\n",
            "  \"action_input\": {\"query\": \"Bob's records\"}\n",
            "}\n",
            "```\u001b[0m\n",
            "Observation: \u001b[36;1m\u001b[1;3m[[('Bob', 'Heart condition diagnosed', datetime.date(2023, 12, 1), 'bp=120/80', 'cholesterol=200', 75)]]\u001b[0m\n",
            "Thought:\u001b[32;1m\u001b[1;3mThe patient, Bob, has a history of heart condition diagnosed on 1st December 2023. His blood pressure was 120/80, cholesterol level was 200, and heart rate was 75. Given his symptoms of chest tightness and his medical history, it's possible that his heart condition might be causing this. However, to confirm this, I will use the biomedical_similar_examples tool to get a second opinion and diagnosis.\n",
            "Action:\n",
            "```\n",
            "{\n",
            "  \"action\": \"biomedical_similar_examples\",\n",
            "  \"action_input\": {\"tool_input\": \"30 year old male with history of heart condition experiencing chest tightness\"}\n",
            "}\n",
            "```\u001b[0m\n",
            "Observation: \u001b[38;5;200m\u001b[1;3m[Document(page_content='a sensation of discomfort or pain in the chest, often described as pressure or tightness. It may be caused by a variety of underlying conditions, including but not limited to cardiovascular or respiratory diseases, gastrointestinal disorders, or musculoskeletal issues. Chest discomfort may require further evaluation by a healthcare provider to determine the underlying cause and appropriate treatment.', metadata={'title': '\"chest discomfort\"'}), Document(page_content='a symptom characterized by a feeling of fullness, tightness, or discomfort in the chest. It can be associated with various medical conditions affecting the cardiovascular, respiratory, or gastrointestinal systems, such as angina, myocardial infarction, pulmonary embolism, or gastroesophageal reflux. It is generally considered a warning sign of potential serious health problems and requires prompt medical attention.', metadata={'title': '\"[D]chest pressure\"'}), Document(page_content='a pattern of pain that is characterized by a sensation of tightness, constriction or pressure around a certain area of the body. This type of pain is often described as a deep, heavy, or intense pressure that can be felt in the chest, abdomen, or extremities.  It can be associated with various medical conditions, including ischemic heart disease, angina, myocardial infarction, and gastrointestinal disorders.', metadata={'title': '\"squeezing pain\"'}), Document(page_content='a clinical finding of chest pain or discomfort due to reduced blood flow to the heart, and is present in a person with no known history of cardiovascular disease in any member of their biological family.', metadata={'title': '\"no family history: angina\"'})]\u001b[0m\n",
            "Thought:\u001b[32;1m\u001b[1;3mThe biomedical_similar_examples tool has provided several possible causes for Bob's chest tightness. These include cardiovascular diseases like angina and myocardial infarction, respiratory issues, gastrointestinal disorders, and musculoskeletal issues. Given Bob's history of heart condition, it's likely that his symptoms are related to a cardiovascular issue. However, it's also possible that he could be experiencing a gastrointestinal or respiratory problem. I would recommend Bob to visit a cardiologist for a thorough examination. \n",
            "Action:\n",
            "```\n",
            "{\n",
            "  \"action\": \"Final Answer\",\n",
            "  \"action_input\": \"Given your symptoms and medical history, it's possible that your heart condition might be causing the chest tightness. However, it could also be due to other issues like gastrointestinal or respiratory problems. I recommend you to visit a cardiologist for a thorough examination.\"\n",
            "}\n",
            "```\u001b[0m\n",
            "\n",
            "\u001b[1m> Finished chain.\u001b[0m\n"
          ]
        },
        {
          "output_type": "execute_result",
          "data": {
            "text/plain": [
              "\"Given your symptoms and medical history, it's possible that your heart condition might be causing the chest tightness. However, it could also be due to other issues like gastrointestinal or respiratory problems. I recommend you to visit a cardiologist for a thorough examination.\""
            ],
            "application/vnd.google.colaboratory.intrinsic+json": {
              "type": "string"
            }
          },
          "metadata": {},
          "execution_count": 22
        }
      ]
    },
    {
      "cell_type": "code",
      "source": [
        "medical_mind_chain.run(\"I also feel out of breath at times\")"
      ],
      "metadata": {
        "colab": {
          "base_uri": "https://localhost:8080/",
          "height": 784
        },
        "id": "TqHx77oM1bUd",
        "outputId": "dc191c3a-5f79-4ab8-f2fe-82841e8391d4"
      },
      "execution_count": null,
      "outputs": [
        {
          "output_type": "stream",
          "name": "stdout",
          "text": [
            "\n",
            "\n",
            "\u001b[1m> Entering new AgentExecutor chain...\u001b[0m\n",
            "\u001b[32;1m\u001b[1;3mThought: The patient is experiencing chest tightness and shortness of breath. These symptoms could be related to a heart condition. I need to get more information about the patient's medical history to make a more accurate assessment. \n",
            "Action:\n",
            "```\n",
            "{\n",
            "  \"action\": \"Patients Info\",\n",
            "  \"action_input\": {\"query\": \"patient's information\"}\n",
            "}\n",
            "```\u001b[0m\n",
            "Observation: \u001b[33;1m\u001b[1;3m[[('Bob', 30, 'Male')]]\u001b[0m\n",
            "Thought:\u001b[32;1m\u001b[1;3mThe patient is a 30-year-old male named Bob. Now, I need to get his medical records to understand his medical history better. \n",
            "Action:\n",
            "```\n",
            "{\n",
            "  \"action\": \"Patients Record\",\n",
            "  \"action_input\": {\"query\": \"Bob's medical records\"}\n",
            "}\n",
            "```\u001b[0m\n",
            "Observation: \u001b[36;1m\u001b[1;3m[[('Bob', 'Heart condition diagnosed', datetime.date(2023, 12, 1), 'bp=120/80', 'cholesterol=200', 75)]]\u001b[0m\n",
            "Thought:\u001b[32;1m\u001b[1;3mThe patient, Bob, has a diagnosed heart condition. His blood pressure is 120/80, which is within the normal range, and his cholesterol level is 200, which is borderline high. His heart rate is 75, which is also within the normal range. Given his symptoms of chest tightness and shortness of breath, these could be related to his heart condition. However, to confirm this, I will use the biomedical_similar_examples tool to find similar cases and their diagnoses.\n",
            "Action:\n",
            "```\n",
            "{\n",
            "  \"action\": \"biomedical_similar_examples\",\n",
            "  \"action_input\": {\"tool_input\": \"30 year old male with diagnosed heart condition experiencing chest tightness and shortness of breath\"}\n",
            "}\n",
            "```\u001b[0m\n",
            "Observation: \u001b[38;5;200m\u001b[1;3m[Document(page_content=\"a condition where the muscle of the heart's main pumping chamber, the left ventricle, becomes thicker than usual, but there is no blockage in the left ventricular outflow tract that interferes with blood flow. This can lead to symptoms such as shortness of breath, chest pain, and dizziness, and can increase the risk of abnormal heart rhythms or sudden cardiac death. Treatment depends on the severity of symptoms and may include medications, lifestyle changes, or surgery in some cases.\", metadata={'title': '\"hypertrophic cardiomyopathy without obstruction\"'}), Document(page_content='a symptom characterized by a feeling of fullness, tightness, or discomfort in the chest. It can be associated with various medical conditions affecting the cardiovascular, respiratory, or gastrointestinal systems, such as angina, myocardial infarction, pulmonary embolism, or gastroesophageal reflux. It is generally considered a warning sign of potential serious health problems and requires prompt medical attention.', metadata={'title': '\"[D]chest pressure\"'}), Document(page_content='a sensation of discomfort or pain in the chest, often described as pressure or tightness. It may be caused by a variety of underlying conditions, including but not limited to cardiovascular or respiratory diseases, gastrointestinal disorders, or musculoskeletal issues. Chest discomfort may require further evaluation by a healthcare provider to determine the underlying cause and appropriate treatment.', metadata={'title': '\"chest discomfort\"'}), Document(page_content='a type of long-term heart disease caused by insufficient blood supply to the heart muscle due to narrowed or blocked coronary arteries. It is typically associated with chest pain or discomfort, shortness of breath, and fatigue.', metadata={'title': '\"chronic ischemic heart disease\"'})]\u001b[0m\n",
            "Thought:\u001b[32;1m\u001b[1;3mBased on the similar examples, the patient's symptoms could be related to a few conditions such as hypertrophic cardiomyopathy without obstruction or chronic ischemic heart disease. Both conditions can cause chest tightness and shortness of breath. However, these are just possibilities and the patient should seek immediate medical attention given the severity of his symptoms. I will recommend him to visit a cardiologist for a thorough examination. \n",
            "Action:\n",
            "```\n",
            "{\n",
            "  \"action\": \"Final Answer\",\n",
            "  \"action_input\": \"Given your symptoms and medical history, it's possible that you might have a condition such as hypertrophic cardiomyopathy without obstruction or chronic ischemic heart disease. Both conditions can cause chest tightness and shortness of breath. However, these are just possibilities and you should seek immediate medical attention. I recommend you to visit a cardiologist for a thorough examination.\"\n",
            "}\n",
            "```\u001b[0m\n",
            "\n",
            "\u001b[1m> Finished chain.\u001b[0m\n"
          ]
        },
        {
          "output_type": "execute_result",
          "data": {
            "text/plain": [
              "\"Given your symptoms and medical history, it's possible that you might have a condition such as hypertrophic cardiomyopathy without obstruction or chronic ischemic heart disease. Both conditions can cause chest tightness and shortness of breath. However, these are just possibilities and you should seek immediate medical attention. I recommend you to visit a cardiologist for a thorough examination.\""
            ],
            "application/vnd.google.colaboratory.intrinsic+json": {
              "type": "string"
            }
          },
          "metadata": {},
          "execution_count": 23
        }
      ]
    },
    {
      "cell_type": "code",
      "source": [
        "while True:\n",
        "  user_input = input()\n",
        "  result = medical_mind_chain(user_input)\n",
        "  print(result['output'])"
      ],
      "metadata": {
        "id": "p2OYNItIiC40"
      },
      "execution_count": null,
      "outputs": []
    },
    {
      "cell_type": "markdown",
      "source": [
        "\n",
        "\n",
        "---\n",
        "\n"
      ],
      "metadata": {
        "id": "O0o9nDG2R1el"
      }
    }
  ]
}